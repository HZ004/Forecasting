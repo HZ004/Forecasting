{
 "cells": [
  {
   "cell_type": "markdown",
   "id": "19867f13-7982-4efe-b117-98fe0fda867d",
   "metadata": {},
   "source": [
    "# Import Libraries and Dataset"
   ]
  },
  {
   "cell_type": "code",
   "execution_count": 1,
   "id": "c90eb7bb-fa3f-4dee-b6d3-d051a6e06470",
   "metadata": {
    "executionInfo": {
     "elapsed": 372,
     "status": "ok",
     "timestamp": 1637734800079,
     "user": {
      "displayName": "Gabriel TJ",
      "photoUrl": "https://lh3.googleusercontent.com/a-/AOh14Ggx2MLktQ41s96GgQ-VtiyvpP7hWaTo-cBYkXng=s64",
      "userId": "17824956076998332549"
     },
     "user_tz": -330
    },
    "id": "KVlvgWl4ziO8"
   },
   "outputs": [],
   "source": [
    "import pandas as pd\n",
    "import numpy as np\n",
    "import seaborn as sns\n",
    "from matplotlib import pyplot as plt\n",
    "import warnings\n",
    "warnings.filterwarnings(\"ignore\")\n"
   ]
  },
  {
   "cell_type": "markdown",
   "id": "2a147b27-5cc5-4108-829f-49b37947d4b9",
   "metadata": {},
   "source": [
    "# Visualisation"
   ]
  },
  {
   "cell_type": "code",
   "execution_count": 2,
   "id": "0b5ac964-1bf4-49de-9bfb-b73098e25ff6",
   "metadata": {},
   "outputs": [
    {
     "data": {
      "text/html": [
       "<div>\n",
       "<style scoped>\n",
       "    .dataframe tbody tr th:only-of-type {\n",
       "        vertical-align: middle;\n",
       "    }\n",
       "\n",
       "    .dataframe tbody tr th {\n",
       "        vertical-align: top;\n",
       "    }\n",
       "\n",
       "    .dataframe thead th {\n",
       "        text-align: right;\n",
       "    }\n",
       "</style>\n",
       "<table border=\"1\" class=\"dataframe\">\n",
       "  <thead>\n",
       "    <tr style=\"text-align: right;\">\n",
       "      <th></th>\n",
       "      <th>Passengers</th>\n",
       "    </tr>\n",
       "    <tr>\n",
       "      <th>Month</th>\n",
       "      <th></th>\n",
       "    </tr>\n",
       "  </thead>\n",
       "  <tbody>\n",
       "    <tr>\n",
       "      <th>1995-01-01</th>\n",
       "      <td>112</td>\n",
       "    </tr>\n",
       "    <tr>\n",
       "      <th>1995-02-01</th>\n",
       "      <td>118</td>\n",
       "    </tr>\n",
       "    <tr>\n",
       "      <th>1995-03-01</th>\n",
       "      <td>132</td>\n",
       "    </tr>\n",
       "    <tr>\n",
       "      <th>1995-04-01</th>\n",
       "      <td>129</td>\n",
       "    </tr>\n",
       "    <tr>\n",
       "      <th>1995-05-01</th>\n",
       "      <td>121</td>\n",
       "    </tr>\n",
       "    <tr>\n",
       "      <th>...</th>\n",
       "      <td>...</td>\n",
       "    </tr>\n",
       "    <tr>\n",
       "      <th>2002-08-01</th>\n",
       "      <td>405</td>\n",
       "    </tr>\n",
       "    <tr>\n",
       "      <th>2002-09-01</th>\n",
       "      <td>355</td>\n",
       "    </tr>\n",
       "    <tr>\n",
       "      <th>2002-10-01</th>\n",
       "      <td>306</td>\n",
       "    </tr>\n",
       "    <tr>\n",
       "      <th>2002-11-01</th>\n",
       "      <td>271</td>\n",
       "    </tr>\n",
       "    <tr>\n",
       "      <th>2002-12-01</th>\n",
       "      <td>306</td>\n",
       "    </tr>\n",
       "  </tbody>\n",
       "</table>\n",
       "<p>96 rows × 1 columns</p>\n",
       "</div>"
      ],
      "text/plain": [
       "            Passengers\n",
       "Month                 \n",
       "1995-01-01         112\n",
       "1995-02-01         118\n",
       "1995-03-01         132\n",
       "1995-04-01         129\n",
       "1995-05-01         121\n",
       "...                ...\n",
       "2002-08-01         405\n",
       "2002-09-01         355\n",
       "2002-10-01         306\n",
       "2002-11-01         271\n",
       "2002-12-01         306\n",
       "\n",
       "[96 rows x 1 columns]"
      ]
     },
     "execution_count": 2,
     "metadata": {},
     "output_type": "execute_result"
    }
   ],
   "source": [
    "series = pd.read_excel('C:/Users/HP/Desktop/ExcelR/Data Science/Python/Assignments/Forecasting/Airlines+Data.xlsx',index_col = 0,parse_dates = ['Month'])\n",
    "series"
   ]
  },
  {
   "cell_type": "code",
   "execution_count": 3,
   "id": "caf32c3e-c4ba-4e97-abf9-ccfcae62fc57",
   "metadata": {},
   "outputs": [
    {
     "name": "stdout",
     "output_type": "stream",
     "text": [
      "<class 'pandas.core.frame.DataFrame'>\n",
      "DatetimeIndex: 96 entries, 1995-01-01 to 2002-12-01\n",
      "Data columns (total 1 columns):\n",
      " #   Column      Non-Null Count  Dtype\n",
      "---  ------      --------------  -----\n",
      " 0   Passengers  96 non-null     int64\n",
      "dtypes: int64(1)\n",
      "memory usage: 1.5 KB\n"
     ]
    }
   ],
   "source": [
    "series.info()"
   ]
  },
  {
   "cell_type": "code",
   "execution_count": 4,
   "id": "f62d36a8-31f1-463d-9125-ed01ce437407",
   "metadata": {},
   "outputs": [
    {
     "data": {
      "text/plain": [
       "DatetimeIndex(['1995-01-01', '1995-02-01', '1995-03-01', '1995-04-01',\n",
       "               '1995-05-01', '1995-06-01', '1995-07-01', '1995-08-01',\n",
       "               '1995-09-01', '1995-10-01', '1995-11-01', '1995-12-01',\n",
       "               '1996-01-01', '1996-02-01', '1996-03-01', '1996-04-01',\n",
       "               '1996-05-01', '1996-06-01', '1996-07-01', '1996-08-01',\n",
       "               '1996-09-01', '1996-10-01', '1996-11-01', '1996-12-01',\n",
       "               '1997-01-01', '1997-02-01', '1997-03-01', '1997-04-01',\n",
       "               '1997-05-01', '1997-06-01', '1997-07-01', '1997-08-01',\n",
       "               '1997-09-01', '1997-10-01', '1997-11-01', '1997-12-01',\n",
       "               '1998-01-01', '1998-02-01', '1998-03-01', '1998-04-01',\n",
       "               '1998-05-01', '1998-06-01', '1998-07-01', '1998-08-01',\n",
       "               '1998-09-01', '1998-10-01', '1998-11-01', '1998-12-01',\n",
       "               '1999-01-01', '1999-02-01', '1999-03-01', '1999-04-01',\n",
       "               '1999-05-01', '1999-06-01', '1999-07-01', '1999-08-01',\n",
       "               '1999-09-01', '1999-10-01', '1999-11-01', '1999-12-01',\n",
       "               '2000-01-01', '2000-02-01', '2000-03-01', '2000-04-01',\n",
       "               '2000-05-01', '2000-06-01', '2000-07-01', '2000-08-01',\n",
       "               '2000-09-01', '2000-10-01', '2000-11-01', '2000-12-01',\n",
       "               '2001-01-01', '2001-02-01', '2001-03-01', '2001-04-01',\n",
       "               '2001-05-01', '2001-06-01', '2001-07-01', '2001-08-01',\n",
       "               '2001-09-01', '2001-10-01', '2001-11-01', '2001-12-01',\n",
       "               '2002-01-01', '2002-02-01', '2002-03-01', '2002-04-01',\n",
       "               '2002-05-01', '2002-06-01', '2002-07-01', '2002-08-01',\n",
       "               '2002-09-01', '2002-10-01', '2002-11-01', '2002-12-01'],\n",
       "              dtype='datetime64[ns]', name='Month', freq=None)"
      ]
     },
     "execution_count": 4,
     "metadata": {},
     "output_type": "execute_result"
    }
   ],
   "source": [
    "series.index"
   ]
  },
  {
   "cell_type": "code",
   "execution_count": 5,
   "id": "b374b547-698a-418b-a7dd-c9341377bf19",
   "metadata": {
    "colab": {
     "base_uri": "https://localhost:8080/",
     "height": 431
    },
    "executionInfo": {
     "elapsed": 904,
     "status": "ok",
     "timestamp": 1619954509814,
     "user": {
      "displayName": "Jaspal Singh Jhass",
      "photoUrl": "",
      "userId": "14870781376371902378"
     },
     "user_tz": -330
    },
    "id": "KN73HavB0BMy",
    "outputId": "2d0390bd-313f-41ae-bfe9-1d9e550b8ac4"
   },
   "outputs": [
    {
     "data": {
      "text/plain": [
       "[<matplotlib.lines.Line2D at 0x2ac5f43f220>]"
      ]
     },
     "execution_count": 5,
     "metadata": {},
     "output_type": "execute_result"
    },
    {
     "data": {
      "image/png": "[encoded data removed]",
      "text/plain": [
       "<Figure size 1440x576 with 1 Axes>"
      ]
     },
     "metadata": {
      "needs_background": "light"
     },
     "output_type": "display_data"
    }
   ],
   "source": [
    "plt.figure(figsize = (20,8))\n",
    "plt.plot(series)"
   ]
  },
  {
   "cell_type": "markdown",
   "id": "917fa0b7-fe54-44c4-9ced-b835ea4b5be8",
   "metadata": {
    "id": "qoP-66fkziO-"
   },
   "source": [
    "#### Histogram and Density Plots"
   ]
  },
  {
   "cell_type": "code",
   "execution_count": 6,
   "id": "2984fcf9-8532-45d7-866b-c4da43d66103",
   "metadata": {
    "id": "e3xdSDUc0UY8"
   },
   "outputs": [
    {
     "data": {
      "text/plain": [
       "array([[<AxesSubplot:title={'center':'Passengers'}>]], dtype=object)"
      ]
     },
     "execution_count": 6,
     "metadata": {},
     "output_type": "execute_result"
    },
    {
     "data": {
      "image/png": "[encoded data removed]",
      "text/plain": [
       "<Figure size 432x288 with 1 Axes>"
      ]
     },
     "metadata": {
      "needs_background": "light"
     },
     "output_type": "display_data"
    }
   ],
   "source": [
    "# create a histogram plot\n",
    "series.hist()"
   ]
  },
  {
   "cell_type": "code",
   "execution_count": 7,
   "id": "27d15d5b-9653-47fc-8455-f1682dbd80f3",
   "metadata": {
    "colab": {
     "base_uri": "https://localhost:8080/",
     "height": 265
    },
    "executionInfo": {
     "elapsed": 938,
     "status": "ok",
     "timestamp": 1619954596559,
     "user": {
      "displayName": "Jaspal Singh Jhass",
      "photoUrl": "",
      "userId": "14870781376371902378"
     },
     "user_tz": -330
    },
    "id": "Jn5Gd1K0ziO_",
    "outputId": "9e8347bb-b904-4518-fc14-26e8e68251c1"
   },
   "outputs": [
    {
     "data": {
      "text/plain": [
       "<AxesSubplot:ylabel='Density'>"
      ]
     },
     "execution_count": 7,
     "metadata": {},
     "output_type": "execute_result"
    },
    {
     "data": {
      "image/png": "[encoded data removed]",
      "text/plain": [
       "<Figure size 432x288 with 1 Axes>"
      ]
     },
     "metadata": {
      "needs_background": "light"
     },
     "output_type": "display_data"
    }
   ],
   "source": [
    "# create a density plot\n",
    "series.plot(kind='kde')"
   ]
  },
  {
   "cell_type": "markdown",
   "id": "3f81632c-a5f4-4039-8d5e-9cc0c87d731d",
   "metadata": {
    "id": "68Y3dS2EziPA"
   },
   "source": [
    "#### Box and Whisker Plots by Interval"
   ]
  },
  {
   "cell_type": "code",
   "execution_count": 8,
   "id": "4691b322-b32d-4e6a-bf2a-1699aad044c7",
   "metadata": {
    "colab": {
     "base_uri": "https://localhost:8080/",
     "height": 265
    },
    "executionInfo": {
     "elapsed": 947,
     "status": "ok",
     "timestamp": 1619954650945,
     "user": {
      "displayName": "Jaspal Singh Jhass",
      "photoUrl": "",
      "userId": "14870781376371902378"
     },
     "user_tz": -330
    },
    "id": "L2muRtQGziPA",
    "outputId": "b47b1fd6-d0bd-4aea-b9f7-4154df24a3bd"
   },
   "outputs": [
    {
     "data": {
      "text/plain": [
       "Month\n",
       "1995-01-01    112\n",
       "1995-02-01    118\n",
       "1995-03-01    132\n",
       "1995-04-01    129\n",
       "1995-05-01    121\n",
       "             ... \n",
       "2002-08-01    405\n",
       "2002-09-01    355\n",
       "2002-10-01    306\n",
       "2002-11-01    271\n",
       "2002-12-01    306\n",
       "Name: Passengers, Length: 96, dtype: int64"
      ]
     },
     "execution_count": 8,
     "metadata": {},
     "output_type": "execute_result"
    }
   ],
   "source": [
    "# create a boxplot of yearly data\n",
    "\n",
    "series = pd.read_excel('C:/Users/HP/Desktop/ExcelR/Data Science/Python/Assignments/Forecasting/Airlines+Data.xlsx',\n",
    "                       header=0,\n",
    "                       index_col=0,\n",
    "                      parse_dates=True,\n",
    "                      squeeze=True)\n",
    "\n",
    "series"
   ]
  },
  {
   "cell_type": "code",
   "execution_count": 9,
   "id": "b81dc1aa-e654-4a55-8832-edae300b8f1a",
   "metadata": {},
   "outputs": [
    {
     "data": {
      "text/plain": [
       "pandas.core.series.Series"
      ]
     },
     "execution_count": 9,
     "metadata": {},
     "output_type": "execute_result"
    }
   ],
   "source": [
    "type(series)"
   ]
  },
  {
   "cell_type": "code",
   "execution_count": 10,
   "id": "2b975a82-4e40-4df4-8091-a31fe4d91b69",
   "metadata": {},
   "outputs": [
    {
     "data": {
      "text/plain": [
       "<pandas.core.groupby.generic.SeriesGroupBy object at 0x000002AC5FCE48E0>"
      ]
     },
     "execution_count": 10,
     "metadata": {},
     "output_type": "execute_result"
    }
   ],
   "source": [
    "# grouping by year\n",
    "groups = series.groupby(pd.Grouper(freq = 'A'))\n",
    "groups"
   ]
  },
  {
   "cell_type": "code",
   "execution_count": 11,
   "id": "a97fb07f-ecf6-444c-8ccb-db86fe98bba1",
   "metadata": {},
   "outputs": [
    {
     "data": {
      "text/html": [
       "<div>\n",
       "<style scoped>\n",
       "    .dataframe tbody tr th:only-of-type {\n",
       "        vertical-align: middle;\n",
       "    }\n",
       "\n",
       "    .dataframe tbody tr th {\n",
       "        vertical-align: top;\n",
       "    }\n",
       "\n",
       "    .dataframe thead th {\n",
       "        text-align: right;\n",
       "    }\n",
       "</style>\n",
       "<table border=\"1\" class=\"dataframe\">\n",
       "  <thead>\n",
       "    <tr style=\"text-align: right;\">\n",
       "      <th></th>\n",
       "      <th>1995</th>\n",
       "      <th>1996</th>\n",
       "      <th>1997</th>\n",
       "      <th>1998</th>\n",
       "      <th>1999</th>\n",
       "      <th>2000</th>\n",
       "      <th>2001</th>\n",
       "      <th>2002</th>\n",
       "    </tr>\n",
       "  </thead>\n",
       "  <tbody>\n",
       "    <tr>\n",
       "      <th>0</th>\n",
       "      <td>112</td>\n",
       "      <td>115</td>\n",
       "      <td>145</td>\n",
       "      <td>171</td>\n",
       "      <td>196</td>\n",
       "      <td>204</td>\n",
       "      <td>242</td>\n",
       "      <td>284</td>\n",
       "    </tr>\n",
       "    <tr>\n",
       "      <th>1</th>\n",
       "      <td>118</td>\n",
       "      <td>126</td>\n",
       "      <td>150</td>\n",
       "      <td>180</td>\n",
       "      <td>196</td>\n",
       "      <td>188</td>\n",
       "      <td>233</td>\n",
       "      <td>277</td>\n",
       "    </tr>\n",
       "    <tr>\n",
       "      <th>2</th>\n",
       "      <td>132</td>\n",
       "      <td>141</td>\n",
       "      <td>178</td>\n",
       "      <td>193</td>\n",
       "      <td>236</td>\n",
       "      <td>235</td>\n",
       "      <td>267</td>\n",
       "      <td>317</td>\n",
       "    </tr>\n",
       "    <tr>\n",
       "      <th>3</th>\n",
       "      <td>129</td>\n",
       "      <td>135</td>\n",
       "      <td>163</td>\n",
       "      <td>181</td>\n",
       "      <td>235</td>\n",
       "      <td>227</td>\n",
       "      <td>269</td>\n",
       "      <td>313</td>\n",
       "    </tr>\n",
       "    <tr>\n",
       "      <th>4</th>\n",
       "      <td>121</td>\n",
       "      <td>125</td>\n",
       "      <td>172</td>\n",
       "      <td>183</td>\n",
       "      <td>229</td>\n",
       "      <td>234</td>\n",
       "      <td>270</td>\n",
       "      <td>318</td>\n",
       "    </tr>\n",
       "    <tr>\n",
       "      <th>5</th>\n",
       "      <td>135</td>\n",
       "      <td>149</td>\n",
       "      <td>178</td>\n",
       "      <td>218</td>\n",
       "      <td>243</td>\n",
       "      <td>264</td>\n",
       "      <td>315</td>\n",
       "      <td>374</td>\n",
       "    </tr>\n",
       "    <tr>\n",
       "      <th>6</th>\n",
       "      <td>148</td>\n",
       "      <td>170</td>\n",
       "      <td>199</td>\n",
       "      <td>230</td>\n",
       "      <td>264</td>\n",
       "      <td>302</td>\n",
       "      <td>364</td>\n",
       "      <td>413</td>\n",
       "    </tr>\n",
       "    <tr>\n",
       "      <th>7</th>\n",
       "      <td>148</td>\n",
       "      <td>170</td>\n",
       "      <td>199</td>\n",
       "      <td>242</td>\n",
       "      <td>272</td>\n",
       "      <td>293</td>\n",
       "      <td>347</td>\n",
       "      <td>405</td>\n",
       "    </tr>\n",
       "    <tr>\n",
       "      <th>8</th>\n",
       "      <td>136</td>\n",
       "      <td>158</td>\n",
       "      <td>184</td>\n",
       "      <td>209</td>\n",
       "      <td>237</td>\n",
       "      <td>259</td>\n",
       "      <td>312</td>\n",
       "      <td>355</td>\n",
       "    </tr>\n",
       "    <tr>\n",
       "      <th>9</th>\n",
       "      <td>119</td>\n",
       "      <td>133</td>\n",
       "      <td>162</td>\n",
       "      <td>191</td>\n",
       "      <td>211</td>\n",
       "      <td>229</td>\n",
       "      <td>274</td>\n",
       "      <td>306</td>\n",
       "    </tr>\n",
       "    <tr>\n",
       "      <th>10</th>\n",
       "      <td>104</td>\n",
       "      <td>114</td>\n",
       "      <td>146</td>\n",
       "      <td>172</td>\n",
       "      <td>180</td>\n",
       "      <td>203</td>\n",
       "      <td>237</td>\n",
       "      <td>271</td>\n",
       "    </tr>\n",
       "    <tr>\n",
       "      <th>11</th>\n",
       "      <td>118</td>\n",
       "      <td>140</td>\n",
       "      <td>166</td>\n",
       "      <td>194</td>\n",
       "      <td>201</td>\n",
       "      <td>229</td>\n",
       "      <td>278</td>\n",
       "      <td>306</td>\n",
       "    </tr>\n",
       "  </tbody>\n",
       "</table>\n",
       "</div>"
      ],
      "text/plain": [
       "    1995  1996  1997  1998  1999  2000  2001  2002\n",
       "0    112   115   145   171   196   204   242   284\n",
       "1    118   126   150   180   196   188   233   277\n",
       "2    132   141   178   193   236   235   267   317\n",
       "3    129   135   163   181   235   227   269   313\n",
       "4    121   125   172   183   229   234   270   318\n",
       "5    135   149   178   218   243   264   315   374\n",
       "6    148   170   199   230   264   302   364   413\n",
       "7    148   170   199   242   272   293   347   405\n",
       "8    136   158   184   209   237   259   312   355\n",
       "9    119   133   162   191   211   229   274   306\n",
       "10   104   114   146   172   180   203   237   271\n",
       "11   118   140   166   194   201   229   278   306"
      ]
     },
     "execution_count": 11,
     "metadata": {},
     "output_type": "execute_result"
    }
   ],
   "source": [
    "years = pd.DataFrame()\n",
    "\n",
    "for name, group in groups:\n",
    "    years[name.year] = group.values\n",
    "\n",
    "years"
   ]
  },
  {
   "cell_type": "code",
   "execution_count": 12,
   "id": "dd3f52e4-ebf0-438a-a964-4d96e5ec6483",
   "metadata": {},
   "outputs": [
    {
     "data": {
      "text/plain": [
       "<AxesSubplot:>"
      ]
     },
     "execution_count": 12,
     "metadata": {},
     "output_type": "execute_result"
    },
    {
     "data": {
      "image/png": "[encoded data removed]",
      "text/plain": [
       "<Figure size 1440x576 with 1 Axes>"
      ]
     },
     "metadata": {
      "needs_background": "light"
     },
     "output_type": "display_data"
    }
   ],
   "source": [
    "plt.figure(figsize = (20,8))\n",
    "years.boxplot()"
   ]
  },
  {
   "cell_type": "markdown",
   "id": "23d39362-2fdb-4114-b325-d5499265830c",
   "metadata": {
    "id": "GayYfbuUziPA"
   },
   "source": [
    "#### Lag plot"
   ]
  },
  {
   "cell_type": "code",
   "execution_count": 13,
   "id": "e54e5159-ce12-4874-9329-b0d406229d4f",
   "metadata": {
    "colab": {
     "base_uri": "https://localhost:8080/",
     "height": 279
    },
    "executionInfo": {
     "elapsed": 770,
     "status": "ok",
     "timestamp": 1631615029763,
     "user": {
      "displayName": "Gabriel TJ",
      "photoUrl": "https://lh3.googleusercontent.com/a-/AOh14Ggx2MLktQ41s96GgQ-VtiyvpP7hWaTo-cBYkXng=s64",
      "userId": "17824956076998332549"
     },
     "user_tz": -330
    },
    "id": "yWfXOiYrziPB",
    "outputId": "653e2f1a-2c93-4566-fbf0-103440d70b0c"
   },
   "outputs": [
    {
     "data": {
      "text/plain": [
       "<AxesSubplot:xlabel='y(t)', ylabel='y(t + 1)'>"
      ]
     },
     "execution_count": 13,
     "metadata": {},
     "output_type": "execute_result"
    },
    {
     "data": {
      "image/png": "[encoded data removed]",
      "text/plain": [
       "<Figure size 1440x576 with 1 Axes>"
      ]
     },
     "metadata": {
      "needs_background": "light"
     },
     "output_type": "display_data"
    }
   ],
   "source": [
    "# create a scatter plot\n",
    "plt.figure(figsize = (20,8))\n",
    "pd.plotting.lag_plot(series)"
   ]
  },
  {
   "cell_type": "code",
   "execution_count": 14,
   "id": "ab934ac1-3205-462c-821c-7e4590887b4d",
   "metadata": {
    "colab": {
     "base_uri": "https://localhost:8080/",
     "height": 299
    },
    "executionInfo": {
     "elapsed": 374,
     "status": "ok",
     "timestamp": 1631615101050,
     "user": {
      "displayName": "Gabriel TJ",
      "photoUrl": "https://lh3.googleusercontent.com/a-/AOh14Ggx2MLktQ41s96GgQ-VtiyvpP7hWaTo-cBYkXng=s64",
      "userId": "17824956076998332549"
     },
     "user_tz": -330
    },
    "id": "CiFk5fATziPB",
    "outputId": "30c19ea0-c740-4556-8c97-648d3251f990"
   },
   "outputs": [
    {
     "data": {
      "text/plain": [
       "<Figure size 2880x720 with 0 Axes>"
      ]
     },
     "metadata": {},
     "output_type": "display_data"
    },
    {
     "data": {
      "image/png": "[encoded data removed]",
      "text/plain": [
       "<Figure size 432x288 with 1 Axes>"
      ]
     },
     "metadata": {
      "needs_background": "light"
     },
     "output_type": "display_data"
    }
   ],
   "source": [
    "# create an autocorrelation plot\n",
    "from statsmodels.graphics.tsaplots import plot_acf\n",
    "\n",
    "plt.figure(figsize = (40,10))\n",
    "plot_acf(series, lags=95)\n",
    "plt.show()"
   ]
  },
  {
   "cell_type": "markdown",
   "id": "498ca467-77d3-47a8-b95b-bb991710bc2f",
   "metadata": {},
   "source": [
    "# Sampling and Transformation"
   ]
  },
  {
   "cell_type": "markdown",
   "id": "12b41a0f-1b01-4720-98cb-aa7e9111a570",
   "metadata": {
    "id": "GWXoCVxR1qIb"
   },
   "source": [
    "#### Upsampling Data"
   ]
  },
  {
   "cell_type": "code",
   "execution_count": 15,
   "id": "310a4e0e-bc19-4fc9-ab67-b5922a053b59",
   "metadata": {
    "colab": {
     "base_uri": "https://localhost:8080/",
     "height": 328
    },
    "executionInfo": {
     "elapsed": 437,
     "status": "error",
     "timestamp": 1645593921187,
     "user": {
      "displayName": "Bhanupriya Katrapally",
      "photoUrl": "https://lh3.googleusercontent.com/a/default-user=s64",
      "userId": "12079465027970851316"
     },
     "user_tz": -330
    },
    "id": "nq0U8DWV1qIg",
    "outputId": "8fa58c9f-e768-41e0-90b4-68466fc90b36"
   },
   "outputs": [
    {
     "data": {
      "text/plain": [
       "Month\n",
       "1995-01-01    112\n",
       "1995-02-01    118\n",
       "1995-03-01    132\n",
       "1995-04-01    129\n",
       "1995-05-01    121\n",
       "             ... \n",
       "2002-08-01    405\n",
       "2002-09-01    355\n",
       "2002-10-01    306\n",
       "2002-11-01    271\n",
       "2002-12-01    306\n",
       "Name: Passengers, Length: 96, dtype: int64"
      ]
     },
     "execution_count": 15,
     "metadata": {},
     "output_type": "execute_result"
    }
   ],
   "source": [
    "series = pd.read_excel('C:/Users/HP/Desktop/ExcelR/Data Science/Python/Assignments/Forecasting/Airlines+Data.xlsx',\n",
    "                       header=0, index_col=0, parse_dates=True, squeeze=True)\n",
    "series"
   ]
  },
  {
   "cell_type": "code",
   "execution_count": 16,
   "id": "138113e6-624d-4de0-aecf-24623f43a17a",
   "metadata": {
    "colab": {
     "base_uri": "https://localhost:8080/"
    },
    "executionInfo": {
     "elapsed": 1318,
     "status": "ok",
     "timestamp": 1619955313430,
     "user": {
      "displayName": "Jaspal Singh Jhass",
      "photoUrl": "",
      "userId": "14870781376371902378"
     },
     "user_tz": -330
    },
    "id": "tboyiIq11qIi",
    "outputId": "b71187c8-d82c-4404-c65f-6fd2835f32d3"
   },
   "outputs": [
    {
     "data": {
      "text/plain": [
       "Month\n",
       "1995-01-01    112.0\n",
       "1995-01-02      NaN\n",
       "1995-01-03      NaN\n",
       "1995-01-04      NaN\n",
       "1995-01-05      NaN\n",
       "1995-01-06      NaN\n",
       "1995-01-07      NaN\n",
       "1995-01-08      NaN\n",
       "1995-01-09      NaN\n",
       "1995-01-10      NaN\n",
       "1995-01-11      NaN\n",
       "1995-01-12      NaN\n",
       "1995-01-13      NaN\n",
       "1995-01-14      NaN\n",
       "1995-01-15      NaN\n",
       "1995-01-16      NaN\n",
       "1995-01-17      NaN\n",
       "1995-01-18      NaN\n",
       "1995-01-19      NaN\n",
       "1995-01-20      NaN\n",
       "1995-01-21      NaN\n",
       "1995-01-22      NaN\n",
       "1995-01-23      NaN\n",
       "1995-01-24      NaN\n",
       "1995-01-25      NaN\n",
       "1995-01-26      NaN\n",
       "1995-01-27      NaN\n",
       "1995-01-28      NaN\n",
       "1995-01-29      NaN\n",
       "1995-01-30      NaN\n",
       "1995-01-31      NaN\n",
       "1995-02-01    118.0\n",
       "Freq: D, Name: Passengers, dtype: float64"
      ]
     },
     "execution_count": 16,
     "metadata": {},
     "output_type": "execute_result"
    }
   ],
   "source": [
    "upsampled = series.resample('D').mean()\n",
    "upsampled.head(32)"
   ]
  },
  {
   "cell_type": "code",
   "execution_count": 17,
   "id": "3eea26f2-6aec-4937-ad3e-2967c0f79838",
   "metadata": {},
   "outputs": [
    {
     "data": {
      "text/plain": [
       "(2892,)"
      ]
     },
     "execution_count": 17,
     "metadata": {},
     "output_type": "execute_result"
    }
   ],
   "source": [
    "upsampled.shape"
   ]
  },
  {
   "cell_type": "markdown",
   "id": "57c7dffd-212a-4661-a9cd-463c5d2f612e",
   "metadata": {
    "id": "vEAHK8kq1qIj"
   },
   "source": [
    "#### Interpolate the missing value"
   ]
  },
  {
   "cell_type": "code",
   "execution_count": 18,
   "id": "57e840a9-92fd-4d2d-ba51-6f11af58cf57",
   "metadata": {
    "colab": {
     "base_uri": "https://localhost:8080/",
     "height": 862
    },
    "executionInfo": {
     "elapsed": 1519,
     "status": "ok",
     "timestamp": 1619955520775,
     "user": {
      "displayName": "Jaspal Singh Jhass",
      "photoUrl": "",
      "userId": "14870781376371902378"
     },
     "user_tz": -330
    },
    "id": "CgumZmKw1qIk",
    "outputId": "ba7b4ab9-738c-4150-ac15-a84ddadec060"
   },
   "outputs": [
    {
     "data": {
      "text/plain": [
       "Month\n",
       "1995-01-01    112.000000\n",
       "1995-01-02    112.193548\n",
       "1995-01-03    112.387097\n",
       "1995-01-04    112.580645\n",
       "1995-01-05    112.774194\n",
       "1995-01-06    112.967742\n",
       "1995-01-07    113.161290\n",
       "1995-01-08    113.354839\n",
       "1995-01-09    113.548387\n",
       "1995-01-10    113.741935\n",
       "1995-01-11    113.935484\n",
       "1995-01-12    114.129032\n",
       "1995-01-13    114.322581\n",
       "1995-01-14    114.516129\n",
       "1995-01-15    114.709677\n",
       "1995-01-16    114.903226\n",
       "1995-01-17    115.096774\n",
       "1995-01-18    115.290323\n",
       "1995-01-19    115.483871\n",
       "1995-01-20    115.677419\n",
       "1995-01-21    115.870968\n",
       "1995-01-22    116.064516\n",
       "1995-01-23    116.258065\n",
       "1995-01-24    116.451613\n",
       "1995-01-25    116.645161\n",
       "1995-01-26    116.838710\n",
       "1995-01-27    117.032258\n",
       "1995-01-28    117.225806\n",
       "1995-01-29    117.419355\n",
       "1995-01-30    117.612903\n",
       "1995-01-31    117.806452\n",
       "1995-02-01    118.000000\n",
       "Freq: D, Name: Passengers, dtype: float64"
      ]
     },
     "execution_count": 18,
     "metadata": {},
     "output_type": "execute_result"
    }
   ],
   "source": [
    "interpolated = upsampled.interpolate(method='linear')\n",
    "interpolated.head(32)"
   ]
  },
  {
   "cell_type": "code",
   "execution_count": 19,
   "id": "876d42ff-cecd-4e32-992b-96d483a5bd81",
   "metadata": {},
   "outputs": [
    {
     "data": {
      "text/plain": [
       "<AxesSubplot:xlabel='Month'>"
      ]
     },
     "execution_count": 19,
     "metadata": {},
     "output_type": "execute_result"
    },
    {
     "data": {
      "image/png": "[encoded data removed]",
      "text/plain": [
       "<Figure size 432x288 with 1 Axes>"
      ]
     },
     "metadata": {
      "needs_background": "light"
     },
     "output_type": "display_data"
    }
   ],
   "source": [
    "interpolated.plot()"
   ]
  },
  {
   "cell_type": "code",
   "execution_count": 20,
   "id": "52775f19-597b-43a7-82f8-933a209395ea",
   "metadata": {
    "colab": {
     "base_uri": "https://localhost:8080/",
     "height": 308
    },
    "executionInfo": {
     "elapsed": 1310,
     "status": "ok",
     "timestamp": 1619955529998,
     "user": {
      "displayName": "Jaspal Singh Jhass",
      "photoUrl": "",
      "userId": "14870781376371902378"
     },
     "user_tz": -330
    },
    "id": "RlW8FeIF3RfX",
    "outputId": "bc7fe3cf-c256-4af6-f558-949185175308"
   },
   "outputs": [
    {
     "data": {
      "text/plain": [
       "<AxesSubplot:xlabel='Month'>"
      ]
     },
     "execution_count": 20,
     "metadata": {},
     "output_type": "execute_result"
    },
    {
     "data": {
      "image/png": "[encoded data removed]",
      "text/plain": [
       "<Figure size 432x288 with 1 Axes>"
      ]
     },
     "metadata": {
      "needs_background": "light"
     },
     "output_type": "display_data"
    }
   ],
   "source": [
    "series.plot()"
   ]
  },
  {
   "cell_type": "markdown",
   "id": "4bb8180f-0f39-4e65-baf6-2d56d314271e",
   "metadata": {
    "id": "36LxlsOn1qIl"
   },
   "source": [
    "#### Downsampling Data"
   ]
  },
  {
   "cell_type": "code",
   "execution_count": 21,
   "id": "e82ef4c7-4e4d-4b10-98a9-d5f1590169a9",
   "metadata": {
    "id": "09ItAGLy1qIn"
   },
   "outputs": [],
   "source": [
    "# downsample to quarterly intervals\n",
    "resample = series.resample('Q')\n",
    "quarterly_mean_sales = resample.mean()"
   ]
  },
  {
   "cell_type": "code",
   "execution_count": 22,
   "id": "777323a2-b91d-44a5-bf1c-a1dbcb91450d",
   "metadata": {
    "colab": {
     "base_uri": "https://localhost:8080/",
     "height": 409
    },
    "executionInfo": {
     "elapsed": 1184,
     "status": "ok",
     "timestamp": 1619955704740,
     "user": {
      "displayName": "Jaspal Singh Jhass",
      "photoUrl": "",
      "userId": "14870781376371902378"
     },
     "user_tz": -330
    },
    "id": "ikHnri1p1qIt",
    "outputId": "7e0e81b2-a8f8-47d7-c742-401e5f0f8c18"
   },
   "outputs": [
    {
     "data": {
      "text/plain": [
       "Month\n",
       "1995-03-31    120.666667\n",
       "1995-06-30    128.333333\n",
       "1995-09-30    144.000000\n",
       "1995-12-31    113.666667\n",
       "1996-03-31    127.333333\n",
       "Freq: Q-DEC, Name: Passengers, dtype: float64"
      ]
     },
     "execution_count": 22,
     "metadata": {},
     "output_type": "execute_result"
    }
   ],
   "source": [
    "quarterly_mean_sales.head()"
   ]
  },
  {
   "cell_type": "code",
   "execution_count": 23,
   "id": "75ab5007-4b7f-46b4-9481-df39bbe56e5a",
   "metadata": {
    "colab": {
     "base_uri": "https://localhost:8080/",
     "height": 308
    },
    "executionInfo": {
     "elapsed": 1569,
     "status": "ok",
     "timestamp": 1619955562137,
     "user": {
      "displayName": "Jaspal Singh Jhass",
      "photoUrl": "",
      "userId": "14870781376371902378"
     },
     "user_tz": -330
    },
    "id": "XqwQAbFP4B1l",
    "outputId": "5b833361-226c-4aeb-a833-9bfc22d00a97"
   },
   "outputs": [
    {
     "data": {
      "text/plain": [
       "<AxesSubplot:xlabel='Month'>"
      ]
     },
     "execution_count": 23,
     "metadata": {},
     "output_type": "execute_result"
    },
    {
     "data": {
      "image/png": "[encoded data removed]",
      "text/plain": [
       "<Figure size 432x288 with 1 Axes>"
      ]
     },
     "metadata": {
      "needs_background": "light"
     },
     "output_type": "display_data"
    }
   ],
   "source": [
    "quarterly_mean_sales.plot()"
   ]
  },
  {
   "cell_type": "markdown",
   "id": "182b1c30-38ff-4785-ab94-9b0690818904",
   "metadata": {
    "id": "kbWY6bad1qIo"
   },
   "source": [
    "#### Tranformations"
   ]
  },
  {
   "cell_type": "code",
   "execution_count": 24,
   "id": "86c8e8d0-e0b0-49e0-a04b-e33295eb94f2",
   "metadata": {
    "id": "zB7zgkP31qIp"
   },
   "outputs": [
    {
     "data": {
      "text/html": [
       "<div>\n",
       "<style scoped>\n",
       "    .dataframe tbody tr th:only-of-type {\n",
       "        vertical-align: middle;\n",
       "    }\n",
       "\n",
       "    .dataframe tbody tr th {\n",
       "        vertical-align: top;\n",
       "    }\n",
       "\n",
       "    .dataframe thead th {\n",
       "        text-align: right;\n",
       "    }\n",
       "</style>\n",
       "<table border=\"1\" class=\"dataframe\">\n",
       "  <thead>\n",
       "    <tr style=\"text-align: right;\">\n",
       "      <th></th>\n",
       "      <th>Passengers</th>\n",
       "    </tr>\n",
       "    <tr>\n",
       "      <th>Month</th>\n",
       "      <th></th>\n",
       "    </tr>\n",
       "  </thead>\n",
       "  <tbody>\n",
       "    <tr>\n",
       "      <th>1995-01-01</th>\n",
       "      <td>112</td>\n",
       "    </tr>\n",
       "    <tr>\n",
       "      <th>1995-02-01</th>\n",
       "      <td>118</td>\n",
       "    </tr>\n",
       "    <tr>\n",
       "      <th>1995-03-01</th>\n",
       "      <td>132</td>\n",
       "    </tr>\n",
       "    <tr>\n",
       "      <th>1995-04-01</th>\n",
       "      <td>129</td>\n",
       "    </tr>\n",
       "    <tr>\n",
       "      <th>1995-05-01</th>\n",
       "      <td>121</td>\n",
       "    </tr>\n",
       "    <tr>\n",
       "      <th>...</th>\n",
       "      <td>...</td>\n",
       "    </tr>\n",
       "    <tr>\n",
       "      <th>2002-08-01</th>\n",
       "      <td>405</td>\n",
       "    </tr>\n",
       "    <tr>\n",
       "      <th>2002-09-01</th>\n",
       "      <td>355</td>\n",
       "    </tr>\n",
       "    <tr>\n",
       "      <th>2002-10-01</th>\n",
       "      <td>306</td>\n",
       "    </tr>\n",
       "    <tr>\n",
       "      <th>2002-11-01</th>\n",
       "      <td>271</td>\n",
       "    </tr>\n",
       "    <tr>\n",
       "      <th>2002-12-01</th>\n",
       "      <td>306</td>\n",
       "    </tr>\n",
       "  </tbody>\n",
       "</table>\n",
       "<p>96 rows × 1 columns</p>\n",
       "</div>"
      ],
      "text/plain": [
       "            Passengers\n",
       "Month                 \n",
       "1995-01-01         112\n",
       "1995-02-01         118\n",
       "1995-03-01         132\n",
       "1995-04-01         129\n",
       "1995-05-01         121\n",
       "...                ...\n",
       "2002-08-01         405\n",
       "2002-09-01         355\n",
       "2002-10-01         306\n",
       "2002-11-01         271\n",
       "2002-12-01         306\n",
       "\n",
       "[96 rows x 1 columns]"
      ]
     },
     "execution_count": 24,
     "metadata": {},
     "output_type": "execute_result"
    }
   ],
   "source": [
    "# load and plot a time series\n",
    "series = pd.read_excel('C:/Users/HP/Desktop/ExcelR/Data Science/Python/Assignments/Forecasting/Airlines+Data.xlsx',\n",
    "                                   header=0, index_col=0, parse_dates=True)\n",
    "series"
   ]
  },
  {
   "cell_type": "code",
   "execution_count": 25,
   "id": "5ba43b38-5443-4907-abb4-0fbeb80de9f8",
   "metadata": {
    "colab": {
     "base_uri": "https://localhost:8080/",
     "height": 265
    },
    "executionInfo": {
     "elapsed": 3824,
     "status": "ok",
     "timestamp": 1619955571468,
     "user": {
      "displayName": "Jaspal Singh Jhass",
      "photoUrl": "",
      "userId": "14870781376371902378"
     },
     "user_tz": -330
    },
    "id": "X4V_Psrb1qIp",
    "outputId": "29b41cb1-f186-4450-afdd-eba06caa480e"
   },
   "outputs": [
    {
     "data": {
      "image/png": "[encoded data removed]",
      "text/plain": [
       "<Figure size 432x288 with 2 Axes>"
      ]
     },
     "metadata": {
      "needs_background": "light"
     },
     "output_type": "display_data"
    }
   ],
   "source": [
    "# line plot\n",
    "plt.subplot(221)\n",
    "plt.plot(series)\n",
    "\n",
    "# histogram\n",
    "plt.subplot(222)\n",
    "plt.hist(series)\n",
    "\n",
    "plt.show()"
   ]
  },
  {
   "cell_type": "markdown",
   "id": "1056a23f-8921-48a2-91d5-483455bcf5ae",
   "metadata": {
    "id": "WSc4aE-X1qIq"
   },
   "source": [
    "#### Square Root Transform"
   ]
  },
  {
   "cell_type": "code",
   "execution_count": 26,
   "id": "171cbf6f-7588-414e-8a34-788e8a404760",
   "metadata": {
    "id": "zI-P7CNC1qIr"
   },
   "outputs": [
    {
     "data": {
      "text/html": [
       "<div>\n",
       "<style scoped>\n",
       "    .dataframe tbody tr th:only-of-type {\n",
       "        vertical-align: middle;\n",
       "    }\n",
       "\n",
       "    .dataframe tbody tr th {\n",
       "        vertical-align: top;\n",
       "    }\n",
       "\n",
       "    .dataframe thead th {\n",
       "        text-align: right;\n",
       "    }\n",
       "</style>\n",
       "<table border=\"1\" class=\"dataframe\">\n",
       "  <thead>\n",
       "    <tr style=\"text-align: right;\">\n",
       "      <th></th>\n",
       "      <th>Passengers</th>\n",
       "    </tr>\n",
       "  </thead>\n",
       "  <tbody>\n",
       "    <tr>\n",
       "      <th>0</th>\n",
       "      <td>10.583005</td>\n",
       "    </tr>\n",
       "    <tr>\n",
       "      <th>1</th>\n",
       "      <td>10.862780</td>\n",
       "    </tr>\n",
       "    <tr>\n",
       "      <th>2</th>\n",
       "      <td>11.489125</td>\n",
       "    </tr>\n",
       "    <tr>\n",
       "      <th>3</th>\n",
       "      <td>11.357817</td>\n",
       "    </tr>\n",
       "    <tr>\n",
       "      <th>4</th>\n",
       "      <td>11.000000</td>\n",
       "    </tr>\n",
       "    <tr>\n",
       "      <th>...</th>\n",
       "      <td>...</td>\n",
       "    </tr>\n",
       "    <tr>\n",
       "      <th>91</th>\n",
       "      <td>20.124612</td>\n",
       "    </tr>\n",
       "    <tr>\n",
       "      <th>92</th>\n",
       "      <td>18.841444</td>\n",
       "    </tr>\n",
       "    <tr>\n",
       "      <th>93</th>\n",
       "      <td>17.492856</td>\n",
       "    </tr>\n",
       "    <tr>\n",
       "      <th>94</th>\n",
       "      <td>16.462078</td>\n",
       "    </tr>\n",
       "    <tr>\n",
       "      <th>95</th>\n",
       "      <td>17.492856</td>\n",
       "    </tr>\n",
       "  </tbody>\n",
       "</table>\n",
       "<p>96 rows × 1 columns</p>\n",
       "</div>"
      ],
      "text/plain": [
       "    Passengers\n",
       "0    10.583005\n",
       "1    10.862780\n",
       "2    11.489125\n",
       "3    11.357817\n",
       "4    11.000000\n",
       "..         ...\n",
       "91   20.124612\n",
       "92   18.841444\n",
       "93   17.492856\n",
       "94   16.462078\n",
       "95   17.492856\n",
       "\n",
       "[96 rows x 1 columns]"
      ]
     },
     "execution_count": 26,
     "metadata": {},
     "output_type": "execute_result"
    }
   ],
   "source": [
    "dataframe = pd.DataFrame(np.sqrt(series.values), columns = ['Passengers'])\n",
    "dataframe"
   ]
  },
  {
   "cell_type": "code",
   "execution_count": 27,
   "id": "86faa86f-392b-439a-8030-32df30aedfbc",
   "metadata": {
    "colab": {
     "base_uri": "https://localhost:8080/",
     "height": 265
    },
    "executionInfo": {
     "elapsed": 1565,
     "status": "ok",
     "timestamp": 1619955587543,
     "user": {
      "displayName": "Jaspal Singh Jhass",
      "photoUrl": "",
      "userId": "14870781376371902378"
     },
     "user_tz": -330
    },
    "id": "qt0grB-b1qIr",
    "outputId": "5e2a8dda-afb9-492b-a170-7913393b576d"
   },
   "outputs": [
    {
     "data": {
      "image/png": "[encoded data removed]",
      "text/plain": [
       "<Figure size 432x288 with 2 Axes>"
      ]
     },
     "metadata": {
      "needs_background": "light"
     },
     "output_type": "display_data"
    }
   ],
   "source": [
    "# line plot\n",
    "plt.subplot(221)\n",
    "plt.plot(dataframe['Passengers'])\n",
    "\n",
    "# histogram\n",
    "plt.subplot(222)\n",
    "plt.hist(dataframe['Passengers'])\n",
    "plt.show()"
   ]
  },
  {
   "cell_type": "markdown",
   "id": "95a2cbe3-563a-42ed-aed8-fdeadd7bf9db",
   "metadata": {
    "id": "P2EHTyUt1qIs"
   },
   "source": [
    "#### Log Transform"
   ]
  },
  {
   "cell_type": "code",
   "execution_count": 28,
   "id": "a765eaf3-b143-43c0-aea8-177d5cc515e6",
   "metadata": {
    "colab": {
     "base_uri": "https://localhost:8080/",
     "height": 268
    },
    "executionInfo": {
     "elapsed": 1603,
     "status": "ok",
     "timestamp": 1619955677318,
     "user": {
      "displayName": "Jaspal Singh Jhass",
      "photoUrl": "",
      "userId": "14870781376371902378"
     },
     "user_tz": -330
    },
    "id": "kC7d90A51qIs",
    "outputId": "8bb9d504-b719-4019-c406-3ef13551beb6"
   },
   "outputs": [
    {
     "data": {
      "text/html": [
       "<div>\n",
       "<style scoped>\n",
       "    .dataframe tbody tr th:only-of-type {\n",
       "        vertical-align: middle;\n",
       "    }\n",
       "\n",
       "    .dataframe tbody tr th {\n",
       "        vertical-align: top;\n",
       "    }\n",
       "\n",
       "    .dataframe thead th {\n",
       "        text-align: right;\n",
       "    }\n",
       "</style>\n",
       "<table border=\"1\" class=\"dataframe\">\n",
       "  <thead>\n",
       "    <tr style=\"text-align: right;\">\n",
       "      <th></th>\n",
       "      <th>Passengers</th>\n",
       "    </tr>\n",
       "  </thead>\n",
       "  <tbody>\n",
       "    <tr>\n",
       "      <th>0</th>\n",
       "      <td>4.718499</td>\n",
       "    </tr>\n",
       "    <tr>\n",
       "      <th>1</th>\n",
       "      <td>4.770685</td>\n",
       "    </tr>\n",
       "    <tr>\n",
       "      <th>2</th>\n",
       "      <td>4.882802</td>\n",
       "    </tr>\n",
       "    <tr>\n",
       "      <th>3</th>\n",
       "      <td>4.859812</td>\n",
       "    </tr>\n",
       "    <tr>\n",
       "      <th>4</th>\n",
       "      <td>4.795791</td>\n",
       "    </tr>\n",
       "    <tr>\n",
       "      <th>...</th>\n",
       "      <td>...</td>\n",
       "    </tr>\n",
       "    <tr>\n",
       "      <th>91</th>\n",
       "      <td>6.003887</td>\n",
       "    </tr>\n",
       "    <tr>\n",
       "      <th>92</th>\n",
       "      <td>5.872118</td>\n",
       "    </tr>\n",
       "    <tr>\n",
       "      <th>93</th>\n",
       "      <td>5.723585</td>\n",
       "    </tr>\n",
       "    <tr>\n",
       "      <th>94</th>\n",
       "      <td>5.602119</td>\n",
       "    </tr>\n",
       "    <tr>\n",
       "      <th>95</th>\n",
       "      <td>5.723585</td>\n",
       "    </tr>\n",
       "  </tbody>\n",
       "</table>\n",
       "<p>96 rows × 1 columns</p>\n",
       "</div>"
      ],
      "text/plain": [
       "    Passengers\n",
       "0     4.718499\n",
       "1     4.770685\n",
       "2     4.882802\n",
       "3     4.859812\n",
       "4     4.795791\n",
       "..         ...\n",
       "91    6.003887\n",
       "92    5.872118\n",
       "93    5.723585\n",
       "94    5.602119\n",
       "95    5.723585\n",
       "\n",
       "[96 rows x 1 columns]"
      ]
     },
     "execution_count": 28,
     "metadata": {},
     "output_type": "execute_result"
    }
   ],
   "source": [
    "dataframe = pd.DataFrame(np.log(series.values), columns = ['Passengers'])\n",
    "dataframe"
   ]
  },
  {
   "cell_type": "code",
   "execution_count": 29,
   "id": "78993492-3c6c-41ef-ab9c-152fa179110f",
   "metadata": {},
   "outputs": [
    {
     "data": {
      "image/png": "[encoded data removed]",
      "text/plain": [
       "<Figure size 432x288 with 2 Axes>"
      ]
     },
     "metadata": {
      "needs_background": "light"
     },
     "output_type": "display_data"
    }
   ],
   "source": [
    "# line plot\n",
    "plt.subplot(221)\n",
    "plt.plot(dataframe['Passengers'])\n",
    "\n",
    "# histogram\n",
    "plt.subplot(222)\n",
    "plt.hist(dataframe['Passengers'])\n",
    "plt.show()"
   ]
  },
  {
   "cell_type": "markdown",
   "id": "a4dd823c-2176-4f69-beda-ea217b2051b5",
   "metadata": {},
   "source": [
    "# Forecasting - Model Based"
   ]
  },
  {
   "cell_type": "code",
   "execution_count": 30,
   "id": "369cf178-3565-4148-b1a6-1a886e797f39",
   "metadata": {
    "colab": {
     "base_uri": "https://localhost:8080/",
     "height": 282
    },
    "executionInfo": {
     "elapsed": 601,
     "status": "ok",
     "timestamp": 1627717020633,
     "user": {
      "displayName": "Jaspal Singh Jhass",
      "photoUrl": "",
      "userId": "14870781376371902378"
     },
     "user_tz": -330
    },
    "id": "gpFJk33XyRzv",
    "outputId": "addcdc94-f776-4a3c-fefc-fe41ffb47683"
   },
   "outputs": [
    {
     "data": {
      "text/html": [
       "<div>\n",
       "<style scoped>\n",
       "    .dataframe tbody tr th:only-of-type {\n",
       "        vertical-align: middle;\n",
       "    }\n",
       "\n",
       "    .dataframe tbody tr th {\n",
       "        vertical-align: top;\n",
       "    }\n",
       "\n",
       "    .dataframe thead th {\n",
       "        text-align: right;\n",
       "    }\n",
       "</style>\n",
       "<table border=\"1\" class=\"dataframe\">\n",
       "  <thead>\n",
       "    <tr style=\"text-align: right;\">\n",
       "      <th></th>\n",
       "      <th>Month</th>\n",
       "      <th>Passengers</th>\n",
       "    </tr>\n",
       "  </thead>\n",
       "  <tbody>\n",
       "    <tr>\n",
       "      <th>0</th>\n",
       "      <td>1995-01-01</td>\n",
       "      <td>112</td>\n",
       "    </tr>\n",
       "    <tr>\n",
       "      <th>1</th>\n",
       "      <td>1995-02-01</td>\n",
       "      <td>118</td>\n",
       "    </tr>\n",
       "    <tr>\n",
       "      <th>2</th>\n",
       "      <td>1995-03-01</td>\n",
       "      <td>132</td>\n",
       "    </tr>\n",
       "    <tr>\n",
       "      <th>3</th>\n",
       "      <td>1995-04-01</td>\n",
       "      <td>129</td>\n",
       "    </tr>\n",
       "    <tr>\n",
       "      <th>4</th>\n",
       "      <td>1995-05-01</td>\n",
       "      <td>121</td>\n",
       "    </tr>\n",
       "    <tr>\n",
       "      <th>...</th>\n",
       "      <td>...</td>\n",
       "      <td>...</td>\n",
       "    </tr>\n",
       "    <tr>\n",
       "      <th>91</th>\n",
       "      <td>2002-08-01</td>\n",
       "      <td>405</td>\n",
       "    </tr>\n",
       "    <tr>\n",
       "      <th>92</th>\n",
       "      <td>2002-09-01</td>\n",
       "      <td>355</td>\n",
       "    </tr>\n",
       "    <tr>\n",
       "      <th>93</th>\n",
       "      <td>2002-10-01</td>\n",
       "      <td>306</td>\n",
       "    </tr>\n",
       "    <tr>\n",
       "      <th>94</th>\n",
       "      <td>2002-11-01</td>\n",
       "      <td>271</td>\n",
       "    </tr>\n",
       "    <tr>\n",
       "      <th>95</th>\n",
       "      <td>2002-12-01</td>\n",
       "      <td>306</td>\n",
       "    </tr>\n",
       "  </tbody>\n",
       "</table>\n",
       "<p>96 rows × 2 columns</p>\n",
       "</div>"
      ],
      "text/plain": [
       "        Month  Passengers\n",
       "0  1995-01-01         112\n",
       "1  1995-02-01         118\n",
       "2  1995-03-01         132\n",
       "3  1995-04-01         129\n",
       "4  1995-05-01         121\n",
       "..        ...         ...\n",
       "91 2002-08-01         405\n",
       "92 2002-09-01         355\n",
       "93 2002-10-01         306\n",
       "94 2002-11-01         271\n",
       "95 2002-12-01         306\n",
       "\n",
       "[96 rows x 2 columns]"
      ]
     },
     "execution_count": 30,
     "metadata": {},
     "output_type": "execute_result"
    }
   ],
   "source": [
    "data = pd.read_excel('C:/Users/HP/Desktop/ExcelR/Data Science/Python/Assignments/Forecasting/Airlines+Data.xlsx')\n",
    "data"
   ]
  },
  {
   "cell_type": "code",
   "execution_count": 31,
   "id": "1bea8ed1-1afc-4033-9f23-3b8112932079",
   "metadata": {},
   "outputs": [],
   "source": [
    "# Extracting Day, weekday name, month name, year from the Date column using \n",
    "# Date functions from pandas \n",
    "\n",
    "data[\"month\"] = data['Month'].dt.strftime(\"%b\") # month extraction\n",
    "data[\"year\"] = data['Month'].dt.strftime(\"%Y\") # year extraction\n",
    "data[\"Day\"] = data['Month'].dt.strftime(\"%d\") # Day extraction\n",
    "data[\"wkday\"] = data['Month'].dt.strftime(\"%A\") # weekday extraction"
   ]
  },
  {
   "cell_type": "code",
   "execution_count": 32,
   "id": "b1c4f3e0-25d9-475f-9e85-8f2a4fe12410",
   "metadata": {
    "colab": {
     "base_uri": "https://localhost:8080/",
     "height": 419
    },
    "executionInfo": {
     "elapsed": 5,
     "status": "ok",
     "timestamp": 1627717111917,
     "user": {
      "displayName": "Jaspal Singh Jhass",
      "photoUrl": "",
      "userId": "14870781376371902378"
     },
     "user_tz": -330
    },
    "id": "J_OG4ma86gmi",
    "outputId": "420783c5-8518-40ca-d5d3-32cdb384b288"
   },
   "outputs": [
    {
     "data": {
      "text/html": [
       "<div>\n",
       "<style scoped>\n",
       "    .dataframe tbody tr th:only-of-type {\n",
       "        vertical-align: middle;\n",
       "    }\n",
       "\n",
       "    .dataframe tbody tr th {\n",
       "        vertical-align: top;\n",
       "    }\n",
       "\n",
       "    .dataframe thead th {\n",
       "        text-align: right;\n",
       "    }\n",
       "</style>\n",
       "<table border=\"1\" class=\"dataframe\">\n",
       "  <thead>\n",
       "    <tr style=\"text-align: right;\">\n",
       "      <th></th>\n",
       "      <th>Month</th>\n",
       "      <th>Passengers</th>\n",
       "      <th>month</th>\n",
       "      <th>year</th>\n",
       "      <th>Day</th>\n",
       "      <th>wkday</th>\n",
       "    </tr>\n",
       "  </thead>\n",
       "  <tbody>\n",
       "    <tr>\n",
       "      <th>0</th>\n",
       "      <td>1995-01-01</td>\n",
       "      <td>112</td>\n",
       "      <td>Jan</td>\n",
       "      <td>1995</td>\n",
       "      <td>01</td>\n",
       "      <td>Sunday</td>\n",
       "    </tr>\n",
       "    <tr>\n",
       "      <th>1</th>\n",
       "      <td>1995-02-01</td>\n",
       "      <td>118</td>\n",
       "      <td>Feb</td>\n",
       "      <td>1995</td>\n",
       "      <td>01</td>\n",
       "      <td>Wednesday</td>\n",
       "    </tr>\n",
       "    <tr>\n",
       "      <th>2</th>\n",
       "      <td>1995-03-01</td>\n",
       "      <td>132</td>\n",
       "      <td>Mar</td>\n",
       "      <td>1995</td>\n",
       "      <td>01</td>\n",
       "      <td>Wednesday</td>\n",
       "    </tr>\n",
       "    <tr>\n",
       "      <th>3</th>\n",
       "      <td>1995-04-01</td>\n",
       "      <td>129</td>\n",
       "      <td>Apr</td>\n",
       "      <td>1995</td>\n",
       "      <td>01</td>\n",
       "      <td>Saturday</td>\n",
       "    </tr>\n",
       "    <tr>\n",
       "      <th>4</th>\n",
       "      <td>1995-05-01</td>\n",
       "      <td>121</td>\n",
       "      <td>May</td>\n",
       "      <td>1995</td>\n",
       "      <td>01</td>\n",
       "      <td>Monday</td>\n",
       "    </tr>\n",
       "    <tr>\n",
       "      <th>...</th>\n",
       "      <td>...</td>\n",
       "      <td>...</td>\n",
       "      <td>...</td>\n",
       "      <td>...</td>\n",
       "      <td>...</td>\n",
       "      <td>...</td>\n",
       "    </tr>\n",
       "    <tr>\n",
       "      <th>91</th>\n",
       "      <td>2002-08-01</td>\n",
       "      <td>405</td>\n",
       "      <td>Aug</td>\n",
       "      <td>2002</td>\n",
       "      <td>01</td>\n",
       "      <td>Thursday</td>\n",
       "    </tr>\n",
       "    <tr>\n",
       "      <th>92</th>\n",
       "      <td>2002-09-01</td>\n",
       "      <td>355</td>\n",
       "      <td>Sep</td>\n",
       "      <td>2002</td>\n",
       "      <td>01</td>\n",
       "      <td>Sunday</td>\n",
       "    </tr>\n",
       "    <tr>\n",
       "      <th>93</th>\n",
       "      <td>2002-10-01</td>\n",
       "      <td>306</td>\n",
       "      <td>Oct</td>\n",
       "      <td>2002</td>\n",
       "      <td>01</td>\n",
       "      <td>Tuesday</td>\n",
       "    </tr>\n",
       "    <tr>\n",
       "      <th>94</th>\n",
       "      <td>2002-11-01</td>\n",
       "      <td>271</td>\n",
       "      <td>Nov</td>\n",
       "      <td>2002</td>\n",
       "      <td>01</td>\n",
       "      <td>Friday</td>\n",
       "    </tr>\n",
       "    <tr>\n",
       "      <th>95</th>\n",
       "      <td>2002-12-01</td>\n",
       "      <td>306</td>\n",
       "      <td>Dec</td>\n",
       "      <td>2002</td>\n",
       "      <td>01</td>\n",
       "      <td>Sunday</td>\n",
       "    </tr>\n",
       "  </tbody>\n",
       "</table>\n",
       "<p>96 rows × 6 columns</p>\n",
       "</div>"
      ],
      "text/plain": [
       "        Month  Passengers month  year Day      wkday\n",
       "0  1995-01-01         112   Jan  1995  01     Sunday\n",
       "1  1995-02-01         118   Feb  1995  01  Wednesday\n",
       "2  1995-03-01         132   Mar  1995  01  Wednesday\n",
       "3  1995-04-01         129   Apr  1995  01   Saturday\n",
       "4  1995-05-01         121   May  1995  01     Monday\n",
       "..        ...         ...   ...   ...  ..        ...\n",
       "91 2002-08-01         405   Aug  2002  01   Thursday\n",
       "92 2002-09-01         355   Sep  2002  01     Sunday\n",
       "93 2002-10-01         306   Oct  2002  01    Tuesday\n",
       "94 2002-11-01         271   Nov  2002  01     Friday\n",
       "95 2002-12-01         306   Dec  2002  01     Sunday\n",
       "\n",
       "[96 rows x 6 columns]"
      ]
     },
     "execution_count": 32,
     "metadata": {},
     "output_type": "execute_result"
    }
   ],
   "source": [
    "data"
   ]
  },
  {
   "cell_type": "code",
   "execution_count": 33,
   "id": "2539dfbb-9f7e-4d2c-b782-62f9d6439155",
   "metadata": {
    "colab": {
     "base_uri": "https://localhost:8080/",
     "height": 514
    },
    "executionInfo": {
     "elapsed": 2091,
     "status": "ok",
     "timestamp": 1627717144351,
     "user": {
      "displayName": "Jaspal Singh Jhass",
      "photoUrl": "",
      "userId": "14870781376371902378"
     },
     "user_tz": -330
    },
    "id": "ao7PqggByRzx",
    "outputId": "fb9a181e-6436-44df-f125-b93614b7ab30"
   },
   "outputs": [
    {
     "data": {
      "text/html": [
       "<div>\n",
       "<style scoped>\n",
       "    .dataframe tbody tr th:only-of-type {\n",
       "        vertical-align: middle;\n",
       "    }\n",
       "\n",
       "    .dataframe tbody tr th {\n",
       "        vertical-align: top;\n",
       "    }\n",
       "\n",
       "    .dataframe thead th {\n",
       "        text-align: right;\n",
       "    }\n",
       "</style>\n",
       "<table border=\"1\" class=\"dataframe\">\n",
       "  <thead>\n",
       "    <tr style=\"text-align: right;\">\n",
       "      <th>month</th>\n",
       "      <th>Apr</th>\n",
       "      <th>Aug</th>\n",
       "      <th>Dec</th>\n",
       "      <th>Feb</th>\n",
       "      <th>Jan</th>\n",
       "      <th>Jul</th>\n",
       "      <th>Jun</th>\n",
       "      <th>Mar</th>\n",
       "      <th>May</th>\n",
       "      <th>Nov</th>\n",
       "      <th>Oct</th>\n",
       "      <th>Sep</th>\n",
       "    </tr>\n",
       "    <tr>\n",
       "      <th>year</th>\n",
       "      <th></th>\n",
       "      <th></th>\n",
       "      <th></th>\n",
       "      <th></th>\n",
       "      <th></th>\n",
       "      <th></th>\n",
       "      <th></th>\n",
       "      <th></th>\n",
       "      <th></th>\n",
       "      <th></th>\n",
       "      <th></th>\n",
       "      <th></th>\n",
       "    </tr>\n",
       "  </thead>\n",
       "  <tbody>\n",
       "    <tr>\n",
       "      <th>1995</th>\n",
       "      <td>129</td>\n",
       "      <td>148</td>\n",
       "      <td>118</td>\n",
       "      <td>118</td>\n",
       "      <td>112</td>\n",
       "      <td>148</td>\n",
       "      <td>135</td>\n",
       "      <td>132</td>\n",
       "      <td>121</td>\n",
       "      <td>104</td>\n",
       "      <td>119</td>\n",
       "      <td>136</td>\n",
       "    </tr>\n",
       "    <tr>\n",
       "      <th>1996</th>\n",
       "      <td>135</td>\n",
       "      <td>170</td>\n",
       "      <td>140</td>\n",
       "      <td>126</td>\n",
       "      <td>115</td>\n",
       "      <td>170</td>\n",
       "      <td>149</td>\n",
       "      <td>141</td>\n",
       "      <td>125</td>\n",
       "      <td>114</td>\n",
       "      <td>133</td>\n",
       "      <td>158</td>\n",
       "    </tr>\n",
       "    <tr>\n",
       "      <th>1997</th>\n",
       "      <td>163</td>\n",
       "      <td>199</td>\n",
       "      <td>166</td>\n",
       "      <td>150</td>\n",
       "      <td>145</td>\n",
       "      <td>199</td>\n",
       "      <td>178</td>\n",
       "      <td>178</td>\n",
       "      <td>172</td>\n",
       "      <td>146</td>\n",
       "      <td>162</td>\n",
       "      <td>184</td>\n",
       "    </tr>\n",
       "    <tr>\n",
       "      <th>1998</th>\n",
       "      <td>181</td>\n",
       "      <td>242</td>\n",
       "      <td>194</td>\n",
       "      <td>180</td>\n",
       "      <td>171</td>\n",
       "      <td>230</td>\n",
       "      <td>218</td>\n",
       "      <td>193</td>\n",
       "      <td>183</td>\n",
       "      <td>172</td>\n",
       "      <td>191</td>\n",
       "      <td>209</td>\n",
       "    </tr>\n",
       "    <tr>\n",
       "      <th>1999</th>\n",
       "      <td>235</td>\n",
       "      <td>272</td>\n",
       "      <td>201</td>\n",
       "      <td>196</td>\n",
       "      <td>196</td>\n",
       "      <td>264</td>\n",
       "      <td>243</td>\n",
       "      <td>236</td>\n",
       "      <td>229</td>\n",
       "      <td>180</td>\n",
       "      <td>211</td>\n",
       "      <td>237</td>\n",
       "    </tr>\n",
       "    <tr>\n",
       "      <th>2000</th>\n",
       "      <td>227</td>\n",
       "      <td>293</td>\n",
       "      <td>229</td>\n",
       "      <td>188</td>\n",
       "      <td>204</td>\n",
       "      <td>302</td>\n",
       "      <td>264</td>\n",
       "      <td>235</td>\n",
       "      <td>234</td>\n",
       "      <td>203</td>\n",
       "      <td>229</td>\n",
       "      <td>259</td>\n",
       "    </tr>\n",
       "    <tr>\n",
       "      <th>2001</th>\n",
       "      <td>269</td>\n",
       "      <td>347</td>\n",
       "      <td>278</td>\n",
       "      <td>233</td>\n",
       "      <td>242</td>\n",
       "      <td>364</td>\n",
       "      <td>315</td>\n",
       "      <td>267</td>\n",
       "      <td>270</td>\n",
       "      <td>237</td>\n",
       "      <td>274</td>\n",
       "      <td>312</td>\n",
       "    </tr>\n",
       "    <tr>\n",
       "      <th>2002</th>\n",
       "      <td>313</td>\n",
       "      <td>405</td>\n",
       "      <td>306</td>\n",
       "      <td>277</td>\n",
       "      <td>284</td>\n",
       "      <td>413</td>\n",
       "      <td>374</td>\n",
       "      <td>317</td>\n",
       "      <td>318</td>\n",
       "      <td>271</td>\n",
       "      <td>306</td>\n",
       "      <td>355</td>\n",
       "    </tr>\n",
       "  </tbody>\n",
       "</table>\n",
       "</div>"
      ],
      "text/plain": [
       "month  Apr  Aug  Dec  Feb  Jan  Jul  Jun  Mar  May  Nov  Oct  Sep\n",
       "year                                                             \n",
       "1995   129  148  118  118  112  148  135  132  121  104  119  136\n",
       "1996   135  170  140  126  115  170  149  141  125  114  133  158\n",
       "1997   163  199  166  150  145  199  178  178  172  146  162  184\n",
       "1998   181  242  194  180  171  230  218  193  183  172  191  209\n",
       "1999   235  272  201  196  196  264  243  236  229  180  211  237\n",
       "2000   227  293  229  188  204  302  264  235  234  203  229  259\n",
       "2001   269  347  278  233  242  364  315  267  270  237  274  312\n",
       "2002   313  405  306  277  284  413  374  317  318  271  306  355"
      ]
     },
     "execution_count": 33,
     "metadata": {},
     "output_type": "execute_result"
    }
   ],
   "source": [
    "heatmap_y_month = pd.pivot_table(data = data,\n",
    "                                 values = \"Passengers\",\n",
    "                                 index = \"year\",\n",
    "                                 columns = \"month\",\n",
    "                                 aggfunc = \"mean\",\n",
    "                                 fill_value=0)\n",
    "heatmap_y_month"
   ]
  },
  {
   "cell_type": "code",
   "execution_count": 34,
   "id": "36181903-b202-4cc9-9c3e-4997f26c7ac2",
   "metadata": {},
   "outputs": [
    {
     "data": {
      "text/plain": [
       "<AxesSubplot:xlabel='month', ylabel='year'>"
      ]
     },
     "execution_count": 34,
     "metadata": {},
     "output_type": "execute_result"
    },
    {
     "data": {
      "image/png": "[encoded data removed]",
      "text/plain": [
       "<Figure size 864x576 with 2 Axes>"
      ]
     },
     "metadata": {
      "needs_background": "light"
     },
     "output_type": "display_data"
    }
   ],
   "source": [
    "plt.figure(figsize=(12,8))\n",
    "sns.heatmap(heatmap_y_month,\n",
    "            annot=True,\n",
    "            fmt=\"g\",\n",
    "            cmap = 'icefire') "
   ]
  },
  {
   "cell_type": "code",
   "execution_count": 35,
   "id": "4fc70f1e-2f28-4089-a25a-597ea875dacb",
   "metadata": {
    "colab": {
     "base_uri": "https://localhost:8080/",
     "height": 405
    },
    "executionInfo": {
     "elapsed": 1158,
     "status": "ok",
     "timestamp": 1627717270849,
     "user": {
      "displayName": "Jaspal Singh Jhass",
      "photoUrl": "",
      "userId": "14870781376371902378"
     },
     "user_tz": -330
    },
    "id": "gUn0W0QsyRzy",
    "outputId": "cadd6514-43cd-4d46-b76e-1294bb77c069"
   },
   "outputs": [
    {
     "data": {
      "text/plain": [
       "<AxesSubplot:xlabel='year', ylabel='Passengers'>"
      ]
     },
     "execution_count": 35,
     "metadata": {},
     "output_type": "execute_result"
    },
    {
     "data": {
      "image/png": "[encoded data removed]",
      "text/plain": [
       "<Figure size 1440x720 with 2 Axes>"
      ]
     },
     "metadata": {
      "needs_background": "light"
     },
     "output_type": "display_data"
    }
   ],
   "source": [
    "# Boxplot for every\n",
    "plt.figure(figsize=(20,10))\n",
    "\n",
    "plt.subplot(221)\n",
    "sns.boxplot(x=\"month\",y=\"Passengers\",data=data)\n",
    "\n",
    "plt.subplot(222)\n",
    "sns.boxplot(x=\"year\",y=\"Passengers\",data=data)"
   ]
  },
  {
   "cell_type": "code",
   "execution_count": 36,
   "id": "1067b034-0ab9-4929-b837-e8eaee90af12",
   "metadata": {
    "colab": {
     "base_uri": "https://localhost:8080/",
     "height": 242
    },
    "executionInfo": {
     "elapsed": 1114,
     "status": "ok",
     "timestamp": 1627717277244,
     "user": {
      "displayName": "Jaspal Singh Jhass",
      "photoUrl": "",
      "userId": "14870781376371902378"
     },
     "user_tz": -330
    },
    "id": "Q2BzgHcryRzz",
    "outputId": "f6117e77-19d1-44a4-d0e2-6c2c3588ddaa",
    "scrolled": true
   },
   "outputs": [
    {
     "data": {
      "text/plain": [
       "<AxesSubplot:xlabel='year', ylabel='Passengers'>"
      ]
     },
     "execution_count": 36,
     "metadata": {},
     "output_type": "execute_result"
    },
    {
     "data": {
      "image/png": "[encoded data removed]",
      "text/plain": [
       "<Figure size 432x288 with 1 Axes>"
      ]
     },
     "metadata": {
      "needs_background": "light"
     },
     "output_type": "display_data"
    }
   ],
   "source": [
    "sns.lineplot(x=\"year\",y=\"Passengers\",data=data)"
   ]
  },
  {
   "cell_type": "markdown",
   "id": "8f50ff17-fed8-4b65-ad78-3f4e9c6e9095",
   "metadata": {
    "id": "VOYL-cJByRzz"
   },
   "source": [
    "#### Splitting data"
   ]
  },
  {
   "cell_type": "code",
   "execution_count": 37,
   "id": "12fb659d-7f32-4ae5-92e9-596aa696b430",
   "metadata": {},
   "outputs": [
    {
     "data": {
      "text/plain": [
       "(96, 6)"
      ]
     },
     "execution_count": 37,
     "metadata": {},
     "output_type": "execute_result"
    }
   ],
   "source": [
    "data.shape"
   ]
  },
  {
   "cell_type": "code",
   "execution_count": 38,
   "id": "a3181135-d15a-4592-8b42-b0b5e220a3b4",
   "metadata": {},
   "outputs": [
    {
     "data": {
      "text/html": [
       "<div>\n",
       "<style scoped>\n",
       "    .dataframe tbody tr th:only-of-type {\n",
       "        vertical-align: middle;\n",
       "    }\n",
       "\n",
       "    .dataframe tbody tr th {\n",
       "        vertical-align: top;\n",
       "    }\n",
       "\n",
       "    .dataframe thead th {\n",
       "        text-align: right;\n",
       "    }\n",
       "</style>\n",
       "<table border=\"1\" class=\"dataframe\">\n",
       "  <thead>\n",
       "    <tr style=\"text-align: right;\">\n",
       "      <th></th>\n",
       "      <th>Month</th>\n",
       "      <th>Passengers</th>\n",
       "      <th>month</th>\n",
       "      <th>year</th>\n",
       "      <th>Day</th>\n",
       "      <th>wkday</th>\n",
       "      <th>t</th>\n",
       "      <th>t_square</th>\n",
       "      <th>log_passengers</th>\n",
       "      <th>Apr</th>\n",
       "      <th>...</th>\n",
       "      <th>Dec</th>\n",
       "      <th>Feb</th>\n",
       "      <th>Jan</th>\n",
       "      <th>Jul</th>\n",
       "      <th>Jun</th>\n",
       "      <th>Mar</th>\n",
       "      <th>May</th>\n",
       "      <th>Nov</th>\n",
       "      <th>Oct</th>\n",
       "      <th>Sep</th>\n",
       "    </tr>\n",
       "  </thead>\n",
       "  <tbody>\n",
       "    <tr>\n",
       "      <th>0</th>\n",
       "      <td>1995-01-01</td>\n",
       "      <td>112</td>\n",
       "      <td>Jan</td>\n",
       "      <td>1995</td>\n",
       "      <td>01</td>\n",
       "      <td>Sunday</td>\n",
       "      <td>1</td>\n",
       "      <td>1</td>\n",
       "      <td>4.718499</td>\n",
       "      <td>0</td>\n",
       "      <td>...</td>\n",
       "      <td>0</td>\n",
       "      <td>0</td>\n",
       "      <td>1</td>\n",
       "      <td>0</td>\n",
       "      <td>0</td>\n",
       "      <td>0</td>\n",
       "      <td>0</td>\n",
       "      <td>0</td>\n",
       "      <td>0</td>\n",
       "      <td>0</td>\n",
       "    </tr>\n",
       "    <tr>\n",
       "      <th>1</th>\n",
       "      <td>1995-02-01</td>\n",
       "      <td>118</td>\n",
       "      <td>Feb</td>\n",
       "      <td>1995</td>\n",
       "      <td>01</td>\n",
       "      <td>Wednesday</td>\n",
       "      <td>2</td>\n",
       "      <td>4</td>\n",
       "      <td>4.770685</td>\n",
       "      <td>0</td>\n",
       "      <td>...</td>\n",
       "      <td>0</td>\n",
       "      <td>1</td>\n",
       "      <td>0</td>\n",
       "      <td>0</td>\n",
       "      <td>0</td>\n",
       "      <td>0</td>\n",
       "      <td>0</td>\n",
       "      <td>0</td>\n",
       "      <td>0</td>\n",
       "      <td>0</td>\n",
       "    </tr>\n",
       "    <tr>\n",
       "      <th>2</th>\n",
       "      <td>1995-03-01</td>\n",
       "      <td>132</td>\n",
       "      <td>Mar</td>\n",
       "      <td>1995</td>\n",
       "      <td>01</td>\n",
       "      <td>Wednesday</td>\n",
       "      <td>3</td>\n",
       "      <td>9</td>\n",
       "      <td>4.882802</td>\n",
       "      <td>0</td>\n",
       "      <td>...</td>\n",
       "      <td>0</td>\n",
       "      <td>0</td>\n",
       "      <td>0</td>\n",
       "      <td>0</td>\n",
       "      <td>0</td>\n",
       "      <td>1</td>\n",
       "      <td>0</td>\n",
       "      <td>0</td>\n",
       "      <td>0</td>\n",
       "      <td>0</td>\n",
       "    </tr>\n",
       "    <tr>\n",
       "      <th>3</th>\n",
       "      <td>1995-04-01</td>\n",
       "      <td>129</td>\n",
       "      <td>Apr</td>\n",
       "      <td>1995</td>\n",
       "      <td>01</td>\n",
       "      <td>Saturday</td>\n",
       "      <td>4</td>\n",
       "      <td>16</td>\n",
       "      <td>4.859812</td>\n",
       "      <td>1</td>\n",
       "      <td>...</td>\n",
       "      <td>0</td>\n",
       "      <td>0</td>\n",
       "      <td>0</td>\n",
       "      <td>0</td>\n",
       "      <td>0</td>\n",
       "      <td>0</td>\n",
       "      <td>0</td>\n",
       "      <td>0</td>\n",
       "      <td>0</td>\n",
       "      <td>0</td>\n",
       "    </tr>\n",
       "    <tr>\n",
       "      <th>4</th>\n",
       "      <td>1995-05-01</td>\n",
       "      <td>121</td>\n",
       "      <td>May</td>\n",
       "      <td>1995</td>\n",
       "      <td>01</td>\n",
       "      <td>Monday</td>\n",
       "      <td>5</td>\n",
       "      <td>25</td>\n",
       "      <td>4.795791</td>\n",
       "      <td>0</td>\n",
       "      <td>...</td>\n",
       "      <td>0</td>\n",
       "      <td>0</td>\n",
       "      <td>0</td>\n",
       "      <td>0</td>\n",
       "      <td>0</td>\n",
       "      <td>0</td>\n",
       "      <td>1</td>\n",
       "      <td>0</td>\n",
       "      <td>0</td>\n",
       "      <td>0</td>\n",
       "    </tr>\n",
       "    <tr>\n",
       "      <th>...</th>\n",
       "      <td>...</td>\n",
       "      <td>...</td>\n",
       "      <td>...</td>\n",
       "      <td>...</td>\n",
       "      <td>...</td>\n",
       "      <td>...</td>\n",
       "      <td>...</td>\n",
       "      <td>...</td>\n",
       "      <td>...</td>\n",
       "      <td>...</td>\n",
       "      <td>...</td>\n",
       "      <td>...</td>\n",
       "      <td>...</td>\n",
       "      <td>...</td>\n",
       "      <td>...</td>\n",
       "      <td>...</td>\n",
       "      <td>...</td>\n",
       "      <td>...</td>\n",
       "      <td>...</td>\n",
       "      <td>...</td>\n",
       "      <td>...</td>\n",
       "    </tr>\n",
       "    <tr>\n",
       "      <th>91</th>\n",
       "      <td>2002-08-01</td>\n",
       "      <td>405</td>\n",
       "      <td>Aug</td>\n",
       "      <td>2002</td>\n",
       "      <td>01</td>\n",
       "      <td>Thursday</td>\n",
       "      <td>92</td>\n",
       "      <td>8464</td>\n",
       "      <td>6.003887</td>\n",
       "      <td>0</td>\n",
       "      <td>...</td>\n",
       "      <td>0</td>\n",
       "      <td>0</td>\n",
       "      <td>0</td>\n",
       "      <td>0</td>\n",
       "      <td>0</td>\n",
       "      <td>0</td>\n",
       "      <td>0</td>\n",
       "      <td>0</td>\n",
       "      <td>0</td>\n",
       "      <td>0</td>\n",
       "    </tr>\n",
       "    <tr>\n",
       "      <th>92</th>\n",
       "      <td>2002-09-01</td>\n",
       "      <td>355</td>\n",
       "      <td>Sep</td>\n",
       "      <td>2002</td>\n",
       "      <td>01</td>\n",
       "      <td>Sunday</td>\n",
       "      <td>93</td>\n",
       "      <td>8649</td>\n",
       "      <td>5.872118</td>\n",
       "      <td>0</td>\n",
       "      <td>...</td>\n",
       "      <td>0</td>\n",
       "      <td>0</td>\n",
       "      <td>0</td>\n",
       "      <td>0</td>\n",
       "      <td>0</td>\n",
       "      <td>0</td>\n",
       "      <td>0</td>\n",
       "      <td>0</td>\n",
       "      <td>0</td>\n",
       "      <td>1</td>\n",
       "    </tr>\n",
       "    <tr>\n",
       "      <th>93</th>\n",
       "      <td>2002-10-01</td>\n",
       "      <td>306</td>\n",
       "      <td>Oct</td>\n",
       "      <td>2002</td>\n",
       "      <td>01</td>\n",
       "      <td>Tuesday</td>\n",
       "      <td>94</td>\n",
       "      <td>8836</td>\n",
       "      <td>5.723585</td>\n",
       "      <td>0</td>\n",
       "      <td>...</td>\n",
       "      <td>0</td>\n",
       "      <td>0</td>\n",
       "      <td>0</td>\n",
       "      <td>0</td>\n",
       "      <td>0</td>\n",
       "      <td>0</td>\n",
       "      <td>0</td>\n",
       "      <td>0</td>\n",
       "      <td>1</td>\n",
       "      <td>0</td>\n",
       "    </tr>\n",
       "    <tr>\n",
       "      <th>94</th>\n",
       "      <td>2002-11-01</td>\n",
       "      <td>271</td>\n",
       "      <td>Nov</td>\n",
       "      <td>2002</td>\n",
       "      <td>01</td>\n",
       "      <td>Friday</td>\n",
       "      <td>95</td>\n",
       "      <td>9025</td>\n",
       "      <td>5.602119</td>\n",
       "      <td>0</td>\n",
       "      <td>...</td>\n",
       "      <td>0</td>\n",
       "      <td>0</td>\n",
       "      <td>0</td>\n",
       "      <td>0</td>\n",
       "      <td>0</td>\n",
       "      <td>0</td>\n",
       "      <td>0</td>\n",
       "      <td>1</td>\n",
       "      <td>0</td>\n",
       "      <td>0</td>\n",
       "    </tr>\n",
       "    <tr>\n",
       "      <th>95</th>\n",
       "      <td>2002-12-01</td>\n",
       "      <td>306</td>\n",
       "      <td>Dec</td>\n",
       "      <td>2002</td>\n",
       "      <td>01</td>\n",
       "      <td>Sunday</td>\n",
       "      <td>96</td>\n",
       "      <td>9216</td>\n",
       "      <td>5.723585</td>\n",
       "      <td>0</td>\n",
       "      <td>...</td>\n",
       "      <td>1</td>\n",
       "      <td>0</td>\n",
       "      <td>0</td>\n",
       "      <td>0</td>\n",
       "      <td>0</td>\n",
       "      <td>0</td>\n",
       "      <td>0</td>\n",
       "      <td>0</td>\n",
       "      <td>0</td>\n",
       "      <td>0</td>\n",
       "    </tr>\n",
       "  </tbody>\n",
       "</table>\n",
       "<p>96 rows × 21 columns</p>\n",
       "</div>"
      ],
      "text/plain": [
       "        Month  Passengers month  year Day      wkday   t  t_square  \\\n",
       "0  1995-01-01         112   Jan  1995  01     Sunday   1         1   \n",
       "1  1995-02-01         118   Feb  1995  01  Wednesday   2         4   \n",
       "2  1995-03-01         132   Mar  1995  01  Wednesday   3         9   \n",
       "3  1995-04-01         129   Apr  1995  01   Saturday   4        16   \n",
       "4  1995-05-01         121   May  1995  01     Monday   5        25   \n",
       "..        ...         ...   ...   ...  ..        ...  ..       ...   \n",
       "91 2002-08-01         405   Aug  2002  01   Thursday  92      8464   \n",
       "92 2002-09-01         355   Sep  2002  01     Sunday  93      8649   \n",
       "93 2002-10-01         306   Oct  2002  01    Tuesday  94      8836   \n",
       "94 2002-11-01         271   Nov  2002  01     Friday  95      9025   \n",
       "95 2002-12-01         306   Dec  2002  01     Sunday  96      9216   \n",
       "\n",
       "    log_passengers  Apr  ...  Dec  Feb  Jan  Jul  Jun  Mar  May  Nov  Oct  Sep  \n",
       "0         4.718499    0  ...    0    0    1    0    0    0    0    0    0    0  \n",
       "1         4.770685    0  ...    0    1    0    0    0    0    0    0    0    0  \n",
       "2         4.882802    0  ...    0    0    0    0    0    1    0    0    0    0  \n",
       "3         4.859812    1  ...    0    0    0    0    0    0    0    0    0    0  \n",
       "4         4.795791    0  ...    0    0    0    0    0    0    1    0    0    0  \n",
       "..             ...  ...  ...  ...  ...  ...  ...  ...  ...  ...  ...  ...  ...  \n",
       "91        6.003887    0  ...    0    0    0    0    0    0    0    0    0    0  \n",
       "92        5.872118    0  ...    0    0    0    0    0    0    0    0    0    1  \n",
       "93        5.723585    0  ...    0    0    0    0    0    0    0    0    1    0  \n",
       "94        5.602119    0  ...    0    0    0    0    0    0    0    1    0    0  \n",
       "95        5.723585    0  ...    1    0    0    0    0    0    0    0    0    0  \n",
       "\n",
       "[96 rows x 21 columns]"
      ]
     },
     "execution_count": 38,
     "metadata": {},
     "output_type": "execute_result"
    }
   ],
   "source": [
    "data['t'] = np.arange(1,97)\n",
    "data['t_square'] = np.square(data.t)\n",
    "data['log_passengers'] = np.log(data.Passengers)\n",
    "data1 = pd.get_dummies(data['month'])\n",
    "data = pd.concat([data, data1],axis=1)\n",
    "data"
   ]
  },
  {
   "cell_type": "code",
   "execution_count": null,
   "id": "4c106ede-1968-4f85-9e1c-a48992fe92b3",
   "metadata": {},
   "outputs": [],
   "source": []
  },
  {
   "cell_type": "code",
   "execution_count": 39,
   "id": "9f0e5afb-5278-4f15-9e17-bdba7e6e589a",
   "metadata": {
    "id": "-UIp64oCyRzz"
   },
   "outputs": [],
   "source": [
    "Train = data.head(84)\n",
    "Test = data.tail(12)"
   ]
  },
  {
   "cell_type": "code",
   "execution_count": 40,
   "id": "4bf4619e-6ae4-40c5-8ba0-b3377432fcaa",
   "metadata": {},
   "outputs": [
    {
     "data": {
      "text/html": [
       "<div>\n",
       "<style scoped>\n",
       "    .dataframe tbody tr th:only-of-type {\n",
       "        vertical-align: middle;\n",
       "    }\n",
       "\n",
       "    .dataframe tbody tr th {\n",
       "        vertical-align: top;\n",
       "    }\n",
       "\n",
       "    .dataframe thead th {\n",
       "        text-align: right;\n",
       "    }\n",
       "</style>\n",
       "<table border=\"1\" class=\"dataframe\">\n",
       "  <thead>\n",
       "    <tr style=\"text-align: right;\">\n",
       "      <th></th>\n",
       "      <th>Month</th>\n",
       "      <th>Passengers</th>\n",
       "      <th>month</th>\n",
       "      <th>year</th>\n",
       "      <th>Day</th>\n",
       "      <th>wkday</th>\n",
       "      <th>t</th>\n",
       "      <th>t_square</th>\n",
       "      <th>log_passengers</th>\n",
       "      <th>Apr</th>\n",
       "      <th>...</th>\n",
       "      <th>Dec</th>\n",
       "      <th>Feb</th>\n",
       "      <th>Jan</th>\n",
       "      <th>Jul</th>\n",
       "      <th>Jun</th>\n",
       "      <th>Mar</th>\n",
       "      <th>May</th>\n",
       "      <th>Nov</th>\n",
       "      <th>Oct</th>\n",
       "      <th>Sep</th>\n",
       "    </tr>\n",
       "  </thead>\n",
       "  <tbody>\n",
       "    <tr>\n",
       "      <th>0</th>\n",
       "      <td>1995-01-01</td>\n",
       "      <td>112</td>\n",
       "      <td>Jan</td>\n",
       "      <td>1995</td>\n",
       "      <td>01</td>\n",
       "      <td>Sunday</td>\n",
       "      <td>1</td>\n",
       "      <td>1</td>\n",
       "      <td>4.718499</td>\n",
       "      <td>0</td>\n",
       "      <td>...</td>\n",
       "      <td>0</td>\n",
       "      <td>0</td>\n",
       "      <td>1</td>\n",
       "      <td>0</td>\n",
       "      <td>0</td>\n",
       "      <td>0</td>\n",
       "      <td>0</td>\n",
       "      <td>0</td>\n",
       "      <td>0</td>\n",
       "      <td>0</td>\n",
       "    </tr>\n",
       "    <tr>\n",
       "      <th>1</th>\n",
       "      <td>1995-02-01</td>\n",
       "      <td>118</td>\n",
       "      <td>Feb</td>\n",
       "      <td>1995</td>\n",
       "      <td>01</td>\n",
       "      <td>Wednesday</td>\n",
       "      <td>2</td>\n",
       "      <td>4</td>\n",
       "      <td>4.770685</td>\n",
       "      <td>0</td>\n",
       "      <td>...</td>\n",
       "      <td>0</td>\n",
       "      <td>1</td>\n",
       "      <td>0</td>\n",
       "      <td>0</td>\n",
       "      <td>0</td>\n",
       "      <td>0</td>\n",
       "      <td>0</td>\n",
       "      <td>0</td>\n",
       "      <td>0</td>\n",
       "      <td>0</td>\n",
       "    </tr>\n",
       "    <tr>\n",
       "      <th>2</th>\n",
       "      <td>1995-03-01</td>\n",
       "      <td>132</td>\n",
       "      <td>Mar</td>\n",
       "      <td>1995</td>\n",
       "      <td>01</td>\n",
       "      <td>Wednesday</td>\n",
       "      <td>3</td>\n",
       "      <td>9</td>\n",
       "      <td>4.882802</td>\n",
       "      <td>0</td>\n",
       "      <td>...</td>\n",
       "      <td>0</td>\n",
       "      <td>0</td>\n",
       "      <td>0</td>\n",
       "      <td>0</td>\n",
       "      <td>0</td>\n",
       "      <td>1</td>\n",
       "      <td>0</td>\n",
       "      <td>0</td>\n",
       "      <td>0</td>\n",
       "      <td>0</td>\n",
       "    </tr>\n",
       "    <tr>\n",
       "      <th>3</th>\n",
       "      <td>1995-04-01</td>\n",
       "      <td>129</td>\n",
       "      <td>Apr</td>\n",
       "      <td>1995</td>\n",
       "      <td>01</td>\n",
       "      <td>Saturday</td>\n",
       "      <td>4</td>\n",
       "      <td>16</td>\n",
       "      <td>4.859812</td>\n",
       "      <td>1</td>\n",
       "      <td>...</td>\n",
       "      <td>0</td>\n",
       "      <td>0</td>\n",
       "      <td>0</td>\n",
       "      <td>0</td>\n",
       "      <td>0</td>\n",
       "      <td>0</td>\n",
       "      <td>0</td>\n",
       "      <td>0</td>\n",
       "      <td>0</td>\n",
       "      <td>0</td>\n",
       "    </tr>\n",
       "    <tr>\n",
       "      <th>4</th>\n",
       "      <td>1995-05-01</td>\n",
       "      <td>121</td>\n",
       "      <td>May</td>\n",
       "      <td>1995</td>\n",
       "      <td>01</td>\n",
       "      <td>Monday</td>\n",
       "      <td>5</td>\n",
       "      <td>25</td>\n",
       "      <td>4.795791</td>\n",
       "      <td>0</td>\n",
       "      <td>...</td>\n",
       "      <td>0</td>\n",
       "      <td>0</td>\n",
       "      <td>0</td>\n",
       "      <td>0</td>\n",
       "      <td>0</td>\n",
       "      <td>0</td>\n",
       "      <td>1</td>\n",
       "      <td>0</td>\n",
       "      <td>0</td>\n",
       "      <td>0</td>\n",
       "    </tr>\n",
       "    <tr>\n",
       "      <th>...</th>\n",
       "      <td>...</td>\n",
       "      <td>...</td>\n",
       "      <td>...</td>\n",
       "      <td>...</td>\n",
       "      <td>...</td>\n",
       "      <td>...</td>\n",
       "      <td>...</td>\n",
       "      <td>...</td>\n",
       "      <td>...</td>\n",
       "      <td>...</td>\n",
       "      <td>...</td>\n",
       "      <td>...</td>\n",
       "      <td>...</td>\n",
       "      <td>...</td>\n",
       "      <td>...</td>\n",
       "      <td>...</td>\n",
       "      <td>...</td>\n",
       "      <td>...</td>\n",
       "      <td>...</td>\n",
       "      <td>...</td>\n",
       "      <td>...</td>\n",
       "    </tr>\n",
       "    <tr>\n",
       "      <th>79</th>\n",
       "      <td>2001-08-01</td>\n",
       "      <td>347</td>\n",
       "      <td>Aug</td>\n",
       "      <td>2001</td>\n",
       "      <td>01</td>\n",
       "      <td>Wednesday</td>\n",
       "      <td>80</td>\n",
       "      <td>6400</td>\n",
       "      <td>5.849325</td>\n",
       "      <td>0</td>\n",
       "      <td>...</td>\n",
       "      <td>0</td>\n",
       "      <td>0</td>\n",
       "      <td>0</td>\n",
       "      <td>0</td>\n",
       "      <td>0</td>\n",
       "      <td>0</td>\n",
       "      <td>0</td>\n",
       "      <td>0</td>\n",
       "      <td>0</td>\n",
       "      <td>0</td>\n",
       "    </tr>\n",
       "    <tr>\n",
       "      <th>80</th>\n",
       "      <td>2001-09-01</td>\n",
       "      <td>312</td>\n",
       "      <td>Sep</td>\n",
       "      <td>2001</td>\n",
       "      <td>01</td>\n",
       "      <td>Saturday</td>\n",
       "      <td>81</td>\n",
       "      <td>6561</td>\n",
       "      <td>5.743003</td>\n",
       "      <td>0</td>\n",
       "      <td>...</td>\n",
       "      <td>0</td>\n",
       "      <td>0</td>\n",
       "      <td>0</td>\n",
       "      <td>0</td>\n",
       "      <td>0</td>\n",
       "      <td>0</td>\n",
       "      <td>0</td>\n",
       "      <td>0</td>\n",
       "      <td>0</td>\n",
       "      <td>1</td>\n",
       "    </tr>\n",
       "    <tr>\n",
       "      <th>81</th>\n",
       "      <td>2001-10-01</td>\n",
       "      <td>274</td>\n",
       "      <td>Oct</td>\n",
       "      <td>2001</td>\n",
       "      <td>01</td>\n",
       "      <td>Monday</td>\n",
       "      <td>82</td>\n",
       "      <td>6724</td>\n",
       "      <td>5.613128</td>\n",
       "      <td>0</td>\n",
       "      <td>...</td>\n",
       "      <td>0</td>\n",
       "      <td>0</td>\n",
       "      <td>0</td>\n",
       "      <td>0</td>\n",
       "      <td>0</td>\n",
       "      <td>0</td>\n",
       "      <td>0</td>\n",
       "      <td>0</td>\n",
       "      <td>1</td>\n",
       "      <td>0</td>\n",
       "    </tr>\n",
       "    <tr>\n",
       "      <th>82</th>\n",
       "      <td>2001-11-01</td>\n",
       "      <td>237</td>\n",
       "      <td>Nov</td>\n",
       "      <td>2001</td>\n",
       "      <td>01</td>\n",
       "      <td>Thursday</td>\n",
       "      <td>83</td>\n",
       "      <td>6889</td>\n",
       "      <td>5.468060</td>\n",
       "      <td>0</td>\n",
       "      <td>...</td>\n",
       "      <td>0</td>\n",
       "      <td>0</td>\n",
       "      <td>0</td>\n",
       "      <td>0</td>\n",
       "      <td>0</td>\n",
       "      <td>0</td>\n",
       "      <td>0</td>\n",
       "      <td>1</td>\n",
       "      <td>0</td>\n",
       "      <td>0</td>\n",
       "    </tr>\n",
       "    <tr>\n",
       "      <th>83</th>\n",
       "      <td>2001-12-01</td>\n",
       "      <td>278</td>\n",
       "      <td>Dec</td>\n",
       "      <td>2001</td>\n",
       "      <td>01</td>\n",
       "      <td>Saturday</td>\n",
       "      <td>84</td>\n",
       "      <td>7056</td>\n",
       "      <td>5.627621</td>\n",
       "      <td>0</td>\n",
       "      <td>...</td>\n",
       "      <td>1</td>\n",
       "      <td>0</td>\n",
       "      <td>0</td>\n",
       "      <td>0</td>\n",
       "      <td>0</td>\n",
       "      <td>0</td>\n",
       "      <td>0</td>\n",
       "      <td>0</td>\n",
       "      <td>0</td>\n",
       "      <td>0</td>\n",
       "    </tr>\n",
       "  </tbody>\n",
       "</table>\n",
       "<p>84 rows × 21 columns</p>\n",
       "</div>"
      ],
      "text/plain": [
       "        Month  Passengers month  year Day      wkday   t  t_square  \\\n",
       "0  1995-01-01         112   Jan  1995  01     Sunday   1         1   \n",
       "1  1995-02-01         118   Feb  1995  01  Wednesday   2         4   \n",
       "2  1995-03-01         132   Mar  1995  01  Wednesday   3         9   \n",
       "3  1995-04-01         129   Apr  1995  01   Saturday   4        16   \n",
       "4  1995-05-01         121   May  1995  01     Monday   5        25   \n",
       "..        ...         ...   ...   ...  ..        ...  ..       ...   \n",
       "79 2001-08-01         347   Aug  2001  01  Wednesday  80      6400   \n",
       "80 2001-09-01         312   Sep  2001  01   Saturday  81      6561   \n",
       "81 2001-10-01         274   Oct  2001  01     Monday  82      6724   \n",
       "82 2001-11-01         237   Nov  2001  01   Thursday  83      6889   \n",
       "83 2001-12-01         278   Dec  2001  01   Saturday  84      7056   \n",
       "\n",
       "    log_passengers  Apr  ...  Dec  Feb  Jan  Jul  Jun  Mar  May  Nov  Oct  Sep  \n",
       "0         4.718499    0  ...    0    0    1    0    0    0    0    0    0    0  \n",
       "1         4.770685    0  ...    0    1    0    0    0    0    0    0    0    0  \n",
       "2         4.882802    0  ...    0    0    0    0    0    1    0    0    0    0  \n",
       "3         4.859812    1  ...    0    0    0    0    0    0    0    0    0    0  \n",
       "4         4.795791    0  ...    0    0    0    0    0    0    1    0    0    0  \n",
       "..             ...  ...  ...  ...  ...  ...  ...  ...  ...  ...  ...  ...  ...  \n",
       "79        5.849325    0  ...    0    0    0    0    0    0    0    0    0    0  \n",
       "80        5.743003    0  ...    0    0    0    0    0    0    0    0    0    1  \n",
       "81        5.613128    0  ...    0    0    0    0    0    0    0    0    1    0  \n",
       "82        5.468060    0  ...    0    0    0    0    0    0    0    1    0    0  \n",
       "83        5.627621    0  ...    1    0    0    0    0    0    0    0    0    0  \n",
       "\n",
       "[84 rows x 21 columns]"
      ]
     },
     "execution_count": 40,
     "metadata": {},
     "output_type": "execute_result"
    }
   ],
   "source": [
    "Train"
   ]
  },
  {
   "cell_type": "code",
   "execution_count": 41,
   "id": "e4241604-e392-4cba-bf7f-0508d1bdbf66",
   "metadata": {
    "colab": {
     "base_uri": "https://localhost:8080/",
     "height": 421
    },
    "executionInfo": {
     "elapsed": 406,
     "status": "ok",
     "timestamp": 1627717345067,
     "user": {
      "displayName": "Jaspal Singh Jhass",
      "photoUrl": "",
      "userId": "14870781376371902378"
     },
     "user_tz": -330
    },
    "id": "U4I2oYzp817p",
    "outputId": "eb11372d-8691-4758-d6d0-27d70ca1f790"
   },
   "outputs": [
    {
     "data": {
      "text/html": [
       "<div>\n",
       "<style scoped>\n",
       "    .dataframe tbody tr th:only-of-type {\n",
       "        vertical-align: middle;\n",
       "    }\n",
       "\n",
       "    .dataframe tbody tr th {\n",
       "        vertical-align: top;\n",
       "    }\n",
       "\n",
       "    .dataframe thead th {\n",
       "        text-align: right;\n",
       "    }\n",
       "</style>\n",
       "<table border=\"1\" class=\"dataframe\">\n",
       "  <thead>\n",
       "    <tr style=\"text-align: right;\">\n",
       "      <th></th>\n",
       "      <th>Month</th>\n",
       "      <th>Passengers</th>\n",
       "      <th>month</th>\n",
       "      <th>year</th>\n",
       "      <th>Day</th>\n",
       "      <th>wkday</th>\n",
       "      <th>t</th>\n",
       "      <th>t_square</th>\n",
       "      <th>log_passengers</th>\n",
       "      <th>Apr</th>\n",
       "      <th>...</th>\n",
       "      <th>Dec</th>\n",
       "      <th>Feb</th>\n",
       "      <th>Jan</th>\n",
       "      <th>Jul</th>\n",
       "      <th>Jun</th>\n",
       "      <th>Mar</th>\n",
       "      <th>May</th>\n",
       "      <th>Nov</th>\n",
       "      <th>Oct</th>\n",
       "      <th>Sep</th>\n",
       "    </tr>\n",
       "  </thead>\n",
       "  <tbody>\n",
       "    <tr>\n",
       "      <th>84</th>\n",
       "      <td>2002-01-01</td>\n",
       "      <td>284</td>\n",
       "      <td>Jan</td>\n",
       "      <td>2002</td>\n",
       "      <td>01</td>\n",
       "      <td>Tuesday</td>\n",
       "      <td>85</td>\n",
       "      <td>7225</td>\n",
       "      <td>5.648974</td>\n",
       "      <td>0</td>\n",
       "      <td>...</td>\n",
       "      <td>0</td>\n",
       "      <td>0</td>\n",
       "      <td>1</td>\n",
       "      <td>0</td>\n",
       "      <td>0</td>\n",
       "      <td>0</td>\n",
       "      <td>0</td>\n",
       "      <td>0</td>\n",
       "      <td>0</td>\n",
       "      <td>0</td>\n",
       "    </tr>\n",
       "    <tr>\n",
       "      <th>85</th>\n",
       "      <td>2002-02-01</td>\n",
       "      <td>277</td>\n",
       "      <td>Feb</td>\n",
       "      <td>2002</td>\n",
       "      <td>01</td>\n",
       "      <td>Friday</td>\n",
       "      <td>86</td>\n",
       "      <td>7396</td>\n",
       "      <td>5.624018</td>\n",
       "      <td>0</td>\n",
       "      <td>...</td>\n",
       "      <td>0</td>\n",
       "      <td>1</td>\n",
       "      <td>0</td>\n",
       "      <td>0</td>\n",
       "      <td>0</td>\n",
       "      <td>0</td>\n",
       "      <td>0</td>\n",
       "      <td>0</td>\n",
       "      <td>0</td>\n",
       "      <td>0</td>\n",
       "    </tr>\n",
       "    <tr>\n",
       "      <th>86</th>\n",
       "      <td>2002-03-01</td>\n",
       "      <td>317</td>\n",
       "      <td>Mar</td>\n",
       "      <td>2002</td>\n",
       "      <td>01</td>\n",
       "      <td>Friday</td>\n",
       "      <td>87</td>\n",
       "      <td>7569</td>\n",
       "      <td>5.758902</td>\n",
       "      <td>0</td>\n",
       "      <td>...</td>\n",
       "      <td>0</td>\n",
       "      <td>0</td>\n",
       "      <td>0</td>\n",
       "      <td>0</td>\n",
       "      <td>0</td>\n",
       "      <td>1</td>\n",
       "      <td>0</td>\n",
       "      <td>0</td>\n",
       "      <td>0</td>\n",
       "      <td>0</td>\n",
       "    </tr>\n",
       "    <tr>\n",
       "      <th>87</th>\n",
       "      <td>2002-04-01</td>\n",
       "      <td>313</td>\n",
       "      <td>Apr</td>\n",
       "      <td>2002</td>\n",
       "      <td>01</td>\n",
       "      <td>Monday</td>\n",
       "      <td>88</td>\n",
       "      <td>7744</td>\n",
       "      <td>5.746203</td>\n",
       "      <td>1</td>\n",
       "      <td>...</td>\n",
       "      <td>0</td>\n",
       "      <td>0</td>\n",
       "      <td>0</td>\n",
       "      <td>0</td>\n",
       "      <td>0</td>\n",
       "      <td>0</td>\n",
       "      <td>0</td>\n",
       "      <td>0</td>\n",
       "      <td>0</td>\n",
       "      <td>0</td>\n",
       "    </tr>\n",
       "    <tr>\n",
       "      <th>88</th>\n",
       "      <td>2002-05-01</td>\n",
       "      <td>318</td>\n",
       "      <td>May</td>\n",
       "      <td>2002</td>\n",
       "      <td>01</td>\n",
       "      <td>Wednesday</td>\n",
       "      <td>89</td>\n",
       "      <td>7921</td>\n",
       "      <td>5.762051</td>\n",
       "      <td>0</td>\n",
       "      <td>...</td>\n",
       "      <td>0</td>\n",
       "      <td>0</td>\n",
       "      <td>0</td>\n",
       "      <td>0</td>\n",
       "      <td>0</td>\n",
       "      <td>0</td>\n",
       "      <td>1</td>\n",
       "      <td>0</td>\n",
       "      <td>0</td>\n",
       "      <td>0</td>\n",
       "    </tr>\n",
       "    <tr>\n",
       "      <th>89</th>\n",
       "      <td>2002-06-01</td>\n",
       "      <td>374</td>\n",
       "      <td>Jun</td>\n",
       "      <td>2002</td>\n",
       "      <td>01</td>\n",
       "      <td>Saturday</td>\n",
       "      <td>90</td>\n",
       "      <td>8100</td>\n",
       "      <td>5.924256</td>\n",
       "      <td>0</td>\n",
       "      <td>...</td>\n",
       "      <td>0</td>\n",
       "      <td>0</td>\n",
       "      <td>0</td>\n",
       "      <td>0</td>\n",
       "      <td>1</td>\n",
       "      <td>0</td>\n",
       "      <td>0</td>\n",
       "      <td>0</td>\n",
       "      <td>0</td>\n",
       "      <td>0</td>\n",
       "    </tr>\n",
       "    <tr>\n",
       "      <th>90</th>\n",
       "      <td>2002-07-01</td>\n",
       "      <td>413</td>\n",
       "      <td>Jul</td>\n",
       "      <td>2002</td>\n",
       "      <td>01</td>\n",
       "      <td>Monday</td>\n",
       "      <td>91</td>\n",
       "      <td>8281</td>\n",
       "      <td>6.023448</td>\n",
       "      <td>0</td>\n",
       "      <td>...</td>\n",
       "      <td>0</td>\n",
       "      <td>0</td>\n",
       "      <td>0</td>\n",
       "      <td>1</td>\n",
       "      <td>0</td>\n",
       "      <td>0</td>\n",
       "      <td>0</td>\n",
       "      <td>0</td>\n",
       "      <td>0</td>\n",
       "      <td>0</td>\n",
       "    </tr>\n",
       "    <tr>\n",
       "      <th>91</th>\n",
       "      <td>2002-08-01</td>\n",
       "      <td>405</td>\n",
       "      <td>Aug</td>\n",
       "      <td>2002</td>\n",
       "      <td>01</td>\n",
       "      <td>Thursday</td>\n",
       "      <td>92</td>\n",
       "      <td>8464</td>\n",
       "      <td>6.003887</td>\n",
       "      <td>0</td>\n",
       "      <td>...</td>\n",
       "      <td>0</td>\n",
       "      <td>0</td>\n",
       "      <td>0</td>\n",
       "      <td>0</td>\n",
       "      <td>0</td>\n",
       "      <td>0</td>\n",
       "      <td>0</td>\n",
       "      <td>0</td>\n",
       "      <td>0</td>\n",
       "      <td>0</td>\n",
       "    </tr>\n",
       "    <tr>\n",
       "      <th>92</th>\n",
       "      <td>2002-09-01</td>\n",
       "      <td>355</td>\n",
       "      <td>Sep</td>\n",
       "      <td>2002</td>\n",
       "      <td>01</td>\n",
       "      <td>Sunday</td>\n",
       "      <td>93</td>\n",
       "      <td>8649</td>\n",
       "      <td>5.872118</td>\n",
       "      <td>0</td>\n",
       "      <td>...</td>\n",
       "      <td>0</td>\n",
       "      <td>0</td>\n",
       "      <td>0</td>\n",
       "      <td>0</td>\n",
       "      <td>0</td>\n",
       "      <td>0</td>\n",
       "      <td>0</td>\n",
       "      <td>0</td>\n",
       "      <td>0</td>\n",
       "      <td>1</td>\n",
       "    </tr>\n",
       "    <tr>\n",
       "      <th>93</th>\n",
       "      <td>2002-10-01</td>\n",
       "      <td>306</td>\n",
       "      <td>Oct</td>\n",
       "      <td>2002</td>\n",
       "      <td>01</td>\n",
       "      <td>Tuesday</td>\n",
       "      <td>94</td>\n",
       "      <td>8836</td>\n",
       "      <td>5.723585</td>\n",
       "      <td>0</td>\n",
       "      <td>...</td>\n",
       "      <td>0</td>\n",
       "      <td>0</td>\n",
       "      <td>0</td>\n",
       "      <td>0</td>\n",
       "      <td>0</td>\n",
       "      <td>0</td>\n",
       "      <td>0</td>\n",
       "      <td>0</td>\n",
       "      <td>1</td>\n",
       "      <td>0</td>\n",
       "    </tr>\n",
       "    <tr>\n",
       "      <th>94</th>\n",
       "      <td>2002-11-01</td>\n",
       "      <td>271</td>\n",
       "      <td>Nov</td>\n",
       "      <td>2002</td>\n",
       "      <td>01</td>\n",
       "      <td>Friday</td>\n",
       "      <td>95</td>\n",
       "      <td>9025</td>\n",
       "      <td>5.602119</td>\n",
       "      <td>0</td>\n",
       "      <td>...</td>\n",
       "      <td>0</td>\n",
       "      <td>0</td>\n",
       "      <td>0</td>\n",
       "      <td>0</td>\n",
       "      <td>0</td>\n",
       "      <td>0</td>\n",
       "      <td>0</td>\n",
       "      <td>1</td>\n",
       "      <td>0</td>\n",
       "      <td>0</td>\n",
       "    </tr>\n",
       "    <tr>\n",
       "      <th>95</th>\n",
       "      <td>2002-12-01</td>\n",
       "      <td>306</td>\n",
       "      <td>Dec</td>\n",
       "      <td>2002</td>\n",
       "      <td>01</td>\n",
       "      <td>Sunday</td>\n",
       "      <td>96</td>\n",
       "      <td>9216</td>\n",
       "      <td>5.723585</td>\n",
       "      <td>0</td>\n",
       "      <td>...</td>\n",
       "      <td>1</td>\n",
       "      <td>0</td>\n",
       "      <td>0</td>\n",
       "      <td>0</td>\n",
       "      <td>0</td>\n",
       "      <td>0</td>\n",
       "      <td>0</td>\n",
       "      <td>0</td>\n",
       "      <td>0</td>\n",
       "      <td>0</td>\n",
       "    </tr>\n",
       "  </tbody>\n",
       "</table>\n",
       "<p>12 rows × 21 columns</p>\n",
       "</div>"
      ],
      "text/plain": [
       "        Month  Passengers month  year Day      wkday   t  t_square  \\\n",
       "84 2002-01-01         284   Jan  2002  01    Tuesday  85      7225   \n",
       "85 2002-02-01         277   Feb  2002  01     Friday  86      7396   \n",
       "86 2002-03-01         317   Mar  2002  01     Friday  87      7569   \n",
       "87 2002-04-01         313   Apr  2002  01     Monday  88      7744   \n",
       "88 2002-05-01         318   May  2002  01  Wednesday  89      7921   \n",
       "89 2002-06-01         374   Jun  2002  01   Saturday  90      8100   \n",
       "90 2002-07-01         413   Jul  2002  01     Monday  91      8281   \n",
       "91 2002-08-01         405   Aug  2002  01   Thursday  92      8464   \n",
       "92 2002-09-01         355   Sep  2002  01     Sunday  93      8649   \n",
       "93 2002-10-01         306   Oct  2002  01    Tuesday  94      8836   \n",
       "94 2002-11-01         271   Nov  2002  01     Friday  95      9025   \n",
       "95 2002-12-01         306   Dec  2002  01     Sunday  96      9216   \n",
       "\n",
       "    log_passengers  Apr  ...  Dec  Feb  Jan  Jul  Jun  Mar  May  Nov  Oct  Sep  \n",
       "84        5.648974    0  ...    0    0    1    0    0    0    0    0    0    0  \n",
       "85        5.624018    0  ...    0    1    0    0    0    0    0    0    0    0  \n",
       "86        5.758902    0  ...    0    0    0    0    0    1    0    0    0    0  \n",
       "87        5.746203    1  ...    0    0    0    0    0    0    0    0    0    0  \n",
       "88        5.762051    0  ...    0    0    0    0    0    0    1    0    0    0  \n",
       "89        5.924256    0  ...    0    0    0    0    1    0    0    0    0    0  \n",
       "90        6.023448    0  ...    0    0    0    1    0    0    0    0    0    0  \n",
       "91        6.003887    0  ...    0    0    0    0    0    0    0    0    0    0  \n",
       "92        5.872118    0  ...    0    0    0    0    0    0    0    0    0    1  \n",
       "93        5.723585    0  ...    0    0    0    0    0    0    0    0    1    0  \n",
       "94        5.602119    0  ...    0    0    0    0    0    0    0    1    0    0  \n",
       "95        5.723585    0  ...    1    0    0    0    0    0    0    0    0    0  \n",
       "\n",
       "[12 rows x 21 columns]"
      ]
     },
     "execution_count": 41,
     "metadata": {},
     "output_type": "execute_result"
    }
   ],
   "source": [
    "Test"
   ]
  },
  {
   "cell_type": "code",
   "execution_count": 42,
   "id": "d3ca90fe-184e-4186-9ec1-90fa7b65a83b",
   "metadata": {
    "colab": {
     "base_uri": "https://localhost:8080/"
    },
    "executionInfo": {
     "elapsed": 353,
     "status": "ok",
     "timestamp": 1627717372587,
     "user": {
      "displayName": "Jaspal Singh Jhass",
      "photoUrl": "",
      "userId": "14870781376371902378"
     },
     "user_tz": -330
    },
    "id": "ZmDfIiWJyRz0",
    "outputId": "e3440178-c8e8-4a53-d6b5-d70a6e6affe1"
   },
   "outputs": [
    {
     "data": {
      "text/plain": [
       "53.199236534802715"
      ]
     },
     "execution_count": 42,
     "metadata": {},
     "output_type": "execute_result"
    }
   ],
   "source": [
    "#Linear Model\n",
    "import statsmodels.formula.api as smf \n",
    "\n",
    "linear_model = smf.ols('Passengers~t',data=Train).fit()\n",
    "pred_linear =  pd.Series(linear_model.predict(pd.DataFrame(Test['t'])))\n",
    "rmse_linear = np.sqrt(np.mean((np.array(Test['Passengers'])-np.array(pred_linear))**2))\n",
    "rmse_linear"
   ]
  },
  {
   "cell_type": "code",
   "execution_count": 43,
   "id": "36e5d94f-d89f-44ec-bc87-687a40cf2bdf",
   "metadata": {
    "colab": {
     "base_uri": "https://localhost:8080/"
    },
    "executionInfo": {
     "elapsed": 382,
     "status": "ok",
     "timestamp": 1627717413102,
     "user": {
      "displayName": "Jaspal Singh Jhass",
      "photoUrl": "",
      "userId": "14870781376371902378"
     },
     "user_tz": -330
    },
    "id": "LiTBiZF3yRz0",
    "outputId": "64ffcaa2-c29e-4e06-f221-74c484e1a936"
   },
   "outputs": [
    {
     "data": {
      "text/plain": [
       "46.0573611031562"
      ]
     },
     "execution_count": 43,
     "metadata": {},
     "output_type": "execute_result"
    }
   ],
   "source": [
    "#Exponential\n",
    "Exp = smf.ols('log_passengers~t',data=Train).fit()\n",
    "pred_Exp = pd.Series(Exp.predict(pd.DataFrame(Test['t'])))\n",
    "rmse_Exp = np.sqrt(np.mean((np.array(Test['Passengers'])-np.array(np.exp(pred_Exp)))**2))\n",
    "rmse_Exp"
   ]
  },
  {
   "cell_type": "code",
   "execution_count": 44,
   "id": "1b254aea-f442-4dfc-9ddf-f65d463ad3af",
   "metadata": {
    "colab": {
     "base_uri": "https://localhost:8080/"
    },
    "executionInfo": {
     "elapsed": 369,
     "status": "ok",
     "timestamp": 1627717483684,
     "user": {
      "displayName": "Jaspal Singh Jhass",
      "photoUrl": "",
      "userId": "14870781376371902378"
     },
     "user_tz": -330
    },
    "id": "F75KzyFayRz0",
    "outputId": "df96451f-3fe1-4f58-ed36-c8739c93a1f1"
   },
   "outputs": [
    {
     "data": {
      "text/plain": [
       "48.051888979330975"
      ]
     },
     "execution_count": 44,
     "metadata": {},
     "output_type": "execute_result"
    }
   ],
   "source": [
    "#Quadratic \n",
    "Quad = smf.ols('Passengers~t+t_square',data=Train).fit()\n",
    "pred_Quad = pd.Series(Quad.predict(Test[[\"t\",\"t_square\"]]))\n",
    "rmse_Quad = np.sqrt(np.mean((np.array(Test['Passengers'])-np.array(pred_Quad))**2))\n",
    "rmse_Quad"
   ]
  },
  {
   "cell_type": "code",
   "execution_count": 45,
   "id": "7a6fdc2b-7c18-4e3d-af78-b3449854b601",
   "metadata": {
    "colab": {
     "base_uri": "https://localhost:8080/"
    },
    "executionInfo": {
     "elapsed": 338,
     "status": "ok",
     "timestamp": 1627717504813,
     "user": {
      "displayName": "Jaspal Singh Jhass",
      "photoUrl": "",
      "userId": "14870781376371902378"
     },
     "user_tz": -330
    },
    "id": "n59ZZcO1yRz1",
    "outputId": "7917f855-a1ac-434f-f96c-6108fe0ec49b"
   },
   "outputs": [
    {
     "data": {
      "text/plain": [
       "132.8197848142182"
      ]
     },
     "execution_count": 45,
     "metadata": {},
     "output_type": "execute_result"
    }
   ],
   "source": [
    "#Additive seasonality \n",
    "add_sea = smf.ols('Passengers~Jan+Feb+Mar+Apr+May+Jun+Jul+Aug+Sep+Oct+Nov',data=Train).fit()\n",
    "pred_add_sea = pd.Series(add_sea.predict(Test[['Jan','Feb','Mar','Apr','May','Jun','Jul','Aug','Sep','Oct','Nov']]))\n",
    "rmse_add_sea = np.sqrt(np.mean((np.array(Test['Passengers'])-np.array(pred_add_sea))**2))\n",
    "rmse_add_sea"
   ]
  },
  {
   "cell_type": "code",
   "execution_count": 46,
   "id": "7f3fef17-7a7b-4b77-b638-3bf87b974509",
   "metadata": {
    "colab": {
     "base_uri": "https://localhost:8080/"
    },
    "executionInfo": {
     "elapsed": 616,
     "status": "ok",
     "timestamp": 1627717534997,
     "user": {
      "displayName": "Jaspal Singh Jhass",
      "photoUrl": "",
      "userId": "14870781376371902378"
     },
     "user_tz": -330
    },
    "id": "6y64TrL0yRz1",
    "outputId": "9a959494-646d-43cc-865f-ae5bef8cf0e5"
   },
   "outputs": [
    {
     "data": {
      "text/plain": [
       "26.360817612086503"
      ]
     },
     "execution_count": 46,
     "metadata": {},
     "output_type": "execute_result"
    }
   ],
   "source": [
    "#Additive Seasonality Quadratic \n",
    "add_sea_Quad = smf.ols('Passengers~t+t_square+Jan+Feb+Mar+Apr+May+Jun+Jul+Aug+Sep+Oct+Nov',data=Train).fit()\n",
    "pred_add_sea_quad = pd.Series(add_sea_Quad.predict(Test[['Jan','Feb','Mar','Apr','May','Jun','Jul','Aug','Sep','Oct','Nov','t','t_square']]))\n",
    "rmse_add_sea_quad = np.sqrt(np.mean((np.array(Test['Passengers'])-np.array(pred_add_sea_quad))**2))\n",
    "rmse_add_sea_quad"
   ]
  },
  {
   "cell_type": "code",
   "execution_count": 47,
   "id": "6fe7ef48-582e-4f22-86f0-ddf387d641ef",
   "metadata": {
    "colab": {
     "base_uri": "https://localhost:8080/"
    },
    "executionInfo": {
     "elapsed": 337,
     "status": "ok",
     "timestamp": 1627717603373,
     "user": {
      "displayName": "Jaspal Singh Jhass",
      "photoUrl": "",
      "userId": "14870781376371902378"
     },
     "user_tz": -330
    },
    "id": "3dtGaMgRyRz1",
    "outputId": "528bb32b-ad79-4003-e381-6eb4f4545ac6"
   },
   "outputs": [
    {
     "data": {
      "text/plain": [
       "140.06320204708638"
      ]
     },
     "execution_count": 47,
     "metadata": {},
     "output_type": "execute_result"
    }
   ],
   "source": [
    "##Multiplicative Seasonality\n",
    "Mul_sea = smf.ols('log_passengers~Jan+Feb+Mar+Apr+May+Jun+Jul+Aug+Sep+Oct+Nov',data = Train).fit()\n",
    "pred_Mult_sea = pd.Series(Mul_sea.predict(Test))\n",
    "rmse_Mult_sea = np.sqrt(np.mean((np.array(Test['Passengers'])-np.array(np.exp(pred_Mult_sea)))**2))\n",
    "rmse_Mult_sea"
   ]
  },
  {
   "cell_type": "code",
   "execution_count": 48,
   "id": "ca96583e-5f4c-43de-8747-f8d3799d7005",
   "metadata": {
    "colab": {
     "base_uri": "https://localhost:8080/"
    },
    "executionInfo": {
     "elapsed": 441,
     "status": "ok",
     "timestamp": 1627717622698,
     "user": {
      "displayName": "Jaspal Singh Jhass",
      "photoUrl": "",
      "userId": "14870781376371902378"
     },
     "user_tz": -330
    },
    "id": "C6d0k74MyRz2",
    "outputId": "fe732344-0ac5-46eb-b771-46afd53c2581"
   },
   "outputs": [
    {
     "data": {
      "text/plain": [
       "10.519172544323617"
      ]
     },
     "execution_count": 48,
     "metadata": {},
     "output_type": "execute_result"
    }
   ],
   "source": [
    "#Multiplicative Additive Seasonality \n",
    "Mul_Add_sea = smf.ols('log_passengers~t+Jan+Feb+Mar+Apr+May+Jun+Jul+Aug+Sep+Oct+Nov',data = Train).fit()\n",
    "pred_Mult_add_sea = pd.Series(Mul_Add_sea.predict(Test))\n",
    "rmse_Mult_add_sea = np.sqrt(np.mean((np.array(Test['Passengers'])-np.array(np.exp(pred_Mult_add_sea)))**2))\n",
    "rmse_Mult_add_sea "
   ]
  },
  {
   "cell_type": "code",
   "execution_count": 49,
   "id": "77c7625b-3ae7-4ad5-aa9a-025b799ce624",
   "metadata": {},
   "outputs": [
    {
     "data": {
      "text/plain": [
       "325.7312105213405"
      ]
     },
     "execution_count": 49,
     "metadata": {},
     "output_type": "execute_result"
    }
   ],
   "source": [
    "#Multiplicative Seasonality Quadratic \n",
    "mult_sea_Quad = smf.ols('log_passengers~t+t_square+Jan+Feb+Mar+Apr+May+Jun+Jul+Aug+Sep+Oct+Nov',data=Train).fit()\n",
    "pred_mult_sea_quad = pd.Series(mult_sea_Quad.predict(Test[['Jan','Feb','Mar','Apr','May','Jun','Jul','Aug','Sep','Oct','Nov','t','t_square']]))\n",
    "rmse_mult_sea_quad = np.sqrt(np.mean((np.array(Test['Passengers'])-np.array(pred_mult_sea_quad))**2))\n",
    "rmse_mult_sea_quad"
   ]
  },
  {
   "cell_type": "code",
   "execution_count": 50,
   "id": "25a50092-6692-4d69-bcca-1b8a063db2cc",
   "metadata": {
    "colab": {
     "base_uri": "https://localhost:8080/",
     "height": 266
    },
    "executionInfo": {
     "elapsed": 384,
     "status": "ok",
     "timestamp": 1627717631109,
     "user": {
      "displayName": "Jaspal Singh Jhass",
      "photoUrl": "",
      "userId": "14870781376371902378"
     },
     "user_tz": -330
    },
    "id": "R6KtXA7cyRz2",
    "outputId": "dc8cfd08-0131-4305-ffbb-335c338fd3ed"
   },
   "outputs": [
    {
     "data": {
      "text/html": [
       "<div>\n",
       "<style scoped>\n",
       "    .dataframe tbody tr th:only-of-type {\n",
       "        vertical-align: middle;\n",
       "    }\n",
       "\n",
       "    .dataframe tbody tr th {\n",
       "        vertical-align: top;\n",
       "    }\n",
       "\n",
       "    .dataframe thead th {\n",
       "        text-align: right;\n",
       "    }\n",
       "</style>\n",
       "<table border=\"1\" class=\"dataframe\">\n",
       "  <thead>\n",
       "    <tr style=\"text-align: right;\">\n",
       "      <th></th>\n",
       "      <th>MODEL</th>\n",
       "      <th>RMSE_Values</th>\n",
       "    </tr>\n",
       "  </thead>\n",
       "  <tbody>\n",
       "    <tr>\n",
       "      <th>6</th>\n",
       "      <td>rmse_Mult_add_sea</td>\n",
       "      <td>10.519173</td>\n",
       "    </tr>\n",
       "    <tr>\n",
       "      <th>4</th>\n",
       "      <td>rmse_add_sea_quad</td>\n",
       "      <td>26.360818</td>\n",
       "    </tr>\n",
       "    <tr>\n",
       "      <th>1</th>\n",
       "      <td>rmse_Exp</td>\n",
       "      <td>46.057361</td>\n",
       "    </tr>\n",
       "    <tr>\n",
       "      <th>2</th>\n",
       "      <td>rmse_Quad</td>\n",
       "      <td>48.051889</td>\n",
       "    </tr>\n",
       "    <tr>\n",
       "      <th>0</th>\n",
       "      <td>rmse_linear</td>\n",
       "      <td>53.199237</td>\n",
       "    </tr>\n",
       "    <tr>\n",
       "      <th>3</th>\n",
       "      <td>rmse_add_sea</td>\n",
       "      <td>132.819785</td>\n",
       "    </tr>\n",
       "    <tr>\n",
       "      <th>5</th>\n",
       "      <td>rmse_Mult_sea</td>\n",
       "      <td>140.063202</td>\n",
       "    </tr>\n",
       "  </tbody>\n",
       "</table>\n",
       "</div>"
      ],
      "text/plain": [
       "               MODEL  RMSE_Values\n",
       "6  rmse_Mult_add_sea    10.519173\n",
       "4  rmse_add_sea_quad    26.360818\n",
       "1           rmse_Exp    46.057361\n",
       "2          rmse_Quad    48.051889\n",
       "0        rmse_linear    53.199237\n",
       "3       rmse_add_sea   132.819785\n",
       "5      rmse_Mult_sea   140.063202"
      ]
     },
     "execution_count": 50,
     "metadata": {},
     "output_type": "execute_result"
    }
   ],
   "source": [
    "#Compare the results \n",
    "datamodel = {\"MODEL\":pd.Series([\"rmse_linear\",\"rmse_Exp\",\"rmse_Quad\",\"rmse_add_sea\",\"rmse_add_sea_quad\",\"rmse_Mult_sea\",\"rmse_Mult_add_sea\"]),\"RMSE_Values\":pd.Series([rmse_linear,rmse_Exp,rmse_Quad,rmse_add_sea,rmse_add_sea_quad,rmse_Mult_sea,rmse_Mult_add_sea])}\n",
    "table_rmse=pd.DataFrame(datamodel)\n",
    "table_rmse.sort_values(['RMSE_Values'])"
   ]
  },
  {
   "cell_type": "code",
   "execution_count": 51,
   "id": "3fe7eab9-1808-4852-abaf-1cc225d92004",
   "metadata": {
    "id": "2G5b0hvSyRz3"
   },
   "outputs": [],
   "source": [
    "#Build the model on entire data set\n",
    "model_full = smf.ols('log_passengers~t+Jan+Feb+Mar+Apr+May+Jun+Jul+Aug+Sep+Oct+Nov',data=data).fit()"
   ]
  },
  {
   "cell_type": "code",
   "execution_count": 52,
   "id": "490835f6-0435-4103-9310-66206dfd56d7",
   "metadata": {
    "colab": {
     "base_uri": "https://localhost:8080/"
    },
    "executionInfo": {
     "elapsed": 9,
     "status": "ok",
     "timestamp": 1627717743948,
     "user": {
      "displayName": "Jaspal Singh Jhass",
      "photoUrl": "",
      "userId": "14870781376371902378"
     },
     "user_tz": -330
    },
    "id": "XsrbIZj7yRz4",
    "outputId": "2902a893-d8f7-47fe-f831-8fc5918227cd"
   },
   "outputs": [
    {
     "data": {
      "text/plain": [
       "0     4.692963\n",
       "1     4.703487\n",
       "2     4.846666\n",
       "3     4.813814\n",
       "4     4.807291\n",
       "        ...   \n",
       "91    5.978339\n",
       "92    5.868100\n",
       "93    5.737989\n",
       "94    5.607538\n",
       "95    5.744085\n",
       "Length: 96, dtype: float64"
      ]
     },
     "execution_count": 52,
     "metadata": {},
     "output_type": "execute_result"
    }
   ],
   "source": [
    "pred_new  = pd.Series(model_full.predict(data))\n",
    "pred_new"
   ]
  },
  {
   "cell_type": "code",
   "execution_count": 53,
   "id": "17fab983-1e34-4939-8d19-93fde1413f44",
   "metadata": {
    "id": "2Sb8mXmVyRz4"
   },
   "outputs": [],
   "source": [
    "data[\"forecasted_Passengers\"] = pd.Series(np.exp(pred_new))"
   ]
  },
  {
   "cell_type": "code",
   "execution_count": 54,
   "id": "b1757be2-6397-4420-bcf1-4d7c079fb246",
   "metadata": {
    "colab": {
     "base_uri": "https://localhost:8080/",
     "height": 285
    },
    "executionInfo": {
     "elapsed": 1020,
     "status": "ok",
     "timestamp": 1627717750853,
     "user": {
      "displayName": "Jaspal Singh Jhass",
      "photoUrl": "",
      "userId": "14870781376371902378"
     },
     "user_tz": -330
    },
    "id": "eqVDiRFByRz4",
    "outputId": "26f90b67-b831-407d-e9dd-7036e738c9d7"
   },
   "outputs": [
    {
     "data": {
      "text/plain": [
       "[<matplotlib.lines.Line2D at 0x2ac5b6e6fa0>,\n",
       " <matplotlib.lines.Line2D at 0x2ac5b6e6fd0>]"
      ]
     },
     "execution_count": 54,
     "metadata": {},
     "output_type": "execute_result"
    },
    {
     "data": {
      "image/png": "[encoded data removed]",
      "text/plain": [
       "<Figure size 1440x576 with 1 Axes>"
      ]
     },
     "metadata": {
      "needs_background": "light"
     },
     "output_type": "display_data"
    }
   ],
   "source": [
    "plt.figure(figsize = (20,8))\n",
    "\n",
    "plt.plot(data[['Passengers','forecasted_Passengers']].reset_index(drop=True))"
   ]
  },
  {
   "cell_type": "markdown",
   "id": "73cff27d-a649-47d7-82b1-1d45718b85fa",
   "metadata": {},
   "source": [
    "# Forecasting - Data Driven"
   ]
  },
  {
   "cell_type": "code",
   "execution_count": 55,
   "id": "fa73f494-dbab-4f41-a28f-1aa0adf00669",
   "metadata": {
    "colab": {
     "base_uri": "https://localhost:8080/"
    },
    "executionInfo": {
     "elapsed": 1038,
     "status": "ok",
     "timestamp": 1637854220215,
     "user": {
      "displayName": "Gabriel TJ",
      "photoUrl": "https://lh3.googleusercontent.com/a-/AOh14Ggx2MLktQ41s96GgQ-VtiyvpP7hWaTo-cBYkXng=s64",
      "userId": "17824956076998332549"
     },
     "user_tz": -330
    },
    "id": "OEpX5uvIq22Y",
    "outputId": "e740744b-c9dd-4cac-9c08-1f18a50d4973"
   },
   "outputs": [],
   "source": [
    "import statsmodels.graphics.tsaplots as tsa_plots\n",
    "from statsmodels.tsa.seasonal import seasonal_decompose\n",
    "from statsmodels.tsa.holtwinters import SimpleExpSmoothing # SES\n",
    "from statsmodels.tsa.holtwinters import Holt # Holts Exponential Smoothing\n",
    "from statsmodels.tsa.holtwinters import ExponentialSmoothing \n"
   ]
  },
  {
   "cell_type": "markdown",
   "id": "a43cf7c0-a22d-43b0-ace8-63a0afa073f4",
   "metadata": {
    "id": "aAAF5NyZq22j"
   },
   "source": [
    "#### Splitting data"
   ]
  },
  {
   "cell_type": "code",
   "execution_count": 56,
   "id": "57d27ac1-86d3-444e-9b63-0787a679d27f",
   "metadata": {
    "colab": {
     "base_uri": "https://localhost:8080/",
     "height": 423
    },
    "executionInfo": {
     "elapsed": 399,
     "status": "ok",
     "timestamp": 1631601733508,
     "user": {
      "displayName": "Gabriel TJ",
      "photoUrl": "https://lh3.googleusercontent.com/a-/AOh14Ggx2MLktQ41s96GgQ-VtiyvpP7hWaTo-cBYkXng=s64",
      "userId": "17824956076998332549"
     },
     "user_tz": -330
    },
    "id": "c6FEkte6q22j",
    "outputId": "2ccf7687-e772-48b0-8286-eade555e2a71"
   },
   "outputs": [
    {
     "data": {
      "text/html": [
       "<div>\n",
       "<style scoped>\n",
       "    .dataframe tbody tr th:only-of-type {\n",
       "        vertical-align: middle;\n",
       "    }\n",
       "\n",
       "    .dataframe tbody tr th {\n",
       "        vertical-align: top;\n",
       "    }\n",
       "\n",
       "    .dataframe thead th {\n",
       "        text-align: right;\n",
       "    }\n",
       "</style>\n",
       "<table border=\"1\" class=\"dataframe\">\n",
       "  <thead>\n",
       "    <tr style=\"text-align: right;\">\n",
       "      <th></th>\n",
       "      <th>Month</th>\n",
       "      <th>Passengers</th>\n",
       "    </tr>\n",
       "  </thead>\n",
       "  <tbody>\n",
       "    <tr>\n",
       "      <th>0</th>\n",
       "      <td>1995-01-01</td>\n",
       "      <td>112</td>\n",
       "    </tr>\n",
       "    <tr>\n",
       "      <th>1</th>\n",
       "      <td>1995-02-01</td>\n",
       "      <td>118</td>\n",
       "    </tr>\n",
       "    <tr>\n",
       "      <th>2</th>\n",
       "      <td>1995-03-01</td>\n",
       "      <td>132</td>\n",
       "    </tr>\n",
       "    <tr>\n",
       "      <th>3</th>\n",
       "      <td>1995-04-01</td>\n",
       "      <td>129</td>\n",
       "    </tr>\n",
       "    <tr>\n",
       "      <th>4</th>\n",
       "      <td>1995-05-01</td>\n",
       "      <td>121</td>\n",
       "    </tr>\n",
       "    <tr>\n",
       "      <th>...</th>\n",
       "      <td>...</td>\n",
       "      <td>...</td>\n",
       "    </tr>\n",
       "    <tr>\n",
       "      <th>79</th>\n",
       "      <td>2001-08-01</td>\n",
       "      <td>347</td>\n",
       "    </tr>\n",
       "    <tr>\n",
       "      <th>80</th>\n",
       "      <td>2001-09-01</td>\n",
       "      <td>312</td>\n",
       "    </tr>\n",
       "    <tr>\n",
       "      <th>81</th>\n",
       "      <td>2001-10-01</td>\n",
       "      <td>274</td>\n",
       "    </tr>\n",
       "    <tr>\n",
       "      <th>82</th>\n",
       "      <td>2001-11-01</td>\n",
       "      <td>237</td>\n",
       "    </tr>\n",
       "    <tr>\n",
       "      <th>83</th>\n",
       "      <td>2001-12-01</td>\n",
       "      <td>278</td>\n",
       "    </tr>\n",
       "  </tbody>\n",
       "</table>\n",
       "<p>84 rows × 2 columns</p>\n",
       "</div>"
      ],
      "text/plain": [
       "        Month  Passengers\n",
       "0  1995-01-01         112\n",
       "1  1995-02-01         118\n",
       "2  1995-03-01         132\n",
       "3  1995-04-01         129\n",
       "4  1995-05-01         121\n",
       "..        ...         ...\n",
       "79 2001-08-01         347\n",
       "80 2001-09-01         312\n",
       "81 2001-10-01         274\n",
       "82 2001-11-01         237\n",
       "83 2001-12-01         278\n",
       "\n",
       "[84 rows x 2 columns]"
      ]
     },
     "execution_count": 56,
     "metadata": {},
     "output_type": "execute_result"
    }
   ],
   "source": [
    "data = pd.read_excel('C:/Users/HP/Desktop/ExcelR/Data Science/Python/Assignments/Forecasting/Airlines+Data.xlsx')\n",
    "\n",
    "Train = data.head(84)\n",
    "Test = data.tail(12)\n",
    "Train"
   ]
  },
  {
   "cell_type": "code",
   "execution_count": 57,
   "id": "83e41031-8e0d-45ed-8b40-3617d39ad56b",
   "metadata": {},
   "outputs": [
    {
     "data": {
      "text/html": [
       "<div>\n",
       "<style scoped>\n",
       "    .dataframe tbody tr th:only-of-type {\n",
       "        vertical-align: middle;\n",
       "    }\n",
       "\n",
       "    .dataframe tbody tr th {\n",
       "        vertical-align: top;\n",
       "    }\n",
       "\n",
       "    .dataframe thead th {\n",
       "        text-align: right;\n",
       "    }\n",
       "</style>\n",
       "<table border=\"1\" class=\"dataframe\">\n",
       "  <thead>\n",
       "    <tr style=\"text-align: right;\">\n",
       "      <th></th>\n",
       "      <th>Month</th>\n",
       "      <th>Passengers</th>\n",
       "    </tr>\n",
       "  </thead>\n",
       "  <tbody>\n",
       "    <tr>\n",
       "      <th>84</th>\n",
       "      <td>2002-01-01</td>\n",
       "      <td>284</td>\n",
       "    </tr>\n",
       "    <tr>\n",
       "      <th>85</th>\n",
       "      <td>2002-02-01</td>\n",
       "      <td>277</td>\n",
       "    </tr>\n",
       "    <tr>\n",
       "      <th>86</th>\n",
       "      <td>2002-03-01</td>\n",
       "      <td>317</td>\n",
       "    </tr>\n",
       "    <tr>\n",
       "      <th>87</th>\n",
       "      <td>2002-04-01</td>\n",
       "      <td>313</td>\n",
       "    </tr>\n",
       "    <tr>\n",
       "      <th>88</th>\n",
       "      <td>2002-05-01</td>\n",
       "      <td>318</td>\n",
       "    </tr>\n",
       "    <tr>\n",
       "      <th>89</th>\n",
       "      <td>2002-06-01</td>\n",
       "      <td>374</td>\n",
       "    </tr>\n",
       "    <tr>\n",
       "      <th>90</th>\n",
       "      <td>2002-07-01</td>\n",
       "      <td>413</td>\n",
       "    </tr>\n",
       "    <tr>\n",
       "      <th>91</th>\n",
       "      <td>2002-08-01</td>\n",
       "      <td>405</td>\n",
       "    </tr>\n",
       "    <tr>\n",
       "      <th>92</th>\n",
       "      <td>2002-09-01</td>\n",
       "      <td>355</td>\n",
       "    </tr>\n",
       "    <tr>\n",
       "      <th>93</th>\n",
       "      <td>2002-10-01</td>\n",
       "      <td>306</td>\n",
       "    </tr>\n",
       "    <tr>\n",
       "      <th>94</th>\n",
       "      <td>2002-11-01</td>\n",
       "      <td>271</td>\n",
       "    </tr>\n",
       "    <tr>\n",
       "      <th>95</th>\n",
       "      <td>2002-12-01</td>\n",
       "      <td>306</td>\n",
       "    </tr>\n",
       "  </tbody>\n",
       "</table>\n",
       "</div>"
      ],
      "text/plain": [
       "        Month  Passengers\n",
       "84 2002-01-01         284\n",
       "85 2002-02-01         277\n",
       "86 2002-03-01         317\n",
       "87 2002-04-01         313\n",
       "88 2002-05-01         318\n",
       "89 2002-06-01         374\n",
       "90 2002-07-01         413\n",
       "91 2002-08-01         405\n",
       "92 2002-09-01         355\n",
       "93 2002-10-01         306\n",
       "94 2002-11-01         271\n",
       "95 2002-12-01         306"
      ]
     },
     "execution_count": 57,
     "metadata": {},
     "output_type": "execute_result"
    }
   ],
   "source": [
    "Test"
   ]
  },
  {
   "cell_type": "markdown",
   "id": "c7ff15bf-0e35-4719-a267-943f353e1a16",
   "metadata": {
    "id": "LVeUWYS-q22k"
   },
   "source": [
    "#### Moving Average "
   ]
  },
  {
   "cell_type": "code",
   "execution_count": 58,
   "id": "8ae3c9e7-430f-4f83-a85e-338a78b2d861",
   "metadata": {},
   "outputs": [
    {
     "data": {
      "text/plain": [
       "<matplotlib.legend.Legend at 0x2ac5b80cd30>"
      ]
     },
     "execution_count": 58,
     "metadata": {},
     "output_type": "execute_result"
    },
    {
     "data": {
      "image/png": "[encoded data removed]",
      "text/plain": [
       "<Figure size 1728x504 with 1 Axes>"
      ]
     },
     "metadata": {
      "needs_background": "light"
     },
     "output_type": "display_data"
    }
   ],
   "source": [
    "plt.figure(figsize=(24,7))\n",
    "data['Passengers'].plot(label=\"org\")\n",
    "data[\"Passengers\"].rolling(3).mean().plot(label=str(3))\n",
    "plt.legend(loc='best')"
   ]
  },
  {
   "cell_type": "code",
   "execution_count": 59,
   "id": "8c967119-b6f5-45e7-b16b-ff475fb9af33",
   "metadata": {
    "colab": {
     "base_uri": "https://localhost:8080/",
     "height": 364
    },
    "executionInfo": {
     "elapsed": 2602,
     "status": "ok",
     "timestamp": 1619959904633,
     "user": {
      "displayName": "Jaspal Singh Jhass",
      "photoUrl": "",
      "userId": "14870781376371902378"
     },
     "user_tz": -330
    },
    "id": "MabCIzxOq22k",
    "outputId": "85a7df13-6b28-4218-9683-ed6fb2b16fd4"
   },
   "outputs": [
    {
     "data": {
      "text/plain": [
       "<matplotlib.legend.Legend at 0x2ac5b7d88b0>"
      ]
     },
     "execution_count": 59,
     "metadata": {},
     "output_type": "execute_result"
    },
    {
     "data": {
      "image/png": "[encoded data removed]",
      "text/plain": [
       "<Figure size 1728x504 with 1 Axes>"
      ]
     },
     "metadata": {
      "needs_background": "light"
     },
     "output_type": "display_data"
    }
   ],
   "source": [
    "plt.figure(figsize=(24,7))\n",
    "data['Passengers'].plot(label=\"org\")\n",
    "for i in range(2,24,6):\n",
    "    data[\"Passengers\"].rolling(i).mean().plot(label=str(i))\n",
    "plt.legend(loc='best')"
   ]
  },
  {
   "cell_type": "markdown",
   "id": "081c5381-8456-4436-a514-55998eeb208d",
   "metadata": {
    "id": "nJ4ugYFrq22l"
   },
   "source": [
    "#### Time series decomposition plot \n"
   ]
  },
  {
   "cell_type": "code",
   "execution_count": 60,
   "id": "74ec2c67-a6c8-4ad5-b6ef-35b2e9eea360",
   "metadata": {
    "colab": {
     "base_uri": "https://localhost:8080/",
     "height": 297
    },
    "executionInfo": {
     "elapsed": 2703,
     "status": "ok",
     "timestamp": 1619960026614,
     "user": {
      "displayName": "Jaspal Singh Jhass",
      "photoUrl": "",
      "userId": "14870781376371902378"
     },
     "user_tz": -330
    },
    "id": "UYUEtQY3q22l",
    "outputId": "176d7396-a7ce-4215-d7a5-f8c5b11f0a3a"
   },
   "outputs": [
    {
     "data": {
      "image/png": "[encoded data removed]",
      "text/plain": [
       "<Figure size 432x288 with 4 Axes>"
      ]
     },
     "metadata": {
      "needs_background": "light"
     },
     "output_type": "display_data"
    }
   ],
   "source": [
    "decompose_ts_add = seasonal_decompose(data['Passengers'], period = 12)\n",
    "decompose_ts_add.plot()\n",
    "\n",
    "plt.show()"
   ]
  },
  {
   "cell_type": "markdown",
   "id": "9668c2f9-402c-493c-9916-dfa0f9c63b44",
   "metadata": {
    "id": "lf4rT2wYq22m"
   },
   "source": [
    "#### ACF plots and PACF plots\n"
   ]
  },
  {
   "cell_type": "code",
   "execution_count": 61,
   "id": "33f63a98-f562-46d9-9e4c-05d0e6bb9805",
   "metadata": {
    "colab": {
     "base_uri": "https://localhost:8080/",
     "height": 545
    },
    "executionInfo": {
     "elapsed": 1855,
     "status": "ok",
     "timestamp": 1619960080845,
     "user": {
      "displayName": "Jaspal Singh Jhass",
      "photoUrl": "",
      "userId": "14870781376371902378"
     },
     "user_tz": -330
    },
    "id": "u2vc8pU9q22m",
    "outputId": "218e9767-2fa3-42df-b7cd-00b380e55474"
   },
   "outputs": [
    {
     "data": {
      "image/png": "[encoded data removed]",
      "text/plain": [
       "<Figure size 432x288 with 1 Axes>"
      ]
     },
     "metadata": {
      "needs_background": "light"
     },
     "output_type": "display_data"
    },
    {
     "data": {
      "image/png": "[encoded data removed]",
      "text/plain": [
       "<Figure size 432x288 with 1 Axes>"
      ]
     },
     "metadata": {
      "needs_background": "light"
     },
     "output_type": "display_data"
    }
   ],
   "source": [
    "tsa_plots.plot_acf(data.Passengers,lags=12)\n",
    "tsa_plots.plot_pacf(data.Passengers,lags=12)\n",
    "plt.show()"
   ]
  },
  {
   "cell_type": "markdown",
   "id": "f10dcd76-4836-47b2-b1c9-58b66ab5a6e7",
   "metadata": {
    "id": "a09fmOCKq22n"
   },
   "source": [
    "### Evaluation Metric MAPE"
   ]
  },
  {
   "cell_type": "code",
   "execution_count": 62,
   "id": "171e4a22-6511-4025-b450-c46450a05fb4",
   "metadata": {
    "id": "2ExVt_YRq22o"
   },
   "outputs": [],
   "source": [
    "def MAPE(pred,org):\n",
    "    temp = np.abs((pred-org)/org)*100\n",
    "    return np.mean(temp)"
   ]
  },
  {
   "cell_type": "markdown",
   "id": "60df2ff2-c872-4a8b-a7a6-831b9ac9f003",
   "metadata": {
    "id": "MU7bzfWyq22o"
   },
   "source": [
    "### Simple Exponential Method\n"
   ]
  },
  {
   "cell_type": "code",
   "execution_count": 63,
   "id": "70f4c0b7-136d-44e4-903e-79408c94ea6b",
   "metadata": {
    "colab": {
     "base_uri": "https://localhost:8080/"
    },
    "executionInfo": {
     "elapsed": 841,
     "status": "ok",
     "timestamp": 1619960218351,
     "user": {
      "displayName": "Jaspal Singh Jhass",
      "photoUrl": "",
      "userId": "14870781376371902378"
     },
     "user_tz": -330
    },
    "id": "Ecn0tISTq22p",
    "outputId": "bf16bd9d-6540-4ce8-faf5-fdabcf85f43b"
   },
   "outputs": [
    {
     "data": {
      "text/plain": [
       "13.411274740513823"
      ]
     },
     "execution_count": 63,
     "metadata": {},
     "output_type": "execute_result"
    }
   ],
   "source": [
    "ses_model = SimpleExpSmoothing(Train[\"Passengers\"]).fit(smoothing_level=0.2)\n",
    "pred_ses = ses_model.predict(start = Test.index[0],end = Test.index[-1])\n",
    "MAPE(pred_ses,Test.Passengers)"
   ]
  },
  {
   "cell_type": "markdown",
   "id": "b2ed989b-24d2-4702-a34a-d8389afc98de",
   "metadata": {
    "id": "sHB4rWb4q22q"
   },
   "source": [
    "### Holt method "
   ]
  },
  {
   "cell_type": "code",
   "execution_count": 64,
   "id": "cca1017a-3732-4a9c-a230-9dca0257d79b",
   "metadata": {
    "colab": {
     "base_uri": "https://localhost:8080/"
    },
    "executionInfo": {
     "elapsed": 992,
     "status": "ok",
     "timestamp": 1619960274990,
     "user": {
      "displayName": "Jaspal Singh Jhass",
      "photoUrl": "",
      "userId": "14870781376371902378"
     },
     "user_tz": -330
    },
    "id": "LUE0PQCjq22q",
    "outputId": "1161aea1-fc1e-4925-f21b-fd8ef71e0eb4"
   },
   "outputs": [
    {
     "data": {
      "text/plain": [
       "23.53071965210049"
      ]
     },
     "execution_count": 64,
     "metadata": {},
     "output_type": "execute_result"
    }
   ],
   "source": [
    "# Holt method \n",
    "hw_model = Holt(Train[\"Passengers\"]).fit(smoothing_level=0.8, smoothing_slope=0.2)\n",
    "pred_hw = hw_model.predict(start = Test.index[0],end = Test.index[-1])\n",
    "MAPE(pred_hw,Test.Passengers) "
   ]
  },
  {
   "cell_type": "markdown",
   "id": "a77c81ce-471f-459a-bca2-db1ac14336ac",
   "metadata": {
    "id": "gf5HRe08q22r"
   },
   "source": [
    "### Holts winter exponential smoothing with additive seasonality and additive trend\n"
   ]
  },
  {
   "cell_type": "code",
   "execution_count": 65,
   "id": "95b0c24d-d103-4b74-b283-e16825f0d682",
   "metadata": {
    "colab": {
     "base_uri": "https://localhost:8080/"
    },
    "executionInfo": {
     "elapsed": 864,
     "status": "ok",
     "timestamp": 1619960379918,
     "user": {
      "displayName": "Jaspal Singh Jhass",
      "photoUrl": "",
      "userId": "14870781376371902378"
     },
     "user_tz": -330
    },
    "id": "859fXdoWq22r",
    "outputId": "7493624f-cc01-4ab4-b4e4-a4e29ab49927"
   },
   "outputs": [
    {
     "data": {
      "text/plain": [
       "5.495938663841666"
      ]
     },
     "execution_count": 65,
     "metadata": {},
     "output_type": "execute_result"
    }
   ],
   "source": [
    "hwe_model_add_add = ExponentialSmoothing(Train[\"Passengers\"],seasonal=\"add\",trend=\"add\",seasonal_periods=12).fit() #add the trend to the model\n",
    "pred_hwe_add_add = hwe_model_add_add.predict(start = Test.index[0],end = Test.index[-1])\n",
    "MAPE(pred_hwe_add_add,Test.Passengers) "
   ]
  },
  {
   "cell_type": "markdown",
   "id": "8d2272ac-85bd-425d-8351-f062f39e9b2a",
   "metadata": {
    "id": "SQNgCiy4q22r"
   },
   "source": [
    "### Holts winter exponential smoothing with multiplicative seasonality and additive trend"
   ]
  },
  {
   "cell_type": "code",
   "execution_count": 66,
   "id": "4e6ab34a-90b4-41f7-bed6-ee0cf3e5ab1e",
   "metadata": {
    "colab": {
     "base_uri": "https://localhost:8080/"
    },
    "executionInfo": {
     "elapsed": 938,
     "status": "ok",
     "timestamp": 1619960411547,
     "user": {
      "displayName": "Jaspal Singh Jhass",
      "photoUrl": "",
      "userId": "14870781376371902378"
     },
     "user_tz": -330
    },
    "id": "YHr7sH4Hq22s",
    "outputId": "1671fb10-3eed-4f56-e9c5-88fb7f917f0a"
   },
   "outputs": [
    {
     "data": {
      "text/plain": [
       "2.821237608921072"
      ]
     },
     "execution_count": 66,
     "metadata": {},
     "output_type": "execute_result"
    }
   ],
   "source": [
    "hwe_model_mul_add = ExponentialSmoothing(Train[\"Passengers\"],seasonal=\"mul\",trend=\"add\",seasonal_periods=12).fit() \n",
    "pred_hwe_mul_add = hwe_model_mul_add.predict(start = Test.index[0],end = Test.index[-1])\n",
    "MAPE(pred_hwe_mul_add,Test.Passengers)"
   ]
  },
  {
   "cell_type": "markdown",
   "id": "42bfc98f-821e-4a3e-b2ec-edf00d84763c",
   "metadata": {
    "id": "tGRkitFqq22u"
   },
   "source": [
    "### Final Model by combining train and test"
   ]
  },
  {
   "cell_type": "code",
   "execution_count": 67,
   "id": "fe97ed3c-b965-49ca-8298-bdbb7cc6b330",
   "metadata": {
    "id": "d72glDRhq22w"
   },
   "outputs": [],
   "source": [
    "hwe_model_mul_add = ExponentialSmoothing(data[\"Passengers\"],seasonal=\"mul\",trend=\"add\",seasonal_periods=12).fit()"
   ]
  },
  {
   "cell_type": "code",
   "execution_count": 68,
   "id": "bab5970e-a749-465d-a39b-6ea343bb35b5",
   "metadata": {
    "colab": {
     "base_uri": "https://localhost:8080/"
    },
    "executionInfo": {
     "elapsed": 904,
     "status": "ok",
     "timestamp": 1619960434035,
     "user": {
      "displayName": "Jaspal Singh Jhass",
      "photoUrl": "",
      "userId": "14870781376371902378"
     },
     "user_tz": -330
    },
    "id": "AvtGMU3Cq22x",
    "outputId": "2e3c4ff0-d3a8-45c9-8638-be4be7481f06"
   },
   "outputs": [
    {
     "data": {
      "text/plain": [
       "96     312.899164\n",
       "97     308.170903\n",
       "98     355.533272\n",
       "99     345.770384\n",
       "100    345.697110\n",
       "101    392.472018\n",
       "102    436.501550\n",
       "103    429.860620\n",
       "104    380.172862\n",
       "105    332.318642\n",
       "106    290.626602\n",
       "107    330.591802\n",
       "dtype: float64"
      ]
     },
     "execution_count": 68,
     "metadata": {},
     "output_type": "execute_result"
    }
   ],
   "source": [
    "#Forecasting for next 12 time periods\n",
    "hwe_model_mul_add.forecast(12)"
   ]
  },
  {
   "cell_type": "code",
   "execution_count": null,
   "id": "9c758da2-5d7a-4490-a541-627f083fea2d",
   "metadata": {},
   "outputs": [],
   "source": []
  },
  {
   "cell_type": "markdown",
   "id": "7d33c69c-4a43-43a8-8ce1-1b3bc0db0ffb",
   "metadata": {},
   "source": [
    "# Forecasting using ARIMA model"
   ]
  },
  {
   "cell_type": "code",
   "execution_count": 69,
   "id": "1adf3942-a5d6-4315-bd75-b215e7813a3f",
   "metadata": {
    "colab": {
     "base_uri": "https://localhost:8080/"
    },
    "executionInfo": {
     "elapsed": 1741,
     "status": "ok",
     "timestamp": 1627719751384,
     "user": {
      "displayName": "Jaspal Singh Jhass",
      "photoUrl": "",
      "userId": "14870781376371902378"
     },
     "user_tz": -330
    },
    "id": "pA2Im0i0q0Nj",
    "outputId": "ad710a40-8fde-4021-9afa-b7bf1c7ba1da"
   },
   "outputs": [],
   "source": [
    "# Import libraries\n",
    "import itertools\n",
    "from math import sqrt\n",
    "import statsmodels.api as sm\n",
    "from sklearn.metrics import mean_squared_error\n",
    "from statsmodels.tsa.arima.model import ARIMA, ARIMAResults"
   ]
  },
  {
   "cell_type": "code",
   "execution_count": 70,
   "id": "8d040c7a-3ba1-4d9c-9674-bed57ec8f057",
   "metadata": {
    "id": "pRjFc7hxq0Nw"
   },
   "outputs": [
    {
     "data": {
      "text/html": [
       "<div>\n",
       "<style scoped>\n",
       "    .dataframe tbody tr th:only-of-type {\n",
       "        vertical-align: middle;\n",
       "    }\n",
       "\n",
       "    .dataframe tbody tr th {\n",
       "        vertical-align: top;\n",
       "    }\n",
       "\n",
       "    .dataframe thead th {\n",
       "        text-align: right;\n",
       "    }\n",
       "</style>\n",
       "<table border=\"1\" class=\"dataframe\">\n",
       "  <thead>\n",
       "    <tr style=\"text-align: right;\">\n",
       "      <th></th>\n",
       "      <th>Passengers</th>\n",
       "    </tr>\n",
       "    <tr>\n",
       "      <th>Month</th>\n",
       "      <th></th>\n",
       "    </tr>\n",
       "  </thead>\n",
       "  <tbody>\n",
       "    <tr>\n",
       "      <th>1995-01-01</th>\n",
       "      <td>112</td>\n",
       "    </tr>\n",
       "    <tr>\n",
       "      <th>1995-02-01</th>\n",
       "      <td>118</td>\n",
       "    </tr>\n",
       "    <tr>\n",
       "      <th>1995-03-01</th>\n",
       "      <td>132</td>\n",
       "    </tr>\n",
       "    <tr>\n",
       "      <th>1995-04-01</th>\n",
       "      <td>129</td>\n",
       "    </tr>\n",
       "    <tr>\n",
       "      <th>1995-05-01</th>\n",
       "      <td>121</td>\n",
       "    </tr>\n",
       "    <tr>\n",
       "      <th>...</th>\n",
       "      <td>...</td>\n",
       "    </tr>\n",
       "    <tr>\n",
       "      <th>2002-08-01</th>\n",
       "      <td>405</td>\n",
       "    </tr>\n",
       "    <tr>\n",
       "      <th>2002-09-01</th>\n",
       "      <td>355</td>\n",
       "    </tr>\n",
       "    <tr>\n",
       "      <th>2002-10-01</th>\n",
       "      <td>306</td>\n",
       "    </tr>\n",
       "    <tr>\n",
       "      <th>2002-11-01</th>\n",
       "      <td>271</td>\n",
       "    </tr>\n",
       "    <tr>\n",
       "      <th>2002-12-01</th>\n",
       "      <td>306</td>\n",
       "    </tr>\n",
       "  </tbody>\n",
       "</table>\n",
       "<p>96 rows × 1 columns</p>\n",
       "</div>"
      ],
      "text/plain": [
       "            Passengers\n",
       "Month                 \n",
       "1995-01-01         112\n",
       "1995-02-01         118\n",
       "1995-03-01         132\n",
       "1995-04-01         129\n",
       "1995-05-01         121\n",
       "...                ...\n",
       "2002-08-01         405\n",
       "2002-09-01         355\n",
       "2002-10-01         306\n",
       "2002-11-01         271\n",
       "2002-12-01         306\n",
       "\n",
       "[96 rows x 1 columns]"
      ]
     },
     "execution_count": 70,
     "metadata": {},
     "output_type": "execute_result"
    }
   ],
   "source": [
    "series = pd.read_excel('C:/Users/HP/Desktop/ExcelR/Data Science/Python/Assignments/Forecasting/Airlines+Data.xlsx', header=0, index_col=0, parse_dates=True)\n",
    "series"
   ]
  },
  {
   "cell_type": "code",
   "execution_count": 71,
   "id": "dc48a353-f84e-4810-9b12-942b50ed9510",
   "metadata": {
    "colab": {
     "base_uri": "https://localhost:8080/"
    },
    "executionInfo": {
     "elapsed": 379,
     "status": "ok",
     "timestamp": 1627719772088,
     "user": {
      "displayName": "Jaspal Singh Jhass",
      "photoUrl": "",
      "userId": "14870781376371902378"
     },
     "user_tz": -330
    },
    "id": "sofhsBmqq0N0",
    "outputId": "7a47d493-d557-4551-c5b3-92217654de9f"
   },
   "outputs": [
    {
     "name": "stdout",
     "output_type": "stream",
     "text": [
      "Dataset 84, Validation 12\n"
     ]
    }
   ],
   "source": [
    "# separate out a validation dataset\n",
    "split_point = len(series) - 12\n",
    "\n",
    "dataset, validation = series[0:split_point], series[split_point:]\n",
    "\n",
    "print('Dataset %d, Validation %d' % (len(dataset), len(validation)))\n",
    "\n",
    "dataset.to_csv('dataset.csv', header=False)\n",
    "validation.to_csv('validation.csv', header=False)"
   ]
  },
  {
   "cell_type": "markdown",
   "id": "39edd583-3667-465b-8f4b-0bd059b1aeea",
   "metadata": {
    "id": "FLSlPjffq0N1"
   },
   "source": [
    "#### Persistence/ Base model"
   ]
  },
  {
   "cell_type": "code",
   "execution_count": 72,
   "id": "1e268b5e-f89b-4258-9945-db53be66bae8",
   "metadata": {
    "id": "A8dCp9Req0N2"
   },
   "outputs": [
    {
     "data": {
      "text/plain": [
       "0\n",
       "1995-01-01    112\n",
       "1995-02-01    118\n",
       "1995-03-01    132\n",
       "1995-04-01    129\n",
       "1995-05-01    121\n",
       "             ... \n",
       "2001-08-01    347\n",
       "2001-09-01    312\n",
       "2001-10-01    274\n",
       "2001-11-01    237\n",
       "2001-12-01    278\n",
       "Name: 1, Length: 84, dtype: int64"
      ]
     },
     "execution_count": 72,
     "metadata": {},
     "output_type": "execute_result"
    }
   ],
   "source": [
    "# evaluate a persistence model\n",
    "# load data\n",
    "train = pd.read_csv('dataset.csv', header=None, index_col=0, parse_dates=True, squeeze=True)\n",
    "train"
   ]
  },
  {
   "cell_type": "code",
   "execution_count": 73,
   "id": "01161e04-c3ec-4d95-a681-b8644985b9bf",
   "metadata": {},
   "outputs": [
    {
     "data": {
      "text/plain": [
       "array([112, 118, 132, 129, 121, 135, 148, 148, 136, 119, 104, 118, 115,\n",
       "       126, 141, 135, 125, 149, 170, 170, 158, 133, 114, 140, 145, 150,\n",
       "       178, 163, 172, 178, 199, 199, 184, 162, 146, 166, 171, 180, 193,\n",
       "       181, 183, 218, 230, 242, 209, 191, 172, 194, 196, 196, 236, 235,\n",
       "       229, 243, 264, 272, 237, 211, 180, 201, 204, 188, 235, 227, 234,\n",
       "       264, 302, 293, 259, 229, 203, 229, 242, 233, 267, 269, 270, 315,\n",
       "       364, 347, 312, 274, 237, 278], dtype=int64)"
      ]
     },
     "execution_count": 73,
     "metadata": {},
     "output_type": "execute_result"
    }
   ],
   "source": [
    "# prepare data\n",
    "X = train.values\n",
    "X"
   ]
  },
  {
   "cell_type": "code",
   "execution_count": 74,
   "id": "1b2ffb91-0a85-41a2-a3fa-207986d9a2ec",
   "metadata": {},
   "outputs": [
    {
     "data": {
      "text/plain": [
       "array([112., 118., 132., 129., 121., 135., 148., 148., 136., 119., 104.,\n",
       "       118., 115., 126., 141., 135., 125., 149., 170., 170., 158., 133.,\n",
       "       114., 140., 145., 150., 178., 163., 172., 178., 199., 199., 184.,\n",
       "       162., 146., 166., 171., 180., 193., 181., 183., 218., 230., 242.,\n",
       "       209., 191., 172., 194., 196., 196., 236., 235., 229., 243., 264.,\n",
       "       272., 237., 211., 180., 201., 204., 188., 235., 227., 234., 264.,\n",
       "       302., 293., 259., 229., 203., 229., 242., 233., 267., 269., 270.,\n",
       "       315., 364., 347., 312., 274., 237., 278.], dtype=float32)"
      ]
     },
     "execution_count": 74,
     "metadata": {},
     "output_type": "execute_result"
    }
   ],
   "source": [
    "X = X.astype('float32')\n",
    "X"
   ]
  },
  {
   "cell_type": "code",
   "execution_count": 75,
   "id": "43dd4b38-f32c-4448-a1a9-17aca27b72df",
   "metadata": {},
   "outputs": [
    {
     "data": {
      "text/plain": [
       "42"
      ]
     },
     "execution_count": 75,
     "metadata": {},
     "output_type": "execute_result"
    }
   ],
   "source": [
    "train_size = int(len(X) * 0.50)\n",
    "train_size"
   ]
  },
  {
   "cell_type": "code",
   "execution_count": 76,
   "id": "7354d25e-dae1-4fc8-b6a8-210a960186c2",
   "metadata": {},
   "outputs": [],
   "source": [
    "train, test = X[0:train_size], X[train_size:]"
   ]
  },
  {
   "cell_type": "code",
   "execution_count": 77,
   "id": "bdaf271f-a484-4452-a3b9-2f35c9aafbeb",
   "metadata": {},
   "outputs": [
    {
     "data": {
      "text/plain": [
       "array([112., 118., 132., 129., 121., 135., 148., 148., 136., 119., 104.,\n",
       "       118., 115., 126., 141., 135., 125., 149., 170., 170., 158., 133.,\n",
       "       114., 140., 145., 150., 178., 163., 172., 178., 199., 199., 184.,\n",
       "       162., 146., 166., 171., 180., 193., 181., 183., 218.],\n",
       "      dtype=float32)"
      ]
     },
     "execution_count": 77,
     "metadata": {},
     "output_type": "execute_result"
    }
   ],
   "source": [
    "train"
   ]
  },
  {
   "cell_type": "code",
   "execution_count": 78,
   "id": "64cc1c8a-35ba-4643-8441-5a05b83f25f8",
   "metadata": {},
   "outputs": [
    {
     "data": {
      "text/plain": [
       "array([230., 242., 209., 191., 172., 194., 196., 196., 236., 235., 229.,\n",
       "       243., 264., 272., 237., 211., 180., 201., 204., 188., 235., 227.,\n",
       "       234., 264., 302., 293., 259., 229., 203., 229., 242., 233., 267.,\n",
       "       269., 270., 315., 364., 347., 312., 274., 237., 278.],\n",
       "      dtype=float32)"
      ]
     },
     "execution_count": 78,
     "metadata": {},
     "output_type": "execute_result"
    }
   ],
   "source": [
    "test"
   ]
  },
  {
   "cell_type": "code",
   "execution_count": 79,
   "id": "9a98262c-0c91-4fd8-a801-d44340bf7ee3",
   "metadata": {
    "colab": {
     "base_uri": "https://localhost:8080/"
    },
    "executionInfo": {
     "elapsed": 349,
     "status": "ok",
     "timestamp": 1627719790771,
     "user": {
      "displayName": "Jaspal Singh Jhass",
      "photoUrl": "",
      "userId": "14870781376371902378"
     },
     "user_tz": -330
    },
    "id": "tcJLznPJq0N2",
    "outputId": "ae61c427-c57f-4e79-f65a-8530678a84d4"
   },
   "outputs": [
    {
     "data": {
      "text/plain": [
       "[112.0,\n",
       " 118.0,\n",
       " 132.0,\n",
       " 129.0,\n",
       " 121.0,\n",
       " 135.0,\n",
       " 148.0,\n",
       " 148.0,\n",
       " 136.0,\n",
       " 119.0,\n",
       " 104.0,\n",
       " 118.0,\n",
       " 115.0,\n",
       " 126.0,\n",
       " 141.0,\n",
       " 135.0,\n",
       " 125.0,\n",
       " 149.0,\n",
       " 170.0,\n",
       " 170.0,\n",
       " 158.0,\n",
       " 133.0,\n",
       " 114.0,\n",
       " 140.0,\n",
       " 145.0,\n",
       " 150.0,\n",
       " 178.0,\n",
       " 163.0,\n",
       " 172.0,\n",
       " 178.0,\n",
       " 199.0,\n",
       " 199.0,\n",
       " 184.0,\n",
       " 162.0,\n",
       " 146.0,\n",
       " 166.0,\n",
       " 171.0,\n",
       " 180.0,\n",
       " 193.0,\n",
       " 181.0,\n",
       " 183.0,\n",
       " 218.0]"
      ]
     },
     "execution_count": 79,
     "metadata": {},
     "output_type": "execute_result"
    }
   ],
   "source": [
    "# walk-forward validation\n",
    "history = [x for x in train]\n",
    "history"
   ]
  },
  {
   "cell_type": "markdown",
   "id": "0193a304-d441-4454-9610-cbf054305ceb",
   "metadata": {},
   "source": [
    "#### Naive Predictions"
   ]
  },
  {
   "cell_type": "code",
   "execution_count": 80,
   "id": "de9b3a92-fd1b-40cb-a337-0a1cab459bbe",
   "metadata": {},
   "outputs": [
    {
     "name": "stdout",
     "output_type": "stream",
     "text": [
      ">Predicted=218.000, Expected=230.000\n",
      ">Predicted=230.000, Expected=242.000\n",
      ">Predicted=242.000, Expected=209.000\n",
      ">Predicted=209.000, Expected=191.000\n",
      ">Predicted=191.000, Expected=172.000\n",
      ">Predicted=172.000, Expected=194.000\n",
      ">Predicted=194.000, Expected=196.000\n",
      ">Predicted=196.000, Expected=196.000\n",
      ">Predicted=196.000, Expected=236.000\n",
      ">Predicted=236.000, Expected=235.000\n",
      ">Predicted=235.000, Expected=229.000\n",
      ">Predicted=229.000, Expected=243.000\n",
      ">Predicted=243.000, Expected=264.000\n",
      ">Predicted=264.000, Expected=272.000\n",
      ">Predicted=272.000, Expected=237.000\n",
      ">Predicted=237.000, Expected=211.000\n",
      ">Predicted=211.000, Expected=180.000\n",
      ">Predicted=180.000, Expected=201.000\n",
      ">Predicted=201.000, Expected=204.000\n",
      ">Predicted=204.000, Expected=188.000\n",
      ">Predicted=188.000, Expected=235.000\n",
      ">Predicted=235.000, Expected=227.000\n",
      ">Predicted=227.000, Expected=234.000\n",
      ">Predicted=234.000, Expected=264.000\n",
      ">Predicted=264.000, Expected=302.000\n",
      ">Predicted=302.000, Expected=293.000\n",
      ">Predicted=293.000, Expected=259.000\n",
      ">Predicted=259.000, Expected=229.000\n",
      ">Predicted=229.000, Expected=203.000\n",
      ">Predicted=203.000, Expected=229.000\n",
      ">Predicted=229.000, Expected=242.000\n",
      ">Predicted=242.000, Expected=233.000\n",
      ">Predicted=233.000, Expected=267.000\n",
      ">Predicted=267.000, Expected=269.000\n",
      ">Predicted=269.000, Expected=270.000\n",
      ">Predicted=270.000, Expected=315.000\n",
      ">Predicted=315.000, Expected=364.000\n",
      ">Predicted=364.000, Expected=347.000\n",
      ">Predicted=347.000, Expected=312.000\n",
      ">Predicted=312.000, Expected=274.000\n",
      ">Predicted=274.000, Expected=237.000\n",
      ">Predicted=237.000, Expected=278.000\n"
     ]
    }
   ],
   "source": [
    "predictions = list()\n",
    "\n",
    "for i in range(len(test)):\n",
    "    yhat = history[-1]\n",
    "    predictions.append(yhat)\n",
    "    \n",
    "    # observation\n",
    "    obs = test[i]\n",
    "    history.append(obs)\n",
    "    \n",
    "    print('>Predicted=%.3f, Expected=%.3f' % (yhat, obs))"
   ]
  },
  {
   "cell_type": "code",
   "execution_count": 81,
   "id": "cb7b3969-cf8e-4509-a4af-43263d125d11",
   "metadata": {},
   "outputs": [
    {
     "name": "stdout",
     "output_type": "stream",
     "text": [
      "RMSE: 26.029\n"
     ]
    }
   ],
   "source": [
    "# report performance\n",
    "rmse = sqrt(mean_squared_error(test, predictions))\n",
    "print('RMSE: %.3f' % rmse)"
   ]
  },
  {
   "cell_type": "markdown",
   "id": "5adfef3f-df4b-4d31-84d4-a039cf68b90a",
   "metadata": {
    "id": "Umm4LSEsq0N3"
   },
   "source": [
    "#### ARIMA Hyperparameters"
   ]
  },
  {
   "cell_type": "code",
   "execution_count": 82,
   "id": "84fefe34-03d1-4479-b735-3468d2fe573f",
   "metadata": {
    "id": "NrgYzQ9Dq0N3"
   },
   "outputs": [],
   "source": [
    "# grid search ARIMA parameters for a time series\n",
    "# evaluate an ARIMA model for a given order (p,d,q) and return RMSE\n",
    "\n",
    "def evaluate_arima_model(X, arima_order):\n",
    "    # prepare training dataset\n",
    "    X = X.astype('float32')\n",
    "    train_size = int(len(X) * 0.50)\n",
    "    train, test = X[0:train_size], X[train_size:]\n",
    "    history = [x for x in train]\n",
    "    \n",
    "    # make predictions\n",
    "    predictions = list()\n",
    "    for i in range(len(test)):\n",
    "        model = ARIMA(history, order = arima_order)\n",
    "        model_fit = model.fit()\n",
    "        yhat = model_fit.forecast()[0]\n",
    "        predictions.append(yhat)\n",
    "        history.append(test[i])\n",
    "    \n",
    "    # calculate out of sample error\n",
    "    rmse = sqrt(mean_squared_error(test, predictions))\n",
    "    return rmse"
   ]
  },
  {
   "cell_type": "markdown",
   "id": "b4373c3a-87e5-4583-8fcf-de05990a4cac",
   "metadata": {
    "id": "bK-ZAQi9q0N3"
   },
   "source": [
    "#### Grid search for p,d,q values"
   ]
  },
  {
   "cell_type": "code",
   "execution_count": 83,
   "id": "426ff7f4-a8e5-4059-b91f-c8e245999604",
   "metadata": {
    "id": "mJytXCinq0N4"
   },
   "outputs": [],
   "source": [
    "# evaluate combinations of p, d and q values for an ARIMA model\n",
    "\n",
    "def evaluate_models(dataset, p_values, d_values, q_values):\n",
    "    \n",
    "    dataset = dataset.astype('float32')\n",
    "    \n",
    "    best_score, best_cfg = float('inf'), None\n",
    "    \n",
    "    for p,d,q in itertools.product(p_values, d_values, q_values):\n",
    "    #for p in p_values:\n",
    "    #    for d in d_values:\n",
    "    #        for q in q_values:\n",
    "    \n",
    "                order = (p,d,q)\n",
    "                try:\n",
    "                    rmse = evaluate_arima_model(train, order)\n",
    "                    if rmse < best_score:\n",
    "                        best_score, best_cfg = rmse, order\n",
    "                    print('ARIMA%s RMSE=%.3f' % (order,rmse))\n",
    "                except:\n",
    "                    continue\n",
    "    print('Best ARIMA %s RMSE=%.3f' % (best_cfg, best_score))"
   ]
  },
  {
   "cell_type": "code",
   "execution_count": 84,
   "id": "d8cbd9e7-34db-41ee-abd2-1826e98dda9f",
   "metadata": {
    "colab": {
     "base_uri": "https://localhost:8080/"
    },
    "executionInfo": {
     "elapsed": 35937,
     "status": "ok",
     "timestamp": 1627720051802,
     "user": {
      "displayName": "Jaspal Singh Jhass",
      "photoUrl": "",
      "userId": "14870781376371902378"
     },
     "user_tz": -330
    },
    "id": "fThjJZVdq0N4",
    "outputId": "1139ce7e-dacf-4faf-e0b4-172b4a73d6c8"
   },
   "outputs": [
    {
     "data": {
      "text/plain": [
       "0\n",
       "1995-01-01    112\n",
       "1995-02-01    118\n",
       "1995-03-01    132\n",
       "1995-04-01    129\n",
       "1995-05-01    121\n",
       "             ... \n",
       "2001-08-01    347\n",
       "2001-09-01    312\n",
       "2001-10-01    274\n",
       "2001-11-01    237\n",
       "2001-12-01    278\n",
       "Name: 1, Length: 84, dtype: int64"
      ]
     },
     "execution_count": 84,
     "metadata": {},
     "output_type": "execute_result"
    }
   ],
   "source": [
    "# load dataset\n",
    "train = pd.read_csv('dataset.csv', header=None, index_col=0, parse_dates=True, squeeze=True)\n",
    "train"
   ]
  },
  {
   "cell_type": "code",
   "execution_count": 85,
   "id": "b3dd7ef8-eba2-4cfa-957c-999366544eda",
   "metadata": {},
   "outputs": [],
   "source": [
    "# evaluate parameters\n",
    "p_values = range(0, 5)\n",
    "d_values = range(0, 5)\n",
    "q_values = range(0, 5)"
   ]
  },
  {
   "cell_type": "code",
   "execution_count": 86,
   "id": "e6aa996d-b81a-4885-a144-e44e2db3ba39",
   "metadata": {},
   "outputs": [
    {
     "name": "stdout",
     "output_type": "stream",
     "text": [
      "ARIMA(0, 0, 0) RMSE=78.356\n",
      "ARIMA(0, 0, 1) RMSE=44.791\n",
      "ARIMA(0, 0, 2) RMSE=34.739\n",
      "ARIMA(0, 0, 3) RMSE=29.152\n",
      "ARIMA(0, 0, 4) RMSE=30.076\n",
      "ARIMA(0, 1, 0) RMSE=26.029\n",
      "ARIMA(0, 1, 1) RMSE=25.374\n",
      "ARIMA(0, 1, 2) RMSE=26.051\n",
      "ARIMA(0, 1, 3) RMSE=25.943\n",
      "ARIMA(0, 1, 4) RMSE=24.470\n",
      "ARIMA(0, 2, 0) RMSE=32.281\n",
      "ARIMA(0, 2, 1) RMSE=26.206\n",
      "ARIMA(0, 2, 2) RMSE=25.556\n",
      "ARIMA(0, 2, 3) RMSE=27.087\n",
      "ARIMA(0, 2, 4) RMSE=24.274\n",
      "ARIMA(0, 3, 0) RMSE=49.456\n",
      "ARIMA(0, 3, 1) RMSE=32.545\n",
      "ARIMA(0, 3, 2) RMSE=26.721\n",
      "ARIMA(0, 3, 3) RMSE=26.032\n",
      "ARIMA(0, 3, 4) RMSE=26.629\n",
      "ARIMA(0, 4, 0) RMSE=84.509\n",
      "ARIMA(0, 4, 1) RMSE=49.870\n",
      "ARIMA(0, 4, 2) RMSE=33.150\n",
      "ARIMA(0, 4, 3) RMSE=27.916\n",
      "ARIMA(0, 4, 4) RMSE=31.676\n",
      "ARIMA(1, 0, 0) RMSE=26.447\n",
      "ARIMA(1, 0, 1) RMSE=25.615\n",
      "ARIMA(1, 0, 2) RMSE=26.125\n",
      "ARIMA(1, 0, 3) RMSE=28.050\n",
      "ARIMA(1, 0, 4) RMSE=25.580\n",
      "ARIMA(1, 1, 0) RMSE=25.723\n",
      "ARIMA(1, 1, 1) RMSE=25.457\n",
      "ARIMA(1, 1, 2) RMSE=24.457\n",
      "ARIMA(1, 1, 3) RMSE=24.800\n",
      "ARIMA(1, 1, 4) RMSE=24.548\n",
      "ARIMA(1, 2, 0) RMSE=31.529\n",
      "ARIMA(1, 2, 1) RMSE=25.927\n",
      "ARIMA(1, 2, 2) RMSE=25.694\n",
      "ARIMA(1, 2, 3) RMSE=25.919\n",
      "ARIMA(1, 2, 4) RMSE=27.355\n",
      "ARIMA(1, 3, 0) RMSE=43.229\n",
      "ARIMA(1, 3, 1) RMSE=31.785\n",
      "ARIMA(1, 3, 2) RMSE=31.021\n",
      "ARIMA(1, 3, 3) RMSE=25.836\n",
      "ARIMA(1, 3, 4) RMSE=26.034\n",
      "ARIMA(1, 4, 0) RMSE=66.233\n",
      "ARIMA(1, 4, 1) RMSE=43.582\n",
      "ARIMA(1, 4, 2) RMSE=32.423\n",
      "ARIMA(1, 4, 3) RMSE=33.538\n",
      "ARIMA(1, 4, 4) RMSE=26.885\n",
      "ARIMA(2, 0, 0) RMSE=25.998\n",
      "ARIMA(2, 0, 1) RMSE=25.989\n",
      "ARIMA(2, 0, 2) RMSE=25.517\n",
      "ARIMA(2, 0, 3) RMSE=25.612\n",
      "ARIMA(2, 0, 4) RMSE=25.916\n",
      "ARIMA(2, 1, 0) RMSE=25.425\n",
      "ARIMA(2, 1, 1) RMSE=24.162\n",
      "ARIMA(2, 1, 2) RMSE=24.478\n",
      "ARIMA(2, 1, 3) RMSE=22.989\n",
      "ARIMA(2, 1, 4) RMSE=25.310\n",
      "ARIMA(2, 2, 0) RMSE=30.514\n",
      "ARIMA(2, 2, 1) RMSE=25.645\n",
      "ARIMA(2, 2, 2) RMSE=25.663\n",
      "ARIMA(2, 2, 3) RMSE=25.573\n",
      "ARIMA(2, 2, 4) RMSE=26.897\n",
      "ARIMA(2, 3, 0) RMSE=38.910\n",
      "ARIMA(2, 3, 1) RMSE=30.767\n",
      "ARIMA(2, 3, 2) RMSE=149460.447\n",
      "ARIMA(2, 3, 3) RMSE=27.406\n",
      "ARIMA(2, 3, 4) RMSE=26.764\n",
      "ARIMA(2, 4, 0) RMSE=52.743\n",
      "ARIMA(2, 4, 1) RMSE=39.241\n",
      "ARIMA(2, 4, 2) RMSE=33.461\n",
      "ARIMA(2, 4, 3) RMSE=34.278\n",
      "ARIMA(2, 4, 4) RMSE=28.698\n",
      "ARIMA(3, 0, 0) RMSE=25.825\n",
      "ARIMA(3, 0, 1) RMSE=26.053\n",
      "ARIMA(3, 0, 2) RMSE=26.596\n",
      "ARIMA(3, 0, 3) RMSE=24.300\n",
      "ARIMA(3, 0, 4) RMSE=24.831\n",
      "ARIMA(3, 1, 0) RMSE=25.593\n",
      "ARIMA(3, 1, 1) RMSE=24.417\n",
      "ARIMA(3, 1, 2) RMSE=24.622\n",
      "ARIMA(3, 1, 3) RMSE=22.472\n",
      "ARIMA(3, 1, 4) RMSE=25.159\n",
      "ARIMA(3, 2, 0) RMSE=30.734\n",
      "ARIMA(3, 2, 1) RMSE=25.773\n",
      "ARIMA(3, 2, 2) RMSE=25.239\n",
      "ARIMA(3, 2, 3) RMSE=24.061\n",
      "ARIMA(3, 2, 4) RMSE=26.761\n",
      "ARIMA(3, 3, 0) RMSE=38.825\n",
      "ARIMA(3, 3, 1) RMSE=30.968\n",
      "ARIMA(3, 3, 2) RMSE=31.342\n",
      "ARIMA(3, 3, 3) RMSE=26.182\n",
      "ARIMA(3, 3, 4) RMSE=27.815\n",
      "ARIMA(3, 4, 0) RMSE=49.948\n",
      "ARIMA(3, 4, 1) RMSE=39.186\n",
      "ARIMA(3, 4, 2) RMSE=38.346\n",
      "ARIMA(3, 4, 3) RMSE=36.766\n",
      "ARIMA(4, 0, 0) RMSE=26.048\n",
      "ARIMA(4, 0, 1) RMSE=25.673\n",
      "ARIMA(4, 0, 2) RMSE=27.116\n",
      "ARIMA(4, 0, 3) RMSE=23.759\n",
      "ARIMA(4, 0, 4) RMSE=25.819\n",
      "ARIMA(4, 1, 0) RMSE=25.167\n",
      "ARIMA(4, 1, 2) RMSE=26.157\n",
      "ARIMA(4, 1, 3) RMSE=23.833\n",
      "ARIMA(4, 1, 4) RMSE=23.818\n",
      "ARIMA(4, 2, 0) RMSE=29.262\n",
      "ARIMA(4, 2, 1) RMSE=25.192\n",
      "ARIMA(4, 2, 2) RMSE=1462749.549\n",
      "ARIMA(4, 2, 3) RMSE=25.120\n",
      "ARIMA(4, 2, 4) RMSE=23.648\n",
      "ARIMA(4, 3, 0) RMSE=36.846\n",
      "ARIMA(4, 3, 1) RMSE=29.501\n",
      "ARIMA(4, 3, 2) RMSE=29.953\n",
      "ARIMA(4, 3, 3) RMSE=26.603\n",
      "ARIMA(4, 3, 4) RMSE=28.755\n",
      "ARIMA(4, 4, 0) RMSE=47.915\n",
      "ARIMA(4, 4, 1) RMSE=37.196\n",
      "ARIMA(4, 4, 2) RMSE=51.699\n",
      "ARIMA(4, 4, 3) RMSE=37.825\n",
      "ARIMA(4, 4, 4) RMSE=31.473\n",
      "Best ARIMA (3, 1, 3) RMSE=22.472\n"
     ]
    }
   ],
   "source": [
    "warnings.filterwarnings(\"ignore\")\n",
    "evaluate_models(train.values, p_values, d_values, q_values)"
   ]
  },
  {
   "cell_type": "markdown",
   "id": "dab1cabf-1dc4-40a6-b222-0f9036f28f58",
   "metadata": {
    "id": "vbFnA7I3q0N5"
   },
   "source": [
    "#### Build Model based on the optimized values"
   ]
  },
  {
   "cell_type": "code",
   "execution_count": 87,
   "id": "2eff2b6d-cd13-4543-b11f-e43d13b1a4de",
   "metadata": {
    "id": "0uyCCxzlq0N5"
   },
   "outputs": [
    {
     "data": {
      "text/html": [
       "<div>\n",
       "<style scoped>\n",
       "    .dataframe tbody tr th:only-of-type {\n",
       "        vertical-align: middle;\n",
       "    }\n",
       "\n",
       "    .dataframe tbody tr th {\n",
       "        vertical-align: top;\n",
       "    }\n",
       "\n",
       "    .dataframe thead th {\n",
       "        text-align: right;\n",
       "    }\n",
       "</style>\n",
       "<table border=\"1\" class=\"dataframe\">\n",
       "  <thead>\n",
       "    <tr style=\"text-align: right;\">\n",
       "      <th></th>\n",
       "      <th>112</th>\n",
       "    </tr>\n",
       "    <tr>\n",
       "      <th>1995-01-01</th>\n",
       "      <th></th>\n",
       "    </tr>\n",
       "  </thead>\n",
       "  <tbody>\n",
       "    <tr>\n",
       "      <th>1995-02-01</th>\n",
       "      <td>118</td>\n",
       "    </tr>\n",
       "    <tr>\n",
       "      <th>1995-03-01</th>\n",
       "      <td>132</td>\n",
       "    </tr>\n",
       "    <tr>\n",
       "      <th>1995-04-01</th>\n",
       "      <td>129</td>\n",
       "    </tr>\n",
       "    <tr>\n",
       "      <th>1995-05-01</th>\n",
       "      <td>121</td>\n",
       "    </tr>\n",
       "    <tr>\n",
       "      <th>1995-06-01</th>\n",
       "      <td>135</td>\n",
       "    </tr>\n",
       "    <tr>\n",
       "      <th>...</th>\n",
       "      <td>...</td>\n",
       "    </tr>\n",
       "    <tr>\n",
       "      <th>2001-08-01</th>\n",
       "      <td>347</td>\n",
       "    </tr>\n",
       "    <tr>\n",
       "      <th>2001-09-01</th>\n",
       "      <td>312</td>\n",
       "    </tr>\n",
       "    <tr>\n",
       "      <th>2001-10-01</th>\n",
       "      <td>274</td>\n",
       "    </tr>\n",
       "    <tr>\n",
       "      <th>2001-11-01</th>\n",
       "      <td>237</td>\n",
       "    </tr>\n",
       "    <tr>\n",
       "      <th>2001-12-01</th>\n",
       "      <td>278</td>\n",
       "    </tr>\n",
       "  </tbody>\n",
       "</table>\n",
       "<p>83 rows × 1 columns</p>\n",
       "</div>"
      ],
      "text/plain": [
       "            112\n",
       "1995-01-01     \n",
       "1995-02-01  118\n",
       "1995-03-01  132\n",
       "1995-04-01  129\n",
       "1995-05-01  121\n",
       "1995-06-01  135\n",
       "...         ...\n",
       "2001-08-01  347\n",
       "2001-09-01  312\n",
       "2001-10-01  274\n",
       "2001-11-01  237\n",
       "2001-12-01  278\n",
       "\n",
       "[83 rows x 1 columns]"
      ]
     },
     "execution_count": 87,
     "metadata": {},
     "output_type": "execute_result"
    }
   ],
   "source": [
    "# save finalized model to file\n",
    "# load data\n",
    "train = pd.read_csv('dataset.csv', header=0, index_col=0, parse_dates=True)\n",
    "train"
   ]
  },
  {
   "cell_type": "code",
   "execution_count": 88,
   "id": "5fc03ff9-b0fb-437d-8197-ee5cb00319af",
   "metadata": {},
   "outputs": [],
   "source": [
    "# prepare data\n",
    "X = train.values\n",
    "X = X.astype('float32')"
   ]
  },
  {
   "cell_type": "code",
   "execution_count": 89,
   "id": "1c5bb78c-fbbd-463a-a3a4-a197dacf2fb2",
   "metadata": {
    "colab": {
     "base_uri": "https://localhost:8080/",
     "height": 513
    },
    "executionInfo": {
     "elapsed": 1746,
     "status": "ok",
     "timestamp": 1627720166745,
     "user": {
      "displayName": "Jaspal Singh Jhass",
      "photoUrl": "",
      "userId": "14870781376371902378"
     },
     "user_tz": -330
    },
    "id": "UOIyR-r9q0N6",
    "outputId": "083b5af7-b130-423b-ae96-1e788b87c8a7"
   },
   "outputs": [
    {
     "data": {
      "text/plain": [
       "array([285.42374404, 286.31695954, 301.74727499, 309.57890687,\n",
       "       322.47971234, 325.55138855, 328.29478114, 322.59241324,\n",
       "       316.87077509, 307.51766393, 301.28117329, 295.99168233])"
      ]
     },
     "execution_count": 89,
     "metadata": {},
     "output_type": "execute_result"
    }
   ],
   "source": [
    "# fit model\n",
    "model = ARIMA(X, order=(3,1,3))\n",
    "model_fit = model.fit()\n",
    "forecast = model_fit.forecast(steps = 12)\n",
    "forecast"
   ]
  },
  {
   "cell_type": "code",
   "execution_count": 90,
   "id": "52f6f8f9-3806-485b-80a5-31b6548c275c",
   "metadata": {},
   "outputs": [
    {
     "data": {
      "image/png": "[encoded data removed]",
      "text/plain": [
       "<Figure size 432x288 with 1 Axes>"
      ]
     },
     "execution_count": 90,
     "metadata": {},
     "output_type": "execute_result"
    },
    {
     "data": {
      "image/png": "[encoded data removed]",
      "text/plain": [
       "<Figure size 432x288 with 1 Axes>"
      ]
     },
     "metadata": {
      "needs_background": "light"
     },
     "output_type": "display_data"
    }
   ],
   "source": [
    "from statsmodels.graphics.tsaplots import plot_predict\n",
    "plot_predict(model_fit,1,96)"
   ]
  },
  {
   "cell_type": "code",
   "execution_count": 91,
   "id": "32bb83e5-ea08-4ceb-8980-c9c33184f532",
   "metadata": {
    "colab": {
     "base_uri": "https://localhost:8080/"
    },
    "executionInfo": {
     "elapsed": 15,
     "status": "ok",
     "timestamp": 1627720166747,
     "user": {
      "displayName": "Jaspal Singh Jhass",
      "photoUrl": "",
      "userId": "14870781376371902378"
     },
     "user_tz": -330
    },
    "id": "b-zFw7tEq0N6",
    "outputId": "d4f2048f-a5aa-4bf7-8a5c-320b7e636ac5"
   },
   "outputs": [
    {
     "data": {
      "text/plain": [
       "39.93720016664845"
      ]
     },
     "execution_count": 91,
     "metadata": {},
     "output_type": "execute_result"
    }
   ],
   "source": [
    "#Error on the test data\n",
    "val = pd.read_csv('validation.csv', header=None)\n",
    "rmse = sqrt(mean_squared_error(val[1], forecast))\n",
    "rmse"
   ]
  },
  {
   "cell_type": "markdown",
   "id": "5e69a66e-8228-4539-9c17-ffd9b33b22bb",
   "metadata": {
    "id": "RMMPPVWUq0N6"
   },
   "source": [
    "#### Combine train and test data and build final model"
   ]
  },
  {
   "cell_type": "code",
   "execution_count": 92,
   "id": "e34e4d87-8800-47a7-bb66-084885b812e6",
   "metadata": {
    "id": "nWOjX5XMq0N6"
   },
   "outputs": [],
   "source": [
    "# fit model\n",
    "train = pd.read_excel('C:/Users/HP/Desktop/ExcelR/Data Science/Python/Assignments/Forecasting/Airlines+Data.xlsx', header=0, index_col=0, parse_dates=True)\n",
    "\n",
    "# prepare data\n",
    "X = train.values\n",
    "X = X.astype('float32')"
   ]
  },
  {
   "cell_type": "code",
   "execution_count": 93,
   "id": "9dab02c9-929d-427f-a63f-6b4efdec88d0",
   "metadata": {
    "id": "1KGLRzCxq0N7"
   },
   "outputs": [],
   "source": [
    "model = ARIMA(X, order=(3,1,3))\n",
    "model_fit = model.fit()"
   ]
  },
  {
   "cell_type": "code",
   "execution_count": 94,
   "id": "2504ad27-dc1d-40ac-8c3f-47f1047c9f2e",
   "metadata": {
    "colab": {
     "base_uri": "https://localhost:8080/",
     "height": 513
    },
    "executionInfo": {
     "elapsed": 996,
     "status": "ok",
     "timestamp": 1627720226773,
     "user": {
      "displayName": "Jaspal Singh Jhass",
      "photoUrl": "",
      "userId": "14870781376371902378"
     },
     "user_tz": -330
    },
    "id": "uLLCuVRuq0N7",
    "outputId": "a64b19c3-4013-413d-aead-6cf6381c3514"
   },
   "outputs": [
    {
     "data": {
      "text/plain": [
       "array([327.51012764, 336.96262862, 363.39543241, 374.265118  ,\n",
       "       387.08971133, 383.22908192, 377.03496331, 360.90723462,\n",
       "       347.39966337, 333.96347429, 328.80513499, 328.90499775])"
      ]
     },
     "execution_count": 94,
     "metadata": {},
     "output_type": "execute_result"
    }
   ],
   "source": [
    "forecast=model_fit.forecast(steps=12)\n",
    "forecast"
   ]
  },
  {
   "cell_type": "code",
   "execution_count": 95,
   "id": "863f9719-7a6e-4eb3-83e1-50ae89ba23e4",
   "metadata": {},
   "outputs": [
    {
     "data": {
      "image/png": "[encoded data removed]",
      "text/plain": [
       "<Figure size 432x288 with 1 Axes>"
      ]
     },
     "execution_count": 95,
     "metadata": {},
     "output_type": "execute_result"
    },
    {
     "data": {
      "image/png": "[encoded data removed]",
      "text/plain": [
       "<Figure size 432x288 with 1 Axes>"
      ]
     },
     "metadata": {
      "needs_background": "light"
     },
     "output_type": "display_data"
    }
   ],
   "source": [
    "from statsmodels.graphics.tsaplots import plot_predict\n",
    "plot_predict(model_fit,1,96)"
   ]
  },
  {
   "cell_type": "code",
   "execution_count": null,
   "id": "9696da22-b769-4b2a-8812-3dc4f12336ca",
   "metadata": {},
   "outputs": [],
   "source": []
  }
 ],
 "metadata": {
  "kernelspec": {
   "display_name": "Python 3 (ipykernel)",
   "language": "python",
   "name": "python3"
  },
  "language_info": {
   "codemirror_mode": {
    "name": "ipython",
    "version": 3
   },
   "file_extension": ".py",
   "mimetype": "text/x-python",
   "name": "python",
   "nbconvert_exporter": "python",
   "pygments_lexer": "ipython3",
   "version": "3.9.7"
  }
 },
 "nbformat": 4,
 "nbformat_minor": 5
}
