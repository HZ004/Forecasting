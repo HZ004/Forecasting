{
 "cells": [
  {
   "cell_type": "markdown",
   "id": "f9d903e2-ce31-4869-a97d-adacfd225f7c",
   "metadata": {},
   "source": [
    "# Import Libraries and Dataset"
   ]
  },
  {
   "cell_type": "code",
   "execution_count": 1,
   "id": "4fe90d5c-46b9-453e-8729-9ca8bc04510a",
   "metadata": {
    "executionInfo": {
     "elapsed": 372,
     "status": "ok",
     "timestamp": 1637734800079,
     "user": {
      "displayName": "Gabriel TJ",
      "photoUrl": "https://lh3.googleusercontent.com/a-/AOh14Ggx2MLktQ41s96GgQ-VtiyvpP7hWaTo-cBYkXng=s64",
      "userId": "17824956076998332549"
     },
     "user_tz": -330
    },
    "id": "KVlvgWl4ziO8"
   },
   "outputs": [],
   "source": [
    "import pandas as pd\n",
    "import numpy as np\n",
    "import seaborn as sns\n",
    "from matplotlib import pyplot as plt\n",
    "import warnings\n",
    "warnings.filterwarnings(\"ignore\")\n"
   ]
  },
  {
   "cell_type": "markdown",
   "id": "c7c56671-2c8a-4db4-9837-ac372f23d25f",
   "metadata": {},
   "source": [
    "# Visualisation"
   ]
  },
  {
   "cell_type": "code",
   "execution_count": 2,
   "id": "eee5ba8e-dc18-441c-992f-0dfd33979544",
   "metadata": {},
   "outputs": [
    {
     "data": {
      "text/html": [
       "<div>\n",
       "<style scoped>\n",
       "    .dataframe tbody tr th:only-of-type {\n",
       "        vertical-align: middle;\n",
       "    }\n",
       "\n",
       "    .dataframe tbody tr th {\n",
       "        vertical-align: top;\n",
       "    }\n",
       "\n",
       "    .dataframe thead th {\n",
       "        text-align: right;\n",
       "    }\n",
       "</style>\n",
       "<table border=\"1\" class=\"dataframe\">\n",
       "  <thead>\n",
       "    <tr style=\"text-align: right;\">\n",
       "      <th></th>\n",
       "      <th>Quarter</th>\n",
       "      <th>Sales</th>\n",
       "    </tr>\n",
       "  </thead>\n",
       "  <tbody>\n",
       "    <tr>\n",
       "      <th>0</th>\n",
       "      <td>Q1_86</td>\n",
       "      <td>1734.827000</td>\n",
       "    </tr>\n",
       "    <tr>\n",
       "      <th>1</th>\n",
       "      <td>Q2_86</td>\n",
       "      <td>2244.960999</td>\n",
       "    </tr>\n",
       "    <tr>\n",
       "      <th>2</th>\n",
       "      <td>Q3_86</td>\n",
       "      <td>2533.804993</td>\n",
       "    </tr>\n",
       "    <tr>\n",
       "      <th>3</th>\n",
       "      <td>Q4_86</td>\n",
       "      <td>2154.962997</td>\n",
       "    </tr>\n",
       "    <tr>\n",
       "      <th>4</th>\n",
       "      <td>Q1_87</td>\n",
       "      <td>1547.818996</td>\n",
       "    </tr>\n",
       "  </tbody>\n",
       "</table>\n",
       "</div>"
      ],
      "text/plain": [
       "  Quarter        Sales\n",
       "0   Q1_86  1734.827000\n",
       "1   Q2_86  2244.960999\n",
       "2   Q3_86  2533.804993\n",
       "3   Q4_86  2154.962997\n",
       "4   Q1_87  1547.818996"
      ]
     },
     "execution_count": 2,
     "metadata": {},
     "output_type": "execute_result"
    }
   ],
   "source": [
    "series = pd.read_excel('C:/Users/HP/Desktop/ExcelR/Data Science/Python/Assignments/Forecasting/CocaCola_Sales_Rawdata.xlsx')\n",
    "series.head()"
   ]
  },
  {
   "cell_type": "code",
   "execution_count": 3,
   "id": "af7af40a-8cb9-4a66-94dc-d3f4fdc76518",
   "metadata": {},
   "outputs": [
    {
     "data": {
      "text/html": [
       "<div>\n",
       "<style scoped>\n",
       "    .dataframe tbody tr th:only-of-type {\n",
       "        vertical-align: middle;\n",
       "    }\n",
       "\n",
       "    .dataframe tbody tr th {\n",
       "        vertical-align: top;\n",
       "    }\n",
       "\n",
       "    .dataframe thead th {\n",
       "        text-align: right;\n",
       "    }\n",
       "</style>\n",
       "<table border=\"1\" class=\"dataframe\">\n",
       "  <thead>\n",
       "    <tr style=\"text-align: right;\">\n",
       "      <th></th>\n",
       "      <th>Sales</th>\n",
       "    </tr>\n",
       "    <tr>\n",
       "      <th>Quarter</th>\n",
       "      <th></th>\n",
       "    </tr>\n",
       "  </thead>\n",
       "  <tbody>\n",
       "    <tr>\n",
       "      <th>1986-01-01</th>\n",
       "      <td>1734.827000</td>\n",
       "    </tr>\n",
       "    <tr>\n",
       "      <th>1986-04-01</th>\n",
       "      <td>2244.960999</td>\n",
       "    </tr>\n",
       "    <tr>\n",
       "      <th>1986-07-01</th>\n",
       "      <td>2533.804993</td>\n",
       "    </tr>\n",
       "    <tr>\n",
       "      <th>1986-10-01</th>\n",
       "      <td>2154.962997</td>\n",
       "    </tr>\n",
       "    <tr>\n",
       "      <th>1987-01-01</th>\n",
       "      <td>1547.818996</td>\n",
       "    </tr>\n",
       "  </tbody>\n",
       "</table>\n",
       "</div>"
      ],
      "text/plain": [
       "                  Sales\n",
       "Quarter                \n",
       "1986-01-01  1734.827000\n",
       "1986-04-01  2244.960999\n",
       "1986-07-01  2533.804993\n",
       "1986-10-01  2154.962997\n",
       "1987-01-01  1547.818996"
      ]
     },
     "execution_count": 3,
     "metadata": {},
     "output_type": "execute_result"
    }
   ],
   "source": [
    "series[['q','year']] = series.Quarter.str.split('_', expand=True)\n",
    "series.year = series.year.astype(int) +1900\n",
    "series.q = series.q\n",
    "series.Quarter = pd.to_datetime(series['year'].astype(str) +  series['q'].astype(str))\n",
    "series = series.drop('q',axis=1)\n",
    "series = series.drop('year',axis=1)\n",
    "series.set_index('Quarter', inplace=True)\n",
    "series.head()"
   ]
  },
  {
   "cell_type": "code",
   "execution_count": 4,
   "id": "6bb74e5e-c3ed-4655-85f3-44130b780bcf",
   "metadata": {},
   "outputs": [
    {
     "name": "stdout",
     "output_type": "stream",
     "text": [
      "<class 'pandas.core.frame.DataFrame'>\n",
      "DatetimeIndex: 42 entries, 1986-01-01 to 1996-04-01\n",
      "Data columns (total 1 columns):\n",
      " #   Column  Non-Null Count  Dtype  \n",
      "---  ------  --------------  -----  \n",
      " 0   Sales   42 non-null     float64\n",
      "dtypes: float64(1)\n",
      "memory usage: 672.0 bytes\n"
     ]
    }
   ],
   "source": [
    "series.info()"
   ]
  },
  {
   "cell_type": "code",
   "execution_count": 5,
   "id": "7d18d24b-005b-47d8-a7bf-baf6a3de9d6b",
   "metadata": {},
   "outputs": [
    {
     "data": {
      "text/plain": [
       "DatetimeIndex(['1986-01-01', '1986-04-01', '1986-07-01', '1986-10-01',\n",
       "               '1987-01-01', '1987-04-01', '1987-07-01', '1987-10-01',\n",
       "               '1988-01-01', '1988-04-01', '1988-07-01', '1988-10-01',\n",
       "               '1989-01-01', '1989-04-01', '1989-07-01', '1989-10-01',\n",
       "               '1990-01-01', '1990-04-01', '1990-07-01', '1990-10-01',\n",
       "               '1991-01-01', '1991-04-01', '1991-07-01', '1991-10-01',\n",
       "               '1992-01-01', '1992-04-01', '1992-07-01', '1992-10-01',\n",
       "               '1993-01-01', '1993-04-01', '1993-07-01', '1993-10-01',\n",
       "               '1994-01-01', '1994-04-01', '1994-07-01', '1994-10-01',\n",
       "               '1995-01-01', '1995-04-01', '1995-07-01', '1995-10-01',\n",
       "               '1996-01-01', '1996-04-01'],\n",
       "              dtype='datetime64[ns]', name='Quarter', freq=None)"
      ]
     },
     "execution_count": 5,
     "metadata": {},
     "output_type": "execute_result"
    }
   ],
   "source": [
    "series.index"
   ]
  },
  {
   "cell_type": "code",
   "execution_count": 6,
   "id": "8d668908-c696-42b6-a552-a899654b5129",
   "metadata": {
    "colab": {
     "base_uri": "https://localhost:8080/",
     "height": 431
    },
    "executionInfo": {
     "elapsed": 904,
     "status": "ok",
     "timestamp": 1619954509814,
     "user": {
      "displayName": "Jaspal Singh Jhass",
      "photoUrl": "",
      "userId": "14870781376371902378"
     },
     "user_tz": -330
    },
    "id": "KN73HavB0BMy",
    "outputId": "2d0390bd-313f-41ae-bfe9-1d9e550b8ac4"
   },
   "outputs": [
    {
     "data": {
      "text/plain": [
       "[<matplotlib.lines.Line2D at 0x1dfa57d30d0>]"
      ]
     },
     "execution_count": 6,
     "metadata": {},
     "output_type": "execute_result"
    },
    {
     "data": {
      "image/png": "[encoded data removed]",
      "text/plain": [
       "<Figure size 1440x576 with 1 Axes>"
      ]
     },
     "metadata": {
      "needs_background": "light"
     },
     "output_type": "display_data"
    }
   ],
   "source": [
    "plt.figure(figsize = (20,8))\n",
    "plt.plot(series)"
   ]
  },
  {
   "cell_type": "markdown",
   "id": "11e2319b-c5b6-412c-84d2-0d3fd3c8c2f3",
   "metadata": {
    "id": "qoP-66fkziO-"
   },
   "source": [
    "#### Histogram and Density Plots"
   ]
  },
  {
   "cell_type": "code",
   "execution_count": 7,
   "id": "c878b71b-0dc6-4e1a-9e07-c37c54e17633",
   "metadata": {
    "id": "e3xdSDUc0UY8"
   },
   "outputs": [
    {
     "data": {
      "text/plain": [
       "array([[<AxesSubplot:title={'center':'Sales'}>]], dtype=object)"
      ]
     },
     "execution_count": 7,
     "metadata": {},
     "output_type": "execute_result"
    },
    {
     "data": {
      "image/png": "[encoded data removed]",
      "text/plain": [
       "<Figure size 432x288 with 1 Axes>"
      ]
     },
     "metadata": {
      "needs_background": "light"
     },
     "output_type": "display_data"
    }
   ],
   "source": [
    "# create a histogram plot\n",
    "series.hist()"
   ]
  },
  {
   "cell_type": "code",
   "execution_count": 8,
   "id": "0c3fbfd4-5e8d-41ed-8282-98f139c6c20e",
   "metadata": {
    "colab": {
     "base_uri": "https://localhost:8080/",
     "height": 265
    },
    "executionInfo": {
     "elapsed": 938,
     "status": "ok",
     "timestamp": 1619954596559,
     "user": {
      "displayName": "Jaspal Singh Jhass",
      "photoUrl": "",
      "userId": "14870781376371902378"
     },
     "user_tz": -330
    },
    "id": "Jn5Gd1K0ziO_",
    "outputId": "9e8347bb-b904-4518-fc14-26e8e68251c1"
   },
   "outputs": [
    {
     "data": {
      "text/plain": [
       "<AxesSubplot:ylabel='Density'>"
      ]
     },
     "execution_count": 8,
     "metadata": {},
     "output_type": "execute_result"
    },
    {
     "data": {
      "image/png": "[encoded data removed]",
      "text/plain": [
       "<Figure size 432x288 with 1 Axes>"
      ]
     },
     "metadata": {
      "needs_background": "light"
     },
     "output_type": "display_data"
    }
   ],
   "source": [
    "# create a density plot\n",
    "series.plot(kind='kde')"
   ]
  },
  {
   "cell_type": "markdown",
   "id": "fdfdeb2d-72a1-4372-a1be-6763df94a4b1",
   "metadata": {
    "id": "68Y3dS2EziPA"
   },
   "source": [
    "#### Box and Whisker Plots by Interval"
   ]
  },
  {
   "cell_type": "code",
   "execution_count": 9,
   "id": "dbb9023c-8513-4fe1-bb0e-4b6f083976a4",
   "metadata": {
    "colab": {
     "base_uri": "https://localhost:8080/",
     "height": 265
    },
    "executionInfo": {
     "elapsed": 947,
     "status": "ok",
     "timestamp": 1619954650945,
     "user": {
      "displayName": "Jaspal Singh Jhass",
      "photoUrl": "",
      "userId": "14870781376371902378"
     },
     "user_tz": -330
    },
    "id": "L2muRtQGziPA",
    "outputId": "b47b1fd6-d0bd-4aea-b9f7-4154df24a3bd"
   },
   "outputs": [
    {
     "data": {
      "text/plain": [
       "Quarter\n",
       "1986-01-01    1734.827000\n",
       "1986-04-01    2244.960999\n",
       "1986-07-01    2533.804993\n",
       "1986-10-01    2154.962997\n",
       "1987-01-01    1547.818996\n",
       "1987-04-01    2104.411995\n",
       "1987-07-01    2014.362999\n",
       "1987-10-01    1991.746998\n",
       "1988-01-01    1869.049999\n",
       "1988-04-01    2313.631996\n",
       "1988-07-01    2128.320000\n",
       "1988-10-01    2026.828999\n",
       "1989-01-01    1910.603996\n",
       "1989-04-01    2331.164993\n",
       "1989-07-01    2206.549995\n",
       "1989-10-01    2173.967995\n",
       "1990-01-01    2148.278000\n",
       "1990-04-01    2739.307999\n",
       "1990-07-01    2792.753998\n",
       "1990-10-01    2556.009995\n",
       "1991-01-01    2480.973999\n",
       "1991-04-01    3039.522995\n",
       "1991-07-01    3172.115997\n",
       "1991-10-01    2879.000999\n",
       "1992-01-01    2772.000000\n",
       "1992-04-01    3550.000000\n",
       "1992-07-01    3508.000000\n",
       "1992-10-01    3243.859993\n",
       "1993-01-01    3056.000000\n",
       "1993-04-01    3899.000000\n",
       "1993-07-01    3629.000000\n",
       "1993-10-01    3373.000000\n",
       "1994-01-01    3352.000000\n",
       "1994-04-01    4342.000000\n",
       "1994-07-01    4461.000000\n",
       "1994-10-01    4017.000000\n",
       "1995-01-01    3854.000000\n",
       "1995-04-01    4936.000000\n",
       "1995-07-01    4895.000000\n",
       "1995-10-01    4333.000000\n",
       "1996-01-01    4194.000000\n",
       "1996-04-01    5253.000000\n",
       "Name: Sales, dtype: float64"
      ]
     },
     "execution_count": 9,
     "metadata": {},
     "output_type": "execute_result"
    }
   ],
   "source": [
    "# create a boxplot of yearly data\n",
    "\n",
    "series = pd.read_excel('C:/Users/HP/Desktop/ExcelR/Data Science/Python/Assignments/Forecasting/CocaCola_Sales_Rawdata.xlsx')\n",
    "series[['q','year']] = series.Quarter.str.split('_', expand=True)\n",
    "series.year = series.year.astype(int) +1900\n",
    "series.q = series.q\n",
    "series.Quarter = pd.to_datetime(series['year'].astype(str) +  series['q'].astype(str))\n",
    "series = series.drop('q',axis=1)\n",
    "series = series.drop('year',axis=1)\n",
    "series.set_index('Quarter', inplace=True)\n",
    "series = series.squeeze()\n",
    "series"
   ]
  },
  {
   "cell_type": "code",
   "execution_count": 10,
   "id": "3c4a54cf-e42c-4e57-9488-90071d5f005b",
   "metadata": {},
   "outputs": [
    {
     "data": {
      "text/plain": [
       "pandas.core.series.Series"
      ]
     },
     "execution_count": 10,
     "metadata": {},
     "output_type": "execute_result"
    }
   ],
   "source": [
    "type(series)"
   ]
  },
  {
   "cell_type": "markdown",
   "id": "107f26cc-796f-4279-8b7a-6d1235ccf70b",
   "metadata": {
    "id": "GayYfbuUziPA"
   },
   "source": [
    "#### Lag plot"
   ]
  },
  {
   "cell_type": "code",
   "execution_count": 11,
   "id": "d43ecac9-25bb-4308-a324-f13f9fe02873",
   "metadata": {
    "colab": {
     "base_uri": "https://localhost:8080/",
     "height": 279
    },
    "executionInfo": {
     "elapsed": 770,
     "status": "ok",
     "timestamp": 1631615029763,
     "user": {
      "displayName": "Gabriel TJ",
      "photoUrl": "https://lh3.googleusercontent.com/a-/AOh14Ggx2MLktQ41s96GgQ-VtiyvpP7hWaTo-cBYkXng=s64",
      "userId": "17824956076998332549"
     },
     "user_tz": -330
    },
    "id": "yWfXOiYrziPB",
    "outputId": "653e2f1a-2c93-4566-fbf0-103440d70b0c"
   },
   "outputs": [
    {
     "data": {
      "text/plain": [
       "<AxesSubplot:xlabel='y(t)', ylabel='y(t + 1)'>"
      ]
     },
     "execution_count": 11,
     "metadata": {},
     "output_type": "execute_result"
    },
    {
     "data": {
      "image/png": "[encoded data removed]",
      "text/plain": [
       "<Figure size 1440x576 with 1 Axes>"
      ]
     },
     "metadata": {
      "needs_background": "light"
     },
     "output_type": "display_data"
    }
   ],
   "source": [
    "# create a scatter plot\n",
    "plt.figure(figsize = (20,8))\n",
    "pd.plotting.lag_plot(series)"
   ]
  },
  {
   "cell_type": "code",
   "execution_count": 12,
   "id": "9eecd27b-3c13-430c-bfeb-8ce7c51fbe0c",
   "metadata": {
    "colab": {
     "base_uri": "https://localhost:8080/",
     "height": 299
    },
    "executionInfo": {
     "elapsed": 374,
     "status": "ok",
     "timestamp": 1631615101050,
     "user": {
      "displayName": "Gabriel TJ",
      "photoUrl": "https://lh3.googleusercontent.com/a-/AOh14Ggx2MLktQ41s96GgQ-VtiyvpP7hWaTo-cBYkXng=s64",
      "userId": "17824956076998332549"
     },
     "user_tz": -330
    },
    "id": "CiFk5fATziPB",
    "outputId": "30c19ea0-c740-4556-8c97-648d3251f990"
   },
   "outputs": [
    {
     "data": {
      "text/plain": [
       "<Figure size 2880x720 with 0 Axes>"
      ]
     },
     "metadata": {},
     "output_type": "display_data"
    },
    {
     "data": {
      "image/png": "[encoded data removed]",
      "text/plain": [
       "<Figure size 432x288 with 1 Axes>"
      ]
     },
     "metadata": {
      "needs_background": "light"
     },
     "output_type": "display_data"
    }
   ],
   "source": [
    "# create an autocorrelation plot\n",
    "from statsmodels.graphics.tsaplots import plot_acf\n",
    "\n",
    "plt.figure(figsize = (40,10))\n",
    "plot_acf(series, lags=40)\n",
    "plt.show()"
   ]
  },
  {
   "cell_type": "markdown",
   "id": "2e007fcb-a62b-4d75-9916-c4435e325cea",
   "metadata": {},
   "source": [
    "# Sampling and Transformation"
   ]
  },
  {
   "cell_type": "markdown",
   "id": "ad15d6e7-4add-4819-9881-4f3fd3d25a50",
   "metadata": {
    "id": "GWXoCVxR1qIb"
   },
   "source": [
    "#### Upsampling Data"
   ]
  },
  {
   "cell_type": "code",
   "execution_count": 13,
   "id": "970d2acb-cf9a-476c-b71c-506cb8d537c3",
   "metadata": {
    "colab": {
     "base_uri": "https://localhost:8080/",
     "height": 328
    },
    "executionInfo": {
     "elapsed": 437,
     "status": "error",
     "timestamp": 1645593921187,
     "user": {
      "displayName": "Bhanupriya Katrapally",
      "photoUrl": "https://lh3.googleusercontent.com/a/default-user=s64",
      "userId": "12079465027970851316"
     },
     "user_tz": -330
    },
    "id": "nq0U8DWV1qIg",
    "outputId": "8fa58c9f-e768-41e0-90b4-68466fc90b36"
   },
   "outputs": [
    {
     "data": {
      "text/plain": [
       "Quarter\n",
       "1986-01-01    1734.827000\n",
       "1986-04-01    2244.960999\n",
       "1986-07-01    2533.804993\n",
       "1986-10-01    2154.962997\n",
       "1987-01-01    1547.818996\n",
       "1987-04-01    2104.411995\n",
       "1987-07-01    2014.362999\n",
       "1987-10-01    1991.746998\n",
       "1988-01-01    1869.049999\n",
       "1988-04-01    2313.631996\n",
       "1988-07-01    2128.320000\n",
       "1988-10-01    2026.828999\n",
       "1989-01-01    1910.603996\n",
       "1989-04-01    2331.164993\n",
       "1989-07-01    2206.549995\n",
       "1989-10-01    2173.967995\n",
       "1990-01-01    2148.278000\n",
       "1990-04-01    2739.307999\n",
       "1990-07-01    2792.753998\n",
       "1990-10-01    2556.009995\n",
       "1991-01-01    2480.973999\n",
       "1991-04-01    3039.522995\n",
       "1991-07-01    3172.115997\n",
       "1991-10-01    2879.000999\n",
       "1992-01-01    2772.000000\n",
       "1992-04-01    3550.000000\n",
       "1992-07-01    3508.000000\n",
       "1992-10-01    3243.859993\n",
       "1993-01-01    3056.000000\n",
       "1993-04-01    3899.000000\n",
       "1993-07-01    3629.000000\n",
       "1993-10-01    3373.000000\n",
       "1994-01-01    3352.000000\n",
       "1994-04-01    4342.000000\n",
       "1994-07-01    4461.000000\n",
       "1994-10-01    4017.000000\n",
       "1995-01-01    3854.000000\n",
       "1995-04-01    4936.000000\n",
       "1995-07-01    4895.000000\n",
       "1995-10-01    4333.000000\n",
       "1996-01-01    4194.000000\n",
       "1996-04-01    5253.000000\n",
       "Name: Sales, dtype: float64"
      ]
     },
     "execution_count": 13,
     "metadata": {},
     "output_type": "execute_result"
    }
   ],
   "source": [
    "series = pd.read_excel('C:/Users/HP/Desktop/ExcelR/Data Science/Python/Assignments/Forecasting/CocaCola_Sales_Rawdata.xlsx')\n",
    "series[['q','year']] = series.Quarter.str.split('_', expand=True)\n",
    "series.year = series.year.astype(int) +1900\n",
    "series.q = series.q\n",
    "series.Quarter = pd.to_datetime(series['year'].astype(str) +  series['q'].astype(str))\n",
    "series = series.drop('q',axis=1)\n",
    "series = series.drop('year',axis=1)\n",
    "series.set_index('Quarter', inplace=True,)\n",
    "series = series.squeeze()\n",
    "series"
   ]
  },
  {
   "cell_type": "code",
   "execution_count": 14,
   "id": "80be7dcb-fcb4-4e6d-b987-39edafe59fa1",
   "metadata": {
    "colab": {
     "base_uri": "https://localhost:8080/"
    },
    "executionInfo": {
     "elapsed": 1318,
     "status": "ok",
     "timestamp": 1619955313430,
     "user": {
      "displayName": "Jaspal Singh Jhass",
      "photoUrl": "",
      "userId": "14870781376371902378"
     },
     "user_tz": -330
    },
    "id": "tboyiIq11qIi",
    "outputId": "b71187c8-d82c-4404-c65f-6fd2835f32d3"
   },
   "outputs": [
    {
     "data": {
      "text/plain": [
       "Quarter\n",
       "1986-01-01    1734.827000\n",
       "1986-01-02            NaN\n",
       "1986-01-03            NaN\n",
       "1986-01-04            NaN\n",
       "1986-01-05            NaN\n",
       "                 ...     \n",
       "1986-06-27            NaN\n",
       "1986-06-28            NaN\n",
       "1986-06-29            NaN\n",
       "1986-06-30            NaN\n",
       "1986-07-01    2533.804993\n",
       "Freq: D, Name: Sales, Length: 182, dtype: float64"
      ]
     },
     "execution_count": 14,
     "metadata": {},
     "output_type": "execute_result"
    }
   ],
   "source": [
    "upsampled = series.resample('D').mean()\n",
    "upsampled.head(182)"
   ]
  },
  {
   "cell_type": "code",
   "execution_count": 15,
   "id": "38b37d14-1447-45d1-a822-2e6d9af9dfce",
   "metadata": {},
   "outputs": [
    {
     "data": {
      "text/plain": [
       "(3744,)"
      ]
     },
     "execution_count": 15,
     "metadata": {},
     "output_type": "execute_result"
    }
   ],
   "source": [
    "upsampled.shape"
   ]
  },
  {
   "cell_type": "markdown",
   "id": "0831d3e2-ea9b-454d-8434-41919398bfa6",
   "metadata": {
    "id": "vEAHK8kq1qIj"
   },
   "source": [
    "#### Interpolate the missing value"
   ]
  },
  {
   "cell_type": "code",
   "execution_count": 16,
   "id": "abacbbb4-9ebd-4800-a291-29360523f711",
   "metadata": {
    "colab": {
     "base_uri": "https://localhost:8080/",
     "height": 862
    },
    "executionInfo": {
     "elapsed": 1519,
     "status": "ok",
     "timestamp": 1619955520775,
     "user": {
      "displayName": "Jaspal Singh Jhass",
      "photoUrl": "",
      "userId": "14870781376371902378"
     },
     "user_tz": -330
    },
    "id": "CgumZmKw1qIk",
    "outputId": "ba7b4ab9-738c-4150-ac15-a84ddadec060"
   },
   "outputs": [
    {
     "data": {
      "text/plain": [
       "Quarter\n",
       "1986-01-01    1734.827000\n",
       "1986-01-02    1740.495155\n",
       "1986-01-03    1746.163311\n",
       "1986-01-04    1751.831466\n",
       "1986-01-05    1757.499622\n",
       "                 ...     \n",
       "1986-06-27    2521.108553\n",
       "1986-06-28    2524.282663\n",
       "1986-06-29    2527.456773\n",
       "1986-06-30    2530.630883\n",
       "1986-07-01    2533.804993\n",
       "Freq: D, Name: Sales, Length: 182, dtype: float64"
      ]
     },
     "execution_count": 16,
     "metadata": {},
     "output_type": "execute_result"
    }
   ],
   "source": [
    "interpolated = upsampled.interpolate(method='linear')\n",
    "interpolated.head(182)"
   ]
  },
  {
   "cell_type": "code",
   "execution_count": 17,
   "id": "81eb48b2-e3a6-4ad6-b3a5-22bcf1033c1c",
   "metadata": {},
   "outputs": [
    {
     "data": {
      "text/plain": [
       "<AxesSubplot:xlabel='Quarter'>"
      ]
     },
     "execution_count": 17,
     "metadata": {},
     "output_type": "execute_result"
    },
    {
     "data": {
      "image/png": "[encoded data removed]",
      "text/plain": [
       "<Figure size 432x288 with 1 Axes>"
      ]
     },
     "metadata": {
      "needs_background": "light"
     },
     "output_type": "display_data"
    }
   ],
   "source": [
    "interpolated.plot()"
   ]
  },
  {
   "cell_type": "code",
   "execution_count": 18,
   "id": "a7e4d214-c4c2-432c-a3f0-9e16b8f9bc6e",
   "metadata": {
    "colab": {
     "base_uri": "https://localhost:8080/",
     "height": 308
    },
    "executionInfo": {
     "elapsed": 1310,
     "status": "ok",
     "timestamp": 1619955529998,
     "user": {
      "displayName": "Jaspal Singh Jhass",
      "photoUrl": "",
      "userId": "14870781376371902378"
     },
     "user_tz": -330
    },
    "id": "RlW8FeIF3RfX",
    "outputId": "bc7fe3cf-c256-4af6-f558-949185175308"
   },
   "outputs": [
    {
     "data": {
      "text/plain": [
       "<AxesSubplot:xlabel='Quarter'>"
      ]
     },
     "execution_count": 18,
     "metadata": {},
     "output_type": "execute_result"
    },
    {
     "data": {
      "image/png": "[encoded data removed]",
      "text/plain": [
       "<Figure size 432x288 with 1 Axes>"
      ]
     },
     "metadata": {
      "needs_background": "light"
     },
     "output_type": "display_data"
    }
   ],
   "source": [
    "series.plot()"
   ]
  },
  {
   "cell_type": "markdown",
   "id": "12ce34df-9a41-4ff6-a48a-4d579517bb4c",
   "metadata": {
    "id": "GayYfbuUziPA"
   },
   "source": [
    "#### Lag plot"
   ]
  },
  {
   "cell_type": "code",
   "execution_count": 19,
   "id": "93bba521-22a8-4644-8f1c-389b831bdab7",
   "metadata": {
    "colab": {
     "base_uri": "https://localhost:8080/",
     "height": 279
    },
    "executionInfo": {
     "elapsed": 770,
     "status": "ok",
     "timestamp": 1631615029763,
     "user": {
      "displayName": "Gabriel TJ",
      "photoUrl": "https://lh3.googleusercontent.com/a-/AOh14Ggx2MLktQ41s96GgQ-VtiyvpP7hWaTo-cBYkXng=s64",
      "userId": "17824956076998332549"
     },
     "user_tz": -330
    },
    "id": "yWfXOiYrziPB",
    "outputId": "653e2f1a-2c93-4566-fbf0-103440d70b0c"
   },
   "outputs": [
    {
     "data": {
      "text/plain": [
       "<AxesSubplot:xlabel='y(t)', ylabel='y(t + 1)'>"
      ]
     },
     "execution_count": 19,
     "metadata": {},
     "output_type": "execute_result"
    },
    {
     "data": {
      "image/png": "[encoded data removed]",
      "text/plain": [
       "<Figure size 1440x576 with 1 Axes>"
      ]
     },
     "metadata": {
      "needs_background": "light"
     },
     "output_type": "display_data"
    }
   ],
   "source": [
    "# create a scatter plot\n",
    "plt.figure(figsize = (20,8))\n",
    "pd.plotting.lag_plot(series)"
   ]
  },
  {
   "cell_type": "markdown",
   "id": "24b8cda8-5240-42e8-9c53-acdae64f7a44",
   "metadata": {
    "id": "36LxlsOn1qIl"
   },
   "source": [
    "#### Downsampling Data"
   ]
  },
  {
   "cell_type": "code",
   "execution_count": 20,
   "id": "5fa44bdc-9ebd-4cbe-ade2-4d39dfb3ca02",
   "metadata": {
    "id": "09ItAGLy1qIn"
   },
   "outputs": [],
   "source": [
    "# downsample to Yearly intervals\n",
    "resample = series.resample('Y')\n",
    "yearly_mean_sales = resample.mean()"
   ]
  },
  {
   "cell_type": "code",
   "execution_count": 21,
   "id": "c5702d84-f936-472a-8f2e-d8281888c3f0",
   "metadata": {
    "colab": {
     "base_uri": "https://localhost:8080/",
     "height": 409
    },
    "executionInfo": {
     "elapsed": 1184,
     "status": "ok",
     "timestamp": 1619955704740,
     "user": {
      "displayName": "Jaspal Singh Jhass",
      "photoUrl": "",
      "userId": "14870781376371902378"
     },
     "user_tz": -330
    },
    "id": "ikHnri1p1qIt",
    "outputId": "7e0e81b2-a8f8-47d7-c742-401e5f0f8c18"
   },
   "outputs": [
    {
     "data": {
      "text/plain": [
       "Quarter\n",
       "1986-12-31    2167.138997\n",
       "1987-12-31    1914.585247\n",
       "1988-12-31    2084.457748\n",
       "1989-12-31    2155.571745\n",
       "1990-12-31    2559.087498\n",
       "Freq: A-DEC, Name: Sales, dtype: float64"
      ]
     },
     "execution_count": 21,
     "metadata": {},
     "output_type": "execute_result"
    }
   ],
   "source": [
    "yearly_mean_sales.head()"
   ]
  },
  {
   "cell_type": "code",
   "execution_count": 22,
   "id": "5ceae81d-3d70-4c05-864b-926d26f410f1",
   "metadata": {
    "colab": {
     "base_uri": "https://localhost:8080/",
     "height": 308
    },
    "executionInfo": {
     "elapsed": 1569,
     "status": "ok",
     "timestamp": 1619955562137,
     "user": {
      "displayName": "Jaspal Singh Jhass",
      "photoUrl": "",
      "userId": "14870781376371902378"
     },
     "user_tz": -330
    },
    "id": "XqwQAbFP4B1l",
    "outputId": "5b833361-226c-4aeb-a833-9bfc22d00a97"
   },
   "outputs": [
    {
     "data": {
      "text/plain": [
       "<AxesSubplot:xlabel='Quarter'>"
      ]
     },
     "execution_count": 22,
     "metadata": {},
     "output_type": "execute_result"
    },
    {
     "data": {
      "image/png": "[encoded data removed]",
      "text/plain": [
       "<Figure size 432x288 with 1 Axes>"
      ]
     },
     "metadata": {
      "needs_background": "light"
     },
     "output_type": "display_data"
    }
   ],
   "source": [
    "yearly_mean_sales.plot()"
   ]
  },
  {
   "cell_type": "markdown",
   "id": "678cf76d-8e3e-4cae-a8f6-09e0475426a7",
   "metadata": {
    "id": "kbWY6bad1qIo"
   },
   "source": [
    "#### Tranformations"
   ]
  },
  {
   "cell_type": "code",
   "execution_count": 23,
   "id": "6181701a-0a89-4e31-afb2-a630e6c560b5",
   "metadata": {
    "id": "zB7zgkP31qIp"
   },
   "outputs": [
    {
     "data": {
      "text/plain": [
       "Quarter\n",
       "1986-01-01    1734.827000\n",
       "1986-04-01    2244.960999\n",
       "1986-07-01    2533.804993\n",
       "1986-10-01    2154.962997\n",
       "1987-01-01    1547.818996\n",
       "1987-04-01    2104.411995\n",
       "1987-07-01    2014.362999\n",
       "1987-10-01    1991.746998\n",
       "1988-01-01    1869.049999\n",
       "1988-04-01    2313.631996\n",
       "1988-07-01    2128.320000\n",
       "1988-10-01    2026.828999\n",
       "1989-01-01    1910.603996\n",
       "1989-04-01    2331.164993\n",
       "1989-07-01    2206.549995\n",
       "1989-10-01    2173.967995\n",
       "1990-01-01    2148.278000\n",
       "1990-04-01    2739.307999\n",
       "1990-07-01    2792.753998\n",
       "1990-10-01    2556.009995\n",
       "1991-01-01    2480.973999\n",
       "1991-04-01    3039.522995\n",
       "1991-07-01    3172.115997\n",
       "1991-10-01    2879.000999\n",
       "1992-01-01    2772.000000\n",
       "1992-04-01    3550.000000\n",
       "1992-07-01    3508.000000\n",
       "1992-10-01    3243.859993\n",
       "1993-01-01    3056.000000\n",
       "1993-04-01    3899.000000\n",
       "1993-07-01    3629.000000\n",
       "1993-10-01    3373.000000\n",
       "1994-01-01    3352.000000\n",
       "1994-04-01    4342.000000\n",
       "1994-07-01    4461.000000\n",
       "1994-10-01    4017.000000\n",
       "1995-01-01    3854.000000\n",
       "1995-04-01    4936.000000\n",
       "1995-07-01    4895.000000\n",
       "1995-10-01    4333.000000\n",
       "1996-01-01    4194.000000\n",
       "1996-04-01    5253.000000\n",
       "Name: Sales, dtype: float64"
      ]
     },
     "execution_count": 23,
     "metadata": {},
     "output_type": "execute_result"
    }
   ],
   "source": [
    "# load and plot a time series\n",
    "series = pd.read_excel('C:/Users/HP/Desktop/ExcelR/Data Science/Python/Assignments/Forecasting/CocaCola_Sales_Rawdata.xlsx')\n",
    "series[['q','year']] = series.Quarter.str.split('_', expand=True)\n",
    "series.year = series.year.astype(int) +1900\n",
    "series.q = series.q\n",
    "series.Quarter = pd.to_datetime(series['year'].astype(str) +  series['q'].astype(str))\n",
    "series = series.drop('q',axis=1)\n",
    "series = series.drop('year',axis=1)\n",
    "series.set_index('Quarter', inplace=True,)\n",
    "series = series.squeeze()\n",
    "series"
   ]
  },
  {
   "cell_type": "code",
   "execution_count": 24,
   "id": "09fd5ac5-40fa-481f-bc15-7b46a6390873",
   "metadata": {
    "colab": {
     "base_uri": "https://localhost:8080/",
     "height": 265
    },
    "executionInfo": {
     "elapsed": 3824,
     "status": "ok",
     "timestamp": 1619955571468,
     "user": {
      "displayName": "Jaspal Singh Jhass",
      "photoUrl": "",
      "userId": "14870781376371902378"
     },
     "user_tz": -330
    },
    "id": "X4V_Psrb1qIp",
    "outputId": "29b41cb1-f186-4450-afdd-eba06caa480e"
   },
   "outputs": [
    {
     "data": {
      "image/png": "[encoded data removed]",
      "text/plain": [
       "<Figure size 432x288 with 2 Axes>"
      ]
     },
     "metadata": {
      "needs_background": "light"
     },
     "output_type": "display_data"
    }
   ],
   "source": [
    "# line plot\n",
    "plt.subplot(221)\n",
    "plt.plot(series)\n",
    "\n",
    "# histogram\n",
    "plt.subplot(222)\n",
    "plt.hist(series)\n",
    "\n",
    "plt.show()"
   ]
  },
  {
   "cell_type": "markdown",
   "id": "bc9c5da8-c307-491d-98e1-30264a2dfdb3",
   "metadata": {
    "id": "WSc4aE-X1qIq"
   },
   "source": [
    "#### Square Root Transform"
   ]
  },
  {
   "cell_type": "code",
   "execution_count": 25,
   "id": "68c47140-bae7-46a3-8445-ad0044712009",
   "metadata": {
    "id": "zI-P7CNC1qIr"
   },
   "outputs": [
    {
     "data": {
      "text/html": [
       "<div>\n",
       "<style scoped>\n",
       "    .dataframe tbody tr th:only-of-type {\n",
       "        vertical-align: middle;\n",
       "    }\n",
       "\n",
       "    .dataframe tbody tr th {\n",
       "        vertical-align: top;\n",
       "    }\n",
       "\n",
       "    .dataframe thead th {\n",
       "        text-align: right;\n",
       "    }\n",
       "</style>\n",
       "<table border=\"1\" class=\"dataframe\">\n",
       "  <thead>\n",
       "    <tr style=\"text-align: right;\">\n",
       "      <th></th>\n",
       "      <th>Sales</th>\n",
       "    </tr>\n",
       "  </thead>\n",
       "  <tbody>\n",
       "    <tr>\n",
       "      <th>0</th>\n",
       "      <td>41.651254</td>\n",
       "    </tr>\n",
       "    <tr>\n",
       "      <th>1</th>\n",
       "      <td>47.381019</td>\n",
       "    </tr>\n",
       "    <tr>\n",
       "      <th>2</th>\n",
       "      <td>50.336915</td>\n",
       "    </tr>\n",
       "    <tr>\n",
       "      <th>3</th>\n",
       "      <td>46.421579</td>\n",
       "    </tr>\n",
       "    <tr>\n",
       "      <th>4</th>\n",
       "      <td>39.342331</td>\n",
       "    </tr>\n",
       "    <tr>\n",
       "      <th>5</th>\n",
       "      <td>45.873871</td>\n",
       "    </tr>\n",
       "    <tr>\n",
       "      <th>6</th>\n",
       "      <td>44.881655</td>\n",
       "    </tr>\n",
       "    <tr>\n",
       "      <th>7</th>\n",
       "      <td>44.628993</td>\n",
       "    </tr>\n",
       "    <tr>\n",
       "      <th>8</th>\n",
       "      <td>43.232511</td>\n",
       "    </tr>\n",
       "    <tr>\n",
       "      <th>9</th>\n",
       "      <td>48.100229</td>\n",
       "    </tr>\n",
       "    <tr>\n",
       "      <th>10</th>\n",
       "      <td>46.133719</td>\n",
       "    </tr>\n",
       "    <tr>\n",
       "      <th>11</th>\n",
       "      <td>45.020318</td>\n",
       "    </tr>\n",
       "    <tr>\n",
       "      <th>12</th>\n",
       "      <td>43.710456</td>\n",
       "    </tr>\n",
       "    <tr>\n",
       "      <th>13</th>\n",
       "      <td>48.282139</td>\n",
       "    </tr>\n",
       "    <tr>\n",
       "      <th>14</th>\n",
       "      <td>46.973929</td>\n",
       "    </tr>\n",
       "    <tr>\n",
       "      <th>15</th>\n",
       "      <td>46.625830</td>\n",
       "    </tr>\n",
       "    <tr>\n",
       "      <th>16</th>\n",
       "      <td>46.349520</td>\n",
       "    </tr>\n",
       "    <tr>\n",
       "      <th>17</th>\n",
       "      <td>52.338399</td>\n",
       "    </tr>\n",
       "    <tr>\n",
       "      <th>18</th>\n",
       "      <td>52.846514</td>\n",
       "    </tr>\n",
       "    <tr>\n",
       "      <th>19</th>\n",
       "      <td>50.556997</td>\n",
       "    </tr>\n",
       "    <tr>\n",
       "      <th>20</th>\n",
       "      <td>49.809377</td>\n",
       "    </tr>\n",
       "    <tr>\n",
       "      <th>21</th>\n",
       "      <td>55.131869</td>\n",
       "    </tr>\n",
       "    <tr>\n",
       "      <th>22</th>\n",
       "      <td>56.321541</td>\n",
       "    </tr>\n",
       "    <tr>\n",
       "      <th>23</th>\n",
       "      <td>53.656323</td>\n",
       "    </tr>\n",
       "    <tr>\n",
       "      <th>24</th>\n",
       "      <td>52.649786</td>\n",
       "    </tr>\n",
       "    <tr>\n",
       "      <th>25</th>\n",
       "      <td>59.581876</td>\n",
       "    </tr>\n",
       "    <tr>\n",
       "      <th>26</th>\n",
       "      <td>59.228372</td>\n",
       "    </tr>\n",
       "    <tr>\n",
       "      <th>27</th>\n",
       "      <td>56.954894</td>\n",
       "    </tr>\n",
       "    <tr>\n",
       "      <th>28</th>\n",
       "      <td>55.281100</td>\n",
       "    </tr>\n",
       "    <tr>\n",
       "      <th>29</th>\n",
       "      <td>62.441973</td>\n",
       "    </tr>\n",
       "    <tr>\n",
       "      <th>30</th>\n",
       "      <td>60.241182</td>\n",
       "    </tr>\n",
       "    <tr>\n",
       "      <th>31</th>\n",
       "      <td>58.077534</td>\n",
       "    </tr>\n",
       "    <tr>\n",
       "      <th>32</th>\n",
       "      <td>57.896459</td>\n",
       "    </tr>\n",
       "    <tr>\n",
       "      <th>33</th>\n",
       "      <td>65.893854</td>\n",
       "    </tr>\n",
       "    <tr>\n",
       "      <th>34</th>\n",
       "      <td>66.790718</td>\n",
       "    </tr>\n",
       "    <tr>\n",
       "      <th>35</th>\n",
       "      <td>63.379808</td>\n",
       "    </tr>\n",
       "    <tr>\n",
       "      <th>36</th>\n",
       "      <td>62.080593</td>\n",
       "    </tr>\n",
       "    <tr>\n",
       "      <th>37</th>\n",
       "      <td>70.256672</td>\n",
       "    </tr>\n",
       "    <tr>\n",
       "      <th>38</th>\n",
       "      <td>69.964277</td>\n",
       "    </tr>\n",
       "    <tr>\n",
       "      <th>39</th>\n",
       "      <td>65.825527</td>\n",
       "    </tr>\n",
       "    <tr>\n",
       "      <th>40</th>\n",
       "      <td>64.761099</td>\n",
       "    </tr>\n",
       "    <tr>\n",
       "      <th>41</th>\n",
       "      <td>72.477583</td>\n",
       "    </tr>\n",
       "  </tbody>\n",
       "</table>\n",
       "</div>"
      ],
      "text/plain": [
       "        Sales\n",
       "0   41.651254\n",
       "1   47.381019\n",
       "2   50.336915\n",
       "3   46.421579\n",
       "4   39.342331\n",
       "5   45.873871\n",
       "6   44.881655\n",
       "7   44.628993\n",
       "8   43.232511\n",
       "9   48.100229\n",
       "10  46.133719\n",
       "11  45.020318\n",
       "12  43.710456\n",
       "13  48.282139\n",
       "14  46.973929\n",
       "15  46.625830\n",
       "16  46.349520\n",
       "17  52.338399\n",
       "18  52.846514\n",
       "19  50.556997\n",
       "20  49.809377\n",
       "21  55.131869\n",
       "22  56.321541\n",
       "23  53.656323\n",
       "24  52.649786\n",
       "25  59.581876\n",
       "26  59.228372\n",
       "27  56.954894\n",
       "28  55.281100\n",
       "29  62.441973\n",
       "30  60.241182\n",
       "31  58.077534\n",
       "32  57.896459\n",
       "33  65.893854\n",
       "34  66.790718\n",
       "35  63.379808\n",
       "36  62.080593\n",
       "37  70.256672\n",
       "38  69.964277\n",
       "39  65.825527\n",
       "40  64.761099\n",
       "41  72.477583"
      ]
     },
     "execution_count": 25,
     "metadata": {},
     "output_type": "execute_result"
    }
   ],
   "source": [
    "dataframe = pd.DataFrame(np.sqrt(series.values), columns = ['Sales'])\n",
    "dataframe"
   ]
  },
  {
   "cell_type": "code",
   "execution_count": 26,
   "id": "b2f64c9b-e752-4a83-8c30-7a0d511ec9e4",
   "metadata": {
    "colab": {
     "base_uri": "https://localhost:8080/",
     "height": 265
    },
    "executionInfo": {
     "elapsed": 1565,
     "status": "ok",
     "timestamp": 1619955587543,
     "user": {
      "displayName": "Jaspal Singh Jhass",
      "photoUrl": "",
      "userId": "14870781376371902378"
     },
     "user_tz": -330
    },
    "id": "qt0grB-b1qIr",
    "outputId": "5e2a8dda-afb9-492b-a170-7913393b576d"
   },
   "outputs": [
    {
     "data": {
      "image/png": "[encoded data removed]",
      "text/plain": [
       "<Figure size 432x288 with 2 Axes>"
      ]
     },
     "metadata": {
      "needs_background": "light"
     },
     "output_type": "display_data"
    }
   ],
   "source": [
    "# line plot\n",
    "plt.subplot(221)\n",
    "plt.plot(dataframe['Sales'])\n",
    "\n",
    "# histogram\n",
    "plt.subplot(222)\n",
    "plt.hist(dataframe['Sales'])\n",
    "plt.show()"
   ]
  },
  {
   "cell_type": "markdown",
   "id": "df4489dd-b086-45f8-b52b-66ad4214b43a",
   "metadata": {
    "id": "P2EHTyUt1qIs"
   },
   "source": [
    "#### Log Transform"
   ]
  },
  {
   "cell_type": "code",
   "execution_count": 27,
   "id": "cb479cd8-0869-419c-8f88-ac52e28319aa",
   "metadata": {
    "colab": {
     "base_uri": "https://localhost:8080/",
     "height": 268
    },
    "executionInfo": {
     "elapsed": 1603,
     "status": "ok",
     "timestamp": 1619955677318,
     "user": {
      "displayName": "Jaspal Singh Jhass",
      "photoUrl": "",
      "userId": "14870781376371902378"
     },
     "user_tz": -330
    },
    "id": "kC7d90A51qIs",
    "outputId": "8bb9d504-b719-4019-c406-3ef13551beb6"
   },
   "outputs": [
    {
     "data": {
      "text/html": [
       "<div>\n",
       "<style scoped>\n",
       "    .dataframe tbody tr th:only-of-type {\n",
       "        vertical-align: middle;\n",
       "    }\n",
       "\n",
       "    .dataframe tbody tr th {\n",
       "        vertical-align: top;\n",
       "    }\n",
       "\n",
       "    .dataframe thead th {\n",
       "        text-align: right;\n",
       "    }\n",
       "</style>\n",
       "<table border=\"1\" class=\"dataframe\">\n",
       "  <thead>\n",
       "    <tr style=\"text-align: right;\">\n",
       "      <th></th>\n",
       "      <th>Sales</th>\n",
       "    </tr>\n",
       "  </thead>\n",
       "  <tbody>\n",
       "    <tr>\n",
       "      <th>0</th>\n",
       "      <td>7.458663</td>\n",
       "    </tr>\n",
       "    <tr>\n",
       "      <th>1</th>\n",
       "      <td>7.716443</td>\n",
       "    </tr>\n",
       "    <tr>\n",
       "      <th>2</th>\n",
       "      <td>7.837477</td>\n",
       "    </tr>\n",
       "    <tr>\n",
       "      <th>3</th>\n",
       "      <td>7.675529</td>\n",
       "    </tr>\n",
       "    <tr>\n",
       "      <th>4</th>\n",
       "      <td>7.344602</td>\n",
       "    </tr>\n",
       "    <tr>\n",
       "      <th>5</th>\n",
       "      <td>7.651791</td>\n",
       "    </tr>\n",
       "    <tr>\n",
       "      <th>6</th>\n",
       "      <td>7.608058</td>\n",
       "    </tr>\n",
       "    <tr>\n",
       "      <th>7</th>\n",
       "      <td>7.596767</td>\n",
       "    </tr>\n",
       "    <tr>\n",
       "      <th>8</th>\n",
       "      <td>7.533186</td>\n",
       "    </tr>\n",
       "    <tr>\n",
       "      <th>9</th>\n",
       "      <td>7.746574</td>\n",
       "    </tr>\n",
       "    <tr>\n",
       "      <th>10</th>\n",
       "      <td>7.663088</td>\n",
       "    </tr>\n",
       "    <tr>\n",
       "      <th>11</th>\n",
       "      <td>7.614228</td>\n",
       "    </tr>\n",
       "    <tr>\n",
       "      <th>12</th>\n",
       "      <td>7.555175</td>\n",
       "    </tr>\n",
       "    <tr>\n",
       "      <th>13</th>\n",
       "      <td>7.754123</td>\n",
       "    </tr>\n",
       "    <tr>\n",
       "      <th>14</th>\n",
       "      <td>7.699185</td>\n",
       "    </tr>\n",
       "    <tr>\n",
       "      <th>15</th>\n",
       "      <td>7.684309</td>\n",
       "    </tr>\n",
       "    <tr>\n",
       "      <th>16</th>\n",
       "      <td>7.672422</td>\n",
       "    </tr>\n",
       "    <tr>\n",
       "      <th>17</th>\n",
       "      <td>7.915461</td>\n",
       "    </tr>\n",
       "    <tr>\n",
       "      <th>18</th>\n",
       "      <td>7.934783</td>\n",
       "    </tr>\n",
       "    <tr>\n",
       "      <th>19</th>\n",
       "      <td>7.846203</td>\n",
       "    </tr>\n",
       "    <tr>\n",
       "      <th>20</th>\n",
       "      <td>7.816407</td>\n",
       "    </tr>\n",
       "    <tr>\n",
       "      <th>21</th>\n",
       "      <td>8.019456</td>\n",
       "    </tr>\n",
       "    <tr>\n",
       "      <th>22</th>\n",
       "      <td>8.062154</td>\n",
       "    </tr>\n",
       "    <tr>\n",
       "      <th>23</th>\n",
       "      <td>7.965199</td>\n",
       "    </tr>\n",
       "    <tr>\n",
       "      <th>24</th>\n",
       "      <td>7.927324</td>\n",
       "    </tr>\n",
       "    <tr>\n",
       "      <th>25</th>\n",
       "      <td>8.174703</td>\n",
       "    </tr>\n",
       "    <tr>\n",
       "      <th>26</th>\n",
       "      <td>8.162801</td>\n",
       "    </tr>\n",
       "    <tr>\n",
       "      <th>27</th>\n",
       "      <td>8.084519</td>\n",
       "    </tr>\n",
       "    <tr>\n",
       "      <th>28</th>\n",
       "      <td>8.024862</td>\n",
       "    </tr>\n",
       "    <tr>\n",
       "      <th>29</th>\n",
       "      <td>8.268475</td>\n",
       "    </tr>\n",
       "    <tr>\n",
       "      <th>30</th>\n",
       "      <td>8.196712</td>\n",
       "    </tr>\n",
       "    <tr>\n",
       "      <th>31</th>\n",
       "      <td>8.123558</td>\n",
       "    </tr>\n",
       "    <tr>\n",
       "      <th>32</th>\n",
       "      <td>8.117312</td>\n",
       "    </tr>\n",
       "    <tr>\n",
       "      <th>33</th>\n",
       "      <td>8.376090</td>\n",
       "    </tr>\n",
       "    <tr>\n",
       "      <th>34</th>\n",
       "      <td>8.403128</td>\n",
       "    </tr>\n",
       "    <tr>\n",
       "      <th>35</th>\n",
       "      <td>8.298291</td>\n",
       "    </tr>\n",
       "    <tr>\n",
       "      <th>36</th>\n",
       "      <td>8.256867</td>\n",
       "    </tr>\n",
       "    <tr>\n",
       "      <th>37</th>\n",
       "      <td>8.504311</td>\n",
       "    </tr>\n",
       "    <tr>\n",
       "      <th>38</th>\n",
       "      <td>8.495970</td>\n",
       "    </tr>\n",
       "    <tr>\n",
       "      <th>39</th>\n",
       "      <td>8.374015</td>\n",
       "    </tr>\n",
       "    <tr>\n",
       "      <th>40</th>\n",
       "      <td>8.341410</td>\n",
       "    </tr>\n",
       "    <tr>\n",
       "      <th>41</th>\n",
       "      <td>8.566555</td>\n",
       "    </tr>\n",
       "  </tbody>\n",
       "</table>\n",
       "</div>"
      ],
      "text/plain": [
       "       Sales\n",
       "0   7.458663\n",
       "1   7.716443\n",
       "2   7.837477\n",
       "3   7.675529\n",
       "4   7.344602\n",
       "5   7.651791\n",
       "6   7.608058\n",
       "7   7.596767\n",
       "8   7.533186\n",
       "9   7.746574\n",
       "10  7.663088\n",
       "11  7.614228\n",
       "12  7.555175\n",
       "13  7.754123\n",
       "14  7.699185\n",
       "15  7.684309\n",
       "16  7.672422\n",
       "17  7.915461\n",
       "18  7.934783\n",
       "19  7.846203\n",
       "20  7.816407\n",
       "21  8.019456\n",
       "22  8.062154\n",
       "23  7.965199\n",
       "24  7.927324\n",
       "25  8.174703\n",
       "26  8.162801\n",
       "27  8.084519\n",
       "28  8.024862\n",
       "29  8.268475\n",
       "30  8.196712\n",
       "31  8.123558\n",
       "32  8.117312\n",
       "33  8.376090\n",
       "34  8.403128\n",
       "35  8.298291\n",
       "36  8.256867\n",
       "37  8.504311\n",
       "38  8.495970\n",
       "39  8.374015\n",
       "40  8.341410\n",
       "41  8.566555"
      ]
     },
     "execution_count": 27,
     "metadata": {},
     "output_type": "execute_result"
    }
   ],
   "source": [
    "dataframe = pd.DataFrame(np.log(series.values), columns = ['Sales'])\n",
    "dataframe"
   ]
  },
  {
   "cell_type": "code",
   "execution_count": 28,
   "id": "a2545c98-bb46-466c-8ccf-072fb5150db6",
   "metadata": {},
   "outputs": [
    {
     "data": {
      "image/png": "[encoded data removed]",
      "text/plain": [
       "<Figure size 432x288 with 2 Axes>"
      ]
     },
     "metadata": {
      "needs_background": "light"
     },
     "output_type": "display_data"
    }
   ],
   "source": [
    "# line plot\n",
    "plt.subplot(221)\n",
    "plt.plot(dataframe['Sales'])\n",
    "\n",
    "# histogram\n",
    "plt.subplot(222)\n",
    "plt.hist(dataframe['Sales'])\n",
    "plt.show()"
   ]
  },
  {
   "cell_type": "markdown",
   "id": "e741f2f7-c5e9-4ac1-9098-843037d3c085",
   "metadata": {},
   "source": [
    "# Forecasting - Model Based"
   ]
  },
  {
   "cell_type": "code",
   "execution_count": 29,
   "id": "261d2811-022c-4044-b749-31c89f1cc50e",
   "metadata": {
    "colab": {
     "base_uri": "https://localhost:8080/",
     "height": 282
    },
    "executionInfo": {
     "elapsed": 601,
     "status": "ok",
     "timestamp": 1627717020633,
     "user": {
      "displayName": "Jaspal Singh Jhass",
      "photoUrl": "",
      "userId": "14870781376371902378"
     },
     "user_tz": -330
    },
    "id": "gpFJk33XyRzv",
    "outputId": "addcdc94-f776-4a3c-fefc-fe41ffb47683"
   },
   "outputs": [
    {
     "data": {
      "text/html": [
       "<div>\n",
       "<style scoped>\n",
       "    .dataframe tbody tr th:only-of-type {\n",
       "        vertical-align: middle;\n",
       "    }\n",
       "\n",
       "    .dataframe tbody tr th {\n",
       "        vertical-align: top;\n",
       "    }\n",
       "\n",
       "    .dataframe thead th {\n",
       "        text-align: right;\n",
       "    }\n",
       "</style>\n",
       "<table border=\"1\" class=\"dataframe\">\n",
       "  <thead>\n",
       "    <tr style=\"text-align: right;\">\n",
       "      <th></th>\n",
       "      <th>Quarter</th>\n",
       "      <th>Sales</th>\n",
       "    </tr>\n",
       "  </thead>\n",
       "  <tbody>\n",
       "    <tr>\n",
       "      <th>0</th>\n",
       "      <td>1986-01-01</td>\n",
       "      <td>1734.827000</td>\n",
       "    </tr>\n",
       "    <tr>\n",
       "      <th>1</th>\n",
       "      <td>1986-04-01</td>\n",
       "      <td>2244.960999</td>\n",
       "    </tr>\n",
       "    <tr>\n",
       "      <th>2</th>\n",
       "      <td>1986-07-01</td>\n",
       "      <td>2533.804993</td>\n",
       "    </tr>\n",
       "    <tr>\n",
       "      <th>3</th>\n",
       "      <td>1986-10-01</td>\n",
       "      <td>2154.962997</td>\n",
       "    </tr>\n",
       "    <tr>\n",
       "      <th>4</th>\n",
       "      <td>1987-01-01</td>\n",
       "      <td>1547.818996</td>\n",
       "    </tr>\n",
       "  </tbody>\n",
       "</table>\n",
       "</div>"
      ],
      "text/plain": [
       "     Quarter        Sales\n",
       "0 1986-01-01  1734.827000\n",
       "1 1986-04-01  2244.960999\n",
       "2 1986-07-01  2533.804993\n",
       "3 1986-10-01  2154.962997\n",
       "4 1987-01-01  1547.818996"
      ]
     },
     "execution_count": 29,
     "metadata": {},
     "output_type": "execute_result"
    }
   ],
   "source": [
    "series = pd.read_excel('C:/Users/HP/Desktop/ExcelR/Data Science/Python/Assignments/Forecasting/CocaCola_Sales_Rawdata.xlsx')\n",
    "series[['q','year']] = series.Quarter.str.split('_', expand=True)\n",
    "series.year = series.year.astype(int) +1900\n",
    "series.q = series.q\n",
    "series.Quarter = pd.to_datetime(series['year'].astype(str) +  series['q'].astype(str))\n",
    "series = series.drop('q',axis=1)\n",
    "series = series.drop('year',axis=1)\n",
    "series.head()"
   ]
  },
  {
   "cell_type": "code",
   "execution_count": 30,
   "id": "87404224-b855-4dc4-a7a1-ef579f29cf95",
   "metadata": {},
   "outputs": [],
   "source": [
    "# Extracting Day, weekday name, month name, year from the Date column using \n",
    "# Date functions from pandas \n",
    "\n",
    "series[\"month\"] = series['Quarter'].dt.strftime(\"%b\") # month extraction\n",
    "series[\"year\"] = series['Quarter'].dt.strftime(\"%Y\") # year extraction\n",
    "series[\"Day\"] = series['Quarter'].dt.strftime(\"%d\") # Day extraction\n",
    "series[\"wkday\"] = series['Quarter'].dt.strftime(\"%A\") # weekday extraction"
   ]
  },
  {
   "cell_type": "code",
   "execution_count": 31,
   "id": "034ce0f2-2448-4866-a151-b264a240df06",
   "metadata": {
    "colab": {
     "base_uri": "https://localhost:8080/",
     "height": 419
    },
    "executionInfo": {
     "elapsed": 5,
     "status": "ok",
     "timestamp": 1627717111917,
     "user": {
      "displayName": "Jaspal Singh Jhass",
      "photoUrl": "",
      "userId": "14870781376371902378"
     },
     "user_tz": -330
    },
    "id": "J_OG4ma86gmi",
    "outputId": "420783c5-8518-40ca-d5d3-32cdb384b288"
   },
   "outputs": [
    {
     "data": {
      "text/html": [
       "<div>\n",
       "<style scoped>\n",
       "    .dataframe tbody tr th:only-of-type {\n",
       "        vertical-align: middle;\n",
       "    }\n",
       "\n",
       "    .dataframe tbody tr th {\n",
       "        vertical-align: top;\n",
       "    }\n",
       "\n",
       "    .dataframe thead th {\n",
       "        text-align: right;\n",
       "    }\n",
       "</style>\n",
       "<table border=\"1\" class=\"dataframe\">\n",
       "  <thead>\n",
       "    <tr style=\"text-align: right;\">\n",
       "      <th></th>\n",
       "      <th>Quarter</th>\n",
       "      <th>Sales</th>\n",
       "      <th>month</th>\n",
       "      <th>year</th>\n",
       "      <th>Day</th>\n",
       "      <th>wkday</th>\n",
       "    </tr>\n",
       "  </thead>\n",
       "  <tbody>\n",
       "    <tr>\n",
       "      <th>0</th>\n",
       "      <td>1986-01-01</td>\n",
       "      <td>1734.827000</td>\n",
       "      <td>Jan</td>\n",
       "      <td>1986</td>\n",
       "      <td>01</td>\n",
       "      <td>Wednesday</td>\n",
       "    </tr>\n",
       "    <tr>\n",
       "      <th>1</th>\n",
       "      <td>1986-04-01</td>\n",
       "      <td>2244.960999</td>\n",
       "      <td>Apr</td>\n",
       "      <td>1986</td>\n",
       "      <td>01</td>\n",
       "      <td>Tuesday</td>\n",
       "    </tr>\n",
       "    <tr>\n",
       "      <th>2</th>\n",
       "      <td>1986-07-01</td>\n",
       "      <td>2533.804993</td>\n",
       "      <td>Jul</td>\n",
       "      <td>1986</td>\n",
       "      <td>01</td>\n",
       "      <td>Tuesday</td>\n",
       "    </tr>\n",
       "    <tr>\n",
       "      <th>3</th>\n",
       "      <td>1986-10-01</td>\n",
       "      <td>2154.962997</td>\n",
       "      <td>Oct</td>\n",
       "      <td>1986</td>\n",
       "      <td>01</td>\n",
       "      <td>Wednesday</td>\n",
       "    </tr>\n",
       "    <tr>\n",
       "      <th>4</th>\n",
       "      <td>1987-01-01</td>\n",
       "      <td>1547.818996</td>\n",
       "      <td>Jan</td>\n",
       "      <td>1987</td>\n",
       "      <td>01</td>\n",
       "      <td>Thursday</td>\n",
       "    </tr>\n",
       "    <tr>\n",
       "      <th>5</th>\n",
       "      <td>1987-04-01</td>\n",
       "      <td>2104.411995</td>\n",
       "      <td>Apr</td>\n",
       "      <td>1987</td>\n",
       "      <td>01</td>\n",
       "      <td>Wednesday</td>\n",
       "    </tr>\n",
       "    <tr>\n",
       "      <th>6</th>\n",
       "      <td>1987-07-01</td>\n",
       "      <td>2014.362999</td>\n",
       "      <td>Jul</td>\n",
       "      <td>1987</td>\n",
       "      <td>01</td>\n",
       "      <td>Wednesday</td>\n",
       "    </tr>\n",
       "    <tr>\n",
       "      <th>7</th>\n",
       "      <td>1987-10-01</td>\n",
       "      <td>1991.746998</td>\n",
       "      <td>Oct</td>\n",
       "      <td>1987</td>\n",
       "      <td>01</td>\n",
       "      <td>Thursday</td>\n",
       "    </tr>\n",
       "    <tr>\n",
       "      <th>8</th>\n",
       "      <td>1988-01-01</td>\n",
       "      <td>1869.049999</td>\n",
       "      <td>Jan</td>\n",
       "      <td>1988</td>\n",
       "      <td>01</td>\n",
       "      <td>Friday</td>\n",
       "    </tr>\n",
       "    <tr>\n",
       "      <th>9</th>\n",
       "      <td>1988-04-01</td>\n",
       "      <td>2313.631996</td>\n",
       "      <td>Apr</td>\n",
       "      <td>1988</td>\n",
       "      <td>01</td>\n",
       "      <td>Friday</td>\n",
       "    </tr>\n",
       "    <tr>\n",
       "      <th>10</th>\n",
       "      <td>1988-07-01</td>\n",
       "      <td>2128.320000</td>\n",
       "      <td>Jul</td>\n",
       "      <td>1988</td>\n",
       "      <td>01</td>\n",
       "      <td>Friday</td>\n",
       "    </tr>\n",
       "    <tr>\n",
       "      <th>11</th>\n",
       "      <td>1988-10-01</td>\n",
       "      <td>2026.828999</td>\n",
       "      <td>Oct</td>\n",
       "      <td>1988</td>\n",
       "      <td>01</td>\n",
       "      <td>Saturday</td>\n",
       "    </tr>\n",
       "    <tr>\n",
       "      <th>12</th>\n",
       "      <td>1989-01-01</td>\n",
       "      <td>1910.603996</td>\n",
       "      <td>Jan</td>\n",
       "      <td>1989</td>\n",
       "      <td>01</td>\n",
       "      <td>Sunday</td>\n",
       "    </tr>\n",
       "    <tr>\n",
       "      <th>13</th>\n",
       "      <td>1989-04-01</td>\n",
       "      <td>2331.164993</td>\n",
       "      <td>Apr</td>\n",
       "      <td>1989</td>\n",
       "      <td>01</td>\n",
       "      <td>Saturday</td>\n",
       "    </tr>\n",
       "    <tr>\n",
       "      <th>14</th>\n",
       "      <td>1989-07-01</td>\n",
       "      <td>2206.549995</td>\n",
       "      <td>Jul</td>\n",
       "      <td>1989</td>\n",
       "      <td>01</td>\n",
       "      <td>Saturday</td>\n",
       "    </tr>\n",
       "    <tr>\n",
       "      <th>15</th>\n",
       "      <td>1989-10-01</td>\n",
       "      <td>2173.967995</td>\n",
       "      <td>Oct</td>\n",
       "      <td>1989</td>\n",
       "      <td>01</td>\n",
       "      <td>Sunday</td>\n",
       "    </tr>\n",
       "    <tr>\n",
       "      <th>16</th>\n",
       "      <td>1990-01-01</td>\n",
       "      <td>2148.278000</td>\n",
       "      <td>Jan</td>\n",
       "      <td>1990</td>\n",
       "      <td>01</td>\n",
       "      <td>Monday</td>\n",
       "    </tr>\n",
       "    <tr>\n",
       "      <th>17</th>\n",
       "      <td>1990-04-01</td>\n",
       "      <td>2739.307999</td>\n",
       "      <td>Apr</td>\n",
       "      <td>1990</td>\n",
       "      <td>01</td>\n",
       "      <td>Sunday</td>\n",
       "    </tr>\n",
       "    <tr>\n",
       "      <th>18</th>\n",
       "      <td>1990-07-01</td>\n",
       "      <td>2792.753998</td>\n",
       "      <td>Jul</td>\n",
       "      <td>1990</td>\n",
       "      <td>01</td>\n",
       "      <td>Sunday</td>\n",
       "    </tr>\n",
       "    <tr>\n",
       "      <th>19</th>\n",
       "      <td>1990-10-01</td>\n",
       "      <td>2556.009995</td>\n",
       "      <td>Oct</td>\n",
       "      <td>1990</td>\n",
       "      <td>01</td>\n",
       "      <td>Monday</td>\n",
       "    </tr>\n",
       "    <tr>\n",
       "      <th>20</th>\n",
       "      <td>1991-01-01</td>\n",
       "      <td>2480.973999</td>\n",
       "      <td>Jan</td>\n",
       "      <td>1991</td>\n",
       "      <td>01</td>\n",
       "      <td>Tuesday</td>\n",
       "    </tr>\n",
       "    <tr>\n",
       "      <th>21</th>\n",
       "      <td>1991-04-01</td>\n",
       "      <td>3039.522995</td>\n",
       "      <td>Apr</td>\n",
       "      <td>1991</td>\n",
       "      <td>01</td>\n",
       "      <td>Monday</td>\n",
       "    </tr>\n",
       "    <tr>\n",
       "      <th>22</th>\n",
       "      <td>1991-07-01</td>\n",
       "      <td>3172.115997</td>\n",
       "      <td>Jul</td>\n",
       "      <td>1991</td>\n",
       "      <td>01</td>\n",
       "      <td>Monday</td>\n",
       "    </tr>\n",
       "    <tr>\n",
       "      <th>23</th>\n",
       "      <td>1991-10-01</td>\n",
       "      <td>2879.000999</td>\n",
       "      <td>Oct</td>\n",
       "      <td>1991</td>\n",
       "      <td>01</td>\n",
       "      <td>Tuesday</td>\n",
       "    </tr>\n",
       "    <tr>\n",
       "      <th>24</th>\n",
       "      <td>1992-01-01</td>\n",
       "      <td>2772.000000</td>\n",
       "      <td>Jan</td>\n",
       "      <td>1992</td>\n",
       "      <td>01</td>\n",
       "      <td>Wednesday</td>\n",
       "    </tr>\n",
       "    <tr>\n",
       "      <th>25</th>\n",
       "      <td>1992-04-01</td>\n",
       "      <td>3550.000000</td>\n",
       "      <td>Apr</td>\n",
       "      <td>1992</td>\n",
       "      <td>01</td>\n",
       "      <td>Wednesday</td>\n",
       "    </tr>\n",
       "    <tr>\n",
       "      <th>26</th>\n",
       "      <td>1992-07-01</td>\n",
       "      <td>3508.000000</td>\n",
       "      <td>Jul</td>\n",
       "      <td>1992</td>\n",
       "      <td>01</td>\n",
       "      <td>Wednesday</td>\n",
       "    </tr>\n",
       "    <tr>\n",
       "      <th>27</th>\n",
       "      <td>1992-10-01</td>\n",
       "      <td>3243.859993</td>\n",
       "      <td>Oct</td>\n",
       "      <td>1992</td>\n",
       "      <td>01</td>\n",
       "      <td>Thursday</td>\n",
       "    </tr>\n",
       "    <tr>\n",
       "      <th>28</th>\n",
       "      <td>1993-01-01</td>\n",
       "      <td>3056.000000</td>\n",
       "      <td>Jan</td>\n",
       "      <td>1993</td>\n",
       "      <td>01</td>\n",
       "      <td>Friday</td>\n",
       "    </tr>\n",
       "    <tr>\n",
       "      <th>29</th>\n",
       "      <td>1993-04-01</td>\n",
       "      <td>3899.000000</td>\n",
       "      <td>Apr</td>\n",
       "      <td>1993</td>\n",
       "      <td>01</td>\n",
       "      <td>Thursday</td>\n",
       "    </tr>\n",
       "    <tr>\n",
       "      <th>30</th>\n",
       "      <td>1993-07-01</td>\n",
       "      <td>3629.000000</td>\n",
       "      <td>Jul</td>\n",
       "      <td>1993</td>\n",
       "      <td>01</td>\n",
       "      <td>Thursday</td>\n",
       "    </tr>\n",
       "    <tr>\n",
       "      <th>31</th>\n",
       "      <td>1993-10-01</td>\n",
       "      <td>3373.000000</td>\n",
       "      <td>Oct</td>\n",
       "      <td>1993</td>\n",
       "      <td>01</td>\n",
       "      <td>Friday</td>\n",
       "    </tr>\n",
       "    <tr>\n",
       "      <th>32</th>\n",
       "      <td>1994-01-01</td>\n",
       "      <td>3352.000000</td>\n",
       "      <td>Jan</td>\n",
       "      <td>1994</td>\n",
       "      <td>01</td>\n",
       "      <td>Saturday</td>\n",
       "    </tr>\n",
       "    <tr>\n",
       "      <th>33</th>\n",
       "      <td>1994-04-01</td>\n",
       "      <td>4342.000000</td>\n",
       "      <td>Apr</td>\n",
       "      <td>1994</td>\n",
       "      <td>01</td>\n",
       "      <td>Friday</td>\n",
       "    </tr>\n",
       "    <tr>\n",
       "      <th>34</th>\n",
       "      <td>1994-07-01</td>\n",
       "      <td>4461.000000</td>\n",
       "      <td>Jul</td>\n",
       "      <td>1994</td>\n",
       "      <td>01</td>\n",
       "      <td>Friday</td>\n",
       "    </tr>\n",
       "    <tr>\n",
       "      <th>35</th>\n",
       "      <td>1994-10-01</td>\n",
       "      <td>4017.000000</td>\n",
       "      <td>Oct</td>\n",
       "      <td>1994</td>\n",
       "      <td>01</td>\n",
       "      <td>Saturday</td>\n",
       "    </tr>\n",
       "    <tr>\n",
       "      <th>36</th>\n",
       "      <td>1995-01-01</td>\n",
       "      <td>3854.000000</td>\n",
       "      <td>Jan</td>\n",
       "      <td>1995</td>\n",
       "      <td>01</td>\n",
       "      <td>Sunday</td>\n",
       "    </tr>\n",
       "    <tr>\n",
       "      <th>37</th>\n",
       "      <td>1995-04-01</td>\n",
       "      <td>4936.000000</td>\n",
       "      <td>Apr</td>\n",
       "      <td>1995</td>\n",
       "      <td>01</td>\n",
       "      <td>Saturday</td>\n",
       "    </tr>\n",
       "    <tr>\n",
       "      <th>38</th>\n",
       "      <td>1995-07-01</td>\n",
       "      <td>4895.000000</td>\n",
       "      <td>Jul</td>\n",
       "      <td>1995</td>\n",
       "      <td>01</td>\n",
       "      <td>Saturday</td>\n",
       "    </tr>\n",
       "    <tr>\n",
       "      <th>39</th>\n",
       "      <td>1995-10-01</td>\n",
       "      <td>4333.000000</td>\n",
       "      <td>Oct</td>\n",
       "      <td>1995</td>\n",
       "      <td>01</td>\n",
       "      <td>Sunday</td>\n",
       "    </tr>\n",
       "    <tr>\n",
       "      <th>40</th>\n",
       "      <td>1996-01-01</td>\n",
       "      <td>4194.000000</td>\n",
       "      <td>Jan</td>\n",
       "      <td>1996</td>\n",
       "      <td>01</td>\n",
       "      <td>Monday</td>\n",
       "    </tr>\n",
       "    <tr>\n",
       "      <th>41</th>\n",
       "      <td>1996-04-01</td>\n",
       "      <td>5253.000000</td>\n",
       "      <td>Apr</td>\n",
       "      <td>1996</td>\n",
       "      <td>01</td>\n",
       "      <td>Monday</td>\n",
       "    </tr>\n",
       "  </tbody>\n",
       "</table>\n",
       "</div>"
      ],
      "text/plain": [
       "      Quarter        Sales month  year Day      wkday\n",
       "0  1986-01-01  1734.827000   Jan  1986  01  Wednesday\n",
       "1  1986-04-01  2244.960999   Apr  1986  01    Tuesday\n",
       "2  1986-07-01  2533.804993   Jul  1986  01    Tuesday\n",
       "3  1986-10-01  2154.962997   Oct  1986  01  Wednesday\n",
       "4  1987-01-01  1547.818996   Jan  1987  01   Thursday\n",
       "5  1987-04-01  2104.411995   Apr  1987  01  Wednesday\n",
       "6  1987-07-01  2014.362999   Jul  1987  01  Wednesday\n",
       "7  1987-10-01  1991.746998   Oct  1987  01   Thursday\n",
       "8  1988-01-01  1869.049999   Jan  1988  01     Friday\n",
       "9  1988-04-01  2313.631996   Apr  1988  01     Friday\n",
       "10 1988-07-01  2128.320000   Jul  1988  01     Friday\n",
       "11 1988-10-01  2026.828999   Oct  1988  01   Saturday\n",
       "12 1989-01-01  1910.603996   Jan  1989  01     Sunday\n",
       "13 1989-04-01  2331.164993   Apr  1989  01   Saturday\n",
       "14 1989-07-01  2206.549995   Jul  1989  01   Saturday\n",
       "15 1989-10-01  2173.967995   Oct  1989  01     Sunday\n",
       "16 1990-01-01  2148.278000   Jan  1990  01     Monday\n",
       "17 1990-04-01  2739.307999   Apr  1990  01     Sunday\n",
       "18 1990-07-01  2792.753998   Jul  1990  01     Sunday\n",
       "19 1990-10-01  2556.009995   Oct  1990  01     Monday\n",
       "20 1991-01-01  2480.973999   Jan  1991  01    Tuesday\n",
       "21 1991-04-01  3039.522995   Apr  1991  01     Monday\n",
       "22 1991-07-01  3172.115997   Jul  1991  01     Monday\n",
       "23 1991-10-01  2879.000999   Oct  1991  01    Tuesday\n",
       "24 1992-01-01  2772.000000   Jan  1992  01  Wednesday\n",
       "25 1992-04-01  3550.000000   Apr  1992  01  Wednesday\n",
       "26 1992-07-01  3508.000000   Jul  1992  01  Wednesday\n",
       "27 1992-10-01  3243.859993   Oct  1992  01   Thursday\n",
       "28 1993-01-01  3056.000000   Jan  1993  01     Friday\n",
       "29 1993-04-01  3899.000000   Apr  1993  01   Thursday\n",
       "30 1993-07-01  3629.000000   Jul  1993  01   Thursday\n",
       "31 1993-10-01  3373.000000   Oct  1993  01     Friday\n",
       "32 1994-01-01  3352.000000   Jan  1994  01   Saturday\n",
       "33 1994-04-01  4342.000000   Apr  1994  01     Friday\n",
       "34 1994-07-01  4461.000000   Jul  1994  01     Friday\n",
       "35 1994-10-01  4017.000000   Oct  1994  01   Saturday\n",
       "36 1995-01-01  3854.000000   Jan  1995  01     Sunday\n",
       "37 1995-04-01  4936.000000   Apr  1995  01   Saturday\n",
       "38 1995-07-01  4895.000000   Jul  1995  01   Saturday\n",
       "39 1995-10-01  4333.000000   Oct  1995  01     Sunday\n",
       "40 1996-01-01  4194.000000   Jan  1996  01     Monday\n",
       "41 1996-04-01  5253.000000   Apr  1996  01     Monday"
      ]
     },
     "execution_count": 31,
     "metadata": {},
     "output_type": "execute_result"
    }
   ],
   "source": [
    "series"
   ]
  },
  {
   "cell_type": "code",
   "execution_count": 32,
   "id": "dc2ba48e-97d8-417e-b803-b8aa325d00eb",
   "metadata": {
    "colab": {
     "base_uri": "https://localhost:8080/",
     "height": 514
    },
    "executionInfo": {
     "elapsed": 2091,
     "status": "ok",
     "timestamp": 1627717144351,
     "user": {
      "displayName": "Jaspal Singh Jhass",
      "photoUrl": "",
      "userId": "14870781376371902378"
     },
     "user_tz": -330
    },
    "id": "ao7PqggByRzx",
    "outputId": "fb9a181e-6436-44df-f125-b93614b7ab30"
   },
   "outputs": [
    {
     "data": {
      "text/html": [
       "<div>\n",
       "<style scoped>\n",
       "    .dataframe tbody tr th:only-of-type {\n",
       "        vertical-align: middle;\n",
       "    }\n",
       "\n",
       "    .dataframe tbody tr th {\n",
       "        vertical-align: top;\n",
       "    }\n",
       "\n",
       "    .dataframe thead th {\n",
       "        text-align: right;\n",
       "    }\n",
       "</style>\n",
       "<table border=\"1\" class=\"dataframe\">\n",
       "  <thead>\n",
       "    <tr style=\"text-align: right;\">\n",
       "      <th>month</th>\n",
       "      <th>Apr</th>\n",
       "      <th>Jan</th>\n",
       "      <th>Jul</th>\n",
       "      <th>Oct</th>\n",
       "    </tr>\n",
       "    <tr>\n",
       "      <th>year</th>\n",
       "      <th></th>\n",
       "      <th></th>\n",
       "      <th></th>\n",
       "      <th></th>\n",
       "    </tr>\n",
       "  </thead>\n",
       "  <tbody>\n",
       "    <tr>\n",
       "      <th>1986</th>\n",
       "      <td>2244.960999</td>\n",
       "      <td>1734.827000</td>\n",
       "      <td>2533.804993</td>\n",
       "      <td>2154.962997</td>\n",
       "    </tr>\n",
       "    <tr>\n",
       "      <th>1987</th>\n",
       "      <td>2104.411995</td>\n",
       "      <td>1547.818996</td>\n",
       "      <td>2014.362999</td>\n",
       "      <td>1991.746998</td>\n",
       "    </tr>\n",
       "    <tr>\n",
       "      <th>1988</th>\n",
       "      <td>2313.631996</td>\n",
       "      <td>1869.049999</td>\n",
       "      <td>2128.320000</td>\n",
       "      <td>2026.828999</td>\n",
       "    </tr>\n",
       "    <tr>\n",
       "      <th>1989</th>\n",
       "      <td>2331.164993</td>\n",
       "      <td>1910.603996</td>\n",
       "      <td>2206.549995</td>\n",
       "      <td>2173.967995</td>\n",
       "    </tr>\n",
       "    <tr>\n",
       "      <th>1990</th>\n",
       "      <td>2739.307999</td>\n",
       "      <td>2148.278000</td>\n",
       "      <td>2792.753998</td>\n",
       "      <td>2556.009995</td>\n",
       "    </tr>\n",
       "    <tr>\n",
       "      <th>1991</th>\n",
       "      <td>3039.522995</td>\n",
       "      <td>2480.973999</td>\n",
       "      <td>3172.115997</td>\n",
       "      <td>2879.000999</td>\n",
       "    </tr>\n",
       "    <tr>\n",
       "      <th>1992</th>\n",
       "      <td>3550.000000</td>\n",
       "      <td>2772.000000</td>\n",
       "      <td>3508.000000</td>\n",
       "      <td>3243.859993</td>\n",
       "    </tr>\n",
       "    <tr>\n",
       "      <th>1993</th>\n",
       "      <td>3899.000000</td>\n",
       "      <td>3056.000000</td>\n",
       "      <td>3629.000000</td>\n",
       "      <td>3373.000000</td>\n",
       "    </tr>\n",
       "    <tr>\n",
       "      <th>1994</th>\n",
       "      <td>4342.000000</td>\n",
       "      <td>3352.000000</td>\n",
       "      <td>4461.000000</td>\n",
       "      <td>4017.000000</td>\n",
       "    </tr>\n",
       "    <tr>\n",
       "      <th>1995</th>\n",
       "      <td>4936.000000</td>\n",
       "      <td>3854.000000</td>\n",
       "      <td>4895.000000</td>\n",
       "      <td>4333.000000</td>\n",
       "    </tr>\n",
       "    <tr>\n",
       "      <th>1996</th>\n",
       "      <td>5253.000000</td>\n",
       "      <td>4194.000000</td>\n",
       "      <td>0.000000</td>\n",
       "      <td>0.000000</td>\n",
       "    </tr>\n",
       "  </tbody>\n",
       "</table>\n",
       "</div>"
      ],
      "text/plain": [
       "month          Apr          Jan          Jul          Oct\n",
       "year                                                     \n",
       "1986   2244.960999  1734.827000  2533.804993  2154.962997\n",
       "1987   2104.411995  1547.818996  2014.362999  1991.746998\n",
       "1988   2313.631996  1869.049999  2128.320000  2026.828999\n",
       "1989   2331.164993  1910.603996  2206.549995  2173.967995\n",
       "1990   2739.307999  2148.278000  2792.753998  2556.009995\n",
       "1991   3039.522995  2480.973999  3172.115997  2879.000999\n",
       "1992   3550.000000  2772.000000  3508.000000  3243.859993\n",
       "1993   3899.000000  3056.000000  3629.000000  3373.000000\n",
       "1994   4342.000000  3352.000000  4461.000000  4017.000000\n",
       "1995   4936.000000  3854.000000  4895.000000  4333.000000\n",
       "1996   5253.000000  4194.000000     0.000000     0.000000"
      ]
     },
     "execution_count": 32,
     "metadata": {},
     "output_type": "execute_result"
    }
   ],
   "source": [
    "heatmap_y_month = pd.pivot_table(data = series,\n",
    "                                 values = \"Sales\",\n",
    "                                 index = \"year\",\n",
    "                                 columns = \"month\",\n",
    "                                 aggfunc = \"mean\",\n",
    "                                 fill_value=0)\n",
    "heatmap_y_month"
   ]
  },
  {
   "cell_type": "code",
   "execution_count": 33,
   "id": "0f5ddd9b-dbe8-48ad-bcad-2ad102db6321",
   "metadata": {},
   "outputs": [
    {
     "data": {
      "text/plain": [
       "<AxesSubplot:xlabel='month', ylabel='year'>"
      ]
     },
     "execution_count": 33,
     "metadata": {},
     "output_type": "execute_result"
    },
    {
     "data": {
      "image/png": "[encoded data removed]",
      "text/plain": [
       "<Figure size 864x576 with 2 Axes>"
      ]
     },
     "metadata": {
      "needs_background": "light"
     },
     "output_type": "display_data"
    }
   ],
   "source": [
    "plt.figure(figsize=(12,8))\n",
    "sns.heatmap(heatmap_y_month,\n",
    "            annot=True,\n",
    "            fmt=\"g\",\n",
    "            cmap = 'icefire') "
   ]
  },
  {
   "cell_type": "code",
   "execution_count": 34,
   "id": "7591d8e5-c1c8-412d-918a-fb7a39f0ec87",
   "metadata": {
    "colab": {
     "base_uri": "https://localhost:8080/",
     "height": 405
    },
    "executionInfo": {
     "elapsed": 1158,
     "status": "ok",
     "timestamp": 1627717270849,
     "user": {
      "displayName": "Jaspal Singh Jhass",
      "photoUrl": "",
      "userId": "14870781376371902378"
     },
     "user_tz": -330
    },
    "id": "gUn0W0QsyRzy",
    "outputId": "cadd6514-43cd-4d46-b76e-1294bb77c069"
   },
   "outputs": [
    {
     "data": {
      "text/plain": [
       "<AxesSubplot:xlabel='year', ylabel='Sales'>"
      ]
     },
     "execution_count": 34,
     "metadata": {},
     "output_type": "execute_result"
    },
    {
     "data": {
      "image/png": "[encoded data removed]",
      "text/plain": [
       "<Figure size 1440x720 with 2 Axes>"
      ]
     },
     "metadata": {
      "needs_background": "light"
     },
     "output_type": "display_data"
    }
   ],
   "source": [
    "# Boxplot for every\n",
    "plt.figure(figsize=(20,10))\n",
    "\n",
    "plt.subplot(221)\n",
    "sns.boxplot(x=\"month\",y=\"Sales\",data=series)\n",
    "\n",
    "plt.subplot(222)\n",
    "sns.boxplot(x=\"year\",y=\"Sales\",data=series)"
   ]
  },
  {
   "cell_type": "code",
   "execution_count": 35,
   "id": "abf7ca95-8586-478f-a4ed-af0badde17a9",
   "metadata": {
    "colab": {
     "base_uri": "https://localhost:8080/",
     "height": 242
    },
    "executionInfo": {
     "elapsed": 1114,
     "status": "ok",
     "timestamp": 1627717277244,
     "user": {
      "displayName": "Jaspal Singh Jhass",
      "photoUrl": "",
      "userId": "14870781376371902378"
     },
     "user_tz": -330
    },
    "id": "Q2BzgHcryRzz",
    "outputId": "f6117e77-19d1-44a4-d0e2-6c2c3588ddaa",
    "scrolled": true
   },
   "outputs": [
    {
     "data": {
      "text/plain": [
       "<AxesSubplot:xlabel='year', ylabel='Sales'>"
      ]
     },
     "execution_count": 35,
     "metadata": {},
     "output_type": "execute_result"
    },
    {
     "data": {
      "image/png": "[encoded data removed]",
      "text/plain": [
       "<Figure size 432x288 with 1 Axes>"
      ]
     },
     "metadata": {
      "needs_background": "light"
     },
     "output_type": "display_data"
    }
   ],
   "source": [
    "sns.lineplot(x=\"year\",y=\"Sales\",data=series)"
   ]
  },
  {
   "cell_type": "markdown",
   "id": "222d14fa-0f75-4c2f-bf3a-2bce2214379a",
   "metadata": {
    "id": "VOYL-cJByRzz"
   },
   "source": [
    "#### Splitting data"
   ]
  },
  {
   "cell_type": "code",
   "execution_count": 36,
   "id": "cc8761ee-03dd-4229-a7b4-778a4639a419",
   "metadata": {},
   "outputs": [
    {
     "data": {
      "text/plain": [
       "(42, 6)"
      ]
     },
     "execution_count": 36,
     "metadata": {},
     "output_type": "execute_result"
    }
   ],
   "source": [
    "series.shape"
   ]
  },
  {
   "cell_type": "code",
   "execution_count": 37,
   "id": "79c510bc-f244-4044-99c9-9a83f4dd5021",
   "metadata": {},
   "outputs": [
    {
     "data": {
      "text/html": [
       "<div>\n",
       "<style scoped>\n",
       "    .dataframe tbody tr th:only-of-type {\n",
       "        vertical-align: middle;\n",
       "    }\n",
       "\n",
       "    .dataframe tbody tr th {\n",
       "        vertical-align: top;\n",
       "    }\n",
       "\n",
       "    .dataframe thead th {\n",
       "        text-align: right;\n",
       "    }\n",
       "</style>\n",
       "<table border=\"1\" class=\"dataframe\">\n",
       "  <thead>\n",
       "    <tr style=\"text-align: right;\">\n",
       "      <th></th>\n",
       "      <th>Quarter</th>\n",
       "      <th>Sales</th>\n",
       "      <th>month</th>\n",
       "      <th>year</th>\n",
       "      <th>Day</th>\n",
       "      <th>wkday</th>\n",
       "      <th>t</th>\n",
       "      <th>t_square</th>\n",
       "      <th>log_sales</th>\n",
       "      <th>Apr</th>\n",
       "      <th>Jan</th>\n",
       "      <th>Jul</th>\n",
       "      <th>Oct</th>\n",
       "    </tr>\n",
       "  </thead>\n",
       "  <tbody>\n",
       "    <tr>\n",
       "      <th>0</th>\n",
       "      <td>1986-01-01</td>\n",
       "      <td>1734.827000</td>\n",
       "      <td>Jan</td>\n",
       "      <td>1986</td>\n",
       "      <td>01</td>\n",
       "      <td>Wednesday</td>\n",
       "      <td>1</td>\n",
       "      <td>1</td>\n",
       "      <td>7.458663</td>\n",
       "      <td>0</td>\n",
       "      <td>1</td>\n",
       "      <td>0</td>\n",
       "      <td>0</td>\n",
       "    </tr>\n",
       "    <tr>\n",
       "      <th>1</th>\n",
       "      <td>1986-04-01</td>\n",
       "      <td>2244.960999</td>\n",
       "      <td>Apr</td>\n",
       "      <td>1986</td>\n",
       "      <td>01</td>\n",
       "      <td>Tuesday</td>\n",
       "      <td>2</td>\n",
       "      <td>4</td>\n",
       "      <td>7.716443</td>\n",
       "      <td>1</td>\n",
       "      <td>0</td>\n",
       "      <td>0</td>\n",
       "      <td>0</td>\n",
       "    </tr>\n",
       "    <tr>\n",
       "      <th>2</th>\n",
       "      <td>1986-07-01</td>\n",
       "      <td>2533.804993</td>\n",
       "      <td>Jul</td>\n",
       "      <td>1986</td>\n",
       "      <td>01</td>\n",
       "      <td>Tuesday</td>\n",
       "      <td>3</td>\n",
       "      <td>9</td>\n",
       "      <td>7.837477</td>\n",
       "      <td>0</td>\n",
       "      <td>0</td>\n",
       "      <td>1</td>\n",
       "      <td>0</td>\n",
       "    </tr>\n",
       "    <tr>\n",
       "      <th>3</th>\n",
       "      <td>1986-10-01</td>\n",
       "      <td>2154.962997</td>\n",
       "      <td>Oct</td>\n",
       "      <td>1986</td>\n",
       "      <td>01</td>\n",
       "      <td>Wednesday</td>\n",
       "      <td>4</td>\n",
       "      <td>16</td>\n",
       "      <td>7.675529</td>\n",
       "      <td>0</td>\n",
       "      <td>0</td>\n",
       "      <td>0</td>\n",
       "      <td>1</td>\n",
       "    </tr>\n",
       "    <tr>\n",
       "      <th>4</th>\n",
       "      <td>1987-01-01</td>\n",
       "      <td>1547.818996</td>\n",
       "      <td>Jan</td>\n",
       "      <td>1987</td>\n",
       "      <td>01</td>\n",
       "      <td>Thursday</td>\n",
       "      <td>5</td>\n",
       "      <td>25</td>\n",
       "      <td>7.344602</td>\n",
       "      <td>0</td>\n",
       "      <td>1</td>\n",
       "      <td>0</td>\n",
       "      <td>0</td>\n",
       "    </tr>\n",
       "    <tr>\n",
       "      <th>5</th>\n",
       "      <td>1987-04-01</td>\n",
       "      <td>2104.411995</td>\n",
       "      <td>Apr</td>\n",
       "      <td>1987</td>\n",
       "      <td>01</td>\n",
       "      <td>Wednesday</td>\n",
       "      <td>6</td>\n",
       "      <td>36</td>\n",
       "      <td>7.651791</td>\n",
       "      <td>1</td>\n",
       "      <td>0</td>\n",
       "      <td>0</td>\n",
       "      <td>0</td>\n",
       "    </tr>\n",
       "    <tr>\n",
       "      <th>6</th>\n",
       "      <td>1987-07-01</td>\n",
       "      <td>2014.362999</td>\n",
       "      <td>Jul</td>\n",
       "      <td>1987</td>\n",
       "      <td>01</td>\n",
       "      <td>Wednesday</td>\n",
       "      <td>7</td>\n",
       "      <td>49</td>\n",
       "      <td>7.608058</td>\n",
       "      <td>0</td>\n",
       "      <td>0</td>\n",
       "      <td>1</td>\n",
       "      <td>0</td>\n",
       "    </tr>\n",
       "    <tr>\n",
       "      <th>7</th>\n",
       "      <td>1987-10-01</td>\n",
       "      <td>1991.746998</td>\n",
       "      <td>Oct</td>\n",
       "      <td>1987</td>\n",
       "      <td>01</td>\n",
       "      <td>Thursday</td>\n",
       "      <td>8</td>\n",
       "      <td>64</td>\n",
       "      <td>7.596767</td>\n",
       "      <td>0</td>\n",
       "      <td>0</td>\n",
       "      <td>0</td>\n",
       "      <td>1</td>\n",
       "    </tr>\n",
       "    <tr>\n",
       "      <th>8</th>\n",
       "      <td>1988-01-01</td>\n",
       "      <td>1869.049999</td>\n",
       "      <td>Jan</td>\n",
       "      <td>1988</td>\n",
       "      <td>01</td>\n",
       "      <td>Friday</td>\n",
       "      <td>9</td>\n",
       "      <td>81</td>\n",
       "      <td>7.533186</td>\n",
       "      <td>0</td>\n",
       "      <td>1</td>\n",
       "      <td>0</td>\n",
       "      <td>0</td>\n",
       "    </tr>\n",
       "    <tr>\n",
       "      <th>9</th>\n",
       "      <td>1988-04-01</td>\n",
       "      <td>2313.631996</td>\n",
       "      <td>Apr</td>\n",
       "      <td>1988</td>\n",
       "      <td>01</td>\n",
       "      <td>Friday</td>\n",
       "      <td>10</td>\n",
       "      <td>100</td>\n",
       "      <td>7.746574</td>\n",
       "      <td>1</td>\n",
       "      <td>0</td>\n",
       "      <td>0</td>\n",
       "      <td>0</td>\n",
       "    </tr>\n",
       "    <tr>\n",
       "      <th>10</th>\n",
       "      <td>1988-07-01</td>\n",
       "      <td>2128.320000</td>\n",
       "      <td>Jul</td>\n",
       "      <td>1988</td>\n",
       "      <td>01</td>\n",
       "      <td>Friday</td>\n",
       "      <td>11</td>\n",
       "      <td>121</td>\n",
       "      <td>7.663088</td>\n",
       "      <td>0</td>\n",
       "      <td>0</td>\n",
       "      <td>1</td>\n",
       "      <td>0</td>\n",
       "    </tr>\n",
       "    <tr>\n",
       "      <th>11</th>\n",
       "      <td>1988-10-01</td>\n",
       "      <td>2026.828999</td>\n",
       "      <td>Oct</td>\n",
       "      <td>1988</td>\n",
       "      <td>01</td>\n",
       "      <td>Saturday</td>\n",
       "      <td>12</td>\n",
       "      <td>144</td>\n",
       "      <td>7.614228</td>\n",
       "      <td>0</td>\n",
       "      <td>0</td>\n",
       "      <td>0</td>\n",
       "      <td>1</td>\n",
       "    </tr>\n",
       "    <tr>\n",
       "      <th>12</th>\n",
       "      <td>1989-01-01</td>\n",
       "      <td>1910.603996</td>\n",
       "      <td>Jan</td>\n",
       "      <td>1989</td>\n",
       "      <td>01</td>\n",
       "      <td>Sunday</td>\n",
       "      <td>13</td>\n",
       "      <td>169</td>\n",
       "      <td>7.555175</td>\n",
       "      <td>0</td>\n",
       "      <td>1</td>\n",
       "      <td>0</td>\n",
       "      <td>0</td>\n",
       "    </tr>\n",
       "    <tr>\n",
       "      <th>13</th>\n",
       "      <td>1989-04-01</td>\n",
       "      <td>2331.164993</td>\n",
       "      <td>Apr</td>\n",
       "      <td>1989</td>\n",
       "      <td>01</td>\n",
       "      <td>Saturday</td>\n",
       "      <td>14</td>\n",
       "      <td>196</td>\n",
       "      <td>7.754123</td>\n",
       "      <td>1</td>\n",
       "      <td>0</td>\n",
       "      <td>0</td>\n",
       "      <td>0</td>\n",
       "    </tr>\n",
       "    <tr>\n",
       "      <th>14</th>\n",
       "      <td>1989-07-01</td>\n",
       "      <td>2206.549995</td>\n",
       "      <td>Jul</td>\n",
       "      <td>1989</td>\n",
       "      <td>01</td>\n",
       "      <td>Saturday</td>\n",
       "      <td>15</td>\n",
       "      <td>225</td>\n",
       "      <td>7.699185</td>\n",
       "      <td>0</td>\n",
       "      <td>0</td>\n",
       "      <td>1</td>\n",
       "      <td>0</td>\n",
       "    </tr>\n",
       "    <tr>\n",
       "      <th>15</th>\n",
       "      <td>1989-10-01</td>\n",
       "      <td>2173.967995</td>\n",
       "      <td>Oct</td>\n",
       "      <td>1989</td>\n",
       "      <td>01</td>\n",
       "      <td>Sunday</td>\n",
       "      <td>16</td>\n",
       "      <td>256</td>\n",
       "      <td>7.684309</td>\n",
       "      <td>0</td>\n",
       "      <td>0</td>\n",
       "      <td>0</td>\n",
       "      <td>1</td>\n",
       "    </tr>\n",
       "    <tr>\n",
       "      <th>16</th>\n",
       "      <td>1990-01-01</td>\n",
       "      <td>2148.278000</td>\n",
       "      <td>Jan</td>\n",
       "      <td>1990</td>\n",
       "      <td>01</td>\n",
       "      <td>Monday</td>\n",
       "      <td>17</td>\n",
       "      <td>289</td>\n",
       "      <td>7.672422</td>\n",
       "      <td>0</td>\n",
       "      <td>1</td>\n",
       "      <td>0</td>\n",
       "      <td>0</td>\n",
       "    </tr>\n",
       "    <tr>\n",
       "      <th>17</th>\n",
       "      <td>1990-04-01</td>\n",
       "      <td>2739.307999</td>\n",
       "      <td>Apr</td>\n",
       "      <td>1990</td>\n",
       "      <td>01</td>\n",
       "      <td>Sunday</td>\n",
       "      <td>18</td>\n",
       "      <td>324</td>\n",
       "      <td>7.915461</td>\n",
       "      <td>1</td>\n",
       "      <td>0</td>\n",
       "      <td>0</td>\n",
       "      <td>0</td>\n",
       "    </tr>\n",
       "    <tr>\n",
       "      <th>18</th>\n",
       "      <td>1990-07-01</td>\n",
       "      <td>2792.753998</td>\n",
       "      <td>Jul</td>\n",
       "      <td>1990</td>\n",
       "      <td>01</td>\n",
       "      <td>Sunday</td>\n",
       "      <td>19</td>\n",
       "      <td>361</td>\n",
       "      <td>7.934783</td>\n",
       "      <td>0</td>\n",
       "      <td>0</td>\n",
       "      <td>1</td>\n",
       "      <td>0</td>\n",
       "    </tr>\n",
       "    <tr>\n",
       "      <th>19</th>\n",
       "      <td>1990-10-01</td>\n",
       "      <td>2556.009995</td>\n",
       "      <td>Oct</td>\n",
       "      <td>1990</td>\n",
       "      <td>01</td>\n",
       "      <td>Monday</td>\n",
       "      <td>20</td>\n",
       "      <td>400</td>\n",
       "      <td>7.846203</td>\n",
       "      <td>0</td>\n",
       "      <td>0</td>\n",
       "      <td>0</td>\n",
       "      <td>1</td>\n",
       "    </tr>\n",
       "    <tr>\n",
       "      <th>20</th>\n",
       "      <td>1991-01-01</td>\n",
       "      <td>2480.973999</td>\n",
       "      <td>Jan</td>\n",
       "      <td>1991</td>\n",
       "      <td>01</td>\n",
       "      <td>Tuesday</td>\n",
       "      <td>21</td>\n",
       "      <td>441</td>\n",
       "      <td>7.816407</td>\n",
       "      <td>0</td>\n",
       "      <td>1</td>\n",
       "      <td>0</td>\n",
       "      <td>0</td>\n",
       "    </tr>\n",
       "    <tr>\n",
       "      <th>21</th>\n",
       "      <td>1991-04-01</td>\n",
       "      <td>3039.522995</td>\n",
       "      <td>Apr</td>\n",
       "      <td>1991</td>\n",
       "      <td>01</td>\n",
       "      <td>Monday</td>\n",
       "      <td>22</td>\n",
       "      <td>484</td>\n",
       "      <td>8.019456</td>\n",
       "      <td>1</td>\n",
       "      <td>0</td>\n",
       "      <td>0</td>\n",
       "      <td>0</td>\n",
       "    </tr>\n",
       "    <tr>\n",
       "      <th>22</th>\n",
       "      <td>1991-07-01</td>\n",
       "      <td>3172.115997</td>\n",
       "      <td>Jul</td>\n",
       "      <td>1991</td>\n",
       "      <td>01</td>\n",
       "      <td>Monday</td>\n",
       "      <td>23</td>\n",
       "      <td>529</td>\n",
       "      <td>8.062154</td>\n",
       "      <td>0</td>\n",
       "      <td>0</td>\n",
       "      <td>1</td>\n",
       "      <td>0</td>\n",
       "    </tr>\n",
       "    <tr>\n",
       "      <th>23</th>\n",
       "      <td>1991-10-01</td>\n",
       "      <td>2879.000999</td>\n",
       "      <td>Oct</td>\n",
       "      <td>1991</td>\n",
       "      <td>01</td>\n",
       "      <td>Tuesday</td>\n",
       "      <td>24</td>\n",
       "      <td>576</td>\n",
       "      <td>7.965199</td>\n",
       "      <td>0</td>\n",
       "      <td>0</td>\n",
       "      <td>0</td>\n",
       "      <td>1</td>\n",
       "    </tr>\n",
       "    <tr>\n",
       "      <th>24</th>\n",
       "      <td>1992-01-01</td>\n",
       "      <td>2772.000000</td>\n",
       "      <td>Jan</td>\n",
       "      <td>1992</td>\n",
       "      <td>01</td>\n",
       "      <td>Wednesday</td>\n",
       "      <td>25</td>\n",
       "      <td>625</td>\n",
       "      <td>7.927324</td>\n",
       "      <td>0</td>\n",
       "      <td>1</td>\n",
       "      <td>0</td>\n",
       "      <td>0</td>\n",
       "    </tr>\n",
       "    <tr>\n",
       "      <th>25</th>\n",
       "      <td>1992-04-01</td>\n",
       "      <td>3550.000000</td>\n",
       "      <td>Apr</td>\n",
       "      <td>1992</td>\n",
       "      <td>01</td>\n",
       "      <td>Wednesday</td>\n",
       "      <td>26</td>\n",
       "      <td>676</td>\n",
       "      <td>8.174703</td>\n",
       "      <td>1</td>\n",
       "      <td>0</td>\n",
       "      <td>0</td>\n",
       "      <td>0</td>\n",
       "    </tr>\n",
       "    <tr>\n",
       "      <th>26</th>\n",
       "      <td>1992-07-01</td>\n",
       "      <td>3508.000000</td>\n",
       "      <td>Jul</td>\n",
       "      <td>1992</td>\n",
       "      <td>01</td>\n",
       "      <td>Wednesday</td>\n",
       "      <td>27</td>\n",
       "      <td>729</td>\n",
       "      <td>8.162801</td>\n",
       "      <td>0</td>\n",
       "      <td>0</td>\n",
       "      <td>1</td>\n",
       "      <td>0</td>\n",
       "    </tr>\n",
       "    <tr>\n",
       "      <th>27</th>\n",
       "      <td>1992-10-01</td>\n",
       "      <td>3243.859993</td>\n",
       "      <td>Oct</td>\n",
       "      <td>1992</td>\n",
       "      <td>01</td>\n",
       "      <td>Thursday</td>\n",
       "      <td>28</td>\n",
       "      <td>784</td>\n",
       "      <td>8.084519</td>\n",
       "      <td>0</td>\n",
       "      <td>0</td>\n",
       "      <td>0</td>\n",
       "      <td>1</td>\n",
       "    </tr>\n",
       "    <tr>\n",
       "      <th>28</th>\n",
       "      <td>1993-01-01</td>\n",
       "      <td>3056.000000</td>\n",
       "      <td>Jan</td>\n",
       "      <td>1993</td>\n",
       "      <td>01</td>\n",
       "      <td>Friday</td>\n",
       "      <td>29</td>\n",
       "      <td>841</td>\n",
       "      <td>8.024862</td>\n",
       "      <td>0</td>\n",
       "      <td>1</td>\n",
       "      <td>0</td>\n",
       "      <td>0</td>\n",
       "    </tr>\n",
       "    <tr>\n",
       "      <th>29</th>\n",
       "      <td>1993-04-01</td>\n",
       "      <td>3899.000000</td>\n",
       "      <td>Apr</td>\n",
       "      <td>1993</td>\n",
       "      <td>01</td>\n",
       "      <td>Thursday</td>\n",
       "      <td>30</td>\n",
       "      <td>900</td>\n",
       "      <td>8.268475</td>\n",
       "      <td>1</td>\n",
       "      <td>0</td>\n",
       "      <td>0</td>\n",
       "      <td>0</td>\n",
       "    </tr>\n",
       "    <tr>\n",
       "      <th>30</th>\n",
       "      <td>1993-07-01</td>\n",
       "      <td>3629.000000</td>\n",
       "      <td>Jul</td>\n",
       "      <td>1993</td>\n",
       "      <td>01</td>\n",
       "      <td>Thursday</td>\n",
       "      <td>31</td>\n",
       "      <td>961</td>\n",
       "      <td>8.196712</td>\n",
       "      <td>0</td>\n",
       "      <td>0</td>\n",
       "      <td>1</td>\n",
       "      <td>0</td>\n",
       "    </tr>\n",
       "    <tr>\n",
       "      <th>31</th>\n",
       "      <td>1993-10-01</td>\n",
       "      <td>3373.000000</td>\n",
       "      <td>Oct</td>\n",
       "      <td>1993</td>\n",
       "      <td>01</td>\n",
       "      <td>Friday</td>\n",
       "      <td>32</td>\n",
       "      <td>1024</td>\n",
       "      <td>8.123558</td>\n",
       "      <td>0</td>\n",
       "      <td>0</td>\n",
       "      <td>0</td>\n",
       "      <td>1</td>\n",
       "    </tr>\n",
       "    <tr>\n",
       "      <th>32</th>\n",
       "      <td>1994-01-01</td>\n",
       "      <td>3352.000000</td>\n",
       "      <td>Jan</td>\n",
       "      <td>1994</td>\n",
       "      <td>01</td>\n",
       "      <td>Saturday</td>\n",
       "      <td>33</td>\n",
       "      <td>1089</td>\n",
       "      <td>8.117312</td>\n",
       "      <td>0</td>\n",
       "      <td>1</td>\n",
       "      <td>0</td>\n",
       "      <td>0</td>\n",
       "    </tr>\n",
       "    <tr>\n",
       "      <th>33</th>\n",
       "      <td>1994-04-01</td>\n",
       "      <td>4342.000000</td>\n",
       "      <td>Apr</td>\n",
       "      <td>1994</td>\n",
       "      <td>01</td>\n",
       "      <td>Friday</td>\n",
       "      <td>34</td>\n",
       "      <td>1156</td>\n",
       "      <td>8.376090</td>\n",
       "      <td>1</td>\n",
       "      <td>0</td>\n",
       "      <td>0</td>\n",
       "      <td>0</td>\n",
       "    </tr>\n",
       "    <tr>\n",
       "      <th>34</th>\n",
       "      <td>1994-07-01</td>\n",
       "      <td>4461.000000</td>\n",
       "      <td>Jul</td>\n",
       "      <td>1994</td>\n",
       "      <td>01</td>\n",
       "      <td>Friday</td>\n",
       "      <td>35</td>\n",
       "      <td>1225</td>\n",
       "      <td>8.403128</td>\n",
       "      <td>0</td>\n",
       "      <td>0</td>\n",
       "      <td>1</td>\n",
       "      <td>0</td>\n",
       "    </tr>\n",
       "    <tr>\n",
       "      <th>35</th>\n",
       "      <td>1994-10-01</td>\n",
       "      <td>4017.000000</td>\n",
       "      <td>Oct</td>\n",
       "      <td>1994</td>\n",
       "      <td>01</td>\n",
       "      <td>Saturday</td>\n",
       "      <td>36</td>\n",
       "      <td>1296</td>\n",
       "      <td>8.298291</td>\n",
       "      <td>0</td>\n",
       "      <td>0</td>\n",
       "      <td>0</td>\n",
       "      <td>1</td>\n",
       "    </tr>\n",
       "    <tr>\n",
       "      <th>36</th>\n",
       "      <td>1995-01-01</td>\n",
       "      <td>3854.000000</td>\n",
       "      <td>Jan</td>\n",
       "      <td>1995</td>\n",
       "      <td>01</td>\n",
       "      <td>Sunday</td>\n",
       "      <td>37</td>\n",
       "      <td>1369</td>\n",
       "      <td>8.256867</td>\n",
       "      <td>0</td>\n",
       "      <td>1</td>\n",
       "      <td>0</td>\n",
       "      <td>0</td>\n",
       "    </tr>\n",
       "    <tr>\n",
       "      <th>37</th>\n",
       "      <td>1995-04-01</td>\n",
       "      <td>4936.000000</td>\n",
       "      <td>Apr</td>\n",
       "      <td>1995</td>\n",
       "      <td>01</td>\n",
       "      <td>Saturday</td>\n",
       "      <td>38</td>\n",
       "      <td>1444</td>\n",
       "      <td>8.504311</td>\n",
       "      <td>1</td>\n",
       "      <td>0</td>\n",
       "      <td>0</td>\n",
       "      <td>0</td>\n",
       "    </tr>\n",
       "    <tr>\n",
       "      <th>38</th>\n",
       "      <td>1995-07-01</td>\n",
       "      <td>4895.000000</td>\n",
       "      <td>Jul</td>\n",
       "      <td>1995</td>\n",
       "      <td>01</td>\n",
       "      <td>Saturday</td>\n",
       "      <td>39</td>\n",
       "      <td>1521</td>\n",
       "      <td>8.495970</td>\n",
       "      <td>0</td>\n",
       "      <td>0</td>\n",
       "      <td>1</td>\n",
       "      <td>0</td>\n",
       "    </tr>\n",
       "    <tr>\n",
       "      <th>39</th>\n",
       "      <td>1995-10-01</td>\n",
       "      <td>4333.000000</td>\n",
       "      <td>Oct</td>\n",
       "      <td>1995</td>\n",
       "      <td>01</td>\n",
       "      <td>Sunday</td>\n",
       "      <td>40</td>\n",
       "      <td>1600</td>\n",
       "      <td>8.374015</td>\n",
       "      <td>0</td>\n",
       "      <td>0</td>\n",
       "      <td>0</td>\n",
       "      <td>1</td>\n",
       "    </tr>\n",
       "    <tr>\n",
       "      <th>40</th>\n",
       "      <td>1996-01-01</td>\n",
       "      <td>4194.000000</td>\n",
       "      <td>Jan</td>\n",
       "      <td>1996</td>\n",
       "      <td>01</td>\n",
       "      <td>Monday</td>\n",
       "      <td>41</td>\n",
       "      <td>1681</td>\n",
       "      <td>8.341410</td>\n",
       "      <td>0</td>\n",
       "      <td>1</td>\n",
       "      <td>0</td>\n",
       "      <td>0</td>\n",
       "    </tr>\n",
       "    <tr>\n",
       "      <th>41</th>\n",
       "      <td>1996-04-01</td>\n",
       "      <td>5253.000000</td>\n",
       "      <td>Apr</td>\n",
       "      <td>1996</td>\n",
       "      <td>01</td>\n",
       "      <td>Monday</td>\n",
       "      <td>42</td>\n",
       "      <td>1764</td>\n",
       "      <td>8.566555</td>\n",
       "      <td>1</td>\n",
       "      <td>0</td>\n",
       "      <td>0</td>\n",
       "      <td>0</td>\n",
       "    </tr>\n",
       "  </tbody>\n",
       "</table>\n",
       "</div>"
      ],
      "text/plain": [
       "      Quarter        Sales month  year Day      wkday   t  t_square  \\\n",
       "0  1986-01-01  1734.827000   Jan  1986  01  Wednesday   1         1   \n",
       "1  1986-04-01  2244.960999   Apr  1986  01    Tuesday   2         4   \n",
       "2  1986-07-01  2533.804993   Jul  1986  01    Tuesday   3         9   \n",
       "3  1986-10-01  2154.962997   Oct  1986  01  Wednesday   4        16   \n",
       "4  1987-01-01  1547.818996   Jan  1987  01   Thursday   5        25   \n",
       "5  1987-04-01  2104.411995   Apr  1987  01  Wednesday   6        36   \n",
       "6  1987-07-01  2014.362999   Jul  1987  01  Wednesday   7        49   \n",
       "7  1987-10-01  1991.746998   Oct  1987  01   Thursday   8        64   \n",
       "8  1988-01-01  1869.049999   Jan  1988  01     Friday   9        81   \n",
       "9  1988-04-01  2313.631996   Apr  1988  01     Friday  10       100   \n",
       "10 1988-07-01  2128.320000   Jul  1988  01     Friday  11       121   \n",
       "11 1988-10-01  2026.828999   Oct  1988  01   Saturday  12       144   \n",
       "12 1989-01-01  1910.603996   Jan  1989  01     Sunday  13       169   \n",
       "13 1989-04-01  2331.164993   Apr  1989  01   Saturday  14       196   \n",
       "14 1989-07-01  2206.549995   Jul  1989  01   Saturday  15       225   \n",
       "15 1989-10-01  2173.967995   Oct  1989  01     Sunday  16       256   \n",
       "16 1990-01-01  2148.278000   Jan  1990  01     Monday  17       289   \n",
       "17 1990-04-01  2739.307999   Apr  1990  01     Sunday  18       324   \n",
       "18 1990-07-01  2792.753998   Jul  1990  01     Sunday  19       361   \n",
       "19 1990-10-01  2556.009995   Oct  1990  01     Monday  20       400   \n",
       "20 1991-01-01  2480.973999   Jan  1991  01    Tuesday  21       441   \n",
       "21 1991-04-01  3039.522995   Apr  1991  01     Monday  22       484   \n",
       "22 1991-07-01  3172.115997   Jul  1991  01     Monday  23       529   \n",
       "23 1991-10-01  2879.000999   Oct  1991  01    Tuesday  24       576   \n",
       "24 1992-01-01  2772.000000   Jan  1992  01  Wednesday  25       625   \n",
       "25 1992-04-01  3550.000000   Apr  1992  01  Wednesday  26       676   \n",
       "26 1992-07-01  3508.000000   Jul  1992  01  Wednesday  27       729   \n",
       "27 1992-10-01  3243.859993   Oct  1992  01   Thursday  28       784   \n",
       "28 1993-01-01  3056.000000   Jan  1993  01     Friday  29       841   \n",
       "29 1993-04-01  3899.000000   Apr  1993  01   Thursday  30       900   \n",
       "30 1993-07-01  3629.000000   Jul  1993  01   Thursday  31       961   \n",
       "31 1993-10-01  3373.000000   Oct  1993  01     Friday  32      1024   \n",
       "32 1994-01-01  3352.000000   Jan  1994  01   Saturday  33      1089   \n",
       "33 1994-04-01  4342.000000   Apr  1994  01     Friday  34      1156   \n",
       "34 1994-07-01  4461.000000   Jul  1994  01     Friday  35      1225   \n",
       "35 1994-10-01  4017.000000   Oct  1994  01   Saturday  36      1296   \n",
       "36 1995-01-01  3854.000000   Jan  1995  01     Sunday  37      1369   \n",
       "37 1995-04-01  4936.000000   Apr  1995  01   Saturday  38      1444   \n",
       "38 1995-07-01  4895.000000   Jul  1995  01   Saturday  39      1521   \n",
       "39 1995-10-01  4333.000000   Oct  1995  01     Sunday  40      1600   \n",
       "40 1996-01-01  4194.000000   Jan  1996  01     Monday  41      1681   \n",
       "41 1996-04-01  5253.000000   Apr  1996  01     Monday  42      1764   \n",
       "\n",
       "    log_sales  Apr  Jan  Jul  Oct  \n",
       "0    7.458663    0    1    0    0  \n",
       "1    7.716443    1    0    0    0  \n",
       "2    7.837477    0    0    1    0  \n",
       "3    7.675529    0    0    0    1  \n",
       "4    7.344602    0    1    0    0  \n",
       "5    7.651791    1    0    0    0  \n",
       "6    7.608058    0    0    1    0  \n",
       "7    7.596767    0    0    0    1  \n",
       "8    7.533186    0    1    0    0  \n",
       "9    7.746574    1    0    0    0  \n",
       "10   7.663088    0    0    1    0  \n",
       "11   7.614228    0    0    0    1  \n",
       "12   7.555175    0    1    0    0  \n",
       "13   7.754123    1    0    0    0  \n",
       "14   7.699185    0    0    1    0  \n",
       "15   7.684309    0    0    0    1  \n",
       "16   7.672422    0    1    0    0  \n",
       "17   7.915461    1    0    0    0  \n",
       "18   7.934783    0    0    1    0  \n",
       "19   7.846203    0    0    0    1  \n",
       "20   7.816407    0    1    0    0  \n",
       "21   8.019456    1    0    0    0  \n",
       "22   8.062154    0    0    1    0  \n",
       "23   7.965199    0    0    0    1  \n",
       "24   7.927324    0    1    0    0  \n",
       "25   8.174703    1    0    0    0  \n",
       "26   8.162801    0    0    1    0  \n",
       "27   8.084519    0    0    0    1  \n",
       "28   8.024862    0    1    0    0  \n",
       "29   8.268475    1    0    0    0  \n",
       "30   8.196712    0    0    1    0  \n",
       "31   8.123558    0    0    0    1  \n",
       "32   8.117312    0    1    0    0  \n",
       "33   8.376090    1    0    0    0  \n",
       "34   8.403128    0    0    1    0  \n",
       "35   8.298291    0    0    0    1  \n",
       "36   8.256867    0    1    0    0  \n",
       "37   8.504311    1    0    0    0  \n",
       "38   8.495970    0    0    1    0  \n",
       "39   8.374015    0    0    0    1  \n",
       "40   8.341410    0    1    0    0  \n",
       "41   8.566555    1    0    0    0  "
      ]
     },
     "execution_count": 37,
     "metadata": {},
     "output_type": "execute_result"
    }
   ],
   "source": [
    "series['t'] = np.arange(1,43)\n",
    "series['t_square'] = np.square(series.t)\n",
    "series['log_sales'] = np.log(series.Sales)\n",
    "series1 = pd.get_dummies(series['month'])\n",
    "series = pd.concat([series, series1],axis=1)\n",
    "series"
   ]
  },
  {
   "cell_type": "code",
   "execution_count": null,
   "id": "6e9324c0-65be-41ef-8279-cbdde474f3af",
   "metadata": {},
   "outputs": [],
   "source": []
  },
  {
   "cell_type": "code",
   "execution_count": 38,
   "id": "268aba38-9680-42ae-905c-348dddede857",
   "metadata": {
    "id": "-UIp64oCyRzz"
   },
   "outputs": [],
   "source": [
    "Train = series.head(34)\n",
    "Test = series.tail(8)"
   ]
  },
  {
   "cell_type": "code",
   "execution_count": 39,
   "id": "367ba50b-3864-45a6-b117-579b3f1b792f",
   "metadata": {},
   "outputs": [
    {
     "data": {
      "text/html": [
       "<div>\n",
       "<style scoped>\n",
       "    .dataframe tbody tr th:only-of-type {\n",
       "        vertical-align: middle;\n",
       "    }\n",
       "\n",
       "    .dataframe tbody tr th {\n",
       "        vertical-align: top;\n",
       "    }\n",
       "\n",
       "    .dataframe thead th {\n",
       "        text-align: right;\n",
       "    }\n",
       "</style>\n",
       "<table border=\"1\" class=\"dataframe\">\n",
       "  <thead>\n",
       "    <tr style=\"text-align: right;\">\n",
       "      <th></th>\n",
       "      <th>Quarter</th>\n",
       "      <th>Sales</th>\n",
       "      <th>month</th>\n",
       "      <th>year</th>\n",
       "      <th>Day</th>\n",
       "      <th>wkday</th>\n",
       "      <th>t</th>\n",
       "      <th>t_square</th>\n",
       "      <th>log_sales</th>\n",
       "      <th>Apr</th>\n",
       "      <th>Jan</th>\n",
       "      <th>Jul</th>\n",
       "      <th>Oct</th>\n",
       "    </tr>\n",
       "  </thead>\n",
       "  <tbody>\n",
       "    <tr>\n",
       "      <th>0</th>\n",
       "      <td>1986-01-01</td>\n",
       "      <td>1734.827000</td>\n",
       "      <td>Jan</td>\n",
       "      <td>1986</td>\n",
       "      <td>01</td>\n",
       "      <td>Wednesday</td>\n",
       "      <td>1</td>\n",
       "      <td>1</td>\n",
       "      <td>7.458663</td>\n",
       "      <td>0</td>\n",
       "      <td>1</td>\n",
       "      <td>0</td>\n",
       "      <td>0</td>\n",
       "    </tr>\n",
       "    <tr>\n",
       "      <th>1</th>\n",
       "      <td>1986-04-01</td>\n",
       "      <td>2244.960999</td>\n",
       "      <td>Apr</td>\n",
       "      <td>1986</td>\n",
       "      <td>01</td>\n",
       "      <td>Tuesday</td>\n",
       "      <td>2</td>\n",
       "      <td>4</td>\n",
       "      <td>7.716443</td>\n",
       "      <td>1</td>\n",
       "      <td>0</td>\n",
       "      <td>0</td>\n",
       "      <td>0</td>\n",
       "    </tr>\n",
       "    <tr>\n",
       "      <th>2</th>\n",
       "      <td>1986-07-01</td>\n",
       "      <td>2533.804993</td>\n",
       "      <td>Jul</td>\n",
       "      <td>1986</td>\n",
       "      <td>01</td>\n",
       "      <td>Tuesday</td>\n",
       "      <td>3</td>\n",
       "      <td>9</td>\n",
       "      <td>7.837477</td>\n",
       "      <td>0</td>\n",
       "      <td>0</td>\n",
       "      <td>1</td>\n",
       "      <td>0</td>\n",
       "    </tr>\n",
       "    <tr>\n",
       "      <th>3</th>\n",
       "      <td>1986-10-01</td>\n",
       "      <td>2154.962997</td>\n",
       "      <td>Oct</td>\n",
       "      <td>1986</td>\n",
       "      <td>01</td>\n",
       "      <td>Wednesday</td>\n",
       "      <td>4</td>\n",
       "      <td>16</td>\n",
       "      <td>7.675529</td>\n",
       "      <td>0</td>\n",
       "      <td>0</td>\n",
       "      <td>0</td>\n",
       "      <td>1</td>\n",
       "    </tr>\n",
       "    <tr>\n",
       "      <th>4</th>\n",
       "      <td>1987-01-01</td>\n",
       "      <td>1547.818996</td>\n",
       "      <td>Jan</td>\n",
       "      <td>1987</td>\n",
       "      <td>01</td>\n",
       "      <td>Thursday</td>\n",
       "      <td>5</td>\n",
       "      <td>25</td>\n",
       "      <td>7.344602</td>\n",
       "      <td>0</td>\n",
       "      <td>1</td>\n",
       "      <td>0</td>\n",
       "      <td>0</td>\n",
       "    </tr>\n",
       "    <tr>\n",
       "      <th>5</th>\n",
       "      <td>1987-04-01</td>\n",
       "      <td>2104.411995</td>\n",
       "      <td>Apr</td>\n",
       "      <td>1987</td>\n",
       "      <td>01</td>\n",
       "      <td>Wednesday</td>\n",
       "      <td>6</td>\n",
       "      <td>36</td>\n",
       "      <td>7.651791</td>\n",
       "      <td>1</td>\n",
       "      <td>0</td>\n",
       "      <td>0</td>\n",
       "      <td>0</td>\n",
       "    </tr>\n",
       "    <tr>\n",
       "      <th>6</th>\n",
       "      <td>1987-07-01</td>\n",
       "      <td>2014.362999</td>\n",
       "      <td>Jul</td>\n",
       "      <td>1987</td>\n",
       "      <td>01</td>\n",
       "      <td>Wednesday</td>\n",
       "      <td>7</td>\n",
       "      <td>49</td>\n",
       "      <td>7.608058</td>\n",
       "      <td>0</td>\n",
       "      <td>0</td>\n",
       "      <td>1</td>\n",
       "      <td>0</td>\n",
       "    </tr>\n",
       "    <tr>\n",
       "      <th>7</th>\n",
       "      <td>1987-10-01</td>\n",
       "      <td>1991.746998</td>\n",
       "      <td>Oct</td>\n",
       "      <td>1987</td>\n",
       "      <td>01</td>\n",
       "      <td>Thursday</td>\n",
       "      <td>8</td>\n",
       "      <td>64</td>\n",
       "      <td>7.596767</td>\n",
       "      <td>0</td>\n",
       "      <td>0</td>\n",
       "      <td>0</td>\n",
       "      <td>1</td>\n",
       "    </tr>\n",
       "    <tr>\n",
       "      <th>8</th>\n",
       "      <td>1988-01-01</td>\n",
       "      <td>1869.049999</td>\n",
       "      <td>Jan</td>\n",
       "      <td>1988</td>\n",
       "      <td>01</td>\n",
       "      <td>Friday</td>\n",
       "      <td>9</td>\n",
       "      <td>81</td>\n",
       "      <td>7.533186</td>\n",
       "      <td>0</td>\n",
       "      <td>1</td>\n",
       "      <td>0</td>\n",
       "      <td>0</td>\n",
       "    </tr>\n",
       "    <tr>\n",
       "      <th>9</th>\n",
       "      <td>1988-04-01</td>\n",
       "      <td>2313.631996</td>\n",
       "      <td>Apr</td>\n",
       "      <td>1988</td>\n",
       "      <td>01</td>\n",
       "      <td>Friday</td>\n",
       "      <td>10</td>\n",
       "      <td>100</td>\n",
       "      <td>7.746574</td>\n",
       "      <td>1</td>\n",
       "      <td>0</td>\n",
       "      <td>0</td>\n",
       "      <td>0</td>\n",
       "    </tr>\n",
       "    <tr>\n",
       "      <th>10</th>\n",
       "      <td>1988-07-01</td>\n",
       "      <td>2128.320000</td>\n",
       "      <td>Jul</td>\n",
       "      <td>1988</td>\n",
       "      <td>01</td>\n",
       "      <td>Friday</td>\n",
       "      <td>11</td>\n",
       "      <td>121</td>\n",
       "      <td>7.663088</td>\n",
       "      <td>0</td>\n",
       "      <td>0</td>\n",
       "      <td>1</td>\n",
       "      <td>0</td>\n",
       "    </tr>\n",
       "    <tr>\n",
       "      <th>11</th>\n",
       "      <td>1988-10-01</td>\n",
       "      <td>2026.828999</td>\n",
       "      <td>Oct</td>\n",
       "      <td>1988</td>\n",
       "      <td>01</td>\n",
       "      <td>Saturday</td>\n",
       "      <td>12</td>\n",
       "      <td>144</td>\n",
       "      <td>7.614228</td>\n",
       "      <td>0</td>\n",
       "      <td>0</td>\n",
       "      <td>0</td>\n",
       "      <td>1</td>\n",
       "    </tr>\n",
       "    <tr>\n",
       "      <th>12</th>\n",
       "      <td>1989-01-01</td>\n",
       "      <td>1910.603996</td>\n",
       "      <td>Jan</td>\n",
       "      <td>1989</td>\n",
       "      <td>01</td>\n",
       "      <td>Sunday</td>\n",
       "      <td>13</td>\n",
       "      <td>169</td>\n",
       "      <td>7.555175</td>\n",
       "      <td>0</td>\n",
       "      <td>1</td>\n",
       "      <td>0</td>\n",
       "      <td>0</td>\n",
       "    </tr>\n",
       "    <tr>\n",
       "      <th>13</th>\n",
       "      <td>1989-04-01</td>\n",
       "      <td>2331.164993</td>\n",
       "      <td>Apr</td>\n",
       "      <td>1989</td>\n",
       "      <td>01</td>\n",
       "      <td>Saturday</td>\n",
       "      <td>14</td>\n",
       "      <td>196</td>\n",
       "      <td>7.754123</td>\n",
       "      <td>1</td>\n",
       "      <td>0</td>\n",
       "      <td>0</td>\n",
       "      <td>0</td>\n",
       "    </tr>\n",
       "    <tr>\n",
       "      <th>14</th>\n",
       "      <td>1989-07-01</td>\n",
       "      <td>2206.549995</td>\n",
       "      <td>Jul</td>\n",
       "      <td>1989</td>\n",
       "      <td>01</td>\n",
       "      <td>Saturday</td>\n",
       "      <td>15</td>\n",
       "      <td>225</td>\n",
       "      <td>7.699185</td>\n",
       "      <td>0</td>\n",
       "      <td>0</td>\n",
       "      <td>1</td>\n",
       "      <td>0</td>\n",
       "    </tr>\n",
       "    <tr>\n",
       "      <th>15</th>\n",
       "      <td>1989-10-01</td>\n",
       "      <td>2173.967995</td>\n",
       "      <td>Oct</td>\n",
       "      <td>1989</td>\n",
       "      <td>01</td>\n",
       "      <td>Sunday</td>\n",
       "      <td>16</td>\n",
       "      <td>256</td>\n",
       "      <td>7.684309</td>\n",
       "      <td>0</td>\n",
       "      <td>0</td>\n",
       "      <td>0</td>\n",
       "      <td>1</td>\n",
       "    </tr>\n",
       "    <tr>\n",
       "      <th>16</th>\n",
       "      <td>1990-01-01</td>\n",
       "      <td>2148.278000</td>\n",
       "      <td>Jan</td>\n",
       "      <td>1990</td>\n",
       "      <td>01</td>\n",
       "      <td>Monday</td>\n",
       "      <td>17</td>\n",
       "      <td>289</td>\n",
       "      <td>7.672422</td>\n",
       "      <td>0</td>\n",
       "      <td>1</td>\n",
       "      <td>0</td>\n",
       "      <td>0</td>\n",
       "    </tr>\n",
       "    <tr>\n",
       "      <th>17</th>\n",
       "      <td>1990-04-01</td>\n",
       "      <td>2739.307999</td>\n",
       "      <td>Apr</td>\n",
       "      <td>1990</td>\n",
       "      <td>01</td>\n",
       "      <td>Sunday</td>\n",
       "      <td>18</td>\n",
       "      <td>324</td>\n",
       "      <td>7.915461</td>\n",
       "      <td>1</td>\n",
       "      <td>0</td>\n",
       "      <td>0</td>\n",
       "      <td>0</td>\n",
       "    </tr>\n",
       "    <tr>\n",
       "      <th>18</th>\n",
       "      <td>1990-07-01</td>\n",
       "      <td>2792.753998</td>\n",
       "      <td>Jul</td>\n",
       "      <td>1990</td>\n",
       "      <td>01</td>\n",
       "      <td>Sunday</td>\n",
       "      <td>19</td>\n",
       "      <td>361</td>\n",
       "      <td>7.934783</td>\n",
       "      <td>0</td>\n",
       "      <td>0</td>\n",
       "      <td>1</td>\n",
       "      <td>0</td>\n",
       "    </tr>\n",
       "    <tr>\n",
       "      <th>19</th>\n",
       "      <td>1990-10-01</td>\n",
       "      <td>2556.009995</td>\n",
       "      <td>Oct</td>\n",
       "      <td>1990</td>\n",
       "      <td>01</td>\n",
       "      <td>Monday</td>\n",
       "      <td>20</td>\n",
       "      <td>400</td>\n",
       "      <td>7.846203</td>\n",
       "      <td>0</td>\n",
       "      <td>0</td>\n",
       "      <td>0</td>\n",
       "      <td>1</td>\n",
       "    </tr>\n",
       "    <tr>\n",
       "      <th>20</th>\n",
       "      <td>1991-01-01</td>\n",
       "      <td>2480.973999</td>\n",
       "      <td>Jan</td>\n",
       "      <td>1991</td>\n",
       "      <td>01</td>\n",
       "      <td>Tuesday</td>\n",
       "      <td>21</td>\n",
       "      <td>441</td>\n",
       "      <td>7.816407</td>\n",
       "      <td>0</td>\n",
       "      <td>1</td>\n",
       "      <td>0</td>\n",
       "      <td>0</td>\n",
       "    </tr>\n",
       "    <tr>\n",
       "      <th>21</th>\n",
       "      <td>1991-04-01</td>\n",
       "      <td>3039.522995</td>\n",
       "      <td>Apr</td>\n",
       "      <td>1991</td>\n",
       "      <td>01</td>\n",
       "      <td>Monday</td>\n",
       "      <td>22</td>\n",
       "      <td>484</td>\n",
       "      <td>8.019456</td>\n",
       "      <td>1</td>\n",
       "      <td>0</td>\n",
       "      <td>0</td>\n",
       "      <td>0</td>\n",
       "    </tr>\n",
       "    <tr>\n",
       "      <th>22</th>\n",
       "      <td>1991-07-01</td>\n",
       "      <td>3172.115997</td>\n",
       "      <td>Jul</td>\n",
       "      <td>1991</td>\n",
       "      <td>01</td>\n",
       "      <td>Monday</td>\n",
       "      <td>23</td>\n",
       "      <td>529</td>\n",
       "      <td>8.062154</td>\n",
       "      <td>0</td>\n",
       "      <td>0</td>\n",
       "      <td>1</td>\n",
       "      <td>0</td>\n",
       "    </tr>\n",
       "    <tr>\n",
       "      <th>23</th>\n",
       "      <td>1991-10-01</td>\n",
       "      <td>2879.000999</td>\n",
       "      <td>Oct</td>\n",
       "      <td>1991</td>\n",
       "      <td>01</td>\n",
       "      <td>Tuesday</td>\n",
       "      <td>24</td>\n",
       "      <td>576</td>\n",
       "      <td>7.965199</td>\n",
       "      <td>0</td>\n",
       "      <td>0</td>\n",
       "      <td>0</td>\n",
       "      <td>1</td>\n",
       "    </tr>\n",
       "    <tr>\n",
       "      <th>24</th>\n",
       "      <td>1992-01-01</td>\n",
       "      <td>2772.000000</td>\n",
       "      <td>Jan</td>\n",
       "      <td>1992</td>\n",
       "      <td>01</td>\n",
       "      <td>Wednesday</td>\n",
       "      <td>25</td>\n",
       "      <td>625</td>\n",
       "      <td>7.927324</td>\n",
       "      <td>0</td>\n",
       "      <td>1</td>\n",
       "      <td>0</td>\n",
       "      <td>0</td>\n",
       "    </tr>\n",
       "    <tr>\n",
       "      <th>25</th>\n",
       "      <td>1992-04-01</td>\n",
       "      <td>3550.000000</td>\n",
       "      <td>Apr</td>\n",
       "      <td>1992</td>\n",
       "      <td>01</td>\n",
       "      <td>Wednesday</td>\n",
       "      <td>26</td>\n",
       "      <td>676</td>\n",
       "      <td>8.174703</td>\n",
       "      <td>1</td>\n",
       "      <td>0</td>\n",
       "      <td>0</td>\n",
       "      <td>0</td>\n",
       "    </tr>\n",
       "    <tr>\n",
       "      <th>26</th>\n",
       "      <td>1992-07-01</td>\n",
       "      <td>3508.000000</td>\n",
       "      <td>Jul</td>\n",
       "      <td>1992</td>\n",
       "      <td>01</td>\n",
       "      <td>Wednesday</td>\n",
       "      <td>27</td>\n",
       "      <td>729</td>\n",
       "      <td>8.162801</td>\n",
       "      <td>0</td>\n",
       "      <td>0</td>\n",
       "      <td>1</td>\n",
       "      <td>0</td>\n",
       "    </tr>\n",
       "    <tr>\n",
       "      <th>27</th>\n",
       "      <td>1992-10-01</td>\n",
       "      <td>3243.859993</td>\n",
       "      <td>Oct</td>\n",
       "      <td>1992</td>\n",
       "      <td>01</td>\n",
       "      <td>Thursday</td>\n",
       "      <td>28</td>\n",
       "      <td>784</td>\n",
       "      <td>8.084519</td>\n",
       "      <td>0</td>\n",
       "      <td>0</td>\n",
       "      <td>0</td>\n",
       "      <td>1</td>\n",
       "    </tr>\n",
       "    <tr>\n",
       "      <th>28</th>\n",
       "      <td>1993-01-01</td>\n",
       "      <td>3056.000000</td>\n",
       "      <td>Jan</td>\n",
       "      <td>1993</td>\n",
       "      <td>01</td>\n",
       "      <td>Friday</td>\n",
       "      <td>29</td>\n",
       "      <td>841</td>\n",
       "      <td>8.024862</td>\n",
       "      <td>0</td>\n",
       "      <td>1</td>\n",
       "      <td>0</td>\n",
       "      <td>0</td>\n",
       "    </tr>\n",
       "    <tr>\n",
       "      <th>29</th>\n",
       "      <td>1993-04-01</td>\n",
       "      <td>3899.000000</td>\n",
       "      <td>Apr</td>\n",
       "      <td>1993</td>\n",
       "      <td>01</td>\n",
       "      <td>Thursday</td>\n",
       "      <td>30</td>\n",
       "      <td>900</td>\n",
       "      <td>8.268475</td>\n",
       "      <td>1</td>\n",
       "      <td>0</td>\n",
       "      <td>0</td>\n",
       "      <td>0</td>\n",
       "    </tr>\n",
       "    <tr>\n",
       "      <th>30</th>\n",
       "      <td>1993-07-01</td>\n",
       "      <td>3629.000000</td>\n",
       "      <td>Jul</td>\n",
       "      <td>1993</td>\n",
       "      <td>01</td>\n",
       "      <td>Thursday</td>\n",
       "      <td>31</td>\n",
       "      <td>961</td>\n",
       "      <td>8.196712</td>\n",
       "      <td>0</td>\n",
       "      <td>0</td>\n",
       "      <td>1</td>\n",
       "      <td>0</td>\n",
       "    </tr>\n",
       "    <tr>\n",
       "      <th>31</th>\n",
       "      <td>1993-10-01</td>\n",
       "      <td>3373.000000</td>\n",
       "      <td>Oct</td>\n",
       "      <td>1993</td>\n",
       "      <td>01</td>\n",
       "      <td>Friday</td>\n",
       "      <td>32</td>\n",
       "      <td>1024</td>\n",
       "      <td>8.123558</td>\n",
       "      <td>0</td>\n",
       "      <td>0</td>\n",
       "      <td>0</td>\n",
       "      <td>1</td>\n",
       "    </tr>\n",
       "    <tr>\n",
       "      <th>32</th>\n",
       "      <td>1994-01-01</td>\n",
       "      <td>3352.000000</td>\n",
       "      <td>Jan</td>\n",
       "      <td>1994</td>\n",
       "      <td>01</td>\n",
       "      <td>Saturday</td>\n",
       "      <td>33</td>\n",
       "      <td>1089</td>\n",
       "      <td>8.117312</td>\n",
       "      <td>0</td>\n",
       "      <td>1</td>\n",
       "      <td>0</td>\n",
       "      <td>0</td>\n",
       "    </tr>\n",
       "    <tr>\n",
       "      <th>33</th>\n",
       "      <td>1994-04-01</td>\n",
       "      <td>4342.000000</td>\n",
       "      <td>Apr</td>\n",
       "      <td>1994</td>\n",
       "      <td>01</td>\n",
       "      <td>Friday</td>\n",
       "      <td>34</td>\n",
       "      <td>1156</td>\n",
       "      <td>8.376090</td>\n",
       "      <td>1</td>\n",
       "      <td>0</td>\n",
       "      <td>0</td>\n",
       "      <td>0</td>\n",
       "    </tr>\n",
       "  </tbody>\n",
       "</table>\n",
       "</div>"
      ],
      "text/plain": [
       "      Quarter        Sales month  year Day      wkday   t  t_square  \\\n",
       "0  1986-01-01  1734.827000   Jan  1986  01  Wednesday   1         1   \n",
       "1  1986-04-01  2244.960999   Apr  1986  01    Tuesday   2         4   \n",
       "2  1986-07-01  2533.804993   Jul  1986  01    Tuesday   3         9   \n",
       "3  1986-10-01  2154.962997   Oct  1986  01  Wednesday   4        16   \n",
       "4  1987-01-01  1547.818996   Jan  1987  01   Thursday   5        25   \n",
       "5  1987-04-01  2104.411995   Apr  1987  01  Wednesday   6        36   \n",
       "6  1987-07-01  2014.362999   Jul  1987  01  Wednesday   7        49   \n",
       "7  1987-10-01  1991.746998   Oct  1987  01   Thursday   8        64   \n",
       "8  1988-01-01  1869.049999   Jan  1988  01     Friday   9        81   \n",
       "9  1988-04-01  2313.631996   Apr  1988  01     Friday  10       100   \n",
       "10 1988-07-01  2128.320000   Jul  1988  01     Friday  11       121   \n",
       "11 1988-10-01  2026.828999   Oct  1988  01   Saturday  12       144   \n",
       "12 1989-01-01  1910.603996   Jan  1989  01     Sunday  13       169   \n",
       "13 1989-04-01  2331.164993   Apr  1989  01   Saturday  14       196   \n",
       "14 1989-07-01  2206.549995   Jul  1989  01   Saturday  15       225   \n",
       "15 1989-10-01  2173.967995   Oct  1989  01     Sunday  16       256   \n",
       "16 1990-01-01  2148.278000   Jan  1990  01     Monday  17       289   \n",
       "17 1990-04-01  2739.307999   Apr  1990  01     Sunday  18       324   \n",
       "18 1990-07-01  2792.753998   Jul  1990  01     Sunday  19       361   \n",
       "19 1990-10-01  2556.009995   Oct  1990  01     Monday  20       400   \n",
       "20 1991-01-01  2480.973999   Jan  1991  01    Tuesday  21       441   \n",
       "21 1991-04-01  3039.522995   Apr  1991  01     Monday  22       484   \n",
       "22 1991-07-01  3172.115997   Jul  1991  01     Monday  23       529   \n",
       "23 1991-10-01  2879.000999   Oct  1991  01    Tuesday  24       576   \n",
       "24 1992-01-01  2772.000000   Jan  1992  01  Wednesday  25       625   \n",
       "25 1992-04-01  3550.000000   Apr  1992  01  Wednesday  26       676   \n",
       "26 1992-07-01  3508.000000   Jul  1992  01  Wednesday  27       729   \n",
       "27 1992-10-01  3243.859993   Oct  1992  01   Thursday  28       784   \n",
       "28 1993-01-01  3056.000000   Jan  1993  01     Friday  29       841   \n",
       "29 1993-04-01  3899.000000   Apr  1993  01   Thursday  30       900   \n",
       "30 1993-07-01  3629.000000   Jul  1993  01   Thursday  31       961   \n",
       "31 1993-10-01  3373.000000   Oct  1993  01     Friday  32      1024   \n",
       "32 1994-01-01  3352.000000   Jan  1994  01   Saturday  33      1089   \n",
       "33 1994-04-01  4342.000000   Apr  1994  01     Friday  34      1156   \n",
       "\n",
       "    log_sales  Apr  Jan  Jul  Oct  \n",
       "0    7.458663    0    1    0    0  \n",
       "1    7.716443    1    0    0    0  \n",
       "2    7.837477    0    0    1    0  \n",
       "3    7.675529    0    0    0    1  \n",
       "4    7.344602    0    1    0    0  \n",
       "5    7.651791    1    0    0    0  \n",
       "6    7.608058    0    0    1    0  \n",
       "7    7.596767    0    0    0    1  \n",
       "8    7.533186    0    1    0    0  \n",
       "9    7.746574    1    0    0    0  \n",
       "10   7.663088    0    0    1    0  \n",
       "11   7.614228    0    0    0    1  \n",
       "12   7.555175    0    1    0    0  \n",
       "13   7.754123    1    0    0    0  \n",
       "14   7.699185    0    0    1    0  \n",
       "15   7.684309    0    0    0    1  \n",
       "16   7.672422    0    1    0    0  \n",
       "17   7.915461    1    0    0    0  \n",
       "18   7.934783    0    0    1    0  \n",
       "19   7.846203    0    0    0    1  \n",
       "20   7.816407    0    1    0    0  \n",
       "21   8.019456    1    0    0    0  \n",
       "22   8.062154    0    0    1    0  \n",
       "23   7.965199    0    0    0    1  \n",
       "24   7.927324    0    1    0    0  \n",
       "25   8.174703    1    0    0    0  \n",
       "26   8.162801    0    0    1    0  \n",
       "27   8.084519    0    0    0    1  \n",
       "28   8.024862    0    1    0    0  \n",
       "29   8.268475    1    0    0    0  \n",
       "30   8.196712    0    0    1    0  \n",
       "31   8.123558    0    0    0    1  \n",
       "32   8.117312    0    1    0    0  \n",
       "33   8.376090    1    0    0    0  "
      ]
     },
     "execution_count": 39,
     "metadata": {},
     "output_type": "execute_result"
    }
   ],
   "source": [
    "Train"
   ]
  },
  {
   "cell_type": "code",
   "execution_count": 40,
   "id": "dac92cca-3fbf-4c1f-a6f2-9a229d4ba6bd",
   "metadata": {
    "colab": {
     "base_uri": "https://localhost:8080/",
     "height": 421
    },
    "executionInfo": {
     "elapsed": 406,
     "status": "ok",
     "timestamp": 1627717345067,
     "user": {
      "displayName": "Jaspal Singh Jhass",
      "photoUrl": "",
      "userId": "14870781376371902378"
     },
     "user_tz": -330
    },
    "id": "U4I2oYzp817p",
    "outputId": "eb11372d-8691-4758-d6d0-27d70ca1f790"
   },
   "outputs": [
    {
     "data": {
      "text/html": [
       "<div>\n",
       "<style scoped>\n",
       "    .dataframe tbody tr th:only-of-type {\n",
       "        vertical-align: middle;\n",
       "    }\n",
       "\n",
       "    .dataframe tbody tr th {\n",
       "        vertical-align: top;\n",
       "    }\n",
       "\n",
       "    .dataframe thead th {\n",
       "        text-align: right;\n",
       "    }\n",
       "</style>\n",
       "<table border=\"1\" class=\"dataframe\">\n",
       "  <thead>\n",
       "    <tr style=\"text-align: right;\">\n",
       "      <th></th>\n",
       "      <th>Quarter</th>\n",
       "      <th>Sales</th>\n",
       "      <th>month</th>\n",
       "      <th>year</th>\n",
       "      <th>Day</th>\n",
       "      <th>wkday</th>\n",
       "      <th>t</th>\n",
       "      <th>t_square</th>\n",
       "      <th>log_sales</th>\n",
       "      <th>Apr</th>\n",
       "      <th>Jan</th>\n",
       "      <th>Jul</th>\n",
       "      <th>Oct</th>\n",
       "    </tr>\n",
       "  </thead>\n",
       "  <tbody>\n",
       "    <tr>\n",
       "      <th>34</th>\n",
       "      <td>1994-07-01</td>\n",
       "      <td>4461.0</td>\n",
       "      <td>Jul</td>\n",
       "      <td>1994</td>\n",
       "      <td>01</td>\n",
       "      <td>Friday</td>\n",
       "      <td>35</td>\n",
       "      <td>1225</td>\n",
       "      <td>8.403128</td>\n",
       "      <td>0</td>\n",
       "      <td>0</td>\n",
       "      <td>1</td>\n",
       "      <td>0</td>\n",
       "    </tr>\n",
       "    <tr>\n",
       "      <th>35</th>\n",
       "      <td>1994-10-01</td>\n",
       "      <td>4017.0</td>\n",
       "      <td>Oct</td>\n",
       "      <td>1994</td>\n",
       "      <td>01</td>\n",
       "      <td>Saturday</td>\n",
       "      <td>36</td>\n",
       "      <td>1296</td>\n",
       "      <td>8.298291</td>\n",
       "      <td>0</td>\n",
       "      <td>0</td>\n",
       "      <td>0</td>\n",
       "      <td>1</td>\n",
       "    </tr>\n",
       "    <tr>\n",
       "      <th>36</th>\n",
       "      <td>1995-01-01</td>\n",
       "      <td>3854.0</td>\n",
       "      <td>Jan</td>\n",
       "      <td>1995</td>\n",
       "      <td>01</td>\n",
       "      <td>Sunday</td>\n",
       "      <td>37</td>\n",
       "      <td>1369</td>\n",
       "      <td>8.256867</td>\n",
       "      <td>0</td>\n",
       "      <td>1</td>\n",
       "      <td>0</td>\n",
       "      <td>0</td>\n",
       "    </tr>\n",
       "    <tr>\n",
       "      <th>37</th>\n",
       "      <td>1995-04-01</td>\n",
       "      <td>4936.0</td>\n",
       "      <td>Apr</td>\n",
       "      <td>1995</td>\n",
       "      <td>01</td>\n",
       "      <td>Saturday</td>\n",
       "      <td>38</td>\n",
       "      <td>1444</td>\n",
       "      <td>8.504311</td>\n",
       "      <td>1</td>\n",
       "      <td>0</td>\n",
       "      <td>0</td>\n",
       "      <td>0</td>\n",
       "    </tr>\n",
       "    <tr>\n",
       "      <th>38</th>\n",
       "      <td>1995-07-01</td>\n",
       "      <td>4895.0</td>\n",
       "      <td>Jul</td>\n",
       "      <td>1995</td>\n",
       "      <td>01</td>\n",
       "      <td>Saturday</td>\n",
       "      <td>39</td>\n",
       "      <td>1521</td>\n",
       "      <td>8.495970</td>\n",
       "      <td>0</td>\n",
       "      <td>0</td>\n",
       "      <td>1</td>\n",
       "      <td>0</td>\n",
       "    </tr>\n",
       "    <tr>\n",
       "      <th>39</th>\n",
       "      <td>1995-10-01</td>\n",
       "      <td>4333.0</td>\n",
       "      <td>Oct</td>\n",
       "      <td>1995</td>\n",
       "      <td>01</td>\n",
       "      <td>Sunday</td>\n",
       "      <td>40</td>\n",
       "      <td>1600</td>\n",
       "      <td>8.374015</td>\n",
       "      <td>0</td>\n",
       "      <td>0</td>\n",
       "      <td>0</td>\n",
       "      <td>1</td>\n",
       "    </tr>\n",
       "    <tr>\n",
       "      <th>40</th>\n",
       "      <td>1996-01-01</td>\n",
       "      <td>4194.0</td>\n",
       "      <td>Jan</td>\n",
       "      <td>1996</td>\n",
       "      <td>01</td>\n",
       "      <td>Monday</td>\n",
       "      <td>41</td>\n",
       "      <td>1681</td>\n",
       "      <td>8.341410</td>\n",
       "      <td>0</td>\n",
       "      <td>1</td>\n",
       "      <td>0</td>\n",
       "      <td>0</td>\n",
       "    </tr>\n",
       "    <tr>\n",
       "      <th>41</th>\n",
       "      <td>1996-04-01</td>\n",
       "      <td>5253.0</td>\n",
       "      <td>Apr</td>\n",
       "      <td>1996</td>\n",
       "      <td>01</td>\n",
       "      <td>Monday</td>\n",
       "      <td>42</td>\n",
       "      <td>1764</td>\n",
       "      <td>8.566555</td>\n",
       "      <td>1</td>\n",
       "      <td>0</td>\n",
       "      <td>0</td>\n",
       "      <td>0</td>\n",
       "    </tr>\n",
       "  </tbody>\n",
       "</table>\n",
       "</div>"
      ],
      "text/plain": [
       "      Quarter   Sales month  year Day     wkday   t  t_square  log_sales  Apr  \\\n",
       "34 1994-07-01  4461.0   Jul  1994  01    Friday  35      1225   8.403128    0   \n",
       "35 1994-10-01  4017.0   Oct  1994  01  Saturday  36      1296   8.298291    0   \n",
       "36 1995-01-01  3854.0   Jan  1995  01    Sunday  37      1369   8.256867    0   \n",
       "37 1995-04-01  4936.0   Apr  1995  01  Saturday  38      1444   8.504311    1   \n",
       "38 1995-07-01  4895.0   Jul  1995  01  Saturday  39      1521   8.495970    0   \n",
       "39 1995-10-01  4333.0   Oct  1995  01    Sunday  40      1600   8.374015    0   \n",
       "40 1996-01-01  4194.0   Jan  1996  01    Monday  41      1681   8.341410    0   \n",
       "41 1996-04-01  5253.0   Apr  1996  01    Monday  42      1764   8.566555    1   \n",
       "\n",
       "    Jan  Jul  Oct  \n",
       "34    0    1    0  \n",
       "35    0    0    1  \n",
       "36    1    0    0  \n",
       "37    0    0    0  \n",
       "38    0    1    0  \n",
       "39    0    0    1  \n",
       "40    1    0    0  \n",
       "41    0    0    0  "
      ]
     },
     "execution_count": 40,
     "metadata": {},
     "output_type": "execute_result"
    }
   ],
   "source": [
    "Test"
   ]
  },
  {
   "cell_type": "code",
   "execution_count": 41,
   "id": "f323e704-8ea1-4c43-80b5-fa5db1bed650",
   "metadata": {
    "colab": {
     "base_uri": "https://localhost:8080/"
    },
    "executionInfo": {
     "elapsed": 353,
     "status": "ok",
     "timestamp": 1627717372587,
     "user": {
      "displayName": "Jaspal Singh Jhass",
      "photoUrl": "",
      "userId": "14870781376371902378"
     },
     "user_tz": -330
    },
    "id": "ZmDfIiWJyRz0",
    "outputId": "e3440178-c8e8-4a53-d6b5-d70a6e6affe1"
   },
   "outputs": [
    {
     "data": {
      "text/plain": [
       "720.6137817965259"
      ]
     },
     "execution_count": 41,
     "metadata": {},
     "output_type": "execute_result"
    }
   ],
   "source": [
    "#Linear Model\n",
    "import statsmodels.formula.api as smf \n",
    "\n",
    "linear_model = smf.ols('Sales~t',data=Train).fit()\n",
    "pred_linear =  pd.Series(linear_model.predict(pd.DataFrame(Test['t'])))\n",
    "rmse_linear = np.sqrt(np.mean((np.array(Test['Sales'])-np.array(pred_linear))**2))\n",
    "rmse_linear"
   ]
  },
  {
   "cell_type": "code",
   "execution_count": 42,
   "id": "7367f28f-a12a-4dd2-9f38-df64bbbbeddd",
   "metadata": {
    "colab": {
     "base_uri": "https://localhost:8080/"
    },
    "executionInfo": {
     "elapsed": 382,
     "status": "ok",
     "timestamp": 1627717413102,
     "user": {
      "displayName": "Jaspal Singh Jhass",
      "photoUrl": "",
      "userId": "14870781376371902378"
     },
     "user_tz": -330
    },
    "id": "LiTBiZF3yRz0",
    "outputId": "64ffcaa2-c29e-4e06-f221-74c484e1a936"
   },
   "outputs": [
    {
     "data": {
      "text/plain": [
       "564.9850937274292"
      ]
     },
     "execution_count": 42,
     "metadata": {},
     "output_type": "execute_result"
    }
   ],
   "source": [
    "#Exponential\n",
    "Exp = smf.ols('log_sales~t',data=Train).fit()\n",
    "pred_Exp = pd.Series(Exp.predict(pd.DataFrame(Test['t'])))\n",
    "rmse_Exp = np.sqrt(np.mean((np.array(Test['Sales'])-np.array(np.exp(pred_Exp)))**2))\n",
    "rmse_Exp"
   ]
  },
  {
   "cell_type": "code",
   "execution_count": 43,
   "id": "b53fa8e0-1974-4944-a86d-b8bc33bb0f66",
   "metadata": {
    "colab": {
     "base_uri": "https://localhost:8080/"
    },
    "executionInfo": {
     "elapsed": 369,
     "status": "ok",
     "timestamp": 1627717483684,
     "user": {
      "displayName": "Jaspal Singh Jhass",
      "photoUrl": "",
      "userId": "14870781376371902378"
     },
     "user_tz": -330
    },
    "id": "F75KzyFayRz0",
    "outputId": "df96451f-3fe1-4f58-ed36-c8739c93a1f1"
   },
   "outputs": [
    {
     "data": {
      "text/plain": [
       "437.7455637558559"
      ]
     },
     "execution_count": 43,
     "metadata": {},
     "output_type": "execute_result"
    }
   ],
   "source": [
    "#Quadratic \n",
    "Quad = smf.ols('Sales~t+t_square',data=Train).fit()\n",
    "pred_Quad = pd.Series(Quad.predict(Test[[\"t\",\"t_square\"]]))\n",
    "rmse_Quad = np.sqrt(np.mean((np.array(Test['Sales'])-np.array(pred_Quad))**2))\n",
    "rmse_Quad"
   ]
  },
  {
   "cell_type": "code",
   "execution_count": 44,
   "id": "f26ba353-b4e9-4a87-aa41-567adf02deb3",
   "metadata": {
    "colab": {
     "base_uri": "https://localhost:8080/"
    },
    "executionInfo": {
     "elapsed": 338,
     "status": "ok",
     "timestamp": 1627717504813,
     "user": {
      "displayName": "Jaspal Singh Jhass",
      "photoUrl": "",
      "userId": "14870781376371902378"
     },
     "user_tz": -330
    },
    "id": "n59ZZcO1yRz1",
    "outputId": "7917f855-a1ac-434f-f96c-6108fe0ec49b"
   },
   "outputs": [
    {
     "data": {
      "text/plain": [
       "1870.1899069853293"
      ]
     },
     "execution_count": 44,
     "metadata": {},
     "output_type": "execute_result"
    }
   ],
   "source": [
    "#Additive seasonality \n",
    "add_sea = smf.ols('Sales~Jan+Apr+Jul+Oct',data=Train).fit()\n",
    "pred_add_sea = pd.Series(add_sea.predict(Test[['Jan','Apr','Jul','Oct']]))\n",
    "rmse_add_sea = np.sqrt(np.mean((np.array(Test['Sales'])-np.array(pred_add_sea))**2))\n",
    "rmse_add_sea"
   ]
  },
  {
   "cell_type": "code",
   "execution_count": 45,
   "id": "e4489c2c-3010-4581-bfe9-427469003fa9",
   "metadata": {
    "colab": {
     "base_uri": "https://localhost:8080/"
    },
    "executionInfo": {
     "elapsed": 616,
     "status": "ok",
     "timestamp": 1627717534997,
     "user": {
      "displayName": "Jaspal Singh Jhass",
      "photoUrl": "",
      "userId": "14870781376371902378"
     },
     "user_tz": -330
    },
    "id": "6y64TrL0yRz1",
    "outputId": "9a959494-646d-43cc-865f-ae5bef8cf0e5"
   },
   "outputs": [
    {
     "data": {
      "text/plain": [
       "257.67172565362677"
      ]
     },
     "execution_count": 45,
     "metadata": {},
     "output_type": "execute_result"
    }
   ],
   "source": [
    "#Additive Seasonality Quadratic \n",
    "add_sea_Quad = smf.ols('Sales~t+t_square+Jan+Apr+Jul+Oct',data=Train).fit()\n",
    "pred_add_sea_quad = pd.Series(add_sea_Quad.predict(Test[['Jan','Apr','Jul','Oct','t','t_square']]))\n",
    "rmse_add_sea_quad = np.sqrt(np.mean((np.array(Test['Sales'])-np.array(pred_add_sea_quad))**2))\n",
    "rmse_add_sea_quad"
   ]
  },
  {
   "cell_type": "code",
   "execution_count": 46,
   "id": "48c4e08a-63aa-4af9-8937-58ddaf618065",
   "metadata": {
    "colab": {
     "base_uri": "https://localhost:8080/"
    },
    "executionInfo": {
     "elapsed": 337,
     "status": "ok",
     "timestamp": 1627717603373,
     "user": {
      "displayName": "Jaspal Singh Jhass",
      "photoUrl": "",
      "userId": "14870781376371902378"
     },
     "user_tz": -330
    },
    "id": "3dtGaMgRyRz1",
    "outputId": "528bb32b-ad79-4003-e381-6eb4f4545ac6"
   },
   "outputs": [
    {
     "data": {
      "text/plain": [
       "1940.8042499186577"
      ]
     },
     "execution_count": 46,
     "metadata": {},
     "output_type": "execute_result"
    }
   ],
   "source": [
    "##Multiplicative Seasonality\n",
    "Mul_sea = smf.ols('log_sales~Jan+Apr+Jul+Oct',data = Train).fit()\n",
    "pred_Mult_sea = pd.Series(Mul_sea.predict(Test))\n",
    "rmse_Mult_sea = np.sqrt(np.mean((np.array(Test['Sales'])-np.array(np.exp(pred_Mult_sea)))**2))\n",
    "rmse_Mult_sea"
   ]
  },
  {
   "cell_type": "code",
   "execution_count": 47,
   "id": "3fc9e722-3939-496a-980b-e3f06e14b07f",
   "metadata": {
    "colab": {
     "base_uri": "https://localhost:8080/"
    },
    "executionInfo": {
     "elapsed": 441,
     "status": "ok",
     "timestamp": 1627717622698,
     "user": {
      "displayName": "Jaspal Singh Jhass",
      "photoUrl": "",
      "userId": "14870781376371902378"
     },
     "user_tz": -330
    },
    "id": "C6d0k74MyRz2",
    "outputId": "fe732344-0ac5-46eb-b771-46afd53c2581"
   },
   "outputs": [
    {
     "data": {
      "text/plain": [
       "400.42004584362434"
      ]
     },
     "execution_count": 47,
     "metadata": {},
     "output_type": "execute_result"
    }
   ],
   "source": [
    "#Multiplicative Additive Seasonality \n",
    "Mul_Add_sea = smf.ols('log_sales~t+Jan+Apr+Jul+Oct',data = Train).fit()\n",
    "pred_Mult_add_sea = pd.Series(Mul_Add_sea.predict(Test))\n",
    "rmse_Mult_add_sea = np.sqrt(np.mean((np.array(Test['Sales'])-np.array(np.exp(pred_Mult_add_sea)))**2))\n",
    "rmse_Mult_add_sea "
   ]
  },
  {
   "cell_type": "code",
   "execution_count": 48,
   "id": "5f3ad552-22f1-4f10-b4eb-d75ede2d013f",
   "metadata": {},
   "outputs": [
    {
     "data": {
      "text/plain": [
       "4507.7856975556915"
      ]
     },
     "execution_count": 48,
     "metadata": {},
     "output_type": "execute_result"
    }
   ],
   "source": [
    "#Multiplicative Seasonality Quadratic \n",
    "mult_sea_Quad = smf.ols('log_sales~t+t_square+Jan+Apr+Jul+Oct',data=Train).fit()\n",
    "pred_mult_sea_quad = pd.Series(mult_sea_Quad.predict(Test[['Jan','Apr','Jul','Oct','t','t_square']]))\n",
    "rmse_mult_sea_quad = np.sqrt(np.mean((np.array(Test['Sales'])-np.array(pred_mult_sea_quad))**2))\n",
    "rmse_mult_sea_quad"
   ]
  },
  {
   "cell_type": "code",
   "execution_count": 49,
   "id": "1948c30a-74a7-4ea9-a8cf-3bb680310a9c",
   "metadata": {
    "colab": {
     "base_uri": "https://localhost:8080/",
     "height": 266
    },
    "executionInfo": {
     "elapsed": 384,
     "status": "ok",
     "timestamp": 1627717631109,
     "user": {
      "displayName": "Jaspal Singh Jhass",
      "photoUrl": "",
      "userId": "14870781376371902378"
     },
     "user_tz": -330
    },
    "id": "R6KtXA7cyRz2",
    "outputId": "dc8cfd08-0131-4305-ffbb-335c338fd3ed"
   },
   "outputs": [
    {
     "data": {
      "text/html": [
       "<div>\n",
       "<style scoped>\n",
       "    .dataframe tbody tr th:only-of-type {\n",
       "        vertical-align: middle;\n",
       "    }\n",
       "\n",
       "    .dataframe tbody tr th {\n",
       "        vertical-align: top;\n",
       "    }\n",
       "\n",
       "    .dataframe thead th {\n",
       "        text-align: right;\n",
       "    }\n",
       "</style>\n",
       "<table border=\"1\" class=\"dataframe\">\n",
       "  <thead>\n",
       "    <tr style=\"text-align: right;\">\n",
       "      <th></th>\n",
       "      <th>MODEL</th>\n",
       "      <th>RMSE_Values</th>\n",
       "    </tr>\n",
       "  </thead>\n",
       "  <tbody>\n",
       "    <tr>\n",
       "      <th>4</th>\n",
       "      <td>rmse_add_sea_quad</td>\n",
       "      <td>257.671726</td>\n",
       "    </tr>\n",
       "    <tr>\n",
       "      <th>6</th>\n",
       "      <td>rmse_Mult_add_sea</td>\n",
       "      <td>400.420046</td>\n",
       "    </tr>\n",
       "    <tr>\n",
       "      <th>2</th>\n",
       "      <td>rmse_Quad</td>\n",
       "      <td>437.745564</td>\n",
       "    </tr>\n",
       "    <tr>\n",
       "      <th>1</th>\n",
       "      <td>rmse_Exp</td>\n",
       "      <td>564.985094</td>\n",
       "    </tr>\n",
       "    <tr>\n",
       "      <th>0</th>\n",
       "      <td>rmse_linear</td>\n",
       "      <td>720.613782</td>\n",
       "    </tr>\n",
       "    <tr>\n",
       "      <th>3</th>\n",
       "      <td>rmse_add_sea</td>\n",
       "      <td>1870.189907</td>\n",
       "    </tr>\n",
       "    <tr>\n",
       "      <th>5</th>\n",
       "      <td>rmse_Mult_sea</td>\n",
       "      <td>1940.804250</td>\n",
       "    </tr>\n",
       "  </tbody>\n",
       "</table>\n",
       "</div>"
      ],
      "text/plain": [
       "               MODEL  RMSE_Values\n",
       "4  rmse_add_sea_quad   257.671726\n",
       "6  rmse_Mult_add_sea   400.420046\n",
       "2          rmse_Quad   437.745564\n",
       "1           rmse_Exp   564.985094\n",
       "0        rmse_linear   720.613782\n",
       "3       rmse_add_sea  1870.189907\n",
       "5      rmse_Mult_sea  1940.804250"
      ]
     },
     "execution_count": 49,
     "metadata": {},
     "output_type": "execute_result"
    }
   ],
   "source": [
    "#Compare the results \n",
    "datamodel = {\"MODEL\":pd.Series([\"rmse_linear\",\"rmse_Exp\",\"rmse_Quad\",\"rmse_add_sea\",\"rmse_add_sea_quad\",\"rmse_Mult_sea\",\"rmse_Mult_add_sea\"]),\"RMSE_Values\":pd.Series([rmse_linear,rmse_Exp,rmse_Quad,rmse_add_sea,rmse_add_sea_quad,rmse_Mult_sea,rmse_Mult_add_sea])}\n",
    "table_rmse=pd.DataFrame(datamodel)\n",
    "table_rmse.sort_values(['RMSE_Values'])"
   ]
  },
  {
   "cell_type": "code",
   "execution_count": 50,
   "id": "09ee5b12-a94a-43b7-abbb-5ea564e13178",
   "metadata": {
    "id": "2G5b0hvSyRz3"
   },
   "outputs": [],
   "source": [
    "#Build the model on entire data set\n",
    "model_full = smf.ols('Sales~t+t_square+Jan+Apr+Jul+Oct',data=series).fit()"
   ]
  },
  {
   "cell_type": "code",
   "execution_count": 51,
   "id": "422a5d59-2c5d-4886-8c83-421437fd0027",
   "metadata": {
    "colab": {
     "base_uri": "https://localhost:8080/"
    },
    "executionInfo": {
     "elapsed": 9,
     "status": "ok",
     "timestamp": 1627717743948,
     "user": {
      "displayName": "Jaspal Singh Jhass",
      "photoUrl": "",
      "userId": "14870781376371902378"
     },
     "user_tz": -330
    },
    "id": "XsrbIZj7yRz4",
    "outputId": "2902a893-d8f7-47fe-f831-8fc5918227cd"
   },
   "outputs": [
    {
     "data": {
      "text/plain": [
       "0     1626.592727\n",
       "1     2268.402339\n",
       "2     2189.685821\n",
       "3     1867.242917\n",
       "4     1658.311143\n",
       "5     2314.185178\n",
       "6     2249.533083\n",
       "7     1941.154603\n",
       "8     1746.287252\n",
       "9     2416.225709\n",
       "10    2365.638037\n",
       "11    2071.323979\n",
       "12    1890.521051\n",
       "13    2574.523931\n",
       "14    2538.000682\n",
       "15    2257.751047\n",
       "16    2091.012542\n",
       "17    2789.079845\n",
       "18    2766.621019\n",
       "19    2500.435807\n",
       "20    2347.761724\n",
       "21    3059.893450\n",
       "22    3051.499047\n",
       "23    2799.378257\n",
       "24    2660.768598\n",
       "25    3386.964746\n",
       "26    3392.634766\n",
       "27    3154.578400\n",
       "28    3030.033163\n",
       "29    3770.293734\n",
       "30    3790.028177\n",
       "31    3566.036233\n",
       "32    3455.555419\n",
       "33    4209.880414\n",
       "34    4243.679279\n",
       "35    4033.751758\n",
       "36    3937.335367\n",
       "37    4705.724784\n",
       "38    4753.588072\n",
       "39    4557.724974\n",
       "40    4475.373006\n",
       "41    5257.826846\n",
       "dtype: float64"
      ]
     },
     "execution_count": 51,
     "metadata": {},
     "output_type": "execute_result"
    }
   ],
   "source": [
    "pred_new  = pd.Series(model_full.predict(series))\n",
    "pred_new"
   ]
  },
  {
   "cell_type": "code",
   "execution_count": 52,
   "id": "554e437f-ffb6-4a24-9cd2-4b11beb3d729",
   "metadata": {
    "id": "2Sb8mXmVyRz4"
   },
   "outputs": [],
   "source": [
    "series[\"forecasted_sales\"] = pd.Series((pred_new))"
   ]
  },
  {
   "cell_type": "code",
   "execution_count": 53,
   "id": "6f2384f2-ab2f-4df5-a583-26c7a3713147",
   "metadata": {},
   "outputs": [
    {
     "data": {
      "text/html": [
       "<div>\n",
       "<style scoped>\n",
       "    .dataframe tbody tr th:only-of-type {\n",
       "        vertical-align: middle;\n",
       "    }\n",
       "\n",
       "    .dataframe tbody tr th {\n",
       "        vertical-align: top;\n",
       "    }\n",
       "\n",
       "    .dataframe thead th {\n",
       "        text-align: right;\n",
       "    }\n",
       "</style>\n",
       "<table border=\"1\" class=\"dataframe\">\n",
       "  <thead>\n",
       "    <tr style=\"text-align: right;\">\n",
       "      <th></th>\n",
       "      <th>Quarter</th>\n",
       "      <th>Sales</th>\n",
       "      <th>month</th>\n",
       "      <th>year</th>\n",
       "      <th>Day</th>\n",
       "      <th>wkday</th>\n",
       "      <th>t</th>\n",
       "      <th>t_square</th>\n",
       "      <th>log_sales</th>\n",
       "      <th>Apr</th>\n",
       "      <th>Jan</th>\n",
       "      <th>Jul</th>\n",
       "      <th>Oct</th>\n",
       "      <th>forecasted_sales</th>\n",
       "    </tr>\n",
       "  </thead>\n",
       "  <tbody>\n",
       "    <tr>\n",
       "      <th>0</th>\n",
       "      <td>1986-01-01</td>\n",
       "      <td>1734.827000</td>\n",
       "      <td>Jan</td>\n",
       "      <td>1986</td>\n",
       "      <td>01</td>\n",
       "      <td>Wednesday</td>\n",
       "      <td>1</td>\n",
       "      <td>1</td>\n",
       "      <td>7.458663</td>\n",
       "      <td>0</td>\n",
       "      <td>1</td>\n",
       "      <td>0</td>\n",
       "      <td>0</td>\n",
       "      <td>1626.592727</td>\n",
       "    </tr>\n",
       "    <tr>\n",
       "      <th>1</th>\n",
       "      <td>1986-04-01</td>\n",
       "      <td>2244.960999</td>\n",
       "      <td>Apr</td>\n",
       "      <td>1986</td>\n",
       "      <td>01</td>\n",
       "      <td>Tuesday</td>\n",
       "      <td>2</td>\n",
       "      <td>4</td>\n",
       "      <td>7.716443</td>\n",
       "      <td>1</td>\n",
       "      <td>0</td>\n",
       "      <td>0</td>\n",
       "      <td>0</td>\n",
       "      <td>2268.402339</td>\n",
       "    </tr>\n",
       "    <tr>\n",
       "      <th>2</th>\n",
       "      <td>1986-07-01</td>\n",
       "      <td>2533.804993</td>\n",
       "      <td>Jul</td>\n",
       "      <td>1986</td>\n",
       "      <td>01</td>\n",
       "      <td>Tuesday</td>\n",
       "      <td>3</td>\n",
       "      <td>9</td>\n",
       "      <td>7.837477</td>\n",
       "      <td>0</td>\n",
       "      <td>0</td>\n",
       "      <td>1</td>\n",
       "      <td>0</td>\n",
       "      <td>2189.685821</td>\n",
       "    </tr>\n",
       "    <tr>\n",
       "      <th>3</th>\n",
       "      <td>1986-10-01</td>\n",
       "      <td>2154.962997</td>\n",
       "      <td>Oct</td>\n",
       "      <td>1986</td>\n",
       "      <td>01</td>\n",
       "      <td>Wednesday</td>\n",
       "      <td>4</td>\n",
       "      <td>16</td>\n",
       "      <td>7.675529</td>\n",
       "      <td>0</td>\n",
       "      <td>0</td>\n",
       "      <td>0</td>\n",
       "      <td>1</td>\n",
       "      <td>1867.242917</td>\n",
       "    </tr>\n",
       "    <tr>\n",
       "      <th>4</th>\n",
       "      <td>1987-01-01</td>\n",
       "      <td>1547.818996</td>\n",
       "      <td>Jan</td>\n",
       "      <td>1987</td>\n",
       "      <td>01</td>\n",
       "      <td>Thursday</td>\n",
       "      <td>5</td>\n",
       "      <td>25</td>\n",
       "      <td>7.344602</td>\n",
       "      <td>0</td>\n",
       "      <td>1</td>\n",
       "      <td>0</td>\n",
       "      <td>0</td>\n",
       "      <td>1658.311143</td>\n",
       "    </tr>\n",
       "    <tr>\n",
       "      <th>5</th>\n",
       "      <td>1987-04-01</td>\n",
       "      <td>2104.411995</td>\n",
       "      <td>Apr</td>\n",
       "      <td>1987</td>\n",
       "      <td>01</td>\n",
       "      <td>Wednesday</td>\n",
       "      <td>6</td>\n",
       "      <td>36</td>\n",
       "      <td>7.651791</td>\n",
       "      <td>1</td>\n",
       "      <td>0</td>\n",
       "      <td>0</td>\n",
       "      <td>0</td>\n",
       "      <td>2314.185178</td>\n",
       "    </tr>\n",
       "    <tr>\n",
       "      <th>6</th>\n",
       "      <td>1987-07-01</td>\n",
       "      <td>2014.362999</td>\n",
       "      <td>Jul</td>\n",
       "      <td>1987</td>\n",
       "      <td>01</td>\n",
       "      <td>Wednesday</td>\n",
       "      <td>7</td>\n",
       "      <td>49</td>\n",
       "      <td>7.608058</td>\n",
       "      <td>0</td>\n",
       "      <td>0</td>\n",
       "      <td>1</td>\n",
       "      <td>0</td>\n",
       "      <td>2249.533083</td>\n",
       "    </tr>\n",
       "    <tr>\n",
       "      <th>7</th>\n",
       "      <td>1987-10-01</td>\n",
       "      <td>1991.746998</td>\n",
       "      <td>Oct</td>\n",
       "      <td>1987</td>\n",
       "      <td>01</td>\n",
       "      <td>Thursday</td>\n",
       "      <td>8</td>\n",
       "      <td>64</td>\n",
       "      <td>7.596767</td>\n",
       "      <td>0</td>\n",
       "      <td>0</td>\n",
       "      <td>0</td>\n",
       "      <td>1</td>\n",
       "      <td>1941.154603</td>\n",
       "    </tr>\n",
       "    <tr>\n",
       "      <th>8</th>\n",
       "      <td>1988-01-01</td>\n",
       "      <td>1869.049999</td>\n",
       "      <td>Jan</td>\n",
       "      <td>1988</td>\n",
       "      <td>01</td>\n",
       "      <td>Friday</td>\n",
       "      <td>9</td>\n",
       "      <td>81</td>\n",
       "      <td>7.533186</td>\n",
       "      <td>0</td>\n",
       "      <td>1</td>\n",
       "      <td>0</td>\n",
       "      <td>0</td>\n",
       "      <td>1746.287252</td>\n",
       "    </tr>\n",
       "    <tr>\n",
       "      <th>9</th>\n",
       "      <td>1988-04-01</td>\n",
       "      <td>2313.631996</td>\n",
       "      <td>Apr</td>\n",
       "      <td>1988</td>\n",
       "      <td>01</td>\n",
       "      <td>Friday</td>\n",
       "      <td>10</td>\n",
       "      <td>100</td>\n",
       "      <td>7.746574</td>\n",
       "      <td>1</td>\n",
       "      <td>0</td>\n",
       "      <td>0</td>\n",
       "      <td>0</td>\n",
       "      <td>2416.225709</td>\n",
       "    </tr>\n",
       "    <tr>\n",
       "      <th>10</th>\n",
       "      <td>1988-07-01</td>\n",
       "      <td>2128.320000</td>\n",
       "      <td>Jul</td>\n",
       "      <td>1988</td>\n",
       "      <td>01</td>\n",
       "      <td>Friday</td>\n",
       "      <td>11</td>\n",
       "      <td>121</td>\n",
       "      <td>7.663088</td>\n",
       "      <td>0</td>\n",
       "      <td>0</td>\n",
       "      <td>1</td>\n",
       "      <td>0</td>\n",
       "      <td>2365.638037</td>\n",
       "    </tr>\n",
       "    <tr>\n",
       "      <th>11</th>\n",
       "      <td>1988-10-01</td>\n",
       "      <td>2026.828999</td>\n",
       "      <td>Oct</td>\n",
       "      <td>1988</td>\n",
       "      <td>01</td>\n",
       "      <td>Saturday</td>\n",
       "      <td>12</td>\n",
       "      <td>144</td>\n",
       "      <td>7.614228</td>\n",
       "      <td>0</td>\n",
       "      <td>0</td>\n",
       "      <td>0</td>\n",
       "      <td>1</td>\n",
       "      <td>2071.323979</td>\n",
       "    </tr>\n",
       "    <tr>\n",
       "      <th>12</th>\n",
       "      <td>1989-01-01</td>\n",
       "      <td>1910.603996</td>\n",
       "      <td>Jan</td>\n",
       "      <td>1989</td>\n",
       "      <td>01</td>\n",
       "      <td>Sunday</td>\n",
       "      <td>13</td>\n",
       "      <td>169</td>\n",
       "      <td>7.555175</td>\n",
       "      <td>0</td>\n",
       "      <td>1</td>\n",
       "      <td>0</td>\n",
       "      <td>0</td>\n",
       "      <td>1890.521051</td>\n",
       "    </tr>\n",
       "    <tr>\n",
       "      <th>13</th>\n",
       "      <td>1989-04-01</td>\n",
       "      <td>2331.164993</td>\n",
       "      <td>Apr</td>\n",
       "      <td>1989</td>\n",
       "      <td>01</td>\n",
       "      <td>Saturday</td>\n",
       "      <td>14</td>\n",
       "      <td>196</td>\n",
       "      <td>7.754123</td>\n",
       "      <td>1</td>\n",
       "      <td>0</td>\n",
       "      <td>0</td>\n",
       "      <td>0</td>\n",
       "      <td>2574.523931</td>\n",
       "    </tr>\n",
       "    <tr>\n",
       "      <th>14</th>\n",
       "      <td>1989-07-01</td>\n",
       "      <td>2206.549995</td>\n",
       "      <td>Jul</td>\n",
       "      <td>1989</td>\n",
       "      <td>01</td>\n",
       "      <td>Saturday</td>\n",
       "      <td>15</td>\n",
       "      <td>225</td>\n",
       "      <td>7.699185</td>\n",
       "      <td>0</td>\n",
       "      <td>0</td>\n",
       "      <td>1</td>\n",
       "      <td>0</td>\n",
       "      <td>2538.000682</td>\n",
       "    </tr>\n",
       "    <tr>\n",
       "      <th>15</th>\n",
       "      <td>1989-10-01</td>\n",
       "      <td>2173.967995</td>\n",
       "      <td>Oct</td>\n",
       "      <td>1989</td>\n",
       "      <td>01</td>\n",
       "      <td>Sunday</td>\n",
       "      <td>16</td>\n",
       "      <td>256</td>\n",
       "      <td>7.684309</td>\n",
       "      <td>0</td>\n",
       "      <td>0</td>\n",
       "      <td>0</td>\n",
       "      <td>1</td>\n",
       "      <td>2257.751047</td>\n",
       "    </tr>\n",
       "    <tr>\n",
       "      <th>16</th>\n",
       "      <td>1990-01-01</td>\n",
       "      <td>2148.278000</td>\n",
       "      <td>Jan</td>\n",
       "      <td>1990</td>\n",
       "      <td>01</td>\n",
       "      <td>Monday</td>\n",
       "      <td>17</td>\n",
       "      <td>289</td>\n",
       "      <td>7.672422</td>\n",
       "      <td>0</td>\n",
       "      <td>1</td>\n",
       "      <td>0</td>\n",
       "      <td>0</td>\n",
       "      <td>2091.012542</td>\n",
       "    </tr>\n",
       "    <tr>\n",
       "      <th>17</th>\n",
       "      <td>1990-04-01</td>\n",
       "      <td>2739.307999</td>\n",
       "      <td>Apr</td>\n",
       "      <td>1990</td>\n",
       "      <td>01</td>\n",
       "      <td>Sunday</td>\n",
       "      <td>18</td>\n",
       "      <td>324</td>\n",
       "      <td>7.915461</td>\n",
       "      <td>1</td>\n",
       "      <td>0</td>\n",
       "      <td>0</td>\n",
       "      <td>0</td>\n",
       "      <td>2789.079845</td>\n",
       "    </tr>\n",
       "    <tr>\n",
       "      <th>18</th>\n",
       "      <td>1990-07-01</td>\n",
       "      <td>2792.753998</td>\n",
       "      <td>Jul</td>\n",
       "      <td>1990</td>\n",
       "      <td>01</td>\n",
       "      <td>Sunday</td>\n",
       "      <td>19</td>\n",
       "      <td>361</td>\n",
       "      <td>7.934783</td>\n",
       "      <td>0</td>\n",
       "      <td>0</td>\n",
       "      <td>1</td>\n",
       "      <td>0</td>\n",
       "      <td>2766.621019</td>\n",
       "    </tr>\n",
       "    <tr>\n",
       "      <th>19</th>\n",
       "      <td>1990-10-01</td>\n",
       "      <td>2556.009995</td>\n",
       "      <td>Oct</td>\n",
       "      <td>1990</td>\n",
       "      <td>01</td>\n",
       "      <td>Monday</td>\n",
       "      <td>20</td>\n",
       "      <td>400</td>\n",
       "      <td>7.846203</td>\n",
       "      <td>0</td>\n",
       "      <td>0</td>\n",
       "      <td>0</td>\n",
       "      <td>1</td>\n",
       "      <td>2500.435807</td>\n",
       "    </tr>\n",
       "    <tr>\n",
       "      <th>20</th>\n",
       "      <td>1991-01-01</td>\n",
       "      <td>2480.973999</td>\n",
       "      <td>Jan</td>\n",
       "      <td>1991</td>\n",
       "      <td>01</td>\n",
       "      <td>Tuesday</td>\n",
       "      <td>21</td>\n",
       "      <td>441</td>\n",
       "      <td>7.816407</td>\n",
       "      <td>0</td>\n",
       "      <td>1</td>\n",
       "      <td>0</td>\n",
       "      <td>0</td>\n",
       "      <td>2347.761724</td>\n",
       "    </tr>\n",
       "    <tr>\n",
       "      <th>21</th>\n",
       "      <td>1991-04-01</td>\n",
       "      <td>3039.522995</td>\n",
       "      <td>Apr</td>\n",
       "      <td>1991</td>\n",
       "      <td>01</td>\n",
       "      <td>Monday</td>\n",
       "      <td>22</td>\n",
       "      <td>484</td>\n",
       "      <td>8.019456</td>\n",
       "      <td>1</td>\n",
       "      <td>0</td>\n",
       "      <td>0</td>\n",
       "      <td>0</td>\n",
       "      <td>3059.893450</td>\n",
       "    </tr>\n",
       "    <tr>\n",
       "      <th>22</th>\n",
       "      <td>1991-07-01</td>\n",
       "      <td>3172.115997</td>\n",
       "      <td>Jul</td>\n",
       "      <td>1991</td>\n",
       "      <td>01</td>\n",
       "      <td>Monday</td>\n",
       "      <td>23</td>\n",
       "      <td>529</td>\n",
       "      <td>8.062154</td>\n",
       "      <td>0</td>\n",
       "      <td>0</td>\n",
       "      <td>1</td>\n",
       "      <td>0</td>\n",
       "      <td>3051.499047</td>\n",
       "    </tr>\n",
       "    <tr>\n",
       "      <th>23</th>\n",
       "      <td>1991-10-01</td>\n",
       "      <td>2879.000999</td>\n",
       "      <td>Oct</td>\n",
       "      <td>1991</td>\n",
       "      <td>01</td>\n",
       "      <td>Tuesday</td>\n",
       "      <td>24</td>\n",
       "      <td>576</td>\n",
       "      <td>7.965199</td>\n",
       "      <td>0</td>\n",
       "      <td>0</td>\n",
       "      <td>0</td>\n",
       "      <td>1</td>\n",
       "      <td>2799.378257</td>\n",
       "    </tr>\n",
       "    <tr>\n",
       "      <th>24</th>\n",
       "      <td>1992-01-01</td>\n",
       "      <td>2772.000000</td>\n",
       "      <td>Jan</td>\n",
       "      <td>1992</td>\n",
       "      <td>01</td>\n",
       "      <td>Wednesday</td>\n",
       "      <td>25</td>\n",
       "      <td>625</td>\n",
       "      <td>7.927324</td>\n",
       "      <td>0</td>\n",
       "      <td>1</td>\n",
       "      <td>0</td>\n",
       "      <td>0</td>\n",
       "      <td>2660.768598</td>\n",
       "    </tr>\n",
       "    <tr>\n",
       "      <th>25</th>\n",
       "      <td>1992-04-01</td>\n",
       "      <td>3550.000000</td>\n",
       "      <td>Apr</td>\n",
       "      <td>1992</td>\n",
       "      <td>01</td>\n",
       "      <td>Wednesday</td>\n",
       "      <td>26</td>\n",
       "      <td>676</td>\n",
       "      <td>8.174703</td>\n",
       "      <td>1</td>\n",
       "      <td>0</td>\n",
       "      <td>0</td>\n",
       "      <td>0</td>\n",
       "      <td>3386.964746</td>\n",
       "    </tr>\n",
       "    <tr>\n",
       "      <th>26</th>\n",
       "      <td>1992-07-01</td>\n",
       "      <td>3508.000000</td>\n",
       "      <td>Jul</td>\n",
       "      <td>1992</td>\n",
       "      <td>01</td>\n",
       "      <td>Wednesday</td>\n",
       "      <td>27</td>\n",
       "      <td>729</td>\n",
       "      <td>8.162801</td>\n",
       "      <td>0</td>\n",
       "      <td>0</td>\n",
       "      <td>1</td>\n",
       "      <td>0</td>\n",
       "      <td>3392.634766</td>\n",
       "    </tr>\n",
       "    <tr>\n",
       "      <th>27</th>\n",
       "      <td>1992-10-01</td>\n",
       "      <td>3243.859993</td>\n",
       "      <td>Oct</td>\n",
       "      <td>1992</td>\n",
       "      <td>01</td>\n",
       "      <td>Thursday</td>\n",
       "      <td>28</td>\n",
       "      <td>784</td>\n",
       "      <td>8.084519</td>\n",
       "      <td>0</td>\n",
       "      <td>0</td>\n",
       "      <td>0</td>\n",
       "      <td>1</td>\n",
       "      <td>3154.578400</td>\n",
       "    </tr>\n",
       "    <tr>\n",
       "      <th>28</th>\n",
       "      <td>1993-01-01</td>\n",
       "      <td>3056.000000</td>\n",
       "      <td>Jan</td>\n",
       "      <td>1993</td>\n",
       "      <td>01</td>\n",
       "      <td>Friday</td>\n",
       "      <td>29</td>\n",
       "      <td>841</td>\n",
       "      <td>8.024862</td>\n",
       "      <td>0</td>\n",
       "      <td>1</td>\n",
       "      <td>0</td>\n",
       "      <td>0</td>\n",
       "      <td>3030.033163</td>\n",
       "    </tr>\n",
       "    <tr>\n",
       "      <th>29</th>\n",
       "      <td>1993-04-01</td>\n",
       "      <td>3899.000000</td>\n",
       "      <td>Apr</td>\n",
       "      <td>1993</td>\n",
       "      <td>01</td>\n",
       "      <td>Thursday</td>\n",
       "      <td>30</td>\n",
       "      <td>900</td>\n",
       "      <td>8.268475</td>\n",
       "      <td>1</td>\n",
       "      <td>0</td>\n",
       "      <td>0</td>\n",
       "      <td>0</td>\n",
       "      <td>3770.293734</td>\n",
       "    </tr>\n",
       "    <tr>\n",
       "      <th>30</th>\n",
       "      <td>1993-07-01</td>\n",
       "      <td>3629.000000</td>\n",
       "      <td>Jul</td>\n",
       "      <td>1993</td>\n",
       "      <td>01</td>\n",
       "      <td>Thursday</td>\n",
       "      <td>31</td>\n",
       "      <td>961</td>\n",
       "      <td>8.196712</td>\n",
       "      <td>0</td>\n",
       "      <td>0</td>\n",
       "      <td>1</td>\n",
       "      <td>0</td>\n",
       "      <td>3790.028177</td>\n",
       "    </tr>\n",
       "    <tr>\n",
       "      <th>31</th>\n",
       "      <td>1993-10-01</td>\n",
       "      <td>3373.000000</td>\n",
       "      <td>Oct</td>\n",
       "      <td>1993</td>\n",
       "      <td>01</td>\n",
       "      <td>Friday</td>\n",
       "      <td>32</td>\n",
       "      <td>1024</td>\n",
       "      <td>8.123558</td>\n",
       "      <td>0</td>\n",
       "      <td>0</td>\n",
       "      <td>0</td>\n",
       "      <td>1</td>\n",
       "      <td>3566.036233</td>\n",
       "    </tr>\n",
       "    <tr>\n",
       "      <th>32</th>\n",
       "      <td>1994-01-01</td>\n",
       "      <td>3352.000000</td>\n",
       "      <td>Jan</td>\n",
       "      <td>1994</td>\n",
       "      <td>01</td>\n",
       "      <td>Saturday</td>\n",
       "      <td>33</td>\n",
       "      <td>1089</td>\n",
       "      <td>8.117312</td>\n",
       "      <td>0</td>\n",
       "      <td>1</td>\n",
       "      <td>0</td>\n",
       "      <td>0</td>\n",
       "      <td>3455.555419</td>\n",
       "    </tr>\n",
       "    <tr>\n",
       "      <th>33</th>\n",
       "      <td>1994-04-01</td>\n",
       "      <td>4342.000000</td>\n",
       "      <td>Apr</td>\n",
       "      <td>1994</td>\n",
       "      <td>01</td>\n",
       "      <td>Friday</td>\n",
       "      <td>34</td>\n",
       "      <td>1156</td>\n",
       "      <td>8.376090</td>\n",
       "      <td>1</td>\n",
       "      <td>0</td>\n",
       "      <td>0</td>\n",
       "      <td>0</td>\n",
       "      <td>4209.880414</td>\n",
       "    </tr>\n",
       "    <tr>\n",
       "      <th>34</th>\n",
       "      <td>1994-07-01</td>\n",
       "      <td>4461.000000</td>\n",
       "      <td>Jul</td>\n",
       "      <td>1994</td>\n",
       "      <td>01</td>\n",
       "      <td>Friday</td>\n",
       "      <td>35</td>\n",
       "      <td>1225</td>\n",
       "      <td>8.403128</td>\n",
       "      <td>0</td>\n",
       "      <td>0</td>\n",
       "      <td>1</td>\n",
       "      <td>0</td>\n",
       "      <td>4243.679279</td>\n",
       "    </tr>\n",
       "    <tr>\n",
       "      <th>35</th>\n",
       "      <td>1994-10-01</td>\n",
       "      <td>4017.000000</td>\n",
       "      <td>Oct</td>\n",
       "      <td>1994</td>\n",
       "      <td>01</td>\n",
       "      <td>Saturday</td>\n",
       "      <td>36</td>\n",
       "      <td>1296</td>\n",
       "      <td>8.298291</td>\n",
       "      <td>0</td>\n",
       "      <td>0</td>\n",
       "      <td>0</td>\n",
       "      <td>1</td>\n",
       "      <td>4033.751758</td>\n",
       "    </tr>\n",
       "    <tr>\n",
       "      <th>36</th>\n",
       "      <td>1995-01-01</td>\n",
       "      <td>3854.000000</td>\n",
       "      <td>Jan</td>\n",
       "      <td>1995</td>\n",
       "      <td>01</td>\n",
       "      <td>Sunday</td>\n",
       "      <td>37</td>\n",
       "      <td>1369</td>\n",
       "      <td>8.256867</td>\n",
       "      <td>0</td>\n",
       "      <td>1</td>\n",
       "      <td>0</td>\n",
       "      <td>0</td>\n",
       "      <td>3937.335367</td>\n",
       "    </tr>\n",
       "    <tr>\n",
       "      <th>37</th>\n",
       "      <td>1995-04-01</td>\n",
       "      <td>4936.000000</td>\n",
       "      <td>Apr</td>\n",
       "      <td>1995</td>\n",
       "      <td>01</td>\n",
       "      <td>Saturday</td>\n",
       "      <td>38</td>\n",
       "      <td>1444</td>\n",
       "      <td>8.504311</td>\n",
       "      <td>1</td>\n",
       "      <td>0</td>\n",
       "      <td>0</td>\n",
       "      <td>0</td>\n",
       "      <td>4705.724784</td>\n",
       "    </tr>\n",
       "    <tr>\n",
       "      <th>38</th>\n",
       "      <td>1995-07-01</td>\n",
       "      <td>4895.000000</td>\n",
       "      <td>Jul</td>\n",
       "      <td>1995</td>\n",
       "      <td>01</td>\n",
       "      <td>Saturday</td>\n",
       "      <td>39</td>\n",
       "      <td>1521</td>\n",
       "      <td>8.495970</td>\n",
       "      <td>0</td>\n",
       "      <td>0</td>\n",
       "      <td>1</td>\n",
       "      <td>0</td>\n",
       "      <td>4753.588072</td>\n",
       "    </tr>\n",
       "    <tr>\n",
       "      <th>39</th>\n",
       "      <td>1995-10-01</td>\n",
       "      <td>4333.000000</td>\n",
       "      <td>Oct</td>\n",
       "      <td>1995</td>\n",
       "      <td>01</td>\n",
       "      <td>Sunday</td>\n",
       "      <td>40</td>\n",
       "      <td>1600</td>\n",
       "      <td>8.374015</td>\n",
       "      <td>0</td>\n",
       "      <td>0</td>\n",
       "      <td>0</td>\n",
       "      <td>1</td>\n",
       "      <td>4557.724974</td>\n",
       "    </tr>\n",
       "    <tr>\n",
       "      <th>40</th>\n",
       "      <td>1996-01-01</td>\n",
       "      <td>4194.000000</td>\n",
       "      <td>Jan</td>\n",
       "      <td>1996</td>\n",
       "      <td>01</td>\n",
       "      <td>Monday</td>\n",
       "      <td>41</td>\n",
       "      <td>1681</td>\n",
       "      <td>8.341410</td>\n",
       "      <td>0</td>\n",
       "      <td>1</td>\n",
       "      <td>0</td>\n",
       "      <td>0</td>\n",
       "      <td>4475.373006</td>\n",
       "    </tr>\n",
       "    <tr>\n",
       "      <th>41</th>\n",
       "      <td>1996-04-01</td>\n",
       "      <td>5253.000000</td>\n",
       "      <td>Apr</td>\n",
       "      <td>1996</td>\n",
       "      <td>01</td>\n",
       "      <td>Monday</td>\n",
       "      <td>42</td>\n",
       "      <td>1764</td>\n",
       "      <td>8.566555</td>\n",
       "      <td>1</td>\n",
       "      <td>0</td>\n",
       "      <td>0</td>\n",
       "      <td>0</td>\n",
       "      <td>5257.826846</td>\n",
       "    </tr>\n",
       "  </tbody>\n",
       "</table>\n",
       "</div>"
      ],
      "text/plain": [
       "      Quarter        Sales month  year Day      wkday   t  t_square  \\\n",
       "0  1986-01-01  1734.827000   Jan  1986  01  Wednesday   1         1   \n",
       "1  1986-04-01  2244.960999   Apr  1986  01    Tuesday   2         4   \n",
       "2  1986-07-01  2533.804993   Jul  1986  01    Tuesday   3         9   \n",
       "3  1986-10-01  2154.962997   Oct  1986  01  Wednesday   4        16   \n",
       "4  1987-01-01  1547.818996   Jan  1987  01   Thursday   5        25   \n",
       "5  1987-04-01  2104.411995   Apr  1987  01  Wednesday   6        36   \n",
       "6  1987-07-01  2014.362999   Jul  1987  01  Wednesday   7        49   \n",
       "7  1987-10-01  1991.746998   Oct  1987  01   Thursday   8        64   \n",
       "8  1988-01-01  1869.049999   Jan  1988  01     Friday   9        81   \n",
       "9  1988-04-01  2313.631996   Apr  1988  01     Friday  10       100   \n",
       "10 1988-07-01  2128.320000   Jul  1988  01     Friday  11       121   \n",
       "11 1988-10-01  2026.828999   Oct  1988  01   Saturday  12       144   \n",
       "12 1989-01-01  1910.603996   Jan  1989  01     Sunday  13       169   \n",
       "13 1989-04-01  2331.164993   Apr  1989  01   Saturday  14       196   \n",
       "14 1989-07-01  2206.549995   Jul  1989  01   Saturday  15       225   \n",
       "15 1989-10-01  2173.967995   Oct  1989  01     Sunday  16       256   \n",
       "16 1990-01-01  2148.278000   Jan  1990  01     Monday  17       289   \n",
       "17 1990-04-01  2739.307999   Apr  1990  01     Sunday  18       324   \n",
       "18 1990-07-01  2792.753998   Jul  1990  01     Sunday  19       361   \n",
       "19 1990-10-01  2556.009995   Oct  1990  01     Monday  20       400   \n",
       "20 1991-01-01  2480.973999   Jan  1991  01    Tuesday  21       441   \n",
       "21 1991-04-01  3039.522995   Apr  1991  01     Monday  22       484   \n",
       "22 1991-07-01  3172.115997   Jul  1991  01     Monday  23       529   \n",
       "23 1991-10-01  2879.000999   Oct  1991  01    Tuesday  24       576   \n",
       "24 1992-01-01  2772.000000   Jan  1992  01  Wednesday  25       625   \n",
       "25 1992-04-01  3550.000000   Apr  1992  01  Wednesday  26       676   \n",
       "26 1992-07-01  3508.000000   Jul  1992  01  Wednesday  27       729   \n",
       "27 1992-10-01  3243.859993   Oct  1992  01   Thursday  28       784   \n",
       "28 1993-01-01  3056.000000   Jan  1993  01     Friday  29       841   \n",
       "29 1993-04-01  3899.000000   Apr  1993  01   Thursday  30       900   \n",
       "30 1993-07-01  3629.000000   Jul  1993  01   Thursday  31       961   \n",
       "31 1993-10-01  3373.000000   Oct  1993  01     Friday  32      1024   \n",
       "32 1994-01-01  3352.000000   Jan  1994  01   Saturday  33      1089   \n",
       "33 1994-04-01  4342.000000   Apr  1994  01     Friday  34      1156   \n",
       "34 1994-07-01  4461.000000   Jul  1994  01     Friday  35      1225   \n",
       "35 1994-10-01  4017.000000   Oct  1994  01   Saturday  36      1296   \n",
       "36 1995-01-01  3854.000000   Jan  1995  01     Sunday  37      1369   \n",
       "37 1995-04-01  4936.000000   Apr  1995  01   Saturday  38      1444   \n",
       "38 1995-07-01  4895.000000   Jul  1995  01   Saturday  39      1521   \n",
       "39 1995-10-01  4333.000000   Oct  1995  01     Sunday  40      1600   \n",
       "40 1996-01-01  4194.000000   Jan  1996  01     Monday  41      1681   \n",
       "41 1996-04-01  5253.000000   Apr  1996  01     Monday  42      1764   \n",
       "\n",
       "    log_sales  Apr  Jan  Jul  Oct  forecasted_sales  \n",
       "0    7.458663    0    1    0    0       1626.592727  \n",
       "1    7.716443    1    0    0    0       2268.402339  \n",
       "2    7.837477    0    0    1    0       2189.685821  \n",
       "3    7.675529    0    0    0    1       1867.242917  \n",
       "4    7.344602    0    1    0    0       1658.311143  \n",
       "5    7.651791    1    0    0    0       2314.185178  \n",
       "6    7.608058    0    0    1    0       2249.533083  \n",
       "7    7.596767    0    0    0    1       1941.154603  \n",
       "8    7.533186    0    1    0    0       1746.287252  \n",
       "9    7.746574    1    0    0    0       2416.225709  \n",
       "10   7.663088    0    0    1    0       2365.638037  \n",
       "11   7.614228    0    0    0    1       2071.323979  \n",
       "12   7.555175    0    1    0    0       1890.521051  \n",
       "13   7.754123    1    0    0    0       2574.523931  \n",
       "14   7.699185    0    0    1    0       2538.000682  \n",
       "15   7.684309    0    0    0    1       2257.751047  \n",
       "16   7.672422    0    1    0    0       2091.012542  \n",
       "17   7.915461    1    0    0    0       2789.079845  \n",
       "18   7.934783    0    0    1    0       2766.621019  \n",
       "19   7.846203    0    0    0    1       2500.435807  \n",
       "20   7.816407    0    1    0    0       2347.761724  \n",
       "21   8.019456    1    0    0    0       3059.893450  \n",
       "22   8.062154    0    0    1    0       3051.499047  \n",
       "23   7.965199    0    0    0    1       2799.378257  \n",
       "24   7.927324    0    1    0    0       2660.768598  \n",
       "25   8.174703    1    0    0    0       3386.964746  \n",
       "26   8.162801    0    0    1    0       3392.634766  \n",
       "27   8.084519    0    0    0    1       3154.578400  \n",
       "28   8.024862    0    1    0    0       3030.033163  \n",
       "29   8.268475    1    0    0    0       3770.293734  \n",
       "30   8.196712    0    0    1    0       3790.028177  \n",
       "31   8.123558    0    0    0    1       3566.036233  \n",
       "32   8.117312    0    1    0    0       3455.555419  \n",
       "33   8.376090    1    0    0    0       4209.880414  \n",
       "34   8.403128    0    0    1    0       4243.679279  \n",
       "35   8.298291    0    0    0    1       4033.751758  \n",
       "36   8.256867    0    1    0    0       3937.335367  \n",
       "37   8.504311    1    0    0    0       4705.724784  \n",
       "38   8.495970    0    0    1    0       4753.588072  \n",
       "39   8.374015    0    0    0    1       4557.724974  \n",
       "40   8.341410    0    1    0    0       4475.373006  \n",
       "41   8.566555    1    0    0    0       5257.826846  "
      ]
     },
     "execution_count": 53,
     "metadata": {},
     "output_type": "execute_result"
    }
   ],
   "source": [
    "series"
   ]
  },
  {
   "cell_type": "code",
   "execution_count": 54,
   "id": "d0c5d8b2-7f69-4716-b025-82488ce29d52",
   "metadata": {
    "colab": {
     "base_uri": "https://localhost:8080/",
     "height": 285
    },
    "executionInfo": {
     "elapsed": 1020,
     "status": "ok",
     "timestamp": 1627717750853,
     "user": {
      "displayName": "Jaspal Singh Jhass",
      "photoUrl": "",
      "userId": "14870781376371902378"
     },
     "user_tz": -330
    },
    "id": "eqVDiRFByRz4",
    "outputId": "26f90b67-b831-407d-e9dd-7036e738c9d7"
   },
   "outputs": [
    {
     "data": {
      "text/plain": [
       "[<matplotlib.lines.Line2D at 0x1dfa7f53d30>,\n",
       " <matplotlib.lines.Line2D at 0x1dfa7f53d90>]"
      ]
     },
     "execution_count": 54,
     "metadata": {},
     "output_type": "execute_result"
    },
    {
     "data": {
      "image/png": "[encoded data removed]",
      "text/plain": [
       "<Figure size 1440x576 with 1 Axes>"
      ]
     },
     "metadata": {
      "needs_background": "light"
     },
     "output_type": "display_data"
    }
   ],
   "source": [
    "plt.figure(figsize = (20,8))\n",
    "\n",
    "plt.plot(series[['Sales','forecasted_sales']])"
   ]
  },
  {
   "cell_type": "markdown",
   "id": "13dc8b2e-91b2-41bd-ab07-1c10e2986c99",
   "metadata": {},
   "source": [
    "# Forecasting - Data Driven"
   ]
  },
  {
   "cell_type": "code",
   "execution_count": 55,
   "id": "b7000b7c-af9d-466e-9007-c6c2896e69dd",
   "metadata": {
    "colab": {
     "base_uri": "https://localhost:8080/"
    },
    "executionInfo": {
     "elapsed": 1038,
     "status": "ok",
     "timestamp": 1637854220215,
     "user": {
      "displayName": "Gabriel TJ",
      "photoUrl": "https://lh3.googleusercontent.com/a-/AOh14Ggx2MLktQ41s96GgQ-VtiyvpP7hWaTo-cBYkXng=s64",
      "userId": "17824956076998332549"
     },
     "user_tz": -330
    },
    "id": "OEpX5uvIq22Y",
    "outputId": "e740744b-c9dd-4cac-9c08-1f18a50d4973"
   },
   "outputs": [],
   "source": [
    "import statsmodels.graphics.tsaplots as tsa_plots\n",
    "from statsmodels.tsa.seasonal import seasonal_decompose\n",
    "from statsmodels.tsa.holtwinters import SimpleExpSmoothing # SES\n",
    "from statsmodels.tsa.holtwinters import Holt # Holts Exponential Smoothing\n",
    "from statsmodels.tsa.holtwinters import ExponentialSmoothing \n"
   ]
  },
  {
   "cell_type": "markdown",
   "id": "7516762d-a1aa-4333-9cd7-073d14e850c3",
   "metadata": {
    "id": "aAAF5NyZq22j"
   },
   "source": [
    "#### Splitting data"
   ]
  },
  {
   "cell_type": "code",
   "execution_count": 56,
   "id": "a3a8008a-d347-4f98-952f-2ad6f43d95b7",
   "metadata": {
    "colab": {
     "base_uri": "https://localhost:8080/",
     "height": 423
    },
    "executionInfo": {
     "elapsed": 399,
     "status": "ok",
     "timestamp": 1631601733508,
     "user": {
      "displayName": "Gabriel TJ",
      "photoUrl": "https://lh3.googleusercontent.com/a-/AOh14Ggx2MLktQ41s96GgQ-VtiyvpP7hWaTo-cBYkXng=s64",
      "userId": "17824956076998332549"
     },
     "user_tz": -330
    },
    "id": "c6FEkte6q22j",
    "outputId": "2ccf7687-e772-48b0-8286-eade555e2a71"
   },
   "outputs": [
    {
     "data": {
      "text/html": [
       "<div>\n",
       "<style scoped>\n",
       "    .dataframe tbody tr th:only-of-type {\n",
       "        vertical-align: middle;\n",
       "    }\n",
       "\n",
       "    .dataframe tbody tr th {\n",
       "        vertical-align: top;\n",
       "    }\n",
       "\n",
       "    .dataframe thead th {\n",
       "        text-align: right;\n",
       "    }\n",
       "</style>\n",
       "<table border=\"1\" class=\"dataframe\">\n",
       "  <thead>\n",
       "    <tr style=\"text-align: right;\">\n",
       "      <th></th>\n",
       "      <th>Quarter</th>\n",
       "      <th>Sales</th>\n",
       "    </tr>\n",
       "  </thead>\n",
       "  <tbody>\n",
       "    <tr>\n",
       "      <th>0</th>\n",
       "      <td>1986-01-01</td>\n",
       "      <td>1734.827000</td>\n",
       "    </tr>\n",
       "    <tr>\n",
       "      <th>1</th>\n",
       "      <td>1986-04-01</td>\n",
       "      <td>2244.960999</td>\n",
       "    </tr>\n",
       "    <tr>\n",
       "      <th>2</th>\n",
       "      <td>1986-07-01</td>\n",
       "      <td>2533.804993</td>\n",
       "    </tr>\n",
       "    <tr>\n",
       "      <th>3</th>\n",
       "      <td>1986-10-01</td>\n",
       "      <td>2154.962997</td>\n",
       "    </tr>\n",
       "    <tr>\n",
       "      <th>4</th>\n",
       "      <td>1987-01-01</td>\n",
       "      <td>1547.818996</td>\n",
       "    </tr>\n",
       "    <tr>\n",
       "      <th>5</th>\n",
       "      <td>1987-04-01</td>\n",
       "      <td>2104.411995</td>\n",
       "    </tr>\n",
       "    <tr>\n",
       "      <th>6</th>\n",
       "      <td>1987-07-01</td>\n",
       "      <td>2014.362999</td>\n",
       "    </tr>\n",
       "    <tr>\n",
       "      <th>7</th>\n",
       "      <td>1987-10-01</td>\n",
       "      <td>1991.746998</td>\n",
       "    </tr>\n",
       "    <tr>\n",
       "      <th>8</th>\n",
       "      <td>1988-01-01</td>\n",
       "      <td>1869.049999</td>\n",
       "    </tr>\n",
       "    <tr>\n",
       "      <th>9</th>\n",
       "      <td>1988-04-01</td>\n",
       "      <td>2313.631996</td>\n",
       "    </tr>\n",
       "    <tr>\n",
       "      <th>10</th>\n",
       "      <td>1988-07-01</td>\n",
       "      <td>2128.320000</td>\n",
       "    </tr>\n",
       "    <tr>\n",
       "      <th>11</th>\n",
       "      <td>1988-10-01</td>\n",
       "      <td>2026.828999</td>\n",
       "    </tr>\n",
       "    <tr>\n",
       "      <th>12</th>\n",
       "      <td>1989-01-01</td>\n",
       "      <td>1910.603996</td>\n",
       "    </tr>\n",
       "    <tr>\n",
       "      <th>13</th>\n",
       "      <td>1989-04-01</td>\n",
       "      <td>2331.164993</td>\n",
       "    </tr>\n",
       "    <tr>\n",
       "      <th>14</th>\n",
       "      <td>1989-07-01</td>\n",
       "      <td>2206.549995</td>\n",
       "    </tr>\n",
       "    <tr>\n",
       "      <th>15</th>\n",
       "      <td>1989-10-01</td>\n",
       "      <td>2173.967995</td>\n",
       "    </tr>\n",
       "    <tr>\n",
       "      <th>16</th>\n",
       "      <td>1990-01-01</td>\n",
       "      <td>2148.278000</td>\n",
       "    </tr>\n",
       "    <tr>\n",
       "      <th>17</th>\n",
       "      <td>1990-04-01</td>\n",
       "      <td>2739.307999</td>\n",
       "    </tr>\n",
       "    <tr>\n",
       "      <th>18</th>\n",
       "      <td>1990-07-01</td>\n",
       "      <td>2792.753998</td>\n",
       "    </tr>\n",
       "    <tr>\n",
       "      <th>19</th>\n",
       "      <td>1990-10-01</td>\n",
       "      <td>2556.009995</td>\n",
       "    </tr>\n",
       "    <tr>\n",
       "      <th>20</th>\n",
       "      <td>1991-01-01</td>\n",
       "      <td>2480.973999</td>\n",
       "    </tr>\n",
       "    <tr>\n",
       "      <th>21</th>\n",
       "      <td>1991-04-01</td>\n",
       "      <td>3039.522995</td>\n",
       "    </tr>\n",
       "    <tr>\n",
       "      <th>22</th>\n",
       "      <td>1991-07-01</td>\n",
       "      <td>3172.115997</td>\n",
       "    </tr>\n",
       "    <tr>\n",
       "      <th>23</th>\n",
       "      <td>1991-10-01</td>\n",
       "      <td>2879.000999</td>\n",
       "    </tr>\n",
       "    <tr>\n",
       "      <th>24</th>\n",
       "      <td>1992-01-01</td>\n",
       "      <td>2772.000000</td>\n",
       "    </tr>\n",
       "    <tr>\n",
       "      <th>25</th>\n",
       "      <td>1992-04-01</td>\n",
       "      <td>3550.000000</td>\n",
       "    </tr>\n",
       "    <tr>\n",
       "      <th>26</th>\n",
       "      <td>1992-07-01</td>\n",
       "      <td>3508.000000</td>\n",
       "    </tr>\n",
       "    <tr>\n",
       "      <th>27</th>\n",
       "      <td>1992-10-01</td>\n",
       "      <td>3243.859993</td>\n",
       "    </tr>\n",
       "    <tr>\n",
       "      <th>28</th>\n",
       "      <td>1993-01-01</td>\n",
       "      <td>3056.000000</td>\n",
       "    </tr>\n",
       "    <tr>\n",
       "      <th>29</th>\n",
       "      <td>1993-04-01</td>\n",
       "      <td>3899.000000</td>\n",
       "    </tr>\n",
       "    <tr>\n",
       "      <th>30</th>\n",
       "      <td>1993-07-01</td>\n",
       "      <td>3629.000000</td>\n",
       "    </tr>\n",
       "    <tr>\n",
       "      <th>31</th>\n",
       "      <td>1993-10-01</td>\n",
       "      <td>3373.000000</td>\n",
       "    </tr>\n",
       "    <tr>\n",
       "      <th>32</th>\n",
       "      <td>1994-01-01</td>\n",
       "      <td>3352.000000</td>\n",
       "    </tr>\n",
       "    <tr>\n",
       "      <th>33</th>\n",
       "      <td>1994-04-01</td>\n",
       "      <td>4342.000000</td>\n",
       "    </tr>\n",
       "  </tbody>\n",
       "</table>\n",
       "</div>"
      ],
      "text/plain": [
       "      Quarter        Sales\n",
       "0  1986-01-01  1734.827000\n",
       "1  1986-04-01  2244.960999\n",
       "2  1986-07-01  2533.804993\n",
       "3  1986-10-01  2154.962997\n",
       "4  1987-01-01  1547.818996\n",
       "5  1987-04-01  2104.411995\n",
       "6  1987-07-01  2014.362999\n",
       "7  1987-10-01  1991.746998\n",
       "8  1988-01-01  1869.049999\n",
       "9  1988-04-01  2313.631996\n",
       "10 1988-07-01  2128.320000\n",
       "11 1988-10-01  2026.828999\n",
       "12 1989-01-01  1910.603996\n",
       "13 1989-04-01  2331.164993\n",
       "14 1989-07-01  2206.549995\n",
       "15 1989-10-01  2173.967995\n",
       "16 1990-01-01  2148.278000\n",
       "17 1990-04-01  2739.307999\n",
       "18 1990-07-01  2792.753998\n",
       "19 1990-10-01  2556.009995\n",
       "20 1991-01-01  2480.973999\n",
       "21 1991-04-01  3039.522995\n",
       "22 1991-07-01  3172.115997\n",
       "23 1991-10-01  2879.000999\n",
       "24 1992-01-01  2772.000000\n",
       "25 1992-04-01  3550.000000\n",
       "26 1992-07-01  3508.000000\n",
       "27 1992-10-01  3243.859993\n",
       "28 1993-01-01  3056.000000\n",
       "29 1993-04-01  3899.000000\n",
       "30 1993-07-01  3629.000000\n",
       "31 1993-10-01  3373.000000\n",
       "32 1994-01-01  3352.000000\n",
       "33 1994-04-01  4342.000000"
      ]
     },
     "execution_count": 56,
     "metadata": {},
     "output_type": "execute_result"
    }
   ],
   "source": [
    "series = pd.read_excel('C:/Users/HP/Desktop/ExcelR/Data Science/Python/Assignments/Forecasting/CocaCola_Sales_Rawdata.xlsx')\n",
    "series[['q','year']] = series.Quarter.str.split('_', expand=True)\n",
    "series.year = series.year.astype(int) +1900\n",
    "series.q = series.q\n",
    "series.Quarter = pd.to_datetime(series['year'].astype(str) +  series['q'].astype(str))\n",
    "series = series.drop('q',axis=1)\n",
    "series = series.drop('year',axis=1)\n",
    "\n",
    "Train = series.head(34)\n",
    "Test = series.tail(8)\n",
    "Train"
   ]
  },
  {
   "cell_type": "code",
   "execution_count": 57,
   "id": "681b4e96-f61c-4e52-a44e-99f77e8a6ba9",
   "metadata": {},
   "outputs": [
    {
     "data": {
      "text/html": [
       "<div>\n",
       "<style scoped>\n",
       "    .dataframe tbody tr th:only-of-type {\n",
       "        vertical-align: middle;\n",
       "    }\n",
       "\n",
       "    .dataframe tbody tr th {\n",
       "        vertical-align: top;\n",
       "    }\n",
       "\n",
       "    .dataframe thead th {\n",
       "        text-align: right;\n",
       "    }\n",
       "</style>\n",
       "<table border=\"1\" class=\"dataframe\">\n",
       "  <thead>\n",
       "    <tr style=\"text-align: right;\">\n",
       "      <th></th>\n",
       "      <th>Quarter</th>\n",
       "      <th>Sales</th>\n",
       "    </tr>\n",
       "  </thead>\n",
       "  <tbody>\n",
       "    <tr>\n",
       "      <th>34</th>\n",
       "      <td>1994-07-01</td>\n",
       "      <td>4461.0</td>\n",
       "    </tr>\n",
       "    <tr>\n",
       "      <th>35</th>\n",
       "      <td>1994-10-01</td>\n",
       "      <td>4017.0</td>\n",
       "    </tr>\n",
       "    <tr>\n",
       "      <th>36</th>\n",
       "      <td>1995-01-01</td>\n",
       "      <td>3854.0</td>\n",
       "    </tr>\n",
       "    <tr>\n",
       "      <th>37</th>\n",
       "      <td>1995-04-01</td>\n",
       "      <td>4936.0</td>\n",
       "    </tr>\n",
       "    <tr>\n",
       "      <th>38</th>\n",
       "      <td>1995-07-01</td>\n",
       "      <td>4895.0</td>\n",
       "    </tr>\n",
       "    <tr>\n",
       "      <th>39</th>\n",
       "      <td>1995-10-01</td>\n",
       "      <td>4333.0</td>\n",
       "    </tr>\n",
       "    <tr>\n",
       "      <th>40</th>\n",
       "      <td>1996-01-01</td>\n",
       "      <td>4194.0</td>\n",
       "    </tr>\n",
       "    <tr>\n",
       "      <th>41</th>\n",
       "      <td>1996-04-01</td>\n",
       "      <td>5253.0</td>\n",
       "    </tr>\n",
       "  </tbody>\n",
       "</table>\n",
       "</div>"
      ],
      "text/plain": [
       "      Quarter   Sales\n",
       "34 1994-07-01  4461.0\n",
       "35 1994-10-01  4017.0\n",
       "36 1995-01-01  3854.0\n",
       "37 1995-04-01  4936.0\n",
       "38 1995-07-01  4895.0\n",
       "39 1995-10-01  4333.0\n",
       "40 1996-01-01  4194.0\n",
       "41 1996-04-01  5253.0"
      ]
     },
     "execution_count": 57,
     "metadata": {},
     "output_type": "execute_result"
    }
   ],
   "source": [
    "Test"
   ]
  },
  {
   "cell_type": "markdown",
   "id": "5bebb4c9-2c73-4c01-9341-b6abfe5cbcca",
   "metadata": {
    "id": "LVeUWYS-q22k"
   },
   "source": [
    "#### Moving Average "
   ]
  },
  {
   "cell_type": "code",
   "execution_count": 58,
   "id": "1f9e5cdf-7e27-4e63-b237-07fd56ff0eb9",
   "metadata": {},
   "outputs": [
    {
     "data": {
      "text/plain": [
       "<matplotlib.legend.Legend at 0x1dfa1c75250>"
      ]
     },
     "execution_count": 58,
     "metadata": {},
     "output_type": "execute_result"
    },
    {
     "data": {
      "image/png": "[encoded data removed]",
      "text/plain": [
       "<Figure size 1728x504 with 1 Axes>"
      ]
     },
     "metadata": {
      "needs_background": "light"
     },
     "output_type": "display_data"
    }
   ],
   "source": [
    "plt.figure(figsize=(24,7))\n",
    "series['Sales'].plot(label=\"org\")\n",
    "series[\"Sales\"].rolling(3).mean().plot(label=str(3))\n",
    "plt.legend(loc='best')"
   ]
  },
  {
   "cell_type": "code",
   "execution_count": 59,
   "id": "d40b78d2-156d-4684-87fd-3cced5cc4ef1",
   "metadata": {
    "colab": {
     "base_uri": "https://localhost:8080/",
     "height": 364
    },
    "executionInfo": {
     "elapsed": 2602,
     "status": "ok",
     "timestamp": 1619959904633,
     "user": {
      "displayName": "Jaspal Singh Jhass",
      "photoUrl": "",
      "userId": "14870781376371902378"
     },
     "user_tz": -330
    },
    "id": "MabCIzxOq22k",
    "outputId": "85a7df13-6b28-4218-9683-ed6fb2b16fd4"
   },
   "outputs": [
    {
     "data": {
      "text/plain": [
       "<matplotlib.legend.Legend at 0x1dfa1c76ac0>"
      ]
     },
     "execution_count": 59,
     "metadata": {},
     "output_type": "execute_result"
    },
    {
     "data": {
      "image/png": "[encoded data removed]",
      "text/plain": [
       "<Figure size 1728x504 with 1 Axes>"
      ]
     },
     "metadata": {
      "needs_background": "light"
     },
     "output_type": "display_data"
    }
   ],
   "source": [
    "plt.figure(figsize=(24,7))\n",
    "series['Sales'].plot(label=\"org\")\n",
    "for i in range(2,24,6):\n",
    "    series[\"Sales\"].rolling(i).mean().plot(label=str(i))\n",
    "plt.legend(loc='best')"
   ]
  },
  {
   "cell_type": "markdown",
   "id": "894f8baa-0518-4593-8e61-918c7c3046a0",
   "metadata": {
    "id": "nJ4ugYFrq22l"
   },
   "source": [
    "#### Time series decomposition plot \n"
   ]
  },
  {
   "cell_type": "code",
   "execution_count": 60,
   "id": "ac0266c1-15ef-436f-a27e-7a8627dd86d2",
   "metadata": {
    "colab": {
     "base_uri": "https://localhost:8080/",
     "height": 297
    },
    "executionInfo": {
     "elapsed": 2703,
     "status": "ok",
     "timestamp": 1619960026614,
     "user": {
      "displayName": "Jaspal Singh Jhass",
      "photoUrl": "",
      "userId": "14870781376371902378"
     },
     "user_tz": -330
    },
    "id": "UYUEtQY3q22l",
    "outputId": "176d7396-a7ce-4215-d7a5-f8c5b11f0a3a"
   },
   "outputs": [
    {
     "data": {
      "image/png": "[encoded data removed]",
      "text/plain": [
       "<Figure size 432x288 with 4 Axes>"
      ]
     },
     "metadata": {
      "needs_background": "light"
     },
     "output_type": "display_data"
    }
   ],
   "source": [
    "decompose_ts_add = seasonal_decompose(series['Sales'], period = 4)\n",
    "decompose_ts_add.plot()\n",
    "\n",
    "plt.show()"
   ]
  },
  {
   "cell_type": "markdown",
   "id": "f9575c03-3c73-4944-bee3-36ca47ffb440",
   "metadata": {
    "id": "lf4rT2wYq22m"
   },
   "source": [
    "#### ACF plots and PACF plots\n"
   ]
  },
  {
   "cell_type": "code",
   "execution_count": 61,
   "id": "3927fce3-e506-4ff4-ac17-d236aad6125d",
   "metadata": {
    "colab": {
     "base_uri": "https://localhost:8080/",
     "height": 545
    },
    "executionInfo": {
     "elapsed": 1855,
     "status": "ok",
     "timestamp": 1619960080845,
     "user": {
      "displayName": "Jaspal Singh Jhass",
      "photoUrl": "",
      "userId": "14870781376371902378"
     },
     "user_tz": -330
    },
    "id": "u2vc8pU9q22m",
    "outputId": "218e9767-2fa3-42df-b7cd-00b380e55474"
   },
   "outputs": [
    {
     "data": {
      "image/png": "[encoded data removed]",
      "text/plain": [
       "<Figure size 432x288 with 1 Axes>"
      ]
     },
     "metadata": {
      "needs_background": "light"
     },
     "output_type": "display_data"
    },
    {
     "data": {
      "image/png": "[encoded data removed]",
      "text/plain": [
       "<Figure size 432x288 with 1 Axes>"
      ]
     },
     "metadata": {
      "needs_background": "light"
     },
     "output_type": "display_data"
    }
   ],
   "source": [
    "tsa_plots.plot_acf(series.Sales,lags=10)\n",
    "tsa_plots.plot_pacf(series.Sales,lags=10)\n",
    "plt.show()"
   ]
  },
  {
   "cell_type": "markdown",
   "id": "003f0ef5-eb7d-4949-9a3c-a248a2dd2023",
   "metadata": {
    "id": "a09fmOCKq22n"
   },
   "source": [
    "### Evaluation Metric MAPE"
   ]
  },
  {
   "cell_type": "code",
   "execution_count": 62,
   "id": "33f6005e-63d8-49dd-ad12-9c2124302529",
   "metadata": {
    "id": "2ExVt_YRq22o"
   },
   "outputs": [],
   "source": [
    "def MAPE(pred,org):\n",
    "    temp = np.abs((pred-org)/org)*100\n",
    "    return np.mean(temp)"
   ]
  },
  {
   "cell_type": "markdown",
   "id": "584d6de5-2e87-47d3-a8a8-6edfdaca4669",
   "metadata": {
    "id": "MU7bzfWyq22o"
   },
   "source": [
    "### Simple Exponential Method\n"
   ]
  },
  {
   "cell_type": "code",
   "execution_count": 63,
   "id": "55e0b688-a406-453a-b3ef-1a3b86236124",
   "metadata": {
    "colab": {
     "base_uri": "https://localhost:8080/"
    },
    "executionInfo": {
     "elapsed": 841,
     "status": "ok",
     "timestamp": 1619960218351,
     "user": {
      "displayName": "Jaspal Singh Jhass",
      "photoUrl": "",
      "userId": "14870781376371902378"
     },
     "user_tz": -330
    },
    "id": "Ecn0tISTq22p",
    "outputId": "bf16bd9d-6540-4ce8-faf5-fdabcf85f43b"
   },
   "outputs": [
    {
     "data": {
      "text/plain": [
       "20.62971720565922"
      ]
     },
     "execution_count": 63,
     "metadata": {},
     "output_type": "execute_result"
    }
   ],
   "source": [
    "ses_model = SimpleExpSmoothing(Train[\"Sales\"]).fit(smoothing_level=0.2)\n",
    "pred_ses = ses_model.predict(start = Test.index[0],end = Test.index[-1])\n",
    "MAPE(pred_ses,Test.Sales)"
   ]
  },
  {
   "cell_type": "markdown",
   "id": "cf0c9785-23ec-4399-982d-5374ed925fec",
   "metadata": {
    "id": "sHB4rWb4q22q"
   },
   "source": [
    "### Holt method "
   ]
  },
  {
   "cell_type": "code",
   "execution_count": 64,
   "id": "63106431-e153-4860-99f1-1fc6ca00f373",
   "metadata": {
    "colab": {
     "base_uri": "https://localhost:8080/"
    },
    "executionInfo": {
     "elapsed": 992,
     "status": "ok",
     "timestamp": 1619960274990,
     "user": {
      "displayName": "Jaspal Singh Jhass",
      "photoUrl": "",
      "userId": "14870781376371902378"
     },
     "user_tz": -330
    },
    "id": "LUE0PQCjq22q",
    "outputId": "1161aea1-fc1e-4925-f21b-fd8ef71e0eb4"
   },
   "outputs": [
    {
     "data": {
      "text/plain": [
       "10.874453714362792"
      ]
     },
     "execution_count": 64,
     "metadata": {},
     "output_type": "execute_result"
    }
   ],
   "source": [
    "# Holt method \n",
    "hw_model = Holt(Train[\"Sales\"]).fit(smoothing_level=0.8, smoothing_slope=0.2)\n",
    "pred_hw = hw_model.predict(start = Test.index[0],end = Test.index[-1])\n",
    "MAPE(pred_hw,Test.Sales) "
   ]
  },
  {
   "cell_type": "markdown",
   "id": "11c8de07-7d69-44b5-9e78-833db6ed8fbf",
   "metadata": {
    "id": "gf5HRe08q22r"
   },
   "source": [
    "### Holts winter exponential smoothing with additive seasonality and additive trend\n"
   ]
  },
  {
   "cell_type": "code",
   "execution_count": 65,
   "id": "d7424e93-e2ee-4c81-8a52-1be5461d5aa5",
   "metadata": {
    "colab": {
     "base_uri": "https://localhost:8080/"
    },
    "executionInfo": {
     "elapsed": 864,
     "status": "ok",
     "timestamp": 1619960379918,
     "user": {
      "displayName": "Jaspal Singh Jhass",
      "photoUrl": "",
      "userId": "14870781376371902378"
     },
     "user_tz": -330
    },
    "id": "859fXdoWq22r",
    "outputId": "7493624f-cc01-4ab4-b4e4-a4e29ab49927"
   },
   "outputs": [
    {
     "data": {
      "text/plain": [
       "4.156566335224211"
      ]
     },
     "execution_count": 65,
     "metadata": {},
     "output_type": "execute_result"
    }
   ],
   "source": [
    "hwe_model_add_add = ExponentialSmoothing(Train[\"Sales\"],seasonal=\"add\",trend=\"add\",seasonal_periods=12).fit() #add the trend to the model\n",
    "pred_hwe_add_add = hwe_model_add_add.predict(start = Test.index[0],end = Test.index[-1])\n",
    "MAPE(pred_hwe_add_add,Test.Sales) "
   ]
  },
  {
   "cell_type": "markdown",
   "id": "13ea4272-71b4-4955-b86d-0610d1fa917e",
   "metadata": {
    "id": "SQNgCiy4q22r"
   },
   "source": [
    "### Holts winter exponential smoothing with multiplicative seasonality and additive trend"
   ]
  },
  {
   "cell_type": "code",
   "execution_count": 66,
   "id": "cb3a1da8-51f5-444f-a291-2a9d6f7b8bb2",
   "metadata": {
    "colab": {
     "base_uri": "https://localhost:8080/"
    },
    "executionInfo": {
     "elapsed": 938,
     "status": "ok",
     "timestamp": 1619960411547,
     "user": {
      "displayName": "Jaspal Singh Jhass",
      "photoUrl": "",
      "userId": "14870781376371902378"
     },
     "user_tz": -330
    },
    "id": "YHr7sH4Hq22s",
    "outputId": "1671fb10-3eed-4f56-e9c5-88fb7f917f0a"
   },
   "outputs": [
    {
     "data": {
      "text/plain": [
       "5.564932562079917"
      ]
     },
     "execution_count": 66,
     "metadata": {},
     "output_type": "execute_result"
    }
   ],
   "source": [
    "hwe_model_mul_add = ExponentialSmoothing(Train[\"Sales\"],seasonal=\"mul\",trend=\"add\",seasonal_periods=12).fit() \n",
    "pred_hwe_mul_add = hwe_model_mul_add.predict(start = Test.index[0],end = Test.index[-1])\n",
    "MAPE(pred_hwe_mul_add,Test.Sales)"
   ]
  },
  {
   "cell_type": "markdown",
   "id": "033d8a80-162e-43d4-99e8-deec93b2cb7c",
   "metadata": {
    "id": "tGRkitFqq22u"
   },
   "source": [
    "### Final Model by combining train and test"
   ]
  },
  {
   "cell_type": "code",
   "execution_count": 67,
   "id": "881994a1-3ac6-4348-a658-fb3a6c8be089",
   "metadata": {
    "id": "d72glDRhq22w"
   },
   "outputs": [],
   "source": [
    "hwe_model_add_add = ExponentialSmoothing(series[\"Sales\"],seasonal=\"add\",trend=\"add\",seasonal_periods=12).fit()"
   ]
  },
  {
   "cell_type": "code",
   "execution_count": 68,
   "id": "8086e011-a43d-4253-92cf-93cae9825900",
   "metadata": {
    "colab": {
     "base_uri": "https://localhost:8080/"
    },
    "executionInfo": {
     "elapsed": 904,
     "status": "ok",
     "timestamp": 1619960434035,
     "user": {
      "displayName": "Jaspal Singh Jhass",
      "photoUrl": "",
      "userId": "14870781376371902378"
     },
     "user_tz": -330
    },
    "id": "AvtGMU3Cq22x",
    "outputId": "2e3c4ff0-d3a8-45c9-8638-be4be7481f06"
   },
   "outputs": [
    {
     "data": {
      "text/plain": [
       "34    4257.588956\n",
       "35    3902.312791\n",
       "36    3662.495681\n",
       "37    4541.931028\n",
       "38    4474.887855\n",
       "39    4207.859549\n",
       "40    3920.680435\n",
       "41    4929.171779\n",
       "dtype: float64"
      ]
     },
     "execution_count": 68,
     "metadata": {},
     "output_type": "execute_result"
    }
   ],
   "source": [
    "#Forecasting for next 8 time periods\n",
    "hwe_model_mul_add.forecast(8)"
   ]
  },
  {
   "cell_type": "code",
   "execution_count": null,
   "id": "211bb0c6-97e8-4569-ba30-62c4981f3163",
   "metadata": {},
   "outputs": [],
   "source": []
  },
  {
   "cell_type": "markdown",
   "id": "62a7aae2-4cf5-41aa-96d2-73ad3ec53508",
   "metadata": {},
   "source": [
    "# Forecasting using ARIMA model"
   ]
  },
  {
   "cell_type": "code",
   "execution_count": 69,
   "id": "3b42e391-0dcd-439c-845a-9d3d026033ac",
   "metadata": {
    "colab": {
     "base_uri": "https://localhost:8080/"
    },
    "executionInfo": {
     "elapsed": 1741,
     "status": "ok",
     "timestamp": 1627719751384,
     "user": {
      "displayName": "Jaspal Singh Jhass",
      "photoUrl": "",
      "userId": "14870781376371902378"
     },
     "user_tz": -330
    },
    "id": "pA2Im0i0q0Nj",
    "outputId": "ad710a40-8fde-4021-9afa-b7bf1c7ba1da"
   },
   "outputs": [],
   "source": [
    "# Import libraries\n",
    "import itertools\n",
    "from math import sqrt\n",
    "import statsmodels.api as sm\n",
    "from sklearn.metrics import mean_squared_error\n",
    "from statsmodels.tsa.arima.model import ARIMA, ARIMAResults"
   ]
  },
  {
   "cell_type": "code",
   "execution_count": 70,
   "id": "896e0069-d87f-4789-a3a9-fef6ecedbd68",
   "metadata": {
    "id": "pRjFc7hxq0Nw"
   },
   "outputs": [
    {
     "data": {
      "text/html": [
       "<div>\n",
       "<style scoped>\n",
       "    .dataframe tbody tr th:only-of-type {\n",
       "        vertical-align: middle;\n",
       "    }\n",
       "\n",
       "    .dataframe tbody tr th {\n",
       "        vertical-align: top;\n",
       "    }\n",
       "\n",
       "    .dataframe thead th {\n",
       "        text-align: right;\n",
       "    }\n",
       "</style>\n",
       "<table border=\"1\" class=\"dataframe\">\n",
       "  <thead>\n",
       "    <tr style=\"text-align: right;\">\n",
       "      <th></th>\n",
       "      <th>Sales</th>\n",
       "    </tr>\n",
       "    <tr>\n",
       "      <th>Quarter</th>\n",
       "      <th></th>\n",
       "    </tr>\n",
       "  </thead>\n",
       "  <tbody>\n",
       "    <tr>\n",
       "      <th>1986-01-01</th>\n",
       "      <td>1734.827000</td>\n",
       "    </tr>\n",
       "    <tr>\n",
       "      <th>1986-04-01</th>\n",
       "      <td>2244.960999</td>\n",
       "    </tr>\n",
       "    <tr>\n",
       "      <th>1986-07-01</th>\n",
       "      <td>2533.804993</td>\n",
       "    </tr>\n",
       "    <tr>\n",
       "      <th>1986-10-01</th>\n",
       "      <td>2154.962997</td>\n",
       "    </tr>\n",
       "    <tr>\n",
       "      <th>1987-01-01</th>\n",
       "      <td>1547.818996</td>\n",
       "    </tr>\n",
       "    <tr>\n",
       "      <th>1987-04-01</th>\n",
       "      <td>2104.411995</td>\n",
       "    </tr>\n",
       "    <tr>\n",
       "      <th>1987-07-01</th>\n",
       "      <td>2014.362999</td>\n",
       "    </tr>\n",
       "    <tr>\n",
       "      <th>1987-10-01</th>\n",
       "      <td>1991.746998</td>\n",
       "    </tr>\n",
       "    <tr>\n",
       "      <th>1988-01-01</th>\n",
       "      <td>1869.049999</td>\n",
       "    </tr>\n",
       "    <tr>\n",
       "      <th>1988-04-01</th>\n",
       "      <td>2313.631996</td>\n",
       "    </tr>\n",
       "    <tr>\n",
       "      <th>1988-07-01</th>\n",
       "      <td>2128.320000</td>\n",
       "    </tr>\n",
       "    <tr>\n",
       "      <th>1988-10-01</th>\n",
       "      <td>2026.828999</td>\n",
       "    </tr>\n",
       "    <tr>\n",
       "      <th>1989-01-01</th>\n",
       "      <td>1910.603996</td>\n",
       "    </tr>\n",
       "    <tr>\n",
       "      <th>1989-04-01</th>\n",
       "      <td>2331.164993</td>\n",
       "    </tr>\n",
       "    <tr>\n",
       "      <th>1989-07-01</th>\n",
       "      <td>2206.549995</td>\n",
       "    </tr>\n",
       "    <tr>\n",
       "      <th>1989-10-01</th>\n",
       "      <td>2173.967995</td>\n",
       "    </tr>\n",
       "    <tr>\n",
       "      <th>1990-01-01</th>\n",
       "      <td>2148.278000</td>\n",
       "    </tr>\n",
       "    <tr>\n",
       "      <th>1990-04-01</th>\n",
       "      <td>2739.307999</td>\n",
       "    </tr>\n",
       "    <tr>\n",
       "      <th>1990-07-01</th>\n",
       "      <td>2792.753998</td>\n",
       "    </tr>\n",
       "    <tr>\n",
       "      <th>1990-10-01</th>\n",
       "      <td>2556.009995</td>\n",
       "    </tr>\n",
       "    <tr>\n",
       "      <th>1991-01-01</th>\n",
       "      <td>2480.973999</td>\n",
       "    </tr>\n",
       "    <tr>\n",
       "      <th>1991-04-01</th>\n",
       "      <td>3039.522995</td>\n",
       "    </tr>\n",
       "    <tr>\n",
       "      <th>1991-07-01</th>\n",
       "      <td>3172.115997</td>\n",
       "    </tr>\n",
       "    <tr>\n",
       "      <th>1991-10-01</th>\n",
       "      <td>2879.000999</td>\n",
       "    </tr>\n",
       "    <tr>\n",
       "      <th>1992-01-01</th>\n",
       "      <td>2772.000000</td>\n",
       "    </tr>\n",
       "    <tr>\n",
       "      <th>1992-04-01</th>\n",
       "      <td>3550.000000</td>\n",
       "    </tr>\n",
       "    <tr>\n",
       "      <th>1992-07-01</th>\n",
       "      <td>3508.000000</td>\n",
       "    </tr>\n",
       "    <tr>\n",
       "      <th>1992-10-01</th>\n",
       "      <td>3243.859993</td>\n",
       "    </tr>\n",
       "    <tr>\n",
       "      <th>1993-01-01</th>\n",
       "      <td>3056.000000</td>\n",
       "    </tr>\n",
       "    <tr>\n",
       "      <th>1993-04-01</th>\n",
       "      <td>3899.000000</td>\n",
       "    </tr>\n",
       "    <tr>\n",
       "      <th>1993-07-01</th>\n",
       "      <td>3629.000000</td>\n",
       "    </tr>\n",
       "    <tr>\n",
       "      <th>1993-10-01</th>\n",
       "      <td>3373.000000</td>\n",
       "    </tr>\n",
       "    <tr>\n",
       "      <th>1994-01-01</th>\n",
       "      <td>3352.000000</td>\n",
       "    </tr>\n",
       "    <tr>\n",
       "      <th>1994-04-01</th>\n",
       "      <td>4342.000000</td>\n",
       "    </tr>\n",
       "    <tr>\n",
       "      <th>1994-07-01</th>\n",
       "      <td>4461.000000</td>\n",
       "    </tr>\n",
       "    <tr>\n",
       "      <th>1994-10-01</th>\n",
       "      <td>4017.000000</td>\n",
       "    </tr>\n",
       "    <tr>\n",
       "      <th>1995-01-01</th>\n",
       "      <td>3854.000000</td>\n",
       "    </tr>\n",
       "    <tr>\n",
       "      <th>1995-04-01</th>\n",
       "      <td>4936.000000</td>\n",
       "    </tr>\n",
       "    <tr>\n",
       "      <th>1995-07-01</th>\n",
       "      <td>4895.000000</td>\n",
       "    </tr>\n",
       "    <tr>\n",
       "      <th>1995-10-01</th>\n",
       "      <td>4333.000000</td>\n",
       "    </tr>\n",
       "    <tr>\n",
       "      <th>1996-01-01</th>\n",
       "      <td>4194.000000</td>\n",
       "    </tr>\n",
       "    <tr>\n",
       "      <th>1996-04-01</th>\n",
       "      <td>5253.000000</td>\n",
       "    </tr>\n",
       "  </tbody>\n",
       "</table>\n",
       "</div>"
      ],
      "text/plain": [
       "                  Sales\n",
       "Quarter                \n",
       "1986-01-01  1734.827000\n",
       "1986-04-01  2244.960999\n",
       "1986-07-01  2533.804993\n",
       "1986-10-01  2154.962997\n",
       "1987-01-01  1547.818996\n",
       "1987-04-01  2104.411995\n",
       "1987-07-01  2014.362999\n",
       "1987-10-01  1991.746998\n",
       "1988-01-01  1869.049999\n",
       "1988-04-01  2313.631996\n",
       "1988-07-01  2128.320000\n",
       "1988-10-01  2026.828999\n",
       "1989-01-01  1910.603996\n",
       "1989-04-01  2331.164993\n",
       "1989-07-01  2206.549995\n",
       "1989-10-01  2173.967995\n",
       "1990-01-01  2148.278000\n",
       "1990-04-01  2739.307999\n",
       "1990-07-01  2792.753998\n",
       "1990-10-01  2556.009995\n",
       "1991-01-01  2480.973999\n",
       "1991-04-01  3039.522995\n",
       "1991-07-01  3172.115997\n",
       "1991-10-01  2879.000999\n",
       "1992-01-01  2772.000000\n",
       "1992-04-01  3550.000000\n",
       "1992-07-01  3508.000000\n",
       "1992-10-01  3243.859993\n",
       "1993-01-01  3056.000000\n",
       "1993-04-01  3899.000000\n",
       "1993-07-01  3629.000000\n",
       "1993-10-01  3373.000000\n",
       "1994-01-01  3352.000000\n",
       "1994-04-01  4342.000000\n",
       "1994-07-01  4461.000000\n",
       "1994-10-01  4017.000000\n",
       "1995-01-01  3854.000000\n",
       "1995-04-01  4936.000000\n",
       "1995-07-01  4895.000000\n",
       "1995-10-01  4333.000000\n",
       "1996-01-01  4194.000000\n",
       "1996-04-01  5253.000000"
      ]
     },
     "execution_count": 70,
     "metadata": {},
     "output_type": "execute_result"
    }
   ],
   "source": [
    "series = pd.read_excel('C:/Users/HP/Desktop/ExcelR/Data Science/Python/Assignments/Forecasting/CocaCola_Sales_Rawdata.xlsx')\n",
    "series[['q','year']] = series.Quarter.str.split('_', expand=True)\n",
    "series.year = series.year.astype(int) +1900\n",
    "series.q = series.q\n",
    "series.Quarter = pd.to_datetime(series['year'].astype(str) +  series['q'].astype(str))\n",
    "series = series.drop('q',axis=1)\n",
    "series = series.drop('year',axis=1)\n",
    "series.set_index('Quarter', inplace=True,)\n",
    "series"
   ]
  },
  {
   "cell_type": "code",
   "execution_count": 71,
   "id": "d36a5e1d-0732-41fc-b432-2eb513850617",
   "metadata": {
    "colab": {
     "base_uri": "https://localhost:8080/"
    },
    "executionInfo": {
     "elapsed": 379,
     "status": "ok",
     "timestamp": 1627719772088,
     "user": {
      "displayName": "Jaspal Singh Jhass",
      "photoUrl": "",
      "userId": "14870781376371902378"
     },
     "user_tz": -330
    },
    "id": "sofhsBmqq0N0",
    "outputId": "7a47d493-d557-4551-c5b3-92217654de9f"
   },
   "outputs": [
    {
     "name": "stdout",
     "output_type": "stream",
     "text": [
      "Dataset 34, Validation 8\n"
     ]
    }
   ],
   "source": [
    "# separate out a validation dataset\n",
    "split_point = len(series) - 8\n",
    "\n",
    "dataset, validation = series[0:split_point], series[split_point:]\n",
    "\n",
    "print('Dataset %d, Validation %d' % (len(dataset), len(validation)))\n",
    "\n",
    "dataset.to_csv('dataset.csv', header=False)\n",
    "validation.to_csv('validation.csv', header=False)"
   ]
  },
  {
   "cell_type": "markdown",
   "id": "02beedd9-f952-4799-b717-4f9fc7efe36f",
   "metadata": {
    "id": "FLSlPjffq0N1"
   },
   "source": [
    "#### Persistence/ Base model"
   ]
  },
  {
   "cell_type": "code",
   "execution_count": 72,
   "id": "e4c0d172-2549-4f1a-9fa3-993435d56ab8",
   "metadata": {
    "id": "A8dCp9Req0N2"
   },
   "outputs": [
    {
     "data": {
      "text/plain": [
       "0\n",
       "1986-01-01    1734.827000\n",
       "1986-04-01    2244.960999\n",
       "1986-07-01    2533.804993\n",
       "1986-10-01    2154.962997\n",
       "1987-01-01    1547.818996\n",
       "1987-04-01    2104.411995\n",
       "1987-07-01    2014.362999\n",
       "1987-10-01    1991.746998\n",
       "1988-01-01    1869.049999\n",
       "1988-04-01    2313.631996\n",
       "1988-07-01    2128.320000\n",
       "1988-10-01    2026.828999\n",
       "1989-01-01    1910.603996\n",
       "1989-04-01    2331.164993\n",
       "1989-07-01    2206.549995\n",
       "1989-10-01    2173.967995\n",
       "1990-01-01    2148.278000\n",
       "1990-04-01    2739.307999\n",
       "1990-07-01    2792.753998\n",
       "1990-10-01    2556.009995\n",
       "1991-01-01    2480.973999\n",
       "1991-04-01    3039.522995\n",
       "1991-07-01    3172.115997\n",
       "1991-10-01    2879.000999\n",
       "1992-01-01    2772.000000\n",
       "1992-04-01    3550.000000\n",
       "1992-07-01    3508.000000\n",
       "1992-10-01    3243.859993\n",
       "1993-01-01    3056.000000\n",
       "1993-04-01    3899.000000\n",
       "1993-07-01    3629.000000\n",
       "1993-10-01    3373.000000\n",
       "1994-01-01    3352.000000\n",
       "1994-04-01    4342.000000\n",
       "Name: 1, dtype: float64"
      ]
     },
     "execution_count": 72,
     "metadata": {},
     "output_type": "execute_result"
    }
   ],
   "source": [
    "# evaluate a persistence model\n",
    "# load data\n",
    "train = pd.read_csv('dataset.csv', header=None, index_col=0, parse_dates=True, squeeze=True)\n",
    "train"
   ]
  },
  {
   "cell_type": "code",
   "execution_count": 73,
   "id": "96b264f3-b59c-4b17-a179-b24c18f3b47d",
   "metadata": {},
   "outputs": [
    {
     "data": {
      "text/plain": [
       "array([1734.82699966, 2244.96099854, 2533.80499268, 2154.96299744,\n",
       "       1547.81899643, 2104.41199493, 2014.36299896, 1991.74699783,\n",
       "       1869.04999924, 2313.63199615, 2128.31999969, 2026.82899857,\n",
       "       1910.60399628, 2331.16499329, 2206.54999542, 2173.96799469,\n",
       "       2148.27799988, 2739.30799866, 2792.7539978 , 2556.00999451,\n",
       "       2480.97399902, 3039.522995  , 3172.11599731, 2879.00099945,\n",
       "       2772.        , 3550.        , 3508.        , 3243.85999298,\n",
       "       3056.        , 3899.        , 3629.        , 3373.        ,\n",
       "       3352.        , 4342.        ])"
      ]
     },
     "execution_count": 73,
     "metadata": {},
     "output_type": "execute_result"
    }
   ],
   "source": [
    "# prepare data\n",
    "X = train.values\n",
    "X"
   ]
  },
  {
   "cell_type": "code",
   "execution_count": 74,
   "id": "38bc82e2-ccfb-44e0-aed7-354d34748410",
   "metadata": {},
   "outputs": [
    {
     "data": {
      "text/plain": [
       "array([1734.827 , 2244.961 , 2533.805 , 2154.963 , 1547.819 , 2104.412 ,\n",
       "       2014.363 , 1991.747 , 1869.05  , 2313.632 , 2128.32  , 2026.829 ,\n",
       "       1910.604 , 2331.165 , 2206.55  , 2173.968 , 2148.278 , 2739.308 ,\n",
       "       2792.754 , 2556.01  , 2480.9739, 3039.523 , 3172.116 , 2879.001 ,\n",
       "       2772.    , 3550.    , 3508.    , 3243.86  , 3056.    , 3899.    ,\n",
       "       3629.    , 3373.    , 3352.    , 4342.    ], dtype=float32)"
      ]
     },
     "execution_count": 74,
     "metadata": {},
     "output_type": "execute_result"
    }
   ],
   "source": [
    "X = X.astype('float32')\n",
    "X"
   ]
  },
  {
   "cell_type": "code",
   "execution_count": 75,
   "id": "8f583d98-8fb8-45cf-9766-413020a6dc3c",
   "metadata": {},
   "outputs": [
    {
     "data": {
      "text/plain": [
       "17"
      ]
     },
     "execution_count": 75,
     "metadata": {},
     "output_type": "execute_result"
    }
   ],
   "source": [
    "train_size = int(len(X) * 0.50)\n",
    "train_size"
   ]
  },
  {
   "cell_type": "code",
   "execution_count": 76,
   "id": "517ef290-6723-42e9-aad1-a317f62b9946",
   "metadata": {},
   "outputs": [],
   "source": [
    "train, test = X[0:train_size], X[train_size:]"
   ]
  },
  {
   "cell_type": "code",
   "execution_count": 77,
   "id": "3b88eb89-da01-47e9-809f-9dda87d480a2",
   "metadata": {},
   "outputs": [
    {
     "data": {
      "text/plain": [
       "array([1734.827, 2244.961, 2533.805, 2154.963, 1547.819, 2104.412,\n",
       "       2014.363, 1991.747, 1869.05 , 2313.632, 2128.32 , 2026.829,\n",
       "       1910.604, 2331.165, 2206.55 , 2173.968, 2148.278], dtype=float32)"
      ]
     },
     "execution_count": 77,
     "metadata": {},
     "output_type": "execute_result"
    }
   ],
   "source": [
    "train"
   ]
  },
  {
   "cell_type": "code",
   "execution_count": 78,
   "id": "b06f3fef-8921-4431-b2c6-a8c68ee47631",
   "metadata": {},
   "outputs": [
    {
     "data": {
      "text/plain": [
       "array([2739.308 , 2792.754 , 2556.01  , 2480.9739, 3039.523 , 3172.116 ,\n",
       "       2879.001 , 2772.    , 3550.    , 3508.    , 3243.86  , 3056.    ,\n",
       "       3899.    , 3629.    , 3373.    , 3352.    , 4342.    ],\n",
       "      dtype=float32)"
      ]
     },
     "execution_count": 78,
     "metadata": {},
     "output_type": "execute_result"
    }
   ],
   "source": [
    "test"
   ]
  },
  {
   "cell_type": "code",
   "execution_count": 79,
   "id": "042b72dd-1c8a-455d-a2da-28cd3e8bc35c",
   "metadata": {
    "colab": {
     "base_uri": "https://localhost:8080/"
    },
    "executionInfo": {
     "elapsed": 349,
     "status": "ok",
     "timestamp": 1627719790771,
     "user": {
      "displayName": "Jaspal Singh Jhass",
      "photoUrl": "",
      "userId": "14870781376371902378"
     },
     "user_tz": -330
    },
    "id": "tcJLznPJq0N2",
    "outputId": "ae61c427-c57f-4e79-f65a-8530678a84d4"
   },
   "outputs": [
    {
     "data": {
      "text/plain": [
       "[1734.827,\n",
       " 2244.961,\n",
       " 2533.805,\n",
       " 2154.963,\n",
       " 1547.819,\n",
       " 2104.412,\n",
       " 2014.363,\n",
       " 1991.747,\n",
       " 1869.05,\n",
       " 2313.632,\n",
       " 2128.32,\n",
       " 2026.829,\n",
       " 1910.604,\n",
       " 2331.165,\n",
       " 2206.55,\n",
       " 2173.968,\n",
       " 2148.278]"
      ]
     },
     "execution_count": 79,
     "metadata": {},
     "output_type": "execute_result"
    }
   ],
   "source": [
    "# walk-forward validation\n",
    "history = [x for x in train]\n",
    "history"
   ]
  },
  {
   "cell_type": "markdown",
   "id": "a45eb52d-0d7d-4224-91cd-31b88b3e30e2",
   "metadata": {},
   "source": [
    "#### Naive Predictions"
   ]
  },
  {
   "cell_type": "code",
   "execution_count": 80,
   "id": "142bccf7-49e1-4abf-9a9e-a63dc225276c",
   "metadata": {},
   "outputs": [
    {
     "name": "stdout",
     "output_type": "stream",
     "text": [
      ">Predicted=2148.278, Expected=2739.308\n",
      ">Predicted=2739.308, Expected=2792.754\n",
      ">Predicted=2792.754, Expected=2556.010\n",
      ">Predicted=2556.010, Expected=2480.974\n",
      ">Predicted=2480.974, Expected=3039.523\n",
      ">Predicted=3039.523, Expected=3172.116\n",
      ">Predicted=3172.116, Expected=2879.001\n",
      ">Predicted=2879.001, Expected=2772.000\n",
      ">Predicted=2772.000, Expected=3550.000\n",
      ">Predicted=3550.000, Expected=3508.000\n",
      ">Predicted=3508.000, Expected=3243.860\n",
      ">Predicted=3243.860, Expected=3056.000\n",
      ">Predicted=3056.000, Expected=3899.000\n",
      ">Predicted=3899.000, Expected=3629.000\n",
      ">Predicted=3629.000, Expected=3373.000\n",
      ">Predicted=3373.000, Expected=3352.000\n",
      ">Predicted=3352.000, Expected=4342.000\n"
     ]
    }
   ],
   "source": [
    "predictions = list()\n",
    "\n",
    "for i in range(len(test)):\n",
    "    yhat = history[-1]\n",
    "    predictions.append(yhat)\n",
    "    \n",
    "    # observation\n",
    "    obs = test[i]\n",
    "    history.append(obs)\n",
    "    \n",
    "    print('>Predicted=%.3f, Expected=%.3f' % (yhat, obs))"
   ]
  },
  {
   "cell_type": "code",
   "execution_count": 81,
   "id": "a09068e2-ffb2-4028-a2b7-face2d717ff5",
   "metadata": {},
   "outputs": [
    {
     "name": "stdout",
     "output_type": "stream",
     "text": [
      "RMSE: 446.062\n"
     ]
    }
   ],
   "source": [
    "# report performance\n",
    "rmse = sqrt(mean_squared_error(test, predictions))\n",
    "print('RMSE: %.3f' % rmse)"
   ]
  },
  {
   "cell_type": "markdown",
   "id": "9fc6496e-ca95-48a1-a9e6-c01e9a59ad83",
   "metadata": {
    "id": "Umm4LSEsq0N3"
   },
   "source": [
    "#### ARIMA Hyperparameters"
   ]
  },
  {
   "cell_type": "code",
   "execution_count": 82,
   "id": "5504dd80-598a-42f2-b835-994868d7de7c",
   "metadata": {
    "id": "NrgYzQ9Dq0N3"
   },
   "outputs": [],
   "source": [
    "# grid search ARIMA parameters for a time series\n",
    "# evaluate an ARIMA model for a given order (p,d,q) and return RMSE\n",
    "\n",
    "def evaluate_arima_model(X, arima_order):\n",
    "    # prepare training dataset\n",
    "    X = X.astype('float32')\n",
    "    train_size = int(len(X) * 0.50)\n",
    "    train, test = X[0:train_size], X[train_size:]\n",
    "    history = [x for x in train]\n",
    "    \n",
    "    # make predictions\n",
    "    predictions = list()\n",
    "    for i in range(len(test)):\n",
    "        model = ARIMA(history, order = arima_order)\n",
    "        model_fit = model.fit()\n",
    "        yhat = model_fit.forecast()[0]\n",
    "        predictions.append(yhat)\n",
    "        history.append(test[i])\n",
    "    \n",
    "    # calculate out of sample error\n",
    "    rmse = sqrt(mean_squared_error(test, predictions))\n",
    "    return rmse"
   ]
  },
  {
   "cell_type": "markdown",
   "id": "3c46938d-95a1-4942-ab74-d388bcd932bf",
   "metadata": {
    "id": "bK-ZAQi9q0N3"
   },
   "source": [
    "#### Grid search for p,d,q values"
   ]
  },
  {
   "cell_type": "code",
   "execution_count": 83,
   "id": "3c219e76-26eb-4a70-921c-7730d811757a",
   "metadata": {
    "id": "mJytXCinq0N4"
   },
   "outputs": [],
   "source": [
    "# evaluate combinations of p, d and q values for an ARIMA model\n",
    "\n",
    "def evaluate_models(dataset, p_values, d_values, q_values):\n",
    "    \n",
    "    dataset = dataset.astype('float32')\n",
    "    \n",
    "    best_score, best_cfg = float('inf'), None\n",
    "    \n",
    "    for p,d,q in itertools.product(p_values, d_values, q_values):\n",
    "    #for p in p_values:\n",
    "    #    for d in d_values:\n",
    "    #        for q in q_values:\n",
    "    \n",
    "                order = (p,d,q)\n",
    "                try:\n",
    "                    rmse = evaluate_arima_model(train, order)\n",
    "                    if rmse < best_score:\n",
    "                        best_score, best_cfg = rmse, order\n",
    "                    print('ARIMA%s RMSE=%.3f' % (order,rmse))\n",
    "                except:\n",
    "                    continue\n",
    "    print('Best ARIMA %s RMSE=%.3f' % (best_cfg, best_score))"
   ]
  },
  {
   "cell_type": "code",
   "execution_count": 84,
   "id": "f8b84693-0c7d-4fe6-a596-0e76cb72c882",
   "metadata": {
    "colab": {
     "base_uri": "https://localhost:8080/"
    },
    "executionInfo": {
     "elapsed": 35937,
     "status": "ok",
     "timestamp": 1627720051802,
     "user": {
      "displayName": "Jaspal Singh Jhass",
      "photoUrl": "",
      "userId": "14870781376371902378"
     },
     "user_tz": -330
    },
    "id": "fThjJZVdq0N4",
    "outputId": "1139ce7e-dacf-4faf-e0b4-172b4a73d6c8"
   },
   "outputs": [
    {
     "data": {
      "text/plain": [
       "0\n",
       "1986-01-01    1734.827000\n",
       "1986-04-01    2244.960999\n",
       "1986-07-01    2533.804993\n",
       "1986-10-01    2154.962997\n",
       "1987-01-01    1547.818996\n",
       "1987-04-01    2104.411995\n",
       "1987-07-01    2014.362999\n",
       "1987-10-01    1991.746998\n",
       "1988-01-01    1869.049999\n",
       "1988-04-01    2313.631996\n",
       "1988-07-01    2128.320000\n",
       "1988-10-01    2026.828999\n",
       "1989-01-01    1910.603996\n",
       "1989-04-01    2331.164993\n",
       "1989-07-01    2206.549995\n",
       "1989-10-01    2173.967995\n",
       "1990-01-01    2148.278000\n",
       "1990-04-01    2739.307999\n",
       "1990-07-01    2792.753998\n",
       "1990-10-01    2556.009995\n",
       "1991-01-01    2480.973999\n",
       "1991-04-01    3039.522995\n",
       "1991-07-01    3172.115997\n",
       "1991-10-01    2879.000999\n",
       "1992-01-01    2772.000000\n",
       "1992-04-01    3550.000000\n",
       "1992-07-01    3508.000000\n",
       "1992-10-01    3243.859993\n",
       "1993-01-01    3056.000000\n",
       "1993-04-01    3899.000000\n",
       "1993-07-01    3629.000000\n",
       "1993-10-01    3373.000000\n",
       "1994-01-01    3352.000000\n",
       "1994-04-01    4342.000000\n",
       "Name: 1, dtype: float64"
      ]
     },
     "execution_count": 84,
     "metadata": {},
     "output_type": "execute_result"
    }
   ],
   "source": [
    "# load dataset\n",
    "train = pd.read_csv('dataset.csv', header=None, index_col=0, parse_dates=True, squeeze=True)\n",
    "train"
   ]
  },
  {
   "cell_type": "code",
   "execution_count": 85,
   "id": "ef2e1c89-7382-4f92-bf23-805c234a36de",
   "metadata": {},
   "outputs": [],
   "source": [
    "# evaluate parameters\n",
    "p_values = range(0, 4)\n",
    "d_values = range(0, 4)\n",
    "q_values = range(0, 4)"
   ]
  },
  {
   "cell_type": "code",
   "execution_count": 86,
   "id": "81ce73c2-eb38-4e9b-9fe3-683e0f9745df",
   "metadata": {},
   "outputs": [
    {
     "name": "stdout",
     "output_type": "stream",
     "text": [
      "ARIMA(0, 0, 0) RMSE=939.210\n",
      "ARIMA(0, 0, 1) RMSE=708.986\n",
      "ARIMA(0, 0, 2) RMSE=494.434\n",
      "ARIMA(0, 0, 3) RMSE=551.660\n",
      "ARIMA(0, 1, 0) RMSE=446.062\n",
      "ARIMA(0, 1, 1) RMSE=454.570\n",
      "ARIMA(0, 1, 2) RMSE=433.300\n",
      "ARIMA(0, 1, 3) RMSE=377.912\n",
      "ARIMA(0, 2, 0) RMSE=616.833\n",
      "ARIMA(0, 2, 1) RMSE=440.480\n",
      "ARIMA(0, 2, 2) RMSE=398.746\n",
      "ARIMA(0, 2, 3) RMSE=408.598\n",
      "ARIMA(0, 3, 0) RMSE=938.077\n",
      "ARIMA(0, 3, 1) RMSE=629.764\n",
      "ARIMA(0, 3, 2) RMSE=490.841\n",
      "ARIMA(0, 3, 3) RMSE=406.156\n",
      "ARIMA(1, 0, 0) RMSE=529.450\n",
      "ARIMA(1, 0, 1) RMSE=519.386\n",
      "ARIMA(1, 0, 2) RMSE=467.066\n",
      "ARIMA(1, 0, 3) RMSE=480.818\n",
      "ARIMA(1, 1, 0) RMSE=444.920\n",
      "ARIMA(1, 1, 1) RMSE=450.666\n",
      "ARIMA(1, 1, 2) RMSE=428.426\n",
      "ARIMA(1, 1, 3) RMSE=393.145\n",
      "ARIMA(1, 2, 0) RMSE=609.044\n",
      "ARIMA(1, 2, 1) RMSE=438.264\n",
      "ARIMA(1, 2, 2) RMSE=413.140\n",
      "ARIMA(1, 2, 3) RMSE=416.476\n",
      "ARIMA(1, 3, 0) RMSE=859.547\n",
      "ARIMA(1, 3, 1) RMSE=623.419\n",
      "ARIMA(1, 3, 2) RMSE=555.384\n",
      "ARIMA(1, 3, 3) RMSE=480.711\n",
      "ARIMA(2, 0, 0) RMSE=545.402\n",
      "ARIMA(2, 0, 1) RMSE=528.184\n",
      "ARIMA(2, 0, 2) RMSE=470.148\n",
      "ARIMA(2, 0, 3) RMSE=455.274\n",
      "ARIMA(2, 1, 0) RMSE=377.351\n",
      "ARIMA(2, 1, 1) RMSE=394.381\n",
      "ARIMA(2, 1, 2) RMSE=322.650\n",
      "ARIMA(2, 1, 3) RMSE=351.671\n",
      "ARIMA(2, 2, 0) RMSE=543.419\n",
      "ARIMA(2, 2, 1) RMSE=352.996\n",
      "ARIMA(2, 2, 2) RMSE=358.639\n",
      "ARIMA(2, 2, 3) RMSE=322.383\n",
      "ARIMA(2, 3, 0) RMSE=840.780\n",
      "ARIMA(2, 3, 1) RMSE=558.865\n",
      "ARIMA(2, 3, 2) RMSE=1768557.387\n",
      "ARIMA(2, 3, 3) RMSE=5469.564\n",
      "ARIMA(3, 0, 0) RMSE=471.687\n",
      "ARIMA(3, 0, 1) RMSE=437.704\n",
      "ARIMA(3, 0, 2) RMSE=391.226\n",
      "ARIMA(3, 0, 3) RMSE=410.355\n",
      "ARIMA(3, 1, 0) RMSE=339.758\n",
      "ARIMA(3, 1, 1) RMSE=262.871\n",
      "ARIMA(3, 1, 3) RMSE=715.530\n",
      "ARIMA(3, 2, 0) RMSE=154.295\n",
      "ARIMA(3, 2, 1) RMSE=176.285\n",
      "ARIMA(3, 2, 2) RMSE=8508.995\n",
      "ARIMA(3, 3, 0) RMSE=230.300\n",
      "ARIMA(3, 3, 1) RMSE=155.354\n",
      "ARIMA(3, 3, 3) RMSE=8280.499\n",
      "Best ARIMA (3, 2, 0) RMSE=154.295\n"
     ]
    }
   ],
   "source": [
    "warnings.filterwarnings(\"ignore\")\n",
    "evaluate_models(train.values, p_values, d_values, q_values)"
   ]
  },
  {
   "cell_type": "markdown",
   "id": "69a9f70d-3c50-4a2f-b858-d3d5b333df87",
   "metadata": {
    "id": "vbFnA7I3q0N5"
   },
   "source": [
    "#### Build Model based on the optimized values"
   ]
  },
  {
   "cell_type": "code",
   "execution_count": 87,
   "id": "2b57aa8c-c076-4d77-80e1-f9a31c939a66",
   "metadata": {
    "id": "0uyCCxzlq0N5"
   },
   "outputs": [
    {
     "data": {
      "text/html": [
       "<div>\n",
       "<style scoped>\n",
       "    .dataframe tbody tr th:only-of-type {\n",
       "        vertical-align: middle;\n",
       "    }\n",
       "\n",
       "    .dataframe tbody tr th {\n",
       "        vertical-align: top;\n",
       "    }\n",
       "\n",
       "    .dataframe thead th {\n",
       "        text-align: right;\n",
       "    }\n",
       "</style>\n",
       "<table border=\"1\" class=\"dataframe\">\n",
       "  <thead>\n",
       "    <tr style=\"text-align: right;\">\n",
       "      <th></th>\n",
       "      <th>1734.8269996643066</th>\n",
       "    </tr>\n",
       "    <tr>\n",
       "      <th>1986-01-01</th>\n",
       "      <th></th>\n",
       "    </tr>\n",
       "  </thead>\n",
       "  <tbody>\n",
       "    <tr>\n",
       "      <th>1986-04-01</th>\n",
       "      <td>2244.960999</td>\n",
       "    </tr>\n",
       "    <tr>\n",
       "      <th>1986-07-01</th>\n",
       "      <td>2533.804993</td>\n",
       "    </tr>\n",
       "    <tr>\n",
       "      <th>1986-10-01</th>\n",
       "      <td>2154.962997</td>\n",
       "    </tr>\n",
       "    <tr>\n",
       "      <th>1987-01-01</th>\n",
       "      <td>1547.818996</td>\n",
       "    </tr>\n",
       "    <tr>\n",
       "      <th>1987-04-01</th>\n",
       "      <td>2104.411995</td>\n",
       "    </tr>\n",
       "    <tr>\n",
       "      <th>1987-07-01</th>\n",
       "      <td>2014.362999</td>\n",
       "    </tr>\n",
       "    <tr>\n",
       "      <th>1987-10-01</th>\n",
       "      <td>1991.746998</td>\n",
       "    </tr>\n",
       "    <tr>\n",
       "      <th>1988-01-01</th>\n",
       "      <td>1869.049999</td>\n",
       "    </tr>\n",
       "    <tr>\n",
       "      <th>1988-04-01</th>\n",
       "      <td>2313.631996</td>\n",
       "    </tr>\n",
       "    <tr>\n",
       "      <th>1988-07-01</th>\n",
       "      <td>2128.320000</td>\n",
       "    </tr>\n",
       "    <tr>\n",
       "      <th>1988-10-01</th>\n",
       "      <td>2026.828999</td>\n",
       "    </tr>\n",
       "    <tr>\n",
       "      <th>1989-01-01</th>\n",
       "      <td>1910.603996</td>\n",
       "    </tr>\n",
       "    <tr>\n",
       "      <th>1989-04-01</th>\n",
       "      <td>2331.164993</td>\n",
       "    </tr>\n",
       "    <tr>\n",
       "      <th>1989-07-01</th>\n",
       "      <td>2206.549995</td>\n",
       "    </tr>\n",
       "    <tr>\n",
       "      <th>1989-10-01</th>\n",
       "      <td>2173.967995</td>\n",
       "    </tr>\n",
       "    <tr>\n",
       "      <th>1990-01-01</th>\n",
       "      <td>2148.278000</td>\n",
       "    </tr>\n",
       "    <tr>\n",
       "      <th>1990-04-01</th>\n",
       "      <td>2739.307999</td>\n",
       "    </tr>\n",
       "    <tr>\n",
       "      <th>1990-07-01</th>\n",
       "      <td>2792.753998</td>\n",
       "    </tr>\n",
       "    <tr>\n",
       "      <th>1990-10-01</th>\n",
       "      <td>2556.009995</td>\n",
       "    </tr>\n",
       "    <tr>\n",
       "      <th>1991-01-01</th>\n",
       "      <td>2480.973999</td>\n",
       "    </tr>\n",
       "    <tr>\n",
       "      <th>1991-04-01</th>\n",
       "      <td>3039.522995</td>\n",
       "    </tr>\n",
       "    <tr>\n",
       "      <th>1991-07-01</th>\n",
       "      <td>3172.115997</td>\n",
       "    </tr>\n",
       "    <tr>\n",
       "      <th>1991-10-01</th>\n",
       "      <td>2879.000999</td>\n",
       "    </tr>\n",
       "    <tr>\n",
       "      <th>1992-01-01</th>\n",
       "      <td>2772.000000</td>\n",
       "    </tr>\n",
       "    <tr>\n",
       "      <th>1992-04-01</th>\n",
       "      <td>3550.000000</td>\n",
       "    </tr>\n",
       "    <tr>\n",
       "      <th>1992-07-01</th>\n",
       "      <td>3508.000000</td>\n",
       "    </tr>\n",
       "    <tr>\n",
       "      <th>1992-10-01</th>\n",
       "      <td>3243.859993</td>\n",
       "    </tr>\n",
       "    <tr>\n",
       "      <th>1993-01-01</th>\n",
       "      <td>3056.000000</td>\n",
       "    </tr>\n",
       "    <tr>\n",
       "      <th>1993-04-01</th>\n",
       "      <td>3899.000000</td>\n",
       "    </tr>\n",
       "    <tr>\n",
       "      <th>1993-07-01</th>\n",
       "      <td>3629.000000</td>\n",
       "    </tr>\n",
       "    <tr>\n",
       "      <th>1993-10-01</th>\n",
       "      <td>3373.000000</td>\n",
       "    </tr>\n",
       "    <tr>\n",
       "      <th>1994-01-01</th>\n",
       "      <td>3352.000000</td>\n",
       "    </tr>\n",
       "    <tr>\n",
       "      <th>1994-04-01</th>\n",
       "      <td>4342.000000</td>\n",
       "    </tr>\n",
       "  </tbody>\n",
       "</table>\n",
       "</div>"
      ],
      "text/plain": [
       "            1734.8269996643066\n",
       "1986-01-01                    \n",
       "1986-04-01         2244.960999\n",
       "1986-07-01         2533.804993\n",
       "1986-10-01         2154.962997\n",
       "1987-01-01         1547.818996\n",
       "1987-04-01         2104.411995\n",
       "1987-07-01         2014.362999\n",
       "1987-10-01         1991.746998\n",
       "1988-01-01         1869.049999\n",
       "1988-04-01         2313.631996\n",
       "1988-07-01         2128.320000\n",
       "1988-10-01         2026.828999\n",
       "1989-01-01         1910.603996\n",
       "1989-04-01         2331.164993\n",
       "1989-07-01         2206.549995\n",
       "1989-10-01         2173.967995\n",
       "1990-01-01         2148.278000\n",
       "1990-04-01         2739.307999\n",
       "1990-07-01         2792.753998\n",
       "1990-10-01         2556.009995\n",
       "1991-01-01         2480.973999\n",
       "1991-04-01         3039.522995\n",
       "1991-07-01         3172.115997\n",
       "1991-10-01         2879.000999\n",
       "1992-01-01         2772.000000\n",
       "1992-04-01         3550.000000\n",
       "1992-07-01         3508.000000\n",
       "1992-10-01         3243.859993\n",
       "1993-01-01         3056.000000\n",
       "1993-04-01         3899.000000\n",
       "1993-07-01         3629.000000\n",
       "1993-10-01         3373.000000\n",
       "1994-01-01         3352.000000\n",
       "1994-04-01         4342.000000"
      ]
     },
     "execution_count": 87,
     "metadata": {},
     "output_type": "execute_result"
    }
   ],
   "source": [
    "# save finalized model to file\n",
    "# load data\n",
    "train = pd.read_csv('dataset.csv', header=0, index_col=0, parse_dates=True)\n",
    "train"
   ]
  },
  {
   "cell_type": "code",
   "execution_count": 88,
   "id": "18267b6b-25b1-4fdd-98ef-9ff8de2a7b33",
   "metadata": {},
   "outputs": [],
   "source": [
    "# prepare data\n",
    "X = train.values\n",
    "X = X.astype('float32')"
   ]
  },
  {
   "cell_type": "code",
   "execution_count": 89,
   "id": "3258dfeb-6246-49b7-a19d-cd4c18d7b1ef",
   "metadata": {
    "colab": {
     "base_uri": "https://localhost:8080/",
     "height": 513
    },
    "executionInfo": {
     "elapsed": 1746,
     "status": "ok",
     "timestamp": 1627720166745,
     "user": {
      "displayName": "Jaspal Singh Jhass",
      "photoUrl": "",
      "userId": "14870781376371902378"
     },
     "user_tz": -330
    },
    "id": "UOIyR-r9q0N6",
    "outputId": "083b5af7-b130-423b-ae96-1e788b87c8a7"
   },
   "outputs": [
    {
     "data": {
      "text/plain": [
       "array([4010.35036565, 3772.59913589, 3866.68824206, 4775.60090155,\n",
       "       4390.02330379, 4184.55689465, 4379.16312558, 5200.07396624])"
      ]
     },
     "execution_count": 89,
     "metadata": {},
     "output_type": "execute_result"
    }
   ],
   "source": [
    "# fit model\n",
    "model = ARIMA(X, order=(3,2,0))\n",
    "model_fit = model.fit()\n",
    "forecast = model_fit.forecast(steps = 8)\n",
    "forecast"
   ]
  },
  {
   "cell_type": "code",
   "execution_count": 90,
   "id": "8ef0a395-9919-480b-a16a-57931f2ff683",
   "metadata": {},
   "outputs": [
    {
     "data": {
      "image/png": "[encoded data removed]",
      "text/plain": [
       "<Figure size 432x288 with 1 Axes>"
      ]
     },
     "execution_count": 90,
     "metadata": {},
     "output_type": "execute_result"
    },
    {
     "data": {
      "image/png": "[encoded data removed]",
      "text/plain": [
       "<Figure size 432x288 with 1 Axes>"
      ]
     },
     "metadata": {
      "needs_background": "light"
     },
     "output_type": "display_data"
    }
   ],
   "source": [
    "from statsmodels.graphics.tsaplots import plot_predict\n",
    "plot_predict(model_fit,1,42)"
   ]
  },
  {
   "cell_type": "code",
   "execution_count": 91,
   "id": "18fc4d02-908f-4efe-b11b-b567563cd471",
   "metadata": {
    "colab": {
     "base_uri": "https://localhost:8080/"
    },
    "executionInfo": {
     "elapsed": 15,
     "status": "ok",
     "timestamp": 1627720166747,
     "user": {
      "displayName": "Jaspal Singh Jhass",
      "photoUrl": "",
      "userId": "14870781376371902378"
     },
     "user_tz": -330
    },
    "id": "b-zFw7tEq0N6",
    "outputId": "d4f2048f-a5aa-4bf7-8a5c-320b7e636ac5"
   },
   "outputs": [
    {
     "data": {
      "text/plain": [
       "274.5061713664878"
      ]
     },
     "execution_count": 91,
     "metadata": {},
     "output_type": "execute_result"
    }
   ],
   "source": [
    "#Error on the test data\n",
    "val = pd.read_csv('validation.csv', header=None)\n",
    "rmse = sqrt(mean_squared_error(val[1], forecast))\n",
    "rmse"
   ]
  },
  {
   "cell_type": "markdown",
   "id": "f458d4f8-c032-4778-b47d-ea9ced5ba2db",
   "metadata": {
    "id": "RMMPPVWUq0N6"
   },
   "source": [
    "#### Combine train and test data and build final model"
   ]
  },
  {
   "cell_type": "code",
   "execution_count": 92,
   "id": "69cbf22d-3da5-4dab-baf0-24c4f7e07084",
   "metadata": {
    "id": "nWOjX5XMq0N6"
   },
   "outputs": [],
   "source": [
    "# fit model\n",
    "series = pd.read_excel('C:/Users/HP/Desktop/ExcelR/Data Science/Python/Assignments/Forecasting/CocaCola_Sales_Rawdata.xlsx')\n",
    "series[['q','year']] = series.Quarter.str.split('_', expand=True)\n",
    "series.year = series.year.astype(int) +1900\n",
    "series.q = series.q\n",
    "series.Quarter = pd.to_datetime(series['year'].astype(str) +  series['q'].astype(str))\n",
    "series = series.drop('q',axis=1)\n",
    "series = series.drop('year',axis=1)\n",
    "series.set_index('Quarter', inplace=True,)\n",
    "series\n",
    "\n",
    "# prepare data\n",
    "X = series.values\n",
    "X = X.astype('float32')"
   ]
  },
  {
   "cell_type": "code",
   "execution_count": 93,
   "id": "4f3a75b0-bb37-49af-a5df-d2a6a003ddbf",
   "metadata": {
    "id": "1KGLRzCxq0N7"
   },
   "outputs": [],
   "source": [
    "model = ARIMA(X, order=(3,2,0))\n",
    "model_fit = model.fit()"
   ]
  },
  {
   "cell_type": "code",
   "execution_count": 94,
   "id": "1822f490-ebe2-4eb5-a523-c7c006a1fd66",
   "metadata": {
    "colab": {
     "base_uri": "https://localhost:8080/",
     "height": 513
    },
    "executionInfo": {
     "elapsed": 996,
     "status": "ok",
     "timestamp": 1627720226773,
     "user": {
      "displayName": "Jaspal Singh Jhass",
      "photoUrl": "",
      "userId": "14870781376371902378"
     },
     "user_tz": -330
    },
    "id": "uLLCuVRuq0N7",
    "outputId": "a64b19c3-4013-413d-aead-6cf6381c3514"
   },
   "outputs": [
    {
     "data": {
      "text/plain": [
       "array([5199.80177626, 4631.06359601, 4554.78840998, 5570.3882082 ,\n",
       "       5503.02750399, 4932.46233688, 4913.51349969, 5887.93959407])"
      ]
     },
     "execution_count": 94,
     "metadata": {},
     "output_type": "execute_result"
    }
   ],
   "source": [
    "forecast=model_fit.forecast(steps=8)\n",
    "forecast"
   ]
  },
  {
   "cell_type": "code",
   "execution_count": 95,
   "id": "d3bf7e4d-c1f5-4678-a7b8-7b434415f6a2",
   "metadata": {},
   "outputs": [
    {
     "data": {
      "image/png": "[encoded data removed]",
      "text/plain": [
       "<Figure size 432x288 with 1 Axes>"
      ]
     },
     "execution_count": 95,
     "metadata": {},
     "output_type": "execute_result"
    },
    {
     "data": {
      "image/png": "[encoded data removed]",
      "text/plain": [
       "<Figure size 432x288 with 1 Axes>"
      ]
     },
     "metadata": {
      "needs_background": "light"
     },
     "output_type": "display_data"
    }
   ],
   "source": [
    "from statsmodels.graphics.tsaplots import plot_predict\n",
    "plot_predict(model_fit,1,42)"
   ]
  },
  {
   "cell_type": "code",
   "execution_count": null,
   "id": "38210243-c724-4dd5-8840-06837bc5419b",
   "metadata": {},
   "outputs": [],
   "source": []
  }
 ],
 "metadata": {
  "kernelspec": {
   "display_name": "Python 3 (ipykernel)",
   "language": "python",
   "name": "python3"
  },
  "language_info": {
   "codemirror_mode": {
    "name": "ipython",
    "version": 3
   },
   "file_extension": ".py",
   "mimetype": "text/x-python",
   "name": "python",
   "nbconvert_exporter": "python",
   "pygments_lexer": "ipython3",
   "version": "3.9.7"
  }
 },
 "nbformat": 4,
 "nbformat_minor": 5
}
